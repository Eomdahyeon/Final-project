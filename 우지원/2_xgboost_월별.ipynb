{
 "cells": [
  {
   "cell_type": "markdown",
   "id": "5c467044-404f-4ce8-9ae7-256eb56b446a",
   "metadata": {},
   "source": [
    "## 1_기본전처리 에서 전처리한 파일(_processed) 필요"
   ]
  },
  {
   "cell_type": "code",
   "execution_count": null,
   "id": "e4f18753-072a-4080-8794-8cdea6081edd",
   "metadata": {},
   "outputs": [],
   "source": [
    "# 기본\n",
    "import pandas as pd\n",
    "import numpy as np\n",
    "import xgboost as xgb\n",
    "from sklearn.metrics import f1_score, classification_report\n",
    "import matplotlib.pyplot as plt\n",
    "\n",
    "# 그래프 설정\n",
    "plt.rcParams['font.family'] = 'Malgun Gothic'\n",
    "\n",
    "# 경고 뜨지 않게 설정\n",
    "import warnings\n",
    "warnings.filterwarnings('ignore')"
   ]
  },
  {
   "cell_type": "markdown",
   "id": "cc5a02c0-286c-4776-aa91-f63bc236d77a",
   "metadata": {},
   "source": [
    "### 파일패스 설정 ⚠️ 이 부분 꼭 확인해서 설정한 뒤에 실행!!"
   ]
  },
  {
   "cell_type": "code",
   "execution_count": null,
   "id": "068ec2d2-1247-4d42-80de-e79d423083b2",
   "metadata": {},
   "outputs": [],
   "source": [
    "data_splits = [\"train\",\"test\"]\n",
    "months = [\"07\",\"08\",\"09\",\"10\",\"11\",\"12\"]\n",
    "# 각 데이터 유형별 폴더명, 파일 접미사, 변수 접두어 설정\n",
    "data_categories = {\n",
    "    \"회원정보\": {\"folder\": \"1.회원정보\", \"suffix\": \"회원정보\", \"var_prefix\": \"customer\"},\n",
    "    \"신용정보\": {\"folder\": \"2.신용정보\", \"suffix\": \"신용정보\", \"var_prefix\": \"credit\"},\n",
    "    \"승인매출정보\": {\"folder\": \"3.승인매출정보\", \"suffix\": \"승인매출정보\", \"var_prefix\": \"sales\"},\n",
    "    \"청구정보\": {\"folder\": \"4.청구입금정보\", \"suffix\": \"청구정보\", \"var_prefix\": \"billing\"},\n",
    "    \"잔액정보\": {\"folder\": \"5.잔액정보\", \"suffix\": \"잔액정보\", \"var_prefix\": \"balance\"},\n",
    "    \"채널정보\": {\"folder\": \"6.채널정보\", \"suffix\": \"채널정보\", \"var_prefix\": \"channel\"},\n",
    "    \"마케팅정보\": {\"folder\": \"7.마케팅정보\", \"suffix\": \"마케팅정보\", \"var_prefix\": \"marketing\"},\n",
    "    \"성과정보\": {\"folder\": \"8.성과정보\", \"suffix\": \"성과정보\", \"var_prefix\": \"performance\"}\n",
    "}\n",
    "\n",
    "# local\n",
    "root_path = '../data/open'\n",
    "\n",
    "# colab\n",
    "# root_path = '/content/drive/MyDrive/12조 파이널프로젝트/data'"
   ]
  },
  {
   "cell_type": "markdown",
   "id": "a0bfdc6e-d316-41cb-bea4-ea1cbf8063a1",
   "metadata": {},
   "source": [
    "#### 머신러닝 돌릴 월,카테고리 선택 ⚠️ 이 부분 꼭 확인해서 설정한 뒤에 실행!!"
   ]
  },
  {
   "cell_type": "code",
   "execution_count": null,
   "id": "b6860c92-ffaa-45dc-806c-25e0b413ec46",
   "metadata": {},
   "outputs": [],
   "source": [
    "select_month_num = 5\n",
    "select_category = \"승인매출정보\"\n",
    "\n",
    "folder = data_categories[select_category][\"folder\"]\n",
    "suffix = data_categories[select_category][\"suffix\"]"
   ]
  },
  {
   "cell_type": "markdown",
   "id": "0664bacb-bbbe-4b62-8687-507c7b267b2c",
   "metadata": {},
   "source": [
    "### XGBoost 활용해서 모델 학습 및 예측"
   ]
  },
  {
   "cell_type": "code",
   "execution_count": null,
   "id": "a5aae54c-cadc-48b2-b733-6f104214e841",
   "metadata": {},
   "outputs": [],
   "source": [
    "### 1. 파일 불러오기\n",
    "# 훈련 데이터\n",
    "file_name=f\"{root_path}/{data_splits[0]}/{folder}/2018{months[select_month_num]}_processed_{suffix}.parquet\"\n",
    "train_df=pd.read_parquet(file_name)\n",
    "# 테스트 데이터\n",
    "test_file =f\"{root_path}/{data_splits[1]}/{folder}/2018{months[select_month_num]}_processed_{suffix}.parquet\"\n",
    "test_df = pd.read_parquet(test_file)\n",
    "\n",
    "### 2. 공통 피처 추출용 설정\n",
    "target_cols = ['Segment_A', 'Segment_B', 'Segment_C', 'Segment_D', 'Segment_E']\n",
    "exclude_cols = ['ID', '기준년월'] + target_cols\n",
    "feature_cols = [col for col in train_df.columns if col not in exclude_cols]\n",
    "\n",
    "### 3. 결과 저장용\n",
    "all_results = {}\n",
    "\n",
    "for target in target_cols:\n",
    "    print(f\"\\n🔷 타겟: {target}\")\n",
    "    \n",
    "    # 학습 데이터\n",
    "    X_train = train_df[feature_cols]\n",
    "    y_train = train_df[target]\n",
    "    \n",
    "    # 테스트 데이터 (동일한 feature 컬럼만 사용)\n",
    "    # 그 중 실제 test_df에 존재하는 컬럼만 추출\n",
    "    valid_feature_cols = [col for col in feature_cols if col in test_df.columns]\n",
    "\n",
    "    # 적용\n",
    "    X_test = test_df[valid_feature_cols]\n",
    "    \n",
    "    # 1차 모델로 중요도 추출\n",
    "    model_full = xgb.XGBClassifier(use_label_encoder=False, eval_metric='logloss')\n",
    "    model_full.fit(X_train, y_train)\n",
    "    \n",
    "    importance = model_full.feature_importances_\n",
    "    importance_df = pd.DataFrame({\n",
    "        'feature': X_train.columns,\n",
    "        'importance': importance\n",
    "    }).sort_values(by='importance', ascending=False)\n",
    "    \n",
    "    # 상위 30개 피처 선택\n",
    "    top_features = importance_df.head(30)['feature'].tolist()\n",
    "    \n",
    "    # 상위 피처만 추려서 다시 학습\n",
    "    model_top = xgb.XGBClassifier(use_label_encoder=False, eval_metric='logloss')\n",
    "    model_top.fit(X_train[top_features], y_train)\n",
    "\n",
    "    # 예측 확률 저장 (soft voting)\n",
    "    y_proba = model_top.predict_proba(X_test[top_features])[:, 1]  # class 1 확률\n",
    "    test_df[f'proba_{target}'] = y_proba\n",
    "\n",
    "    print(f\"✅ 예측 완료 → test_df[f'proba_{target}'] 생성됨\")\n",
    "\n",
    "    # 시각화\n",
    "    plt.figure(figsize=(10, 6))\n",
    "    importance_df.head(30).plot.barh(x='feature', y='importance', legend=False)\n",
    "    plt.title(f\"Top 30 Feature Importance for {target}\")\n",
    "    plt.gca().invert_yaxis()\n",
    "    plt.tight_layout()\n",
    "    plt.show()\n",
    "    \n",
    "    # 결과 저장\n",
    "    all_results[target] = {\n",
    "        'top_features': top_features,\n",
    "        'importance_df': importance_df.head(30)\n",
    "    }"
   ]
  },
  {
   "cell_type": "code",
   "execution_count": null,
   "id": "798e32c7-f8a5-4ae2-a635-bc8dd551514a",
   "metadata": {},
   "outputs": [],
   "source": [
    "### 1. 각 타겟별 예측값은 test_df['pred_Segment_X'] 에 저장되어 있다고 가정\n",
    "segment_labels = ['A', 'B', 'C', 'D', 'E']\n",
    "proba_cols = [f'proba_Segment_{label}' for label in segment_labels]\n",
    "\n",
    "### 2. 각 row에서 확률이 가장 높은 컬럼의 label 선택\n",
    "def get_top_segment(row):\n",
    "    max_idx = row[proba_cols].values.argmax()\n",
    "    return segment_labels[max_idx]\n",
    "\n",
    "### 3. Segment 이름 붙이기\n",
    "test_df['Segment'] = test_df.apply(get_top_segment, axis=1)\n",
    "\n",
    "### 4. ID, Segment만 추출\n",
    "submission = test_df[['ID', 'Segment']]\n",
    "\n",
    "### 5. 저장\n",
    "output_file = f\"../results/2018{months[select_month_num]}_{suffix}_xgboost_submission}.csv\"\n",
    "submission.to_csv(output_file, index=False)\n",
    "\n",
    "print(\"✅ 예측 결과가 csv 파일로 저장되었습니다.\")"
   ]
  },
  {
   "cell_type": "code",
   "execution_count": null,
   "id": "aaf06602-0291-4438-bc3e-c6a7c98da247",
   "metadata": {},
   "outputs": [],
   "source": []
  }
 ],
 "metadata": {
  "kernelspec": {
   "display_name": "Python 3 (ipykernel)",
   "language": "python",
   "name": "python3"
  },
  "language_info": {
   "codemirror_mode": {
    "name": "ipython",
    "version": 3
   },
   "file_extension": ".py",
   "mimetype": "text/x-python",
   "name": "python",
   "nbconvert_exporter": "python",
   "pygments_lexer": "ipython3",
   "version": "3.10.18"
  }
 },
 "nbformat": 4,
 "nbformat_minor": 5
}

{
 "cells": [
  {
   "cell_type": "code",
   "execution_count": null,
   "id": "649060d3",
   "metadata": {},
   "outputs": [],
   "source": [
    "import pandas as pd\n",
    "\n",
    "### local\n",
    "root_path = '../data/open'\n",
    "\n",
    "### colab\n",
    "# root_path = '/content/drive/MyDrive/12조 파이널프로젝트/data'\n",
    "\n",
    "### 기본 폴더 구조 설정\n",
    "data_splits = [\"train\", \"test\"]\n",
    "\n",
    "# 각 데이터 유형별 폴더명, 파일 접미사, 변수 접두어 설정\n",
    "data_categories = {\n",
    "    \"회원정보\": {\"folder\": \"1.회원정보\", \"suffix\": \"회원정보\", \"var_prefix\": \"customer\"},\n",
    "    \"신용정보\": {\"folder\": \"2.신용정보\", \"suffix\": \"신용정보\", \"var_prefix\": \"credit\"},\n",
    "    \"승인매출정보\": {\"folder\": \"3.승인매출정보\", \"suffix\": \"승인매출정보\", \"var_prefix\": \"sales\"},\n",
    "    \"청구정보\": {\"folder\": \"4.청구입금정보\", \"suffix\": \"청구정보\", \"var_prefix\": \"billing\"},\n",
    "    \"잔액정보\": {\"folder\": \"5.잔액정보\", \"suffix\": \"잔액정보\", \"var_prefix\": \"balance\"},\n",
    "    \"채널정보\": {\"folder\": \"6.채널정보\", \"suffix\": \"채널정보\", \"var_prefix\": \"channel\"},\n",
    "    \"마케팅정보\": {\"folder\": \"7.마케팅정보\", \"suffix\": \"마케팅정보\", \"var_prefix\": \"marketing\"},\n",
    "    \"성과정보\": {\"folder\": \"8.성과정보\", \"suffix\": \"성과정보\", \"var_prefix\": \"performance\"}\n",
    "}\n",
    "\n",
    "months = [\"07\",\"08\",\"09\",\"10\",\"11\",\"12\"]"
   ]
  },
  {
   "cell_type": "code",
   "execution_count": null,
   "id": "c39126e3",
   "metadata": {},
   "outputs": [],
   "source": [
    "### 선택\n",
    "split = \"train\"\n",
    "select_key = \"청구정보\"\n",
    "folder = data_categories[select_key][\"folder\"]\n",
    "suffix = data_categories[select_key][\"suffix\"] \n",
    "\n",
    "file_path = file_path = f\"{root_path}/{split}/{folder}/cleaned_{suffix}.parquet\"\n",
    "#file_path = file_path = f\"{root_path}/{split}/{folder}/201812_processed_{suffix}.parquet\"\n",
    "df = pd.read_parquet(file_path)"
   ]
  },
  {
   "cell_type": "code",
   "execution_count": null,
   "id": "bea8b7ca",
   "metadata": {},
   "outputs": [],
   "source": [
    "exclude_cols = ['ID', '기준년월', 'Segment_A', 'Segment_B', 'Segment_C', 'Segment_D', 'Segment_E']\n",
    "target_cols = ['Segment_A', 'Segment_B', 'Segment_C', 'Segment_D', 'Segment_E']\n",
    "\n",
    "# 1. 타겟 컬럼 제외한 피처들만 추출\n",
    "feature_cols = [col for col in df.columns if col not in exclude_cols]\n",
    "\n",
    "# 2. 전체 상관계수 행렬 계산\n",
    "corr_matrix = df[feature_cols + target_cols].corr()\n",
    "\n",
    "# 3. 피처-타겟 간 상관계수만 추출\n",
    "feature_target_corr = corr_matrix.loc[feature_cols, target_cols]\n",
    "\n",
    "# 4. 절대값이 0.2 이상인 값이 하나라도 있는 피처만 남김\n",
    "selected_features = feature_target_corr[feature_target_corr.abs().max(axis=1) >= 0.2].index.tolist()\n",
    "\n",
    "# 5. 해당 피처만 선택한 새로운 데이터프레임 만들기\n",
    "df_selected = df[selected_features + exclude_cols]  # (타겟도 함께 포함하고 싶다면)\n",
    "\n",
    "# 선택된 피처 목록만 보고 싶을 땐:\n",
    "print(\"선택된 피처 개수:\", len(selected_features))\n",
    "print(\"선택된 피처들:\", selected_features)"
   ]
  },
  {
   "cell_type": "code",
   "execution_count": null,
   "id": "892e2dff",
   "metadata": {},
   "outputs": [],
   "source": [
    "# 저장\n",
    "#output_file = f\"{root_path}/{split}/{folder}/corr_drop_{suffix}.parquet\"\n",
    "output_file = f\"{root_path}/{split}/{folder}/201812_corr_drop_{suffix}.parquet\"\n",
    "df_selected.to_parquet(output_file, index=False)\n",
    "print(f\"✅ 저장 완료: {split}/corr_drop_{suffix}\")"
   ]
  }
 ],
 "metadata": {
  "kernelspec": {
   "display_name": "tensorflow_env",
   "language": "python",
   "name": "python3"
  },
  "language_info": {
   "codemirror_mode": {
    "name": "ipython",
    "version": 3
   },
   "file_extension": ".py",
   "mimetype": "text/x-python",
   "name": "python",
   "nbconvert_exporter": "python",
   "pygments_lexer": "ipython3",
   "version": "3.10.18"
  }
 },
 "nbformat": 4,
 "nbformat_minor": 5
}

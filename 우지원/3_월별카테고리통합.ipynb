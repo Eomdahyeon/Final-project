{
 "cells": [
  {
   "cell_type": "code",
   "execution_count": null,
   "id": "26028bd0-513d-4673-b6f7-f5bec375e70d",
   "metadata": {},
   "outputs": [],
   "source": [
    "# 기본\n",
    "import pandas as pd\n",
    "import numpy as np\n",
    "from functools import reduce\n",
    "\n",
    "import xgboost as xgb\n",
    "from sklearn.metrics import f1_score, classification_report\n",
    "import matplotlib.pyplot as plt\n",
    "\n",
    "# 그래프 설정\n",
    "plt.rcParams['font.family'] = 'Malgun Gothic'\n",
    "\n",
    "# 경고 뜨지 않게 설정\n",
    "import warnings\n",
    "warnings.filterwarnings('ignore')"
   ]
  },
  {
   "cell_type": "markdown",
   "id": "82b58ae4-89bf-4b12-953e-203a32f66efb",
   "metadata": {},
   "source": [
    "### 파일패스 설정"
   ]
  },
  {
   "cell_type": "code",
   "execution_count": null,
   "id": "0dd4c15e-c3a9-4269-acd1-5eb0cedd4656",
   "metadata": {},
   "outputs": [],
   "source": [
    "data_splits = [\"train\",\"test\"]\n",
    "months = [\"07\",\"08\",\"09\",\"10\",\"11\",\"12\"]\n",
    "# 각 데이터 유형별 폴더명, 파일 접미사, 변수 접두어 설정\n",
    "data_categories = {\n",
    "    \"회원정보\": {\"folder\": \"1.회원정보\", \"suffix\": \"회원정보\", \"var_prefix\": \"customer\"},\n",
    "    \"신용정보\": {\"folder\": \"2.신용정보\", \"suffix\": \"신용정보\", \"var_prefix\": \"credit\"},\n",
    "    \"승인매출정보\": {\"folder\": \"3.승인매출정보\", \"suffix\": \"승인매출정보\", \"var_prefix\": \"sales\"},\n",
    "    \"청구정보\": {\"folder\": \"4.청구입금정보\", \"suffix\": \"청구정보\", \"var_prefix\": \"billing\"},\n",
    "    \"잔액정보\": {\"folder\": \"5.잔액정보\", \"suffix\": \"잔액정보\", \"var_prefix\": \"balance\"},\n",
    "    \"채널정보\": {\"folder\": \"6.채널정보\", \"suffix\": \"채널정보\", \"var_prefix\": \"channel\"},\n",
    "    \"마케팅정보\": {\"folder\": \"7.마케팅정보\", \"suffix\": \"마케팅정보\", \"var_prefix\": \"marketing\"},\n",
    "    \"성과정보\": {\"folder\": \"8.성과정보\", \"suffix\": \"성과정보\", \"var_prefix\": \"performance\"}\n",
    "}\n",
    "\n",
    "### ⚠️ 이 부분 꼭 확인해서 설정한 뒤에 실행!!\n",
    "# local\n",
    "root_path = '../data/open'\n",
    "\n",
    "# colab\n",
    "# root_path = '/content/drive/MyDrive/12조 파이널프로젝트/data'"
   ]
  },
  {
   "cell_type": "code",
   "execution_count": null,
   "id": "7a6380e2-0b09-4504-a77c-97829fa3a518",
   "metadata": {},
   "outputs": [],
   "source": [
    "### ⚠️ 이 부분 꼭 확인해서 설정한 뒤에 실행!!\n",
    "# 머신러닝 돌릴 월 선택 \n",
    "select_month_num = 5"
   ]
  },
  {
   "cell_type": "markdown",
   "id": "4a6f2231-e0f6-4e9b-8641-485426cf3cbf",
   "metadata": {},
   "source": [
    "### 같은 월의 카테고리 전처리 데이터 통합"
   ]
  },
  {
   "cell_type": "code",
   "execution_count": null,
   "id": "d0974cdf-b608-4daa-8247-d2464cbd9a74",
   "metadata": {},
   "outputs": [],
   "source": [
    "# 모든 카테고리 돌면서 통합\n",
    "for split in data_splits:\n",
    "    merged_df=[]\n",
    "    for category, info in data_categories.items():\n",
    "        folder = info[\"folder\"]\n",
    "        suffix = info[\"suffix\"]\n",
    "        var_prefix = info[\"var_prefix\"]\n",
    "        \n",
    "        file_path = f\"{root_path}/{split}/{folder}/2018{months[select_month_num]}_processed_{suffix}.parquet\"\n",
    "        df = pd.read_parquet(file_path)\n",
    "\n",
    "        ### 회원정보 카테고리가 아닌 경우, Segment 컬럼 다 지워주기\n",
    "        if category == \"회원정보\":\n",
    "            merged_df = df\n",
    "        else:\n",
    "            # 병합 (중복 컬럼 구분을 위해 suffixes 지정)\n",
    "            merged_df = pd.merge(merged_df, df, on='ID', how='outer', suffixes=('', '_dup'))\n",
    "            \n",
    "            # 중복된 컬럼 제거\n",
    "            for col in merged_df.columns:\n",
    "                if col.endswith('_dup'):\n",
    "                    base_col = col[:-4]  # _dup 제거\n",
    "                    if base_col in merged_df.columns:\n",
    "                        # base_col이 이미 있으면 중복된 _dup 컬럼은 삭제\n",
    "                        merged_df.drop(columns=[col], inplace=True)\n",
    "                    else:\n",
    "                        # base_col이 없으면 _dup 컬럼을 base 이름으로 변경\n",
    "                        merged_df.rename(columns={col: base_col}, inplace=True)\n",
    "            print(f\"🧹 {suffix} category 병합\")\n",
    "    \n",
    "    # 저장\n",
    "    output_file = f\"{root_path}/{split}/2018{months[select_month_num]}_cleaned_All.parquet\"\n",
    "    merged_df.to_parquet(output_file, index=False)\n",
    "    print(f\"✅ 저장 완료: {split}/{months[select_month_num]}_cleaned_All\")"
   ]
  },
  {
   "cell_type": "markdown",
   "id": "31b6d631-25d6-4c73-b892-c39d2c228cd0",
   "metadata": {},
   "source": [
    "### 통합된 파일 확인하기"
   ]
  },
  {
   "cell_type": "code",
   "execution_count": null,
   "id": "76def6fc-1aa2-40bc-a83e-250e45b23cc1",
   "metadata": {},
   "outputs": [],
   "source": [
    "train_file = f\"{root_path}/train/2018{months[select_month_num]}_cleaned_All.parquet\"\n",
    "df = pd.read_parquet(train_file)\n",
    "df"
   ]
  },
  {
   "cell_type": "code",
   "execution_count": null,
   "id": "5ef7d165-1397-492a-9339-3c21ab396226",
   "metadata": {},
   "outputs": [],
   "source": []
  }
 ],
 "metadata": {
  "kernelspec": {
   "display_name": "Python 3 (ipykernel)",
   "language": "python",
   "name": "python3"
  },
  "language_info": {
   "codemirror_mode": {
    "name": "ipython",
    "version": 3
   },
   "file_extension": ".py",
   "mimetype": "text/x-python",
   "name": "python",
   "nbconvert_exporter": "python",
   "pygments_lexer": "ipython3",
   "version": "3.10.18"
  }
 },
 "nbformat": 4,
 "nbformat_minor": 5
}

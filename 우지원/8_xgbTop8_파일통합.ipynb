{
 "cells": [
  {
   "cell_type": "code",
   "execution_count": null,
   "id": "58787503-c409-4de5-a3c0-34a36233e42b",
   "metadata": {},
   "outputs": [],
   "source": [
    "# 기본\n",
    "import pandas as pd\n",
    "import numpy as np\n",
    "\n",
    "# 경고 뜨지 않게 설정\n",
    "import warnings\n",
    "warnings.filterwarnings('ignore')"
   ]
  },
  {
   "cell_type": "code",
   "execution_count": null,
   "id": "e3be1318-2c10-4646-b1df-03335691b4b5",
   "metadata": {},
   "outputs": [],
   "source": [
    "data_splits = [\"train\",\"test\"]\n",
    "months = [\"07\",\"08\",\"09\",\"10\",\"11\",\"12\"]\n",
    "# 각 데이터 유형별 폴더명, 파일 접미사, 변수 접두어 설정\n",
    "data_categories = {\n",
    "    \"회원정보\": {\"folder\": \"1.회원정보\", \"suffix\": \"회원정보\", \"var_prefix\": \"customer\"},\n",
    "    \"신용정보\": {\"folder\": \"2.신용정보\", \"suffix\": \"신용정보\", \"var_prefix\": \"credit\"},\n",
    "    \"승인매출정보\": {\"folder\": \"3.승인매출정보\", \"suffix\": \"승인매출정보\", \"var_prefix\": \"sales\"},\n",
    "    \"청구정보\": {\"folder\": \"4.청구입금정보\", \"suffix\": \"청구정보\", \"var_prefix\": \"billing\"},\n",
    "    \"잔액정보\": {\"folder\": \"5.잔액정보\", \"suffix\": \"잔액정보\", \"var_prefix\": \"balance\"},\n",
    "    \"채널정보\": {\"folder\": \"6.채널정보\", \"suffix\": \"채널정보\", \"var_prefix\": \"channel\"},\n",
    "    \"마케팅정보\": {\"folder\": \"7.마케팅정보\", \"suffix\": \"마케팅정보\", \"var_prefix\": \"marketing\"},\n",
    "    \"성과정보\": {\"folder\": \"8.성과정보\", \"suffix\": \"성과정보\", \"var_prefix\": \"performance\"}\n",
    "}\n",
    "\n",
    "### ⚠️ 이 부분 꼭 확인해서 설정한 뒤에 실행!!\n",
    "# local\n",
    "root_path = '../data/open'\n",
    "\n",
    "# colab\n",
    "# root_path = '/content/drive/MyDrive/12조 파이널프로젝트/data'"
   ]
  },
  {
   "cell_type": "code",
   "execution_count": null,
   "id": "178c8606-08e4-47d6-be7b-9deda5216707",
   "metadata": {},
   "outputs": [],
   "source": [
    "# 모든 카테고리 돌면서 통합\n",
    "split = \"train\"\n",
    "merged_df=[]\n",
    "for category, info in data_categories.items():\n",
    "    folder = info[\"folder\"]\n",
    "    suffix = info[\"suffix\"]\n",
    "    var_prefix = info[\"var_prefix\"]\n",
    "    \n",
    "    file_path = f\"{root_path}/{split}/{folder}/xgb_top8_{suffix}.parquet\"\n",
    "    df = pd.read_parquet(file_path)\n",
    "\n",
    "    ### 회원정보 카테고리가 아닌 경우, Segment 컬럼 다 지워주기\n",
    "    if category == \"회원정보\":\n",
    "        merged_df = df\n",
    "        print(f\"🧹 {suffix} category 병합\")\n",
    "    else:\n",
    "        # 병합\n",
    "        merged_df = pd.merge(merged_df,df,on=['ID','기준년월'], how='inner')\n",
    "        print(f\"🧹 {suffix} category 병합\")\n",
    "\n",
    "# 저장\n",
    "output_file = f\"{root_path}/{split}/xgb_top8_All.parquet\"\n",
    "merged_df.to_parquet(output_file, index=False)\n",
    "print(f\"✅ 저장 완료: {split}/xgb_top8_All\")"
   ]
  },
  {
   "cell_type": "code",
   "execution_count": null,
   "id": "65a7cfc6-f8a6-4c85-ad1b-8f999544f408",
   "metadata": {},
   "outputs": [],
   "source": [
    "# 저장된 파일 확인\n",
    "train_file = f\"{root_path}/{split}/xgb_top8_All.parquet\"\n",
    "df = pd.read_parquet(train_file)\n",
    "df"
   ]
  }
 ],
 "metadata": {
  "kernelspec": {
   "display_name": "tensorflow_env",
   "language": "python",
   "name": "python3"
  },
  "language_info": {
   "codemirror_mode": {
    "name": "ipython",
    "version": 3
   },
   "file_extension": ".py",
   "mimetype": "text/x-python",
   "name": "python",
   "nbconvert_exporter": "python",
   "pygments_lexer": "ipython3",
   "version": "3.10.18"
  }
 },
 "nbformat": 4,
 "nbformat_minor": 5
}

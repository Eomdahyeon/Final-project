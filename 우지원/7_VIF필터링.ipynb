{
 "cells": [
  {
   "cell_type": "code",
   "execution_count": null,
   "id": "723e9f85",
   "metadata": {},
   "outputs": [],
   "source": [
    "# 기본\n",
    "import pandas as pd\n",
    "import numpy as np\n",
    "\n",
    "from statsmodels.stats.outliers_influence import variance_inflation_factor\n",
    "from statsmodels.tools.tools import add_constant\n",
    "\n",
    "# 경고 뜨지 않게 설정\n",
    "import warnings\n",
    "warnings.filterwarnings('ignore')"
   ]
  },
  {
   "cell_type": "markdown",
   "id": "c1b2647f",
   "metadata": {},
   "source": [
    "## 기본 root path 설정 (local 인지 colab인지 확인)"
   ]
  },
  {
   "cell_type": "code",
   "execution_count": null,
   "id": "cf98f565",
   "metadata": {},
   "outputs": [],
   "source": [
    "### local\n",
    "root_path = '../data/open'\n",
    "\n",
    "### colab\n",
    "# root_path = '/content/drive/MyDrive/12조 파이널프로젝트/data'"
   ]
  },
  {
   "cell_type": "markdown",
   "id": "2f2d3b06",
   "metadata": {},
   "source": []
  },
  {
   "cell_type": "code",
   "execution_count": null,
   "id": "d9319bf5",
   "metadata": {},
   "outputs": [],
   "source": [
    "#file_path = f\"{root_path}/{split}/{folder}/201812_corr_drop_All.parquet\"\n",
    "file_path = f\"{root_path}/train/corr_drop_All.parquet\"\n",
    "train_df = pd.read_parquet(file_path)\n",
    "\n",
    "# 기준 컬럼 정의\n",
    "exclude_cols = ['ID', '기준년월']\n",
    "segment_cols = [col for col in train_df.columns if col.startswith('Segment_')]\n",
    "vif_exclude = exclude_cols + segment_cols\n",
    "\n",
    "# 숫자형 컬럼에서 VIF 계산 대상만 선택\n",
    "numeric_cols = train_df.select_dtypes(include=['number']).columns.tolist()\n",
    "vif_features = [col for col in numeric_cols if col not in vif_exclude]\n",
    "\n",
    "# 결측치 제거 (VIF 계산용)\n",
    "X_numeric = train_df[vif_features].dropna()\n",
    "\n",
    "# 상수항 추가\n",
    "X_with_const = add_constant(X_numeric)\n",
    "\n",
    "# VIF 계산\n",
    "vif_data = pd.DataFrame()\n",
    "vif_data[\"feature\"] = X_numeric.columns\n",
    "vif_data[\"VIF\"] = [variance_inflation_factor(X_with_const.values, i + 1) for i in range(len(X_numeric.columns))]\n",
    "\n",
    "# VIF > 10인 컬럼 제거\n",
    "high_vif_cols = vif_data[vif_data[\"VIF\"] > 10][\"feature\"].tolist()\n",
    "vif_filtered_cols = [col for col in vif_features if col not in high_vif_cols]\n",
    "\n",
    "# 원본 train_df에서 최종 컬럼 선택 (VIF 통과한 컬럼 + 제외했던 컬럼들)\n",
    "final_cols = exclude_cols + vif_filtered_cols + segment_cols\n",
    "train_df_reduced = train_df[final_cols]\n",
    "\n",
    "# 결과 확인\n",
    "print(\"제거된 컬럼 수:\", len(high_vif_cols))\n",
    "print(\"최종 컬럼 수:\", len(train_df_reduced.columns))\n",
    "\n",
    "# 필요시 저장\n",
    "#train_df_reduced.to_parquet(f\"{root_path}/train/201812_vif_drop_All.parquet\", index=False)\n",
    "train_df_reduced.to_parquet(f\"{root_path}/train/vif_drop_All.parquet\", index=False)"
   ]
  },
  {
   "cell_type": "code",
   "execution_count": null,
   "id": "62ca48be",
   "metadata": {},
   "outputs": [],
   "source": []
  }
 ],
 "metadata": {
  "kernelspec": {
   "display_name": "tensorflow_env",
   "language": "python",
   "name": "python3"
  },
  "language_info": {
   "codemirror_mode": {
    "name": "ipython",
    "version": 3
   },
   "file_extension": ".py",
   "mimetype": "text/x-python",
   "name": "python",
   "nbconvert_exporter": "python",
   "pygments_lexer": "ipython3",
   "version": "3.10.18"
  }
 },
 "nbformat": 4,
 "nbformat_minor": 5
}

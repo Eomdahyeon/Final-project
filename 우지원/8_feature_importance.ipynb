{
 "cells": [
  {
   "cell_type": "code",
   "execution_count": null,
   "id": "a476cf0e",
   "metadata": {},
   "outputs": [],
   "source": [
    "import pandas as pd\n",
    "import numpy as np\n",
    "\n",
    "from xgboost import XGBClassifier\n",
    "from lightgbm import LGBMClassifier\n",
    "from catboost import CatBoostClassifier"
   ]
  },
  {
   "cell_type": "code",
   "execution_count": null,
   "id": "c4e18494",
   "metadata": {},
   "outputs": [],
   "source": [
    "data_splits = [\"train\",\"test\"]\n",
    "months = [\"07\",\"08\",\"09\",\"10\",\"11\",\"12\"]\n",
    "# 각 데이터 유형별 폴더명, 파일 접미사, 변수 접두어 설정\n",
    "data_categories = {\n",
    "    \"회원정보\": {\"folder\": \"1.회원정보\", \"suffix\": \"회원정보\", \"var_prefix\": \"customer\"},\n",
    "    \"신용정보\": {\"folder\": \"2.신용정보\", \"suffix\": \"신용정보\", \"var_prefix\": \"credit\"},\n",
    "    \"승인매출정보\": {\"folder\": \"3.승인매출정보\", \"suffix\": \"승인매출정보\", \"var_prefix\": \"sales\"},\n",
    "    \"청구정보\": {\"folder\": \"4.청구입금정보\", \"suffix\": \"청구정보\", \"var_prefix\": \"billing\"},\n",
    "    \"잔액정보\": {\"folder\": \"5.잔액정보\", \"suffix\": \"잔액정보\", \"var_prefix\": \"balance\"},\n",
    "    \"채널정보\": {\"folder\": \"6.채널정보\", \"suffix\": \"채널정보\", \"var_prefix\": \"channel\"},\n",
    "    \"마케팅정보\": {\"folder\": \"7.마케팅정보\", \"suffix\": \"마케팅정보\", \"var_prefix\": \"marketing\"},\n",
    "    \"성과정보\": {\"folder\": \"8.성과정보\", \"suffix\": \"성과정보\", \"var_prefix\": \"performance\"}\n",
    "}\n",
    "\n",
    "# local\n",
    "root_path = '../data/open'\n",
    "\n",
    "# colab\n",
    "# root_path = '/content/drive/MyDrive/12조 파이널프로젝트/data'"
   ]
  },
  {
   "cell_type": "markdown",
   "id": "9356eeef",
   "metadata": {},
   "source": [
    "#### 머신러닝 돌릴 월,카테고리 선택 ⚠️ 이 부분 꼭 확인해서 설정한 뒤에 실행!!"
   ]
  },
  {
   "cell_type": "code",
   "execution_count": null,
   "id": "4653ba7f",
   "metadata": {},
   "outputs": [],
   "source": [
    "select_category = \"회원정보\"\n",
    "\n",
    "folder = data_categories[select_category][\"folder\"]\n",
    "suffix = data_categories[select_category][\"suffix\"]"
   ]
  },
  {
   "cell_type": "code",
   "execution_count": null,
   "id": "8a4d290d",
   "metadata": {},
   "outputs": [],
   "source": [
    "def get_top_8_features(model, X, y):\n",
    "    model.fit(X, y)\n",
    "    importances = model.feature_importances_\n",
    "    importance_df = pd.DataFrame({\n",
    "        'feature': X.columns,\n",
    "        'importance': importances\n",
    "    }).sort_values(by='importance', ascending=False)\n",
    "    return importance_df['feature'].head(8).tolist()"
   ]
  },
  {
   "cell_type": "code",
   "execution_count": null,
   "id": "cfd65571",
   "metadata": {},
   "outputs": [],
   "source": [
    "### 1. 파일 불러오기\n",
    "# 훈련 데이터\n",
    "file_name=f\"{root_path}/{data_splits[0]}/{folder}/cleaned_{suffix}.parquet\"\n",
    "df=pd.read_parquet(file_name)\n",
    "\n",
    "### 2. one-hot -> 단일 라벨 복원\n",
    "df['Segment'] = df[['Segment_A', 'Segment_B', 'Segment_C', 'Segment_D', 'Segment_E']].idxmax(axis=1)\n",
    "df['Segment'] = df['Segment'].map({\n",
    "    'Segment_A':0, 'Segment_B':1, 'Segment_C':2, 'Segment_D':3, 'Segment_E':4\n",
    "})\n",
    "\n",
    "### 3. feature columns 설정\n",
    "exclude_cols = ['ID', '기준년월', 'Segment_A', 'Segment_B', 'Segment_C', 'Segment_D', 'Segment_E', 'Segment']\n",
    "feature_cols = [col for col in df.columns if col not in exclude_cols]\n",
    "target = 'Segment'  # 통합된 단일 타겟\n",
    "\n",
    "X = df[feature_cols]\n",
    "y=df[target]\n",
    "\n",
    "### 4. feature importance 상위 8개 뽑기\n",
    "xgb_top8 = get_top_8_features(XGBClassifier(use_label_encoder=False, eval_metric='mlogloss'), X, y)\n",
    "#lgb_top8 = get_top_8_features(LGBMClassifier(), X, y)\n",
    "#cat_top8 = get_top_8_features(CatBoostClassifier(verbose=0), X, y)"
   ]
  },
  {
   "cell_type": "code",
   "execution_count": null,
   "id": "18efba58",
   "metadata": {},
   "outputs": [],
   "source": [
    "# 저장\n",
    "\n",
    "meta_cols = ['ID', '기준년월']\n",
    "seg_cols = ['Segment_A', 'Segment_B', 'Segment_C', 'Segment_D', 'Segment_E']\n",
    "if suffix == \"회원정보\":\n",
    "    df_xgb = df[meta_cols + xgb_top8 + seg_cols]\n",
    "else :\n",
    "    df_xgb = df[meta_cols + xgb_top8]\n",
    "#df_lgb = df[meta_cols + lgb_top8]\n",
    "#df_cat = df[meta_cols + cat_top8]\n",
    "\n",
    "output_path = f'{root_path}/{data_splits[0]}/{folder}'\n",
    "df_xgb.to_parquet(f'{output_path}/xgb_top8_{suffix}.parquet')\n",
    "#df_lgb.to_parquet(f'{output_path}/lgb_top8_{suffix}.parquet')\n",
    "#df_cat.to_parquet(f'{output_path}/cat_top8_{suffix}.parquet')"
   ]
  },
  {
   "cell_type": "code",
   "execution_count": null,
   "id": "a374e800",
   "metadata": {},
   "outputs": [],
   "source": [
    "df_xgb"
   ]
  },
  {
   "cell_type": "code",
   "execution_count": null,
   "id": "604a9857",
   "metadata": {},
   "outputs": [],
   "source": []
  }
 ],
 "metadata": {
  "kernelspec": {
   "display_name": "tensorflow_env",
   "language": "python",
   "name": "python3"
  },
  "language_info": {
   "codemirror_mode": {
    "name": "ipython",
    "version": 3
   },
   "file_extension": ".py",
   "mimetype": "text/x-python",
   "name": "python",
   "nbconvert_exporter": "python",
   "pygments_lexer": "ipython3",
   "version": "3.10.18"
  }
 },
 "nbformat": 4,
 "nbformat_minor": 5
}

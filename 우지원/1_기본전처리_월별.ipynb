{
 "cells": [
  {
   "cell_type": "code",
   "execution_count": 1,
   "id": "4df0c299-11ad-4517-ad48-7d9893a97179",
   "metadata": {},
   "outputs": [],
   "source": [
    "# 기본\n",
    "import pandas as pd\n",
    "import numpy as np\n",
    "\n",
    "# 경고 뜨지 않게 설정\n",
    "import warnings\n",
    "warnings.filterwarnings('ignore')"
   ]
  },
  {
   "cell_type": "markdown",
   "id": "8b066fdf-ee66-4c0e-b7ab-be9f1d9310ad",
   "metadata": {},
   "source": [
    "## 기본 root path 설정 (local 인지 colab인지 확인)"
   ]
  },
  {
   "cell_type": "code",
   "execution_count": 2,
   "id": "0c21f600-dca3-4f21-963f-a6006115a4ec",
   "metadata": {},
   "outputs": [],
   "source": [
    "### local\n",
    "root_path = '../data/open'\n",
    "\n",
    "### colab\n",
    "# root_path = '/content/drive/MyDrive/12조 파이널프로젝트/data'"
   ]
  },
  {
   "cell_type": "markdown",
   "id": "3a0ead64-5cda-4523-a8cc-0e55357f51fd",
   "metadata": {},
   "source": [
    "## 월별 데이터 기본전처리"
   ]
  },
  {
   "cell_type": "code",
   "execution_count": 7,
   "id": "164c834d-3b69-472b-8df7-02d832caed09",
   "metadata": {},
   "outputs": [],
   "source": [
    "### 기본 폴더 구조 설정\n",
    "data_splits = [\"train\", \"test\"]\n",
    "\n",
    "# 각 데이터 유형별 폴더명, 파일 접미사, 변수 접두어 설정\n",
    "data_categories = {\n",
    "    #\"회원정보\": {\"folder\": \"1.회원정보\", \"suffix\": \"회원정보\", \"var_prefix\": \"customer\"},\n",
    "    #\"신용정보\": {\"folder\": \"2.신용정보\", \"suffix\": \"신용정보\", \"var_prefix\": \"credit\"},\n",
    "    \"승인매출정보\": {\"folder\": \"3.승인매출정보\", \"suffix\": \"승인매출정보\", \"var_prefix\": \"sales\"},\n",
    "    #\"청구정보\": {\"folder\": \"4.청구입금정보\", \"suffix\": \"청구정보\", \"var_prefix\": \"billing\"},\n",
    "    #\"잔액정보\": {\"folder\": \"5.잔액정보\", \"suffix\": \"잔액정보\", \"var_prefix\": \"balance\"},\n",
    "    #\"채널정보\": {\"folder\": \"6.채널정보\", \"suffix\": \"채널정보\", \"var_prefix\": \"channel\"},\n",
    "    #\"마케팅정보\": {\"folder\": \"7.마케팅정보\", \"suffix\": \"마케팅정보\", \"var_prefix\": \"marketing\"},\n",
    "    #\"성과정보\": {\"folder\": \"8.성과정보\", \"suffix\": \"성과정보\", \"var_prefix\": \"performance\"}\n",
    "}\n",
    "\n",
    "months = [\"07\",\"08\",\"09\",\"10\",\"11\",\"12\"]"
   ]
  },
  {
   "cell_type": "code",
   "execution_count": 4,
   "id": "2f8d9dbe-65d6-4971-80cc-6e73984dc692",
   "metadata": {
    "scrolled": true
   },
   "outputs": [
    {
     "name": "stdout",
     "output_type": "stream",
     "text": [
      "🧹 동일값 컬럼 제거: ['대표결제방법코드']\n",
      "🔀 세그먼트 병합\n",
      "✅ 저장 완료: 07_train_청구정보\n",
      "🧹 동일값 컬럼 제거: ['대표결제방법코드']\n",
      "🔀 세그먼트 병합\n",
      "✅ 저장 완료: 08_train_청구정보\n",
      "🧹 동일값 컬럼 제거: ['대표결제방법코드']\n",
      "🔀 세그먼트 병합\n",
      "✅ 저장 완료: 09_train_청구정보\n",
      "🧹 동일값 컬럼 제거: ['대표결제방법코드']\n",
      "🔀 세그먼트 병합\n",
      "✅ 저장 완료: 10_train_청구정보\n",
      "🧹 동일값 컬럼 제거: ['대표결제방법코드']\n",
      "🔀 세그먼트 병합\n",
      "✅ 저장 완료: 11_train_청구정보\n",
      "🧹 동일값 컬럼 제거: ['대표결제방법코드']\n",
      "🔀 세그먼트 병합\n",
      "✅ 저장 완료: 12_train_청구정보\n",
      "🧹 동일값 컬럼 제거: ['대표결제방법코드']\n",
      "✅ 저장 완료: 07_test_청구정보\n",
      "🧹 동일값 컬럼 제거: ['대표결제방법코드']\n",
      "✅ 저장 완료: 08_test_청구정보\n",
      "🧹 동일값 컬럼 제거: ['대표결제방법코드']\n",
      "✅ 저장 완료: 09_test_청구정보\n",
      "🧹 동일값 컬럼 제거: ['대표결제방법코드']\n",
      "✅ 저장 완료: 10_test_청구정보\n",
      "🧹 동일값 컬럼 제거: ['대표결제방법코드']\n",
      "✅ 저장 완료: 11_test_청구정보\n",
      "🧹 동일값 컬럼 제거: ['대표결제방법코드']\n",
      "✅ 저장 완료: 12_test_청구정보\n"
     ]
    }
   ],
   "source": [
    "for split in data_splits:\n",
    "    for category, info in data_categories.items():\n",
    "        folder = info[\"folder\"]\n",
    "        suffix = info[\"suffix\"]\n",
    "        var_prefix = info[\"var_prefix\"]\n",
    "\n",
    "        for month in months:\n",
    "            ### 파일 불러오기\n",
    "            # 파일명 형식: 2018{month}_{split}_{suffix}.parquet\n",
    "            file_path = f\"{root_path}/{split}/{folder}/2018{month}_{split}_{suffix}.parquet\"\n",
    "            df = pd.read_parquet(file_path)\n",
    "\n",
    "            ### 컬럼 제거\n",
    "            # 모든 값이 동일한 컬럼 제거 (기준년도 컬럼 제외)\n",
    "            constant_cols = [col for col in df.columns.difference(['기준년월']) if df[col].nunique() == 1]\n",
    "            if constant_cols:\n",
    "                print(f\"🧹 동일값 컬럼 제거: {constant_cols}\")\n",
    "                df = df.drop(columns=constant_cols)\n",
    "            \n",
    "            # 결측치가 있는 컬럼 제거\n",
    "            null_cols = df.columns[df.isnull().any()]\n",
    "            if len(null_cols) > 0:\n",
    "                print(f\"🧹 결측치 컬럼 제거: {list(null_cols)}\")\n",
    "                df = df.drop(columns=null_cols)\n",
    "\n",
    "            ### Label Encoding\n",
    "            # 범주형 -> 수치형\n",
    "            if category == \"승인매출정보\":\n",
    "                dict1 = {\n",
    "                    '09.미사용' : 0,\n",
    "                    '05.10만원-' : 1,\n",
    "                    '04.10만원+' : 2,\n",
    "                    '03.30만원+' : 3,\n",
    "                    '02.50만원+' : 4,\n",
    "                    '01.100만원+' : 5\n",
    "                }\n",
    "                \n",
    "                df['이용금액대'] = df['이용금액대'].map(dict1)\n",
    "                print(\"🔀 수치형변수로 인코딩\")\n",
    "\n",
    "            ### One-hot Encoding\n",
    "            # segment 값 있는 파일 주소 설정\n",
    "            segment_folder = f'{root_path}/{split}/1.회원정보'\n",
    "            segment_category = \"회원정보\"\n",
    "            \n",
    "            # 세그먼트 컬럼 추가\n",
    "            if split==\"train\":\n",
    "                segment_df = pd.read_parquet(f\"{segment_folder}/2018{month}_{split}_{segment_category}.parquet\")\n",
    "                print(\"🔀 세그먼트 병합\")\n",
    "                df = df.merge(segment_df[['ID', 'Segment']], on='ID', how='left')\n",
    "                df=pd.get_dummies(df, columns=['Segment'])\n",
    "\n",
    "            ### 전처리된 파일 저장\n",
    "            output_file=f\"{root_path}/{split}/{folder}/2018{month}_processed_{category}.parquet\"\n",
    "            df.to_parquet(output_file, index=False)\n",
    "            print(f\"✅ 저장 완료: {month}_{split}_{category}\")"
   ]
  },
  {
   "cell_type": "markdown",
   "id": "d1c6c1cb-3eb0-4261-90b5-5532d7cbc7a2",
   "metadata": {},
   "source": [
    "## 전처리된 월별 데이터 하나로 통합"
   ]
  },
  {
   "cell_type": "markdown",
   "id": "f1b4f255-f8fd-4971-898d-6b31069bec90",
   "metadata": {},
   "source": [
    "#### 실행시 메모리 에러 뜨는 경우에는 restart kernel 하신 후 기본폴더구조까지만 실행후 바로 아래 코드 실행해보세요"
   ]
  },
  {
   "cell_type": "code",
   "execution_count": 9,
   "id": "0dff8483-53b2-4f6c-96d1-84cf4d5a2128",
   "metadata": {},
   "outputs": [
    {
     "name": "stdout",
     "output_type": "stream",
     "text": [
      "✅ ../data/open/train/3.승인매출정보/201807_processed_승인매출정보.parquet 변환 완료\n",
      "✅ ../data/open/train/3.승인매출정보/201808_processed_승인매출정보.parquet 변환 완료\n",
      "✅ ../data/open/train/3.승인매출정보/201809_processed_승인매출정보.parquet 변환 완료\n",
      "✅ ../data/open/train/3.승인매출정보/201810_processed_승인매출정보.parquet 변환 완료\n",
      "✅ ../data/open/train/3.승인매출정보/201811_processed_승인매출정보.parquet 변환 완료\n",
      "✅ ../data/open/train/3.승인매출정보/201812_processed_승인매출정보.parquet 변환 완료\n",
      "🧹 결측치 컬럼 제거: ['이용금액_카드론_B0M', '이용건수_부분무이자_R6M', '이용금액_부분무이자_R6M', '이용건수_부분무이자_R3M', '이용금액_부분무이자_R3M', '이용개월수_부분무이자_R3M', '할부건수_무이자_14M_R12M', '이용개월수_당사기타_R6M', '신청건수_ATM_CL_B0', '승인거절건수_BL_B0M', '승인거절건수_입력오류_R3M', '승인거절건수_기타_R3M', '증감_RP건수_아파트_전월', '증감_RP건수_렌탈_전월', '증감_RP건수_보험_전월', '증감_RP건수_학습비_전월', '할부금액_부분_6M_R12M']\n",
      "✅ 전체 병합 저장 완료: 저장 완료 (Shape: (2400000, 345))\n",
      "✅ ../data/open/test/3.승인매출정보/201807_processed_승인매출정보.parquet 변환 완료\n",
      "✅ ../data/open/test/3.승인매출정보/201808_processed_승인매출정보.parquet 변환 완료\n",
      "✅ ../data/open/test/3.승인매출정보/201809_processed_승인매출정보.parquet 변환 완료\n",
      "✅ ../data/open/test/3.승인매출정보/201810_processed_승인매출정보.parquet 변환 완료\n",
      "✅ ../data/open/test/3.승인매출정보/201811_processed_승인매출정보.parquet 변환 완료\n",
      "✅ ../data/open/test/3.승인매출정보/201812_processed_승인매출정보.parquet 변환 완료\n",
      "🧹 결측치 컬럼 제거: ['이용건수_카드론_B0M', '이용금액_카드론_B0M', '이용건수_부분무이자_R6M', '이용금액_부분무이자_R6M', '이용건수_부분무이자_R3M', '이용금액_부분무이자_R3M', '이용개월수_부분무이자_R3M', '이용개월수_당사기타_R6M', '신청건수_ATM_CL_R6M', '승인거절건수_BL_B0M', '승인거절건수_BL_R3M', '승인거절건수_기타_R3M', '증감_RP건수_아파트_전월', '증감_RP건수_렌탈_전월', '증감_RP건수_보험_전월', '증감_RP건수_학습비_전월']\n",
      "✅ 전체 병합 저장 완료: 저장 완료 (Shape: (600000, 337))\n"
     ]
    }
   ],
   "source": [
    "for split in data_splits:\n",
    "    merged_list=[]\n",
    "    for category, info in data_categories.items():\n",
    "        folder = info[\"folder\"]\n",
    "        suffix = info[\"suffix\"]\n",
    "        var_prefix = info[\"var_prefix\"]\n",
    "\n",
    "        for month in months:\n",
    "            ### 파일 불러오기\n",
    "            file_path = f\"{root_path}/{split}/{folder}/2018{month}_processed_{category}.parquet\"\n",
    "            df = pd.read_parquet(file_path)\n",
    "            merged_list.append(df)\n",
    "            print(f\"✅ {file_path} 변환 완료\")\n",
    "\n",
    "        # 파일 저장\n",
    "        if merged_list:\n",
    "            merged_df = pd.concat(merged_list, ignore_index=True)\n",
    "            \n",
    "            # 결측치가 있는 컬럼 제거\n",
    "            null_cols = merged_df.columns[merged_df.isnull().any()]\n",
    "            if len(null_cols) > 0:\n",
    "                print(f\"🧹 결측치 컬럼 제거: {list(null_cols)}\")\n",
    "                merged_df = merged_df.drop(columns=null_cols)\n",
    "            \n",
    "            output_file = f\"{root_path}/{split}/{folder}/2018_processed_{category}.parquet\"\n",
    "            merged_df.to_parquet(output_file, index=False)\n",
    "            print(f\"✅ 전체 병합 저장 완료: 저장 완료 (Shape: {merged_df.shape})\")"
   ]
  },
  {
   "cell_type": "markdown",
   "id": "e4592588-bf0a-4328-b3a1-82738e7a73b1",
   "metadata": {},
   "source": []
  },
  {
   "cell_type": "code",
   "execution_count": null,
   "id": "fce1b2cb-ab0a-40c2-bfe8-379cfa0273be",
   "metadata": {},
   "outputs": [],
   "source": []
  }
 ],
 "metadata": {
  "kernelspec": {
   "display_name": "Python 3 (ipykernel)",
   "language": "python",
   "name": "python3"
  },
  "language_info": {
   "codemirror_mode": {
    "name": "ipython",
    "version": 3
   },
   "file_extension": ".py",
   "mimetype": "text/x-python",
   "name": "python",
   "nbconvert_exporter": "python",
   "pygments_lexer": "ipython3",
   "version": "3.10.18"
  }
 },
 "nbformat": 4,
 "nbformat_minor": 5
}

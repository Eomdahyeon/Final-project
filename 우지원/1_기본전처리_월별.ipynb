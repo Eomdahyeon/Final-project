{
 "cells": [
  {
   "cell_type": "code",
   "execution_count": null,
   "id": "4df0c299-11ad-4517-ad48-7d9893a97179",
   "metadata": {},
   "outputs": [],
   "source": [
    "# 기본\n",
    "import pandas as pd\n",
    "import numpy as np\n",
    "\n",
    "# 경고 뜨지 않게 설정\n",
    "import warnings\n",
    "warnings.filterwarnings('ignore')"
   ]
  },
  {
   "cell_type": "markdown",
   "id": "8b066fdf-ee66-4c0e-b7ab-be9f1d9310ad",
   "metadata": {},
   "source": [
    "## 기본 root path 설정 (local 인지 colab인지 확인)"
   ]
  },
  {
   "cell_type": "code",
   "execution_count": null,
   "id": "0c21f600-dca3-4f21-963f-a6006115a4ec",
   "metadata": {},
   "outputs": [],
   "source": [
    "### local\n",
    "root_path = '../data/open'\n",
    "\n",
    "### colab\n",
    "# root_path = '/content/drive/MyDrive/12조 파이널프로젝트/data'"
   ]
  },
  {
   "cell_type": "markdown",
   "id": "3a0ead64-5cda-4523-a8cc-0e55357f51fd",
   "metadata": {},
   "source": [
    "## 월별 데이터 기본전처리"
   ]
  },
  {
   "cell_type": "code",
   "execution_count": null,
   "id": "164c834d-3b69-472b-8df7-02d832caed09",
   "metadata": {},
   "outputs": [],
   "source": [
    "### 기본 폴더 구조 설정\n",
    "data_splits = [\"train\", \"test\"]\n",
    "\n",
    "# 각 데이터 유형별 폴더명, 파일 접미사, 변수 접두어 설정\n",
    "data_categories = {\n",
    "    #\"회원정보\": {\"folder\": \"1.회원정보\", \"suffix\": \"회원정보\", \"var_prefix\": \"customer\"},\n",
    "    #\"신용정보\": {\"folder\": \"2.신용정보\", \"suffix\": \"신용정보\", \"var_prefix\": \"credit\"},\n",
    "    \"승인매출정보\": {\"folder\": \"3.승인매출정보\", \"suffix\": \"승인매출정보\", \"var_prefix\": \"sales\"},\n",
    "    #\"청구정보\": {\"folder\": \"4.청구입금정보\", \"suffix\": \"청구정보\", \"var_prefix\": \"billing\"},\n",
    "    #\"잔액정보\": {\"folder\": \"5.잔액정보\", \"suffix\": \"잔액정보\", \"var_prefix\": \"balance\"},\n",
    "    #\"채널정보\": {\"folder\": \"6.채널정보\", \"suffix\": \"채널정보\", \"var_prefix\": \"channel\"},\n",
    "    #\"마케팅정보\": {\"folder\": \"7.마케팅정보\", \"suffix\": \"마케팅정보\", \"var_prefix\": \"marketing\"},\n",
    "    #\"성과정보\": {\"folder\": \"8.성과정보\", \"suffix\": \"성과정보\", \"var_prefix\": \"performance\"}\n",
    "}\n",
    "\n",
    "months = [\"07\",\"08\",\"09\",\"10\",\"11\",\"12\"]"
   ]
  },
  {
   "cell_type": "code",
   "execution_count": null,
   "id": "2f8d9dbe-65d6-4971-80cc-6e73984dc692",
   "metadata": {},
   "outputs": [],
   "source": [
    "for split in data_splits:\n",
    "    for category, info in data_categories.items():\n",
    "        folder = info[\"folder\"]\n",
    "        suffix = info[\"suffix\"]\n",
    "        var_prefix = info[\"var_prefix\"]\n",
    "\n",
    "        for month in months:\n",
    "            ### 파일 불러오기\n",
    "            # 파일명 형식: 2018{month}_{split}_{suffix}.parquet\n",
    "            file_path = f\"{root_path}/{split}/{folder}/2018{month}_{split}_{suffix}.parquet\"\n",
    "            df = pd.read_parquet(file_path)\n",
    "\n",
    "            ### 컬럼 제거\n",
    "            # 모든 값이 동일한 컬럼 제거 (기준년도 컬럼 제외)\n",
    "            constant_cols = [col for col in df.columns.difference(['기준년월']) if df[col].nunique() == 1]\n",
    "            if constant_cols:\n",
    "                print(f\"🧹 동일값 컬럼 제거: {constant_cols}\")\n",
    "                df = df.drop(columns=constant_cols)\n",
    "            \n",
    "            # 결측치가 있는 컬럼 제거\n",
    "            null_cols = df.columns[df.isnull().any()]\n",
    "            if len(null_cols) > 0:\n",
    "                print(f\"🧹 결측치 컬럼 제거: {list(null_cols)}\")\n",
    "                df = df.drop(columns=null_cols)\n",
    "\n",
    "            ### Label Encoding\n",
    "            # 범주형 -> 수치형\n",
    "            if category == \"승인매출정보\":\n",
    "                df['이용금액대'] = df['이용금액대'].map({\n",
    "                    '09.미사용' : 0,\n",
    "                    '05.10만원-' : 1,\n",
    "                    '04.10만원+' : 2,\n",
    "                    '03.30만원+' : 3,\n",
    "                    '02.50만원+' : 4,\n",
    "                    '01.100만원+' : 5})\n",
    "                print(\"🔀 수치형변수로 인코딩\")\n",
    "\n",
    "            if category == \"청구정보\":\n",
    "                df['대표청구지고객주소구분코드'] = df['대표청구지고객주소구분코드'].map({\n",
    "                    '미확인':0, '주거지':1, '회사':2})\n",
    "                df['대표청구서수령지구분코드'] = df['대표청구서수령지구분코드'].map({\n",
    "                    '우편':0, '이메일':1, '당사페이앱+이메일':2,'K톡명세서+이메일':3, '미수신':4,\n",
    "                    '당사멤버십+이메일':5, '문자메세지':6})\n",
    "                df['청구서수령방법'] = df['청구서수령방법'].map({\n",
    "                    '우편':0, '이메일':1, '문자메세지':2,\n",
    "                    'K톡':3, '미수령':4, '당사멤버십':5})\n",
    "                                                  \n",
    "            if category == \"채널정보\":\n",
    "                df['인입횟수_ARSR6M'] = df['인입횟수_ARSR6M'].map({\n",
    "                    '1회 이상': 0, '10회 이상': 1})\n",
    "                df['이용메뉴건수_ARSR6M'] = df['이용메뉴건수_ARSR6M'].map({\n",
    "                    '1회 이상': 0, '10회 이상': 1, '20회 이상': 2, '30회 이상': 3})\n",
    "                df['방문횟수_PCR6M'] = df['방문횟수_PCR6M'].map({\n",
    "                    '1회 이상': 0, '10회 이상': 1, '20회 이상': 2, '30회 이상': 3, '40회 이상': 4})\n",
    "                df['방문일수_PCR6M'] = df['방문일수_PCR6M'].map({\n",
    "                    '1회 이상': 0, '10회 이상': 1, '20회 이상': 2, '30회 이상': 3})\n",
    "                df['방문횟수_앱R6M'] = df['방문횟수_앱_R6M'].map({\n",
    "                    '1회 이상': 0, '10회 이상': 1, '20회 이상': 2, '30회 이상': 3, '40회 이상': 4, '50회 이상': 5, '60회 이상': 6, '70회 이상': 7, '80회 이상': 8})\n",
    "\n",
    "            if category == \"마케팅정보\":\n",
    "                df['캠페인접촉건수R12M'] = df['캠페인접촉건수R12M'].map({\n",
    "                    '1회 이상': 0, '5회 이상': 1, '10회 이상': 2,'15회 이상': 3, '20회 이상': 4, '25회 이상': 5})\n",
    "                df['캠페인접촉일수R12M'] = df['캠페인접촉일수_R12M'].map({'1일 이상': 0, '5일 이상': 1, '10일 이상': 2, '15일 이상': 3, '20일 이상': 4})\n",
    "            \n",
    "            ### One-hot Encoding\n",
    "            # segment 값 있는 파일 주소 설정\n",
    "            segment_folder = f'{root_path}/{split}/1.회원정보'\n",
    "            segment_category = \"회원정보\"\n",
    "            \n",
    "            # 세그먼트 컬럼 추가\n",
    "            if split==\"train\":\n",
    "                if category!=\"회원정보\":\n",
    "                    segment_df = pd.read_parquet(f\"{segment_folder}/2018{month}_{split}_{segment_category}.parquet\")\n",
    "                    print(\"🔀 세그먼트 병합\")\n",
    "                    df = df.merge(segment_df[['ID', 'Segment']], on='ID', how='left')\n",
    "                df=pd.get_dummies(df, columns=['Segment'])\n",
    "\n",
    "            ### 전처리된 파일 저장\n",
    "            output_file=f\"{root_path}/{split}/{folder}/2018{month}_processed_{category}.parquet\"\n",
    "            df.to_parquet(output_file, index=False)\n",
    "            print(f\"✅ 저장 완료: {month}_{split}_{category}\")"
   ]
  },
  {
   "cell_type": "markdown",
   "id": "d1c6c1cb-3eb0-4261-90b5-5532d7cbc7a2",
   "metadata": {},
   "source": [
    "## 전처리된 월별 데이터 하나로 통합"
   ]
  },
  {
   "cell_type": "markdown",
   "id": "f1b4f255-f8fd-4971-898d-6b31069bec90",
   "metadata": {},
   "source": [
    "#### 실행시 메모리 에러 뜨는 경우에는 restart kernel 하신 후 기본폴더구조까지만 실행후 바로 아래 코드 실행해보세요"
   ]
  },
  {
   "cell_type": "code",
   "execution_count": null,
   "id": "0dff8483-53b2-4f6c-96d1-84cf4d5a2128",
   "metadata": {},
   "outputs": [],
   "source": [
    "for split in data_splits:\n",
    "    merged_list=[]\n",
    "    for category, info in data_categories.items():\n",
    "        folder = info[\"folder\"]\n",
    "        suffix = info[\"suffix\"]\n",
    "        var_prefix = info[\"var_prefix\"]\n",
    "\n",
    "        for month in months:\n",
    "            ### 파일 불러오기\n",
    "            file_path = f\"{root_path}/{split}/{folder}/2018{month}_processed_{category}.parquet\"\n",
    "            df = pd.read_parquet(file_path)\n",
    "            merged_list.append(df)\n",
    "            print(f\"✅ {file_path} 변환 완료\")\n",
    "\n",
    "        # 파일 저장\n",
    "        if merged_list:\n",
    "            merged_df = pd.concat(merged_list, ignore_index=True)\n",
    "            \n",
    "            # 결측치가 있는 컬럼 제거\n",
    "            null_cols = merged_df.columns[merged_df.isnull().any()]\n",
    "            if len(null_cols) > 0:\n",
    "                print(f\"🧹 결측치 컬럼 제거: {list(null_cols)}\")\n",
    "                merged_df = merged_df.drop(columns=null_cols)\n",
    "            \n",
    "            output_file = f\"{root_path}/{split}/{folder}/cleaned_{suffix}.parquet\"\n",
    "            merged_df.to_parquet(output_file, index=False)\n",
    "            print(f\"✅ 전체 병합 저장 완료: 저장 완료 (Shape: {merged_df.shape})\")"
   ]
  },
  {
   "cell_type": "markdown",
   "id": "e4592588-bf0a-4328-b3a1-82738e7a73b1",
   "metadata": {},
   "source": []
  }
 ],
 "metadata": {
  "kernelspec": {
   "display_name": "tensorflow_env",
   "language": "python",
   "name": "python3"
  },
  "language_info": {
   "codemirror_mode": {
    "name": "ipython",
    "version": 3
   },
   "file_extension": ".py",
   "mimetype": "text/x-python",
   "name": "python",
   "nbconvert_exporter": "python",
   "pygments_lexer": "ipython3",
   "version": "3.10.18"
  }
 },
 "nbformat": 4,
 "nbformat_minor": 5
}

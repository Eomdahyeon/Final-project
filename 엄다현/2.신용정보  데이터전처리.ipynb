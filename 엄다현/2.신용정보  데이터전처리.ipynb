{
 "cells": [
  {
   "cell_type": "code",
   "execution_count": null,
   "metadata": {
    "colab": {
     "base_uri": "https://localhost:8080/"
    },
    "executionInfo": {
     "elapsed": 28980,
     "status": "ok",
     "timestamp": 1751865883028,
     "user": {
      "displayName": "엄다현",
      "userId": "00761586947170152190"
     },
     "user_tz": -540
    },
    "id": "HDS3TPt1Vkhy",
    "outputId": "4cc98a64-c795-4bfb-b742-e3ed7ecde3fe"
   },
   "outputs": [],
   "source": [
    "from google.colab import drive\n",
    "drive.mount('/content/drive')"
   ]
  },
  {
   "cell_type": "code",
   "execution_count": null,
   "metadata": {
    "executionInfo": {
     "elapsed": 20,
     "status": "ok",
     "timestamp": 1751865885380,
     "user": {
      "displayName": "엄다현",
      "userId": "00761586947170152190"
     },
     "user_tz": -540
    },
    "id": "wW_I_fJ_OZv2"
   },
   "outputs": [],
   "source": [
    "### local\n",
    "#root_path = '../data/open'\n",
    "\n",
    "### colab\n",
    "root_path = '/content/drive/MyDrive/12조 파이널프로젝트/data'"
   ]
  },
  {
   "cell_type": "code",
   "execution_count": null,
   "metadata": {
    "executionInfo": {
     "elapsed": 5752,
     "status": "ok",
     "timestamp": 1751865892566,
     "user": {
      "displayName": "엄다현",
      "userId": "00761586947170152190"
     },
     "user_tz": -540
    },
    "id": "CAiSbFpTV21o"
   },
   "outputs": [],
   "source": [
    "import pandas as pd\n",
    "df1 = pd.read_parquet(f'{root_path}/train/2.신용정보/201807_train_신용정보.parquet')"
   ]
  },
  {
   "cell_type": "code",
   "execution_count": null,
   "metadata": {
    "executionInfo": {
     "elapsed": 3374,
     "status": "ok",
     "timestamp": 1751865896866,
     "user": {
      "displayName": "엄다현",
      "userId": "00761586947170152190"
     },
     "user_tz": -540
    },
    "id": "JcukpTI1V23f"
   },
   "outputs": [],
   "source": [
    "df2 = pd.read_parquet(f'{root_path}/train/2.신용정보/201808_train_신용정보.parquet')"
   ]
  },
  {
   "cell_type": "code",
   "execution_count": null,
   "metadata": {
    "executionInfo": {
     "elapsed": 3688,
     "status": "ok",
     "timestamp": 1751865901575,
     "user": {
      "displayName": "엄다현",
      "userId": "00761586947170152190"
     },
     "user_tz": -540
    },
    "id": "eBOf5gloV25p"
   },
   "outputs": [],
   "source": [
    "df3 = pd.read_parquet(f'{root_path}/train/2.신용정보/201809_train_신용정보.parquet')"
   ]
  },
  {
   "cell_type": "code",
   "execution_count": null,
   "metadata": {
    "executionInfo": {
     "elapsed": 4108,
     "status": "ok",
     "timestamp": 1751865906518,
     "user": {
      "displayName": "엄다현",
      "userId": "00761586947170152190"
     },
     "user_tz": -540
    },
    "id": "xLu1z7c4V2-w"
   },
   "outputs": [],
   "source": [
    "df4 = pd.read_parquet(f'{root_path}/train/2.신용정보/201810_train_신용정보.parquet')"
   ]
  },
  {
   "cell_type": "code",
   "execution_count": null,
   "metadata": {
    "executionInfo": {
     "elapsed": 3293,
     "status": "ok",
     "timestamp": 1751865910824,
     "user": {
      "displayName": "엄다현",
      "userId": "00761586947170152190"
     },
     "user_tz": -540
    },
    "id": "EMGx8VZhN-Qa"
   },
   "outputs": [],
   "source": [
    "df5 = pd.read_parquet(f'{root_path}/train/2.신용정보/201811_train_신용정보.parquet')"
   ]
  },
  {
   "cell_type": "code",
   "execution_count": null,
   "metadata": {
    "executionInfo": {
     "elapsed": 3711,
     "status": "ok",
     "timestamp": 1751865915383,
     "user": {
      "displayName": "엄다현",
      "userId": "00761586947170152190"
     },
     "user_tz": -540
    },
    "id": "ozp-1JZuN-Sw"
   },
   "outputs": [],
   "source": [
    "df6 = pd.read_parquet(f'{root_path}/train/2.신용정보/201812_train_신용정보.parquet')"
   ]
  },
  {
   "cell_type": "code",
   "execution_count": null,
   "metadata": {
    "colab": {
     "base_uri": "https://localhost:8080/",
     "height": 306
    },
    "executionInfo": {
     "elapsed": 486,
     "status": "ok",
     "timestamp": 1751865916610,
     "user": {
      "displayName": "엄다현",
      "userId": "00761586947170152190"
     },
     "user_tz": -540
    },
    "id": "MOQtajglOadM",
    "outputId": "85bcf998-e3bb-4640-9bc9-e6342d59f050"
   },
   "outputs": [],
   "source": [
    "# df1 ~ df6을 리스트에 담는다\n",
    "month_list = [df1, df2, df3, df4, df5, df6]\n",
    "\n",
    "# pd.concat으로 수직 결합 (행 기준)\n",
    "month = pd.concat(month_list, ignore_index=True)\n",
    "\n",
    "# 결과 확인\n",
    "print(month.shape)\n",
    "month.head()"
   ]
  },
  {
   "cell_type": "code",
   "execution_count": null,
   "metadata": {
    "colab": {
     "base_uri": "https://localhost:8080/"
    },
    "executionInfo": {
     "elapsed": 393,
     "status": "ok",
     "timestamp": 1751865918875,
     "user": {
      "displayName": "엄다현",
      "userId": "00761586947170152190"
     },
     "user_tz": -540
    },
    "id": "gveUX90nQI14",
    "outputId": "85a5cae8-6a19-4a4c-e947-a723f6938d5c"
   },
   "outputs": [],
   "source": [
    "month.duplicated(subset=['ID', '기준년월']).sum()"
   ]
  },
  {
   "cell_type": "code",
   "execution_count": null,
   "metadata": {
    "colab": {
     "base_uri": "https://localhost:8080/",
     "height": 423
    },
    "executionInfo": {
     "elapsed": 4859,
     "status": "ok",
     "timestamp": 1751865925642,
     "user": {
      "displayName": "엄다현",
      "userId": "00761586947170152190"
     },
     "user_tz": -540
    },
    "id": "YS-XbPdbSKMB",
    "outputId": "f478d17a-d85f-43ad-838d-0990161fee28"
   },
   "outputs": [],
   "source": [
    "# 1. customer_train_cleaned.parquet 불러오기\n",
    "customer = pd.read_parquet(f'{root_path}/cleaned_회원정보.parquet')\n",
    "\n",
    "# 2. '고객ID'와 'Segment' 컬럼만 추출\n",
    "df7 = customer[['ID', 'Segment']].copy()\n",
    "df7"
   ]
  },
  {
   "cell_type": "code",
   "execution_count": null,
   "metadata": {
    "colab": {
     "base_uri": "https://localhost:8080/",
     "height": 325
    },
    "executionInfo": {
     "elapsed": 1991,
     "status": "ok",
     "timestamp": 1751865931299,
     "user": {
      "displayName": "엄다현",
      "userId": "00761586947170152190"
     },
     "user_tz": -540
    },
    "id": "bClDWgdIVsOj",
    "outputId": "a14cbee5-594a-4909-fb5c-d7f8ab851070"
   },
   "outputs": [],
   "source": [
    "# ID 기준으로 중복 제거 (Segment가 유일하다는 가정 하에)\n",
    "df7_unique = df7.drop_duplicates(subset='ID')\n",
    "\n",
    "# 병합\n",
    "month = month.merge(df7_unique, on='ID', how='left')\n",
    "\n",
    "# 확인\n",
    "print(month.shape)\n",
    "print(month['Segment'].isnull().sum())\n",
    "month.head()"
   ]
  },
  {
   "cell_type": "code",
   "execution_count": null,
   "metadata": {
    "executionInfo": {
     "elapsed": 3701,
     "status": "ok",
     "timestamp": 1751865959906,
     "user": {
      "displayName": "엄다현",
      "userId": "00761586947170152190"
     },
     "user_tz": -540
    },
    "id": "qWIYzunJQMaV"
   },
   "outputs": [],
   "source": [
    "# month DataFrame을 12조 파이널프로젝트 폴더에 저장\n",
    "month.to_parquet(f'{root_path}/train_신용정보.parquet', index=False)"
   ]
  },
  {
   "cell_type": "code",
   "execution_count": null,
   "metadata": {
    "executionInfo": {
     "elapsed": 34813,
     "status": "ok",
     "timestamp": 1751865999225,
     "user": {
      "displayName": "엄다현",
      "userId": "00761586947170152190"
     },
     "user_tz": -540
    },
    "id": "dPxPSO-TRDr8"
   },
   "outputs": [],
   "source": [
    "import pandas as pd\n",
    "\n",
    "# 1. 데이터 불러오기\n",
    "credit_with_seg = pd.read_parquet(f'{root_path}/train_신용정보.parquet')\n",
    "\n",
    "##### 1. 결측치 처리\n",
    "# 'RV신청일자' 변수 삭제\n",
    "credit_with_seg = credit_with_seg.drop(columns=['RV신청일자'])\n",
    "\n",
    "# 'RV전환가능여부' → 'RV전환불가능여부'\n",
    "credit_with_seg['RV_전환가능여부_이진'] = (credit_with_seg['RV전환가능여부'] == 'N').astype(int)\n",
    "credit_with_seg = credit_with_seg.drop(columns='RV전환가능여부')\n",
    "\n",
    "##### 2. 자료형 변환\n",
    "# 자발한도감액횟수_R12M: '0회' → 0, '1회' → 1, ...\n",
    "credit_with_seg['자발한도감액횟수_R12M'] = (\n",
    "    credit_with_seg['자발한도감액횟수_R12M']\n",
    "    .str.replace('회', '', regex=False)\n",
    "    .astype(int)\n",
    ")\n",
    "\n",
    "# ‘한도증액횟수_R12M’ → '한도증액_R12M_여부': '0회' → 0, '1회이상' → 1\n",
    "credit_with_seg['한도증액_R12M_여부'] = credit_with_seg['한도증액횟수_R12M'].map({\n",
    "    '0회': 0,\n",
    "    '1회이상': 1\n",
    "}).astype(int)\n",
    "credit_with_seg.drop(columns=['한도증액횟수_R12M'], inplace=True)\n",
    "\n",
    "# '카드론동의여부': 'Y' → 1, 'N' → 0\n",
    "credit_with_seg['카드론동의여부'] = credit_with_seg['카드론동의여부'].map({'Y': 1, 'N': 0}).astype(int)\n",
    "\n",
    "# '한도심사요청건수' → '한도심사요청여부': '0회' → 0, '1회이상' → 1\n",
    "credit_with_seg['한도심사요청여부'] = credit_with_seg['한도심사요청건수'].map({\n",
    "    '0회': 0,\n",
    "    '1회이상': 1\n",
    "}).astype(int)\n",
    "credit_with_seg.drop(columns=['한도심사요청건수'], inplace=True)\n",
    "\n",
    "##### 3. 상관관계 분석\n",
    "# 모든 값이 동일한 변수 삭제\n",
    "credit_with_seg = credit_with_seg.drop(columns=['시장연체상환여부_R3M'])\n",
    "\n",
    "##### 4. 변수 별 확인 및 파생 변수 생성\n",
    "credit_with_seg['RV실사용여부'] = (credit_with_seg['RV약정청구율'] > 0).astype(int)\n",
    "credit_with_seg['강제한도감액횟수_2회이상여부'] = (credit_with_seg['강제한도감액횟수_R12M'] > 1).astype(int)\n",
    "credit_with_seg['강제한도감액금액_R12M_3이상여부'] = (credit_with_seg['강제한도감액금액_R12M'] > 2).astype(int)\n",
    "credit_with_seg['상향가능CA한도금액_1여부'] = (credit_with_seg['상향가능CA한도금액'] == 1).astype(int)\n",
    "\n",
    "# 카드이용한도금액_A수준복합 파생변수 생성\n",
    "a_limit = credit_with_seg[credit_with_seg['Segment'] == 'A']['카드이용한도금액_B1M']\n",
    "q1, q3 = a_limit.quantile(0.25), a_limit.quantile(0.75)\n",
    "iqr = q3 - q1\n",
    "lower, upper = q1 - 1.5 * iqr, q3 + 1.5 * iqr\n",
    "a_B1M = a_limit[(a_limit >= lower) & (a_limit <= upper)].min()\n",
    "\n",
    "a_limit = credit_with_seg[credit_with_seg['Segment'] == 'A']['카드이용한도금액_B2M']\n",
    "q1, q3 = a_limit.quantile(0.25), a_limit.quantile(0.75)\n",
    "iqr = q3 - q1\n",
    "lower, upper = q1 - 1.5 * iqr, q3 + 1.5 * iqr\n",
    "a_B2M = a_limit[(a_limit >= lower) & (a_limit <= upper)].min()\n",
    "\n",
    "def classify_dual_limit(row):\n",
    "    b1 = row['카드이용한도금액_B1M'] >= a_B1M\n",
    "    b2 = row['카드이용한도금액_B2M'] >= a_B2M\n",
    "    return 2 if b1 and b2 else 1 if b1 or b2 else 0\n",
    "\n",
    "credit_with_seg['카드이용한도금액_A수준복합'] = credit_with_seg.apply(classify_dual_limit, axis=1)\n",
    "\n",
    "##### 5. 메모리 최적화\n",
    "for col in credit_with_seg.select_dtypes(include='int64').columns:\n",
    "    if credit_with_seg[col].max() < 2_147_483_647:\n",
    "        credit_with_seg[col] = credit_with_seg[col].astype('int32')\n",
    "\n",
    "for col in credit_with_seg.select_dtypes(include='float64').columns:\n",
    "    credit_with_seg[col] = credit_with_seg[col].astype('float32')\n",
    "\n",
    "\n",
    "# 최종 저장\n",
    "credit_with_seg.to_parquet(f'{root_path}/cleaned_신용정보.parquet', index=False)\n"
   ]
  }
 ],
 "metadata": {
  "accelerator": "GPU",
  "colab": {
   "authorship_tag": "ABX9TyNBUpqaJFEY8+7lK/jxjkp2",
   "gpuType": "T4",
   "machine_shape": "hm",
   "provenance": []
  },
  "kernelspec": {
   "display_name": "Python 3",
   "name": "python3"
  },
  "language_info": {
   "name": "python"
  }
 },
 "nbformat": 4,
 "nbformat_minor": 0
}

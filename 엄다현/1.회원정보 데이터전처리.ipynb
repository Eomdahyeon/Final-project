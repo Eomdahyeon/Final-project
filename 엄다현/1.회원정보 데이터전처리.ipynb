{
 "cells": [
  {
   "cell_type": "code",
   "execution_count": null,
   "metadata": {
    "colab": {
     "base_uri": "https://localhost:8080/"
    },
    "executionInfo": {
     "elapsed": 1216,
     "status": "ok",
     "timestamp": 1751851569109,
     "user": {
      "displayName": "엄다현",
      "userId": "00761586947170152190"
     },
     "user_tz": -540
    },
    "id": "7oVD69v2-gGf",
    "outputId": "e09a56f8-f181-447c-ae7f-2af8f8c50afb"
   },
   "outputs": [],
   "source": [
    "from google.colab import drive\n",
    "drive.mount('/content/drive')"
   ]
  },
  {
   "cell_type": "code",
   "execution_count": null,
   "metadata": {
    "executionInfo": {
     "elapsed": 10,
     "status": "ok",
     "timestamp": 1751851570035,
     "user": {
      "displayName": "엄다현",
      "userId": "00761586947170152190"
     },
     "user_tz": -540
    },
    "id": "_etknsKeYkNp"
   },
   "outputs": [],
   "source": [
    "### local\n",
    "#root_path = '../data/open'\n",
    "\n",
    "### colab\n",
    "root_path = '/content/drive/MyDrive/12조 파이널프로젝트/data'"
   ]
  },
  {
   "cell_type": "code",
   "execution_count": null,
   "metadata": {
    "executionInfo": {
     "elapsed": 2067,
     "status": "ok",
     "timestamp": 1751851573284,
     "user": {
      "displayName": "엄다현",
      "userId": "00761586947170152190"
     },
     "user_tz": -540
    },
    "id": "HHUEojxb-jzF"
   },
   "outputs": [],
   "source": [
    "import pandas as pd\n",
    "df1 = pd.read_parquet(f'{root_path}/train/1.회원정보/201807_train_회원정보.parquet')"
   ]
  },
  {
   "cell_type": "code",
   "execution_count": null,
   "metadata": {
    "executionInfo": {
     "elapsed": 1221,
     "status": "ok",
     "timestamp": 1751851574530,
     "user": {
      "displayName": "엄다현",
      "userId": "00761586947170152190"
     },
     "user_tz": -540
    },
    "id": "yWPWxDPjWLc2"
   },
   "outputs": [],
   "source": [
    "df2 = pd.read_parquet(f'{root_path}/train/1.회원정보/201808_train_회원정보.parquet')"
   ]
  },
  {
   "cell_type": "code",
   "execution_count": null,
   "metadata": {
    "executionInfo": {
     "elapsed": 1253,
     "status": "ok",
     "timestamp": 1751851576471,
     "user": {
      "displayName": "엄다현",
      "userId": "00761586947170152190"
     },
     "user_tz": -540
    },
    "id": "-FBjoeCKWLet"
   },
   "outputs": [],
   "source": [
    "df3 = pd.read_parquet(f'{root_path}/train/1.회원정보/201809_train_회원정보.parquet')"
   ]
  },
  {
   "cell_type": "code",
   "execution_count": null,
   "metadata": {
    "executionInfo": {
     "elapsed": 1160,
     "status": "ok",
     "timestamp": 1751851578351,
     "user": {
      "displayName": "엄다현",
      "userId": "00761586947170152190"
     },
     "user_tz": -540
    },
    "id": "dtddGWZnWLhR"
   },
   "outputs": [],
   "source": [
    "df4 = pd.read_parquet(f'{root_path}/train/1.회원정보/201810_train_회원정보.parquet')"
   ]
  },
  {
   "cell_type": "code",
   "execution_count": null,
   "metadata": {
    "executionInfo": {
     "elapsed": 691,
     "status": "ok",
     "timestamp": 1751851579712,
     "user": {
      "displayName": "엄다현",
      "userId": "00761586947170152190"
     },
     "user_tz": -540
    },
    "id": "EJ2bR7kpWLkV"
   },
   "outputs": [],
   "source": [
    "df5 = pd.read_parquet(f'{root_path}/train/1.회원정보/201811_train_회원정보.parquet')"
   ]
  },
  {
   "cell_type": "code",
   "execution_count": null,
   "metadata": {
    "executionInfo": {
     "elapsed": 646,
     "status": "ok",
     "timestamp": 1751851581256,
     "user": {
      "displayName": "엄다현",
      "userId": "00761586947170152190"
     },
     "user_tz": -540
    },
    "id": "bFw95pMVWQ4Z"
   },
   "outputs": [],
   "source": [
    "df6 = pd.read_parquet(f'{root_path}/train/1.회원정보/201812_train_회원정보.parquet')"
   ]
  },
  {
   "cell_type": "code",
   "execution_count": null,
   "metadata": {
    "colab": {
     "base_uri": "https://localhost:8080/",
     "height": 462
    },
    "executionInfo": {
     "elapsed": 1053,
     "status": "ok",
     "timestamp": 1751851583832,
     "user": {
      "displayName": "엄다현",
      "userId": "00761586947170152190"
     },
     "user_tz": -540
    },
    "id": "RQNfAzfoWTnM",
    "outputId": "b48e163d-4402-4cd9-a6ed-5f2aff336ea9"
   },
   "outputs": [],
   "source": [
    "# df1 ~ df6을 리스트에 담는다\n",
    "month_list = [df1, df2, df3, df4, df5, df6]\n",
    "\n",
    "# pd.concat으로 수직 결합 (행 기준)\n",
    "month = pd.concat(month_list, ignore_index=True)\n",
    "\n",
    "# 결과 확인\n",
    "print(month.shape)\n",
    "month.head()"
   ]
  },
  {
   "cell_type": "code",
   "execution_count": null,
   "metadata": {
    "colab": {
     "base_uri": "https://localhost:8080/"
    },
    "executionInfo": {
     "elapsed": 769,
     "status": "ok",
     "timestamp": 1751851586583,
     "user": {
      "displayName": "엄다현",
      "userId": "00761586947170152190"
     },
     "user_tz": -540
    },
    "id": "vUj7q1HXWaVS",
    "outputId": "424ace71-3231-474d-b884-79ae3a8f0ce8"
   },
   "outputs": [],
   "source": [
    "month.duplicated(subset=['ID', '기준년월']).sum()"
   ]
  },
  {
   "cell_type": "code",
   "execution_count": null,
   "metadata": {
    "executionInfo": {
     "elapsed": 8327,
     "status": "ok",
     "timestamp": 1751851596526,
     "user": {
      "displayName": "엄다현",
      "userId": "00761586947170152190"
     },
     "user_tz": -540
    },
    "id": "SvULfEtzWcqB"
   },
   "outputs": [],
   "source": [
    "# month DataFrame을 12조 파이널프로젝트 폴더에 저장\n",
    "month.to_parquet(f'{root_path}/train_회원정보.parquet', index=False)"
   ]
  },
  {
   "cell_type": "code",
   "execution_count": null,
   "metadata": {
    "executionInfo": {
     "elapsed": 4109,
     "status": "ok",
     "timestamp": 1751851601591,
     "user": {
      "displayName": "엄다현",
      "userId": "00761586947170152190"
     },
     "user_tz": -540
    },
    "id": "dYLqBI04Y4Vs"
   },
   "outputs": [],
   "source": [
    "# 파일 불러와서 customer로 이름 지정\n",
    "customer = pd.read_parquet(f'{root_path}/train_회원정보.parquet')"
   ]
  },
  {
   "cell_type": "code",
   "execution_count": null,
   "metadata": {
    "colab": {
     "base_uri": "https://localhost:8080/",
     "height": 362
    },
    "executionInfo": {
     "elapsed": 320,
     "status": "ok",
     "timestamp": 1751851602948,
     "user": {
      "displayName": "엄다현",
      "userId": "00761586947170152190"
     },
     "user_tz": -540
    },
    "id": "CXFWUEQgjreO",
    "outputId": "d82ba7a7-e486-422d-f78b-31a488990185"
   },
   "outputs": [],
   "source": [
    "customer.iloc[:, :20].head()"
   ]
  },
  {
   "cell_type": "code",
   "execution_count": null,
   "metadata": {
    "colab": {
     "base_uri": "https://localhost:8080/",
     "height": 258
    },
    "executionInfo": {
     "elapsed": 254,
     "status": "ok",
     "timestamp": 1751851606136,
     "user": {
      "displayName": "엄다현",
      "userId": "00761586947170152190"
     },
     "user_tz": -540
    },
    "id": "T72YG0wsjrgs",
    "outputId": "ea909c66-39cf-49e0-d451-6b5078423e4a"
   },
   "outputs": [],
   "source": [
    "customer.iloc[:, 20:40].head()"
   ]
  },
  {
   "cell_type": "code",
   "execution_count": null,
   "metadata": {
    "colab": {
     "base_uri": "https://localhost:8080/",
     "height": 310
    },
    "executionInfo": {
     "elapsed": 621,
     "status": "ok",
     "timestamp": 1751851608539,
     "user": {
      "displayName": "엄다현",
      "userId": "00761586947170152190"
     },
     "user_tz": -540
    },
    "id": "kzJsxyxqjrjK",
    "outputId": "9ec80982-944e-46ae-f9fd-225257c9ffad"
   },
   "outputs": [],
   "source": [
    "customer.iloc[:, 40:60].head()"
   ]
  },
  {
   "cell_type": "code",
   "execution_count": null,
   "metadata": {
    "colab": {
     "base_uri": "https://localhost:8080/",
     "height": 275
    },
    "executionInfo": {
     "elapsed": 379,
     "status": "ok",
     "timestamp": 1751851610264,
     "user": {
      "displayName": "엄다현",
      "userId": "00761586947170152190"
     },
     "user_tz": -540
    },
    "id": "fBiOJVxnixuZ",
    "outputId": "b1caa86a-2230-4fd0-8a10-a097c75a8d18"
   },
   "outputs": [],
   "source": [
    "customer.iloc[:, 60:77].head()"
   ]
  },
  {
   "cell_type": "code",
   "execution_count": null,
   "metadata": {
    "colab": {
     "base_uri": "https://localhost:8080/"
    },
    "executionInfo": {
     "elapsed": 3516,
     "status": "ok",
     "timestamp": 1751851615735,
     "user": {
      "displayName": "엄다현",
      "userId": "00761586947170152190"
     },
     "user_tz": -540
    },
    "id": "mzC96C42-j1R",
    "outputId": "4fb26d42-5b98-4c11-eafa-abeee371323d"
   },
   "outputs": [],
   "source": [
    "# 각 열별 결측치 개수 계산\n",
    "missing_counts = customer.isnull().sum()\n",
    "\n",
    "# 결측치가 1개라도 있는 열만 필터링\n",
    "missing_counts = missing_counts[missing_counts > 0]\n",
    "\n",
    "# 내림차순 정렬해서 보기 좋게 출력\n",
    "missing_counts = missing_counts.sort_values(ascending=False)\n",
    "\n",
    "# 결과 출력\n",
    "print(\"📌 결측치가 있는 열과 그 개수:\")\n",
    "print(missing_counts)\n"
   ]
  },
  {
   "cell_type": "code",
   "execution_count": null,
   "metadata": {
    "colab": {
     "base_uri": "https://localhost:8080/"
    },
    "executionInfo": {
     "elapsed": 1811,
     "status": "ok",
     "timestamp": 1751851619399,
     "user": {
      "displayName": "엄다현",
      "userId": "00761586947170152190"
     },
     "user_tz": -540
    },
    "id": "GmuAf9jM-j3h",
    "outputId": "60286652-dcae-485d-9238-0bcf62923961"
   },
   "outputs": [],
   "source": [
    "missing_ratio = (customer.isnull().mean() * 100).sort_values(ascending=False)\n",
    "missing_ratio = missing_ratio[missing_ratio > 0]\n",
    "\n",
    "print(\"📊 결측치 비율 (%):\")\n",
    "print(missing_ratio.round(2))\n"
   ]
  },
  {
   "cell_type": "code",
   "execution_count": null,
   "metadata": {
    "executionInfo": {
     "elapsed": 14052,
     "status": "ok",
     "timestamp": 1751851635122,
     "user": {
      "displayName": "엄다현",
      "userId": "00761586947170152190"
     },
     "user_tz": -540
    },
    "id": "4ZHkQjJq-j6C"
   },
   "outputs": [],
   "source": [
    "##### 1. 결측치 처리\n",
    "\n",
    "# '_1순위신용체크구분', '_2순위신용체크구분' → 결측치 '기타'로 채우기 및 인코딩\n",
    "customer['_1순위신용체크구분'] = customer['_1순위신용체크구분'].fillna('기타')\n",
    "customer['_2순위신용체크구분'] = customer['_2순위신용체크구분'].fillna('기타')\n",
    "mapping = {'신용': 1, '체크': 0, '기타': -1}\n",
    "customer['1순위신용체크구분_인코딩'] = customer['_1순위신용체크구분'].map(mapping)\n",
    "customer['2순위신용체크구분_인코딩'] = customer['_2순위신용체크구분'].map(mapping)\n",
    "customer.drop(columns=['_1순위신용체크구분','_2순위신용체크구분'], inplace=True)\n",
    "\n",
    "# 가입통신회사코드 → 가입통신회사_S사여부\n",
    "customer['가입통신회사_S사여부'] = (customer['가입통신회사코드'] == 'S사').astype(int)\n",
    "customer.drop(columns=['가입통신회사코드'], inplace=True)\n",
    "\n",
    "# 직장시도명 → 직장_수도권여부\n",
    "customer['직장_수도권여부'] = customer['직장시도명'].isin(['서울', '경기']).astype(int)\n",
    "customer.drop(columns=['직장시도명'], inplace=True)\n",
    "\n",
    "# 결측치 많은 변수 삭제\n",
    "customer.drop(columns=['최종카드발급일자','최종유효년월_신용_이용가능','최종유효년월_신용_이용'], inplace=True)\n",
    "\n",
    "##### 2. 자료형 변환 및 파생변수 생성\n",
    "\n",
    "# 거주시도명 → 거주지_수도권여부\n",
    "customer['거주지_수도권여부'] = customer['거주시도명'].isin(['서울', '경기']).astype(int)\n",
    "customer.drop(columns=['거주시도명'], inplace=True)\n",
    "\n",
    "# 연회비발생카드수_B0M → 이진변수화\n",
    "customer['연회비발생카드수_B0M_이진'] = customer['연회비발생카드수_B0M'].isin(['1개이상']).astype(int)\n",
    "customer.drop(columns=['연회비발생카드수_B0M'], inplace=True)\n",
    "\n",
    "# 데이터가 모두 동일한 변수 제거\n",
    "columns_drop = ['상품관련면제카드수_B0M','임직원면제카드수_B0M','우수회원면제카드수_B0M','기타면제카드수_B0M']\n",
    "customer.drop(columns=columns_drop, inplace=True)\n",
    "\n",
    "# Life_Stage → 파생변수 생성 후 삭제\n",
    "customer['Life_Stage_자녀성장_여부'] = customer['Life_Stage'].isin(['자녀성장(1)', '자녀성장(2)']).astype(int)\n",
    "customer.drop(columns=['Life_Stage'], inplace=True)\n",
    "\n",
    "# 연령: 숫자만 추출 → int형 변환\n",
    "customer['연령'] = customer['연령'].str.extract(r'(\\d+)').astype(float).astype('Int64')\n",
    "\n",
    "##### 3. 상관관계 고려 변수 제거\n",
    "columns_drop = ['이용금액_R3M_체크_가족','연회비할인카드수_B0M','할인금액_기본연회비_B0M','할인금액_제휴연회비_B0M']\n",
    "customer.drop(columns=columns_drop, inplace=True)\n",
    "\n",
    "##### 4. 유사/중복 의미 변수 제거\n",
    "columns_drop = ['입회일자_신용','이용카드수_체크_가족','청구금액_기본연회비_B0M','청구금액_제휴연회비_B0M']\n",
    "customer.drop(columns=columns_drop, inplace=True)\n"
   ]
  },
  {
   "cell_type": "code",
   "execution_count": null,
   "metadata": {
    "executionInfo": {
     "elapsed": 5637,
     "status": "ok",
     "timestamp": 1751855124034,
     "user": {
      "displayName": "엄다현",
      "userId": "00761586947170152190"
     },
     "user_tz": -540
    },
    "id": "A9OhRPthpeFo"
   },
   "outputs": [],
   "source": [
    "# int64 → int32 (메모리 절약용)\n",
    "for col in customer.select_dtypes(include='int64').columns:\n",
    "    if customer[col].max() < 2_147_483_647:\n",
    "        customer[col] = customer[col].astype('int32')\n",
    "\n",
    "# float64 → float32 (메모리 절약용)\n",
    "for col in customer.select_dtypes(include='float64').columns:\n",
    "    customer[col] = customer[col].astype('float32')\n",
    "\n",
    "# Parquet 파일로 저장\n",
    "customer.to_parquet(f'{root_path}/cleaned_회원정보.parquet')\n"
   ]
  },
  {
   "cell_type": "code",
   "execution_count": null,
   "metadata": {
    "colab": {
     "base_uri": "https://localhost:8080/",
     "height": 527
    },
    "executionInfo": {
     "elapsed": 3281,
     "status": "ok",
     "timestamp": 1751855231582,
     "user": {
      "displayName": "엄다현",
      "userId": "00761586947170152190"
     },
     "user_tz": -540
    },
    "id": "W3x2EccUur4m",
    "outputId": "8c6758a2-f7a5-41b5-e5a1-6e04809d90cf"
   },
   "outputs": [],
   "source": [
    "import pandas as pd\n",
    "tt = pd.read_parquet(f'{root_path}/cleaned_회원정보.parquet')\n",
    "tt"
   ]
  }
 ],
 "metadata": {
  "colab": {
   "authorship_tag": "ABX9TyPYgHvdnxA5AJuc1w8Kim6b",
   "provenance": []
  },
  "kernelspec": {
   "display_name": "Python 3",
   "name": "python3"
  },
  "language_info": {
   "name": "python"
  }
 },
 "nbformat": 4,
 "nbformat_minor": 0
}

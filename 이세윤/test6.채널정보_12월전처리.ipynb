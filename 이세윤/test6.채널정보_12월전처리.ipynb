{
 "cells": [
  {
   "cell_type": "code",
   "execution_count": null,
   "metadata": {
    "colab": {
     "base_uri": "https://localhost:8080/"
    },
    "executionInfo": {
     "elapsed": 16189,
     "status": "ok",
     "timestamp": 1751865013656,
     "user": {
      "displayName": "이세윤",
      "userId": "03312344887874307561"
     },
     "user_tz": -540
    },
    "id": "bfQBIEZ_R64G",
    "outputId": "5bd98aea-9083-48be-f3ba-7327c9482c16"
   },
   "outputs": [],
   "source": [
    "from google.colab import drive\n",
    "drive.mount('/content/drive')"
   ]
  },
  {
   "cell_type": "code",
   "execution_count": null,
   "metadata": {
    "executionInfo": {
     "elapsed": 1175,
     "status": "ok",
     "timestamp": 1751865051636,
     "user": {
      "displayName": "이세윤",
      "userId": "03312344887874307561"
     },
     "user_tz": -540
    },
    "id": "9xM-JW2RSnVl"
   },
   "outputs": [],
   "source": [
    "# 기본\n",
    "import pandas as pd\n",
    "import numpy as np\n",
    "import matplotlib.pyplot as plt\n",
    "import seaborn as sns\n",
    "import glob\n",
    "import gc\n",
    "\n",
    "# 경고 뜨지 않게 설정\n",
    "import warnings\n",
    "warnings.filterwarnings('ignore')\n",
    "\n",
    "# 그래프 설정\n",
    "sns.set()\n",
    "\n",
    "# 그래프 기본 설정\n",
    "plt.rcParams['font.family'] = 'NanumGothic'\n",
    "plt.rcParams['figure.figsize'] = 12, 6\n",
    "plt.rcParams['font.size'] = 14\n",
    "plt.rcParams['axes.unicode_minus'] = False\n",
    "\n",
    "# 결측치 시각화를 위한 라이브러리\n",
    "import missingno\n",
    "\n",
    "# 복잡한 통계 처리를 위한 라이브러리\n",
    "from scipy import stats"
   ]
  },
  {
   "cell_type": "code",
   "execution_count": null,
   "metadata": {
    "executionInfo": {
     "elapsed": 8,
     "status": "ok",
     "timestamp": 1751865106108,
     "user": {
      "displayName": "이세윤",
      "userId": "03312344887874307561"
     },
     "user_tz": -540
    },
    "id": "71E1OguqS0R3"
   },
   "outputs": [],
   "source": [
    "data_type = \"test\"\n",
    "# month = \"07\"\n",
    "# category = \"채널정보\"\n",
    "\n",
    "# local\n",
    "# root_path = '../data/open'\n",
    "\n",
    "# colab\n",
    "root_path = '/content/drive/MyDrive/12조 파이널프로젝트/data'\n",
    "\n",
    "drive_folder = f'{root_path}/{data_type}/6.채널정보'\n"
   ]
  },
  {
   "cell_type": "code",
   "execution_count": null,
   "metadata": {
    "executionInfo": {
     "elapsed": 1409,
     "status": "ok",
     "timestamp": 1751865423613,
     "user": {
      "displayName": "이세윤",
      "userId": "03312344887874307561"
     },
     "user_tz": -540
    },
    "id": "gL6Z0Az7TB2_"
   },
   "outputs": [],
   "source": [
    "file_path = f'{drive_folder}/201812_test_채널정보.parquet'\n",
    "\n",
    "df_channel = pd.read_parquet(file_path)"
   ]
  },
  {
   "cell_type": "code",
   "execution_count": null,
   "metadata": {
    "colab": {
     "base_uri": "https://localhost:8080/",
     "height": 530
    },
    "executionInfo": {
     "elapsed": 130,
     "status": "ok",
     "timestamp": 1751865431584,
     "user": {
      "displayName": "이세윤",
      "userId": "03312344887874307561"
     },
     "user_tz": -540
    },
    "id": "MYLfglM5T3cU",
    "outputId": "42482d7b-7d73-49e6-9b31-53f7897c57f1"
   },
   "outputs": [],
   "source": [
    "df_channel"
   ]
  },
  {
   "cell_type": "code",
   "execution_count": null,
   "metadata": {
    "colab": {
     "base_uri": "https://localhost:8080/",
     "height": 458
    },
    "executionInfo": {
     "elapsed": 20,
     "status": "ok",
     "timestamp": 1751865479630,
     "user": {
      "displayName": "이세윤",
      "userId": "03312344887874307561"
     },
     "user_tz": -540
    },
    "id": "3LsFnjRSURSr",
    "outputId": "2af5ac32-c7d5-4384-cdbb-b59a9c3279ba"
   },
   "outputs": [],
   "source": [
    "df_channel.dtypes"
   ]
  },
  {
   "cell_type": "code",
   "execution_count": null,
   "metadata": {
    "colab": {
     "base_uri": "https://localhost:8080/"
    },
    "executionInfo": {
     "elapsed": 36,
     "status": "ok",
     "timestamp": 1751865512700,
     "user": {
      "displayName": "이세윤",
      "userId": "03312344887874307561"
     },
     "user_tz": -540
    },
    "id": "lIdCYpH5UdDJ",
    "outputId": "a5375845-39fe-435e-f63d-8bcd6c07d130"
   },
   "outputs": [],
   "source": [
    "print(df_channel.isnull().sum())"
   ]
  },
  {
   "cell_type": "code",
   "execution_count": null,
   "metadata": {
    "executionInfo": {
     "elapsed": 19,
     "status": "ok",
     "timestamp": 1751865538497,
     "user": {
      "displayName": "이세윤",
      "userId": "03312344887874307561"
     },
     "user_tz": -540
    },
    "id": "e5t7TKXpUjJS"
   },
   "outputs": [],
   "source": [
    "# 그냥 삭제하겠음..\n",
    "df_channel = df_channel.drop(columns=['OS구분코드'])"
   ]
  },
  {
   "cell_type": "code",
   "execution_count": null,
   "metadata": {
    "colab": {
     "base_uri": "https://localhost:8080/"
    },
    "executionInfo": {
     "elapsed": 98,
     "status": "ok",
     "timestamp": 1751865679455,
     "user": {
      "displayName": "이세윤",
      "userId": "03312344887874307561"
     },
     "user_tz": -540
    },
    "id": "K0J3k4aiUra9",
    "outputId": "e83666bc-ab36-43c9-b627-0192962ca96c"
   },
   "outputs": [],
   "source": [
    "constant_cols = [col for col in df_channel.columns if df_channel[col].nunique() == 1]\n",
    "print(\"모든 값이 같은 컬럼:\", constant_cols)"
   ]
  },
  {
   "cell_type": "code",
   "execution_count": null,
   "metadata": {
    "executionInfo": {
     "elapsed": 45,
     "status": "ok",
     "timestamp": 1751865794353,
     "user": {
      "displayName": "이세윤",
      "userId": "03312344887874307561"
     },
     "user_tz": -540
    },
    "id": "6vUit4DCVN0b"
   },
   "outputs": [],
   "source": [
    "df_channel = df_channel.drop(columns=['인입횟수_금융_IB_R6M', '인입불만횟수_IB_R6M', '인입불만일수_IB_R6M', '인입불만월수_IB_R6M', '인입불만후경과월_IB_R6M', '인입불만횟수_IB_B0M', '인입불만일수_IB_B0M', 'IB문의건수_사용승인내역_B0M', 'IB문의건수_한도_B0M', 'IB문의건수_결제_B0M', 'IB문의건수_할부_B0M', 'IB문의건수_정보변경_B0M', 'IB문의건수_결제일변경_B0M', 'IB문의건수_명세서_B0M', 'IB문의건수_비밀번호_B0M', 'IB문의건수_SMS_B0M', 'IB문의건수_APP_B0M', 'IB문의건수_부대서비스_B0M', 'IB문의건수_포인트_B0M', 'IB문의건수_카드발급_B0M', 'IB문의건수_BL_B0M', 'IB문의건수_분실도난_B0M', 'IB문의건수_CA_B0M', 'IB문의건수_CS_B0M', 'IB상담건수_VOC_B0M', 'IB상담건수_VOC민원_B0M', 'IB상담건수_VOC불만_B0M', 'IB상담건수_금감원_B0M', 'IB문의건수_한도_R6M', 'IB문의건수_결제_R6M', 'IB문의건수_할부_R6M', 'IB문의건수_정보변경_R6M', 'IB문의건수_결제일변경_R6M', 'IB문의건수_명세서_R6M', 'IB문의건수_비밀번호_R6M', 'IB문의건수_SMS_R6M', 'IB문의건수_APP_R6M', 'IB문의건수_부대서비스_R6M', 'IB문의건수_포인트_R6M', 'IB문의건수_BL_R6M', 'IB문의건수_분실도난_R6M', 'IB문의건수_CA_R6M', 'IB상담건수_VOC_R6M', 'IB상담건수_VOC민원_R6M', 'IB상담건수_VOC불만_R6M', 'IB상담건수_금감원_R6M', '불만제기건수_B0M', '불만제기건수_R12M', '당사PAY_방문횟수_B0M', '당사PAY_방문횟수_R6M', '당사PAY_방문월수_R6M'])"
   ]
  },
  {
   "cell_type": "code",
   "execution_count": null,
   "metadata": {
    "colab": {
     "base_uri": "https://localhost:8080/",
     "height": 530
    },
    "executionInfo": {
     "elapsed": 89,
     "status": "ok",
     "timestamp": 1751865797472,
     "user": {
      "displayName": "이세윤",
      "userId": "03312344887874307561"
     },
     "user_tz": -540
    },
    "id": "e_0LWNinVp4B",
    "outputId": "c60ea348-6a15-42fd-c080-2a29142d3a96"
   },
   "outputs": [],
   "source": [
    "df_channel"
   ]
  },
  {
   "cell_type": "code",
   "execution_count": null,
   "metadata": {
    "colab": {
     "base_uri": "https://localhost:8080/"
    },
    "executionInfo": {
     "elapsed": 8,
     "status": "ok",
     "timestamp": 1751866165666,
     "user": {
      "displayName": "이세윤",
      "userId": "03312344887874307561"
     },
     "user_tz": -540
    },
    "id": "qZnAHubrVqoe",
    "outputId": "3337a634-ddd3-4ecd-d6af-ab7cd687f0d4"
   },
   "outputs": [],
   "source": [
    "# 문자열 타입 컬럼만 추출\n",
    "string_cols = df_channel.select_dtypes(include='object').columns.tolist()\n",
    "print(\"문자열 컬럼:\", string_cols)"
   ]
  },
  {
   "cell_type": "code",
   "execution_count": null,
   "metadata": {
    "colab": {
     "base_uri": "https://localhost:8080/"
    },
    "executionInfo": {
     "elapsed": 32,
     "status": "ok",
     "timestamp": 1751866196833,
     "user": {
      "displayName": "이세윤",
      "userId": "03312344887874307561"
     },
     "user_tz": -540
    },
    "id": "AR0HiRI1XEiL",
    "outputId": "43b27a4e-85ee-4c63-cfcd-0b5689246b8a"
   },
   "outputs": [],
   "source": [
    "for col in string_cols:\n",
    "    print(f\"\\n [{col}] 값별 개수:\")\n",
    "    print(df_channel[col].value_counts())"
   ]
  },
  {
   "cell_type": "code",
   "execution_count": null,
   "metadata": {
    "executionInfo": {
     "elapsed": 46,
     "status": "ok",
     "timestamp": 1751866291956,
     "user": {
      "displayName": "이세윤",
      "userId": "03312344887874307561"
     },
     "user_tz": -540
    },
    "id": "w9XFl0a-XL1k"
   },
   "outputs": [],
   "source": [
    "# 문자열 인코딩\n",
    "df_channel['인입횟수_ARS_R6M'] = df_channel['인입횟수_ARS_R6M'].map({'1회 이상': 0, '10회 이상': 1})\n",
    "df_channel['이용메뉴건수_ARS_R6M'] = df_channel['이용메뉴건수_ARS_R6M'].map({'1회 이상': 0, '10회 이상': 1, '20회 이상': 2, '30회 이상': 3})\n",
    "df_channel['방문횟수_PC_R6M'] = df_channel['방문횟수_PC_R6M'].map({'1회 이상': 0, '10회 이상': 1, '20회 이상': 2, '30회 이상': 3, '40회 이상': 4})\n",
    "df_channel['방문일수_PC_R6M'] = df_channel['방문일수_PC_R6M'].map({'1회 이상': 0, '10회 이상': 1, '20회 이상': 2, '30회 이상': 3})\n",
    "df_channel['방문횟수_앱_R6M'] = df_channel['방문횟수_앱_R6M'].map({'1회 이상': 0, '10회 이상': 1, '20회 이상': 2, '30회 이상': 3, '40회 이상': 4,\n",
    "                                                                     '50회 이상': 5, '60회 이상': 6, '70회 이상': 7, '80회 이상': 8})"
   ]
  },
  {
   "cell_type": "code",
   "execution_count": null,
   "metadata": {
    "colab": {
     "base_uri": "https://localhost:8080/",
     "height": 530
    },
    "executionInfo": {
     "elapsed": 74,
     "status": "ok",
     "timestamp": 1751866301482,
     "user": {
      "displayName": "이세윤",
      "userId": "03312344887874307561"
     },
     "user_tz": -540
    },
    "id": "QEdVj_9vXjXI",
    "outputId": "38385409-693c-4638-bcca-a5b05740d4fa"
   },
   "outputs": [],
   "source": [
    "df_channel"
   ]
  },
  {
   "cell_type": "code",
   "execution_count": null,
   "metadata": {
    "executionInfo": {
     "elapsed": 128,
     "status": "ok",
     "timestamp": 1751867176686,
     "user": {
      "displayName": "이세윤",
      "userId": "03312344887874307561"
     },
     "user_tz": -540
    },
    "id": "IthiLVnPXlrz"
   },
   "outputs": [],
   "source": [
    "output_path = f'{drive_folder}/cleaned_채널정보.parquet'\n",
    "\n",
    "df_channel.to_parquet(output_path, index=False)"
   ]
  },
  {
   "cell_type": "code",
   "execution_count": null,
   "metadata": {
    "id": "Csl0twBPX91c"
   },
   "outputs": [],
   "source": []
  }
 ],
 "metadata": {
  "colab": {
   "authorship_tag": "ABX9TyPc9whN2C37XLc3/5bRFErv",
   "provenance": []
  },
  "kernelspec": {
   "display_name": "Python 3",
   "name": "python3"
  },
  "language_info": {
   "name": "python"
  }
 },
 "nbformat": 4,
 "nbformat_minor": 0
}

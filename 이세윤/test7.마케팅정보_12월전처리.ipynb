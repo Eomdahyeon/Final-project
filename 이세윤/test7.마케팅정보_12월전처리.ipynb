{
 "cells": [
  {
   "cell_type": "code",
   "execution_count": null,
   "metadata": {
    "colab": {
     "base_uri": "https://localhost:8080/"
    },
    "executionInfo": {
     "elapsed": 20471,
     "status": "ok",
     "timestamp": 1751866506624,
     "user": {
      "displayName": "이세윤",
      "userId": "03312344887874307561"
     },
     "user_tz": -540
    },
    "id": "fesUFVK7YGAR",
    "outputId": "0ec5f692-7fc2-4459-ea01-2051135f7cda"
   },
   "outputs": [],
   "source": [
    "from google.colab import drive\n",
    "drive.mount('/content/drive')"
   ]
  },
  {
   "cell_type": "code",
   "execution_count": null,
   "metadata": {
    "executionInfo": {
     "elapsed": 6247,
     "status": "ok",
     "timestamp": 1751866524606,
     "user": {
      "displayName": "이세윤",
      "userId": "03312344887874307561"
     },
     "user_tz": -540
    },
    "id": "cTW2vmBWYSw6"
   },
   "outputs": [],
   "source": [
    "# 기본\n",
    "import pandas as pd\n",
    "import numpy as np\n",
    "import matplotlib.pyplot as plt\n",
    "import seaborn as sns\n",
    "import glob\n",
    "import gc\n",
    "\n",
    "# 경고 뜨지 않게 설정\n",
    "import warnings\n",
    "warnings.filterwarnings('ignore')\n",
    "\n",
    "# 그래프 설정\n",
    "sns.set()\n",
    "\n",
    "# 그래프 기본 설정\n",
    "plt.rcParams['font.family'] = 'NanumGothic'\n",
    "plt.rcParams['figure.figsize'] = 12, 6\n",
    "plt.rcParams['font.size'] = 14\n",
    "plt.rcParams['axes.unicode_minus'] = False\n",
    "\n",
    "# 결측치 시각화를 위한 라이브러리\n",
    "import missingno\n",
    "\n",
    "# 복잡한 통계 처리를 위한 라이브러리\n",
    "from scipy import stats"
   ]
  },
  {
   "cell_type": "code",
   "execution_count": null,
   "metadata": {
    "executionInfo": {
     "elapsed": 42,
     "status": "ok",
     "timestamp": 1751866563487,
     "user": {
      "displayName": "이세윤",
      "userId": "03312344887874307561"
     },
     "user_tz": -540
    },
    "id": "SQH3dUhDYaoX"
   },
   "outputs": [],
   "source": [
    "data_type = \"test\"\n",
    "# month = \"12\"\n",
    "# category = \"마케팅정보\"\n",
    "\n",
    "# local\n",
    "# root_path = '../data/open'\n",
    "\n",
    "# colab\n",
    "root_path = '/content/drive/MyDrive/12조 파이널프로젝트/data'\n",
    "\n",
    "drive_folder = f'{root_path}/{data_type}/7.마케팅정보'"
   ]
  },
  {
   "cell_type": "code",
   "execution_count": null,
   "metadata": {
    "executionInfo": {
     "elapsed": 186,
     "status": "ok",
     "timestamp": 1751866605447,
     "user": {
      "displayName": "이세윤",
      "userId": "03312344887874307561"
     },
     "user_tz": -540
    },
    "id": "rIYmJqvrYlor"
   },
   "outputs": [],
   "source": [
    "file_path = f'{drive_folder}/201812_test_마케팅정보.parquet'\n",
    "\n",
    "df_marketing = pd.read_parquet(file_path)"
   ]
  },
  {
   "cell_type": "code",
   "execution_count": null,
   "metadata": {
    "colab": {
     "base_uri": "https://localhost:8080/",
     "height": 721
    },
    "executionInfo": {
     "elapsed": 624,
     "status": "ok",
     "timestamp": 1751866613908,
     "user": {
      "displayName": "이세윤",
      "userId": "03312344887874307561"
     },
     "user_tz": -540
    },
    "id": "lnzaurZBYqIQ",
    "outputId": "8e56c983-43c7-4af7-b14a-1c581417b449"
   },
   "outputs": [],
   "source": [
    "df_marketing"
   ]
  },
  {
   "cell_type": "code",
   "execution_count": null,
   "metadata": {
    "colab": {
     "base_uri": "https://localhost:8080/"
    },
    "executionInfo": {
     "elapsed": 31,
     "status": "ok",
     "timestamp": 1751866649391,
     "user": {
      "displayName": "이세윤",
      "userId": "03312344887874307561"
     },
     "user_tz": -540
    },
    "id": "6vVibHyTYxzN",
    "outputId": "066955fa-c1aa-4d7d-c9af-0acd9ef8771f"
   },
   "outputs": [],
   "source": [
    "print(df_marketing.isnull().sum())"
   ]
  },
  {
   "cell_type": "code",
   "execution_count": null,
   "metadata": {
    "colab": {
     "base_uri": "https://localhost:8080/"
    },
    "executionInfo": {
     "elapsed": 93,
     "status": "ok",
     "timestamp": 1751866763319,
     "user": {
      "displayName": "이세윤",
      "userId": "03312344887874307561"
     },
     "user_tz": -540
    },
    "id": "WB_w5rz5Y6nU",
    "outputId": "f40ebd98-9986-4c10-956b-3786067e4d10"
   },
   "outputs": [],
   "source": [
    "constant_cols = [col for col in df_marketing.columns if df_marketing[col].nunique() == 1]\n",
    "print(\"모든 값이 같은 컬럼:\", constant_cols)"
   ]
  },
  {
   "cell_type": "code",
   "execution_count": null,
   "metadata": {
    "executionInfo": {
     "elapsed": 9,
     "status": "ok",
     "timestamp": 1751866837310,
     "user": {
      "displayName": "이세윤",
      "userId": "03312344887874307561"
     },
     "user_tz": -540
    },
    "id": "5rcmWft9ZWae"
   },
   "outputs": [],
   "source": [
    "df_marketing = df_marketing.drop(columns=['컨택건수_리볼빙_TM_B0M', '컨택건수_CA_TM_B0M', '컨택건수_부대서비스_TM_B0M', '컨택건수_포인트소진_TM_B0M', '컨택건수_CA_LMS_B0M', '컨택건수_카드론_EM_B0M', '컨택건수_CA_EM_B0M', '컨택건수_리볼빙_EM_B0M', '컨택건수_리볼빙_청구서_B0M', '컨택건수_카드론_인터넷_B0M', '컨택건수_CA_인터넷_B0M', '컨택건수_리볼빙_인터넷_B0M', '컨택건수_카드론_당사앱_B0M', '컨택건수_CA_당사앱_B0M', '컨택건수_리볼빙_당사앱_B0M', '컨택건수_CA_TM_R6M', '컨택건수_부대서비스_TM_R6M', '컨택건수_포인트소진_TM_R6M', '컨택건수_CA_EM_R6M', '컨택건수_리볼빙_EM_R6M', '컨택건수_리볼빙_청구서_R6M', '컨택건수_카드론_인터넷_R6M', '컨택건수_CA_인터넷_R6M', '컨택건수_리볼빙_인터넷_R6M', '컨택건수_카드론_당사앱_R6M', '컨택건수_CA_당사앱_R6M', '컨택건수_리볼빙_당사앱_R6M', '컨택건수_FDS_B0M', '컨택건수_FDS_R6M'])"
   ]
  },
  {
   "cell_type": "code",
   "execution_count": null,
   "metadata": {
    "colab": {
     "base_uri": "https://localhost:8080/",
     "height": 721
    },
    "executionInfo": {
     "elapsed": 224,
     "status": "ok",
     "timestamp": 1751866843115,
     "user": {
      "displayName": "이세윤",
      "userId": "03312344887874307561"
     },
     "user_tz": -540
    },
    "id": "HLs2As8BZkE7",
    "outputId": "f54c9d87-3444-4940-b79a-f91cb8f38008"
   },
   "outputs": [],
   "source": [
    "df_marketing"
   ]
  },
  {
   "cell_type": "code",
   "execution_count": null,
   "metadata": {
    "colab": {
     "base_uri": "https://localhost:8080/"
    },
    "executionInfo": {
     "elapsed": 129,
     "status": "ok",
     "timestamp": 1751866900475,
     "user": {
      "displayName": "이세윤",
      "userId": "03312344887874307561"
     },
     "user_tz": -540
    },
    "id": "KUn3vmODZp3K",
    "outputId": "b7a9be40-e1d6-4ad2-c607-8dc12e7e9dc9"
   },
   "outputs": [],
   "source": [
    "# 문자형 변수 고유값 확인\n",
    "for col in df_marketing.select_dtypes(include='object').columns:\n",
    "    print(f\"[{col}]\")\n",
    "    print(df_marketing[col].value_counts(dropna=False), '\\n')"
   ]
  },
  {
   "cell_type": "code",
   "execution_count": null,
   "metadata": {
    "executionInfo": {
     "elapsed": 51,
     "status": "ok",
     "timestamp": 1751866954989,
     "user": {
      "displayName": "이세윤",
      "userId": "03312344887874307561"
     },
     "user_tz": -540
    },
    "id": "Tlk1dnWeZ34t"
   },
   "outputs": [],
   "source": [
    "# 문자열 인코딩\n",
    "df_marketing['캠페인접촉건수_R12M'] = df_marketing['캠페인접촉건수_R12M'].map({'1회 이상': 0, '5회 이상': 1,\n",
    "                                                                             '10회 이상': 2,'15회 이상': 3, '20회 이상': 4, '25회 이상': 5})\n",
    "df_marketing['캠페인접촉일수_R12M'] = df_marketing['캠페인접촉일수_R12M'].map({'1일 이상': 0, '5일 이상': 1, '10일 이상': 2,\n",
    "                                                                             '15일 이상': 3, '20일 이상': 4})"
   ]
  },
  {
   "cell_type": "code",
   "execution_count": null,
   "metadata": {
    "colab": {
     "base_uri": "https://localhost:8080/",
     "height": 548
    },
    "executionInfo": {
     "elapsed": 249,
     "status": "ok",
     "timestamp": 1751866984433,
     "user": {
      "displayName": "이세윤",
      "userId": "03312344887874307561"
     },
     "user_tz": -540
    },
    "id": "kouJmBbLaFNr",
    "outputId": "91a4714d-e864-46c8-d69a-2c5c23f26563"
   },
   "outputs": [],
   "source": [
    "df_marketing"
   ]
  },
  {
   "cell_type": "code",
   "execution_count": null,
   "metadata": {
    "executionInfo": {
     "elapsed": 149,
     "status": "ok",
     "timestamp": 1751867216188,
     "user": {
      "displayName": "이세윤",
      "userId": "03312344887874307561"
     },
     "user_tz": -540
    },
    "id": "8X0Ls30caMW7"
   },
   "outputs": [],
   "source": [
    "output_path = f'{drive_folder}/cleaned_마케팅정보.parquet'\n",
    "\n",
    "df_marketing.to_parquet(output_path, index=False)"
   ]
  },
  {
   "cell_type": "code",
   "execution_count": null,
   "metadata": {
    "id": "Nm154Jy2bE9l"
   },
   "outputs": [],
   "source": []
  }
 ],
 "metadata": {
  "colab": {
   "authorship_tag": "ABX9TyPngFihrrD3E8dfVzQGEu0P",
   "provenance": []
  },
  "kernelspec": {
   "display_name": "Python 3",
   "name": "python3"
  },
  "language_info": {
   "name": "python"
  }
 },
 "nbformat": 4,
 "nbformat_minor": 0
}

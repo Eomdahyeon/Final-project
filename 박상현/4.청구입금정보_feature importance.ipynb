{
 "cells": [
  {
   "cell_type": "code",
   "execution_count": null,
   "id": "27db1b25-c490-4dbf-8923-7be44629e2e4",
   "metadata": {},
   "outputs": [],
   "source": [
    "# 기본\n",
    "import pandas as pd\n",
    "import numpy as np\n",
    "import matplotlib.pyplot as plt\n",
    "import seaborn as sns\n",
    "import time\n",
    "\n",
    "# 경고 뜨지 않게 설정\n",
    "import warnings\n",
    "warnings.filterwarnings('ignore')\n",
    "\n",
    "# 그래프 설정\n",
    "sns.set()\n",
    "\n",
    "# 그래프 기본 설정\n",
    "plt.rcParams['font.family'] = 'Malgun Gothic'\n",
    "# plt.rcParams['font.family'] = 'AppleGothic'\n",
    "plt.rcParams['figure.figsize'] = 12, 6\n",
    "plt.rcParams['font.size'] = 14\n",
    "plt.rcParams['axes.unicode_minus'] = False\n",
    "\n",
    "# 데이터 전처리 알고리즘\n",
    "from sklearn.preprocessing import LabelEncoder\n",
    "from sklearn.preprocessing import StandardScaler\n",
    "\n",
    "# 학습용과 검증용으로 나누는 함수\n",
    "from sklearn.model_selection import train_test_split\n",
    "\n",
    "# 교차 검증\n",
    "from sklearn.model_selection import cross_val_score\n",
    "from sklearn.model_selection import cross_validate\n",
    "from sklearn.model_selection import KFold\n",
    "from sklearn.model_selection import StratifiedKFold\n",
    "\n",
    "# 평가함수\n",
    "# 분류용\n",
    "from sklearn.metrics import accuracy_score\n",
    "from sklearn.metrics import precision_score\n",
    "from sklearn.metrics import recall_score\n",
    "from sklearn.metrics import f1_score\n",
    "from sklearn.metrics import roc_auc_score\n",
    "\n",
    "# 회귀용\n",
    "from sklearn.metrics import r2_score\n",
    "from sklearn.metrics import mean_squared_error\n",
    "\n",
    "# 모델의 최적의 하이퍼 파라미터를 찾기 위한 도구\n",
    "from sklearn.model_selection import GridSearchCV\n",
    "\n",
    "# 머신러닝 알고리즘 - 분류\n",
    "from sklearn.neighbors import KNeighborsClassifier\n",
    "from sklearn.linear_model import LogisticRegression\n",
    "from sklearn.svm import SVC\n",
    "from sklearn.tree import DecisionTreeClassifier\n",
    "from sklearn.ensemble import RandomForestClassifier\n",
    "from sklearn.ensemble import AdaBoostClassifier\n",
    "from sklearn.ensemble import GradientBoostingClassifier\n",
    "from lightgbm import LGBMClassifier\n",
    "from xgboost import XGBClassifier\n",
    "from sklearn.ensemble import VotingClassifier\n",
    "\n",
    "# 머신러닝 알고리즘 - 회귀\n",
    "from sklearn.neighbors import KNeighborsRegressor\n",
    "from sklearn.linear_model import LinearRegression\n",
    "from sklearn.linear_model import Ridge\n",
    "from sklearn.linear_model import Lasso\n",
    "from sklearn.linear_model import ElasticNet\n",
    "from sklearn.svm import SVR\n",
    "from sklearn.tree import DecisionTreeRegressor\n",
    "from sklearn.ensemble import RandomForestRegressor\n",
    "from sklearn.ensemble import AdaBoostRegressor\n",
    "from sklearn.ensemble import GradientBoostingRegressor\n",
    "from lightgbm import LGBMRegressor\n",
    "from xgboost import XGBRegressor\n",
    "from sklearn.ensemble import VotingRegressor\n",
    "\n",
    "# 학습 모델 저장을 위한 라이브러리\n",
    "import pickle\n",
    "\n",
    "from sklearn.metrics import confusion_matrix, classification_report"
   ]
  },
  {
   "cell_type": "code",
   "execution_count": null,
   "id": "c74c83cb-7944-42b0-8e6e-7f96920df6a5",
   "metadata": {},
   "outputs": [],
   "source": [
    "data_type = \"train\"\n",
    "# month = \"07\"\n",
    "# category = \"청구입금정보\"\n",
    "\n",
    "# local\n",
    "root_path = '../data/open'\n",
    "\n",
    "# colab\n",
    "# root_path = '/content/drive/MyDrive/12조 파이널프로젝트/data'\n",
    "\n",
    "drive_folder = f'{root_path}/{data_type}/4.청구입금정보/'"
   ]
  },
  {
   "cell_type": "code",
   "execution_count": null,
   "id": "eb429dbc-1e0c-44bd-9646-33fd800ecacd",
   "metadata": {},
   "outputs": [],
   "source": [
    "# 1. 데이터 불러오기\n",
    "df = pd.read_parquet(f'{drive_folder}cleaned_청구정보.parquet')\n",
    "df\n",
    "\n",
    "# 2. 컬럼 분리\n",
    "segment_cols = ['Segment_A', 'Segment_B', 'Segment_C', 'Segment_D', 'Segment_E']\n",
    "X = df.drop(columns=['ID'] + segment_cols)\n",
    "y = df[segment_cols].idxmax(axis=1)  # 'Segment_A' ~ 'Segment_E'\n",
    "\n",
    "# ❗ 3. 문자열 라벨 인코딩\n",
    "le = LabelEncoder()\n",
    "y_encoded = le.fit_transform(y)  # → 0~4 숫자\n",
    "\n",
    "# 4. train/test 분리\n",
    "X_train, X_val, y_train, y_val = train_test_split(X, y_encoded, test_size=0.2, random_state=42)\n"
   ]
  },
  {
   "cell_type": "code",
   "execution_count": null,
   "id": "091923da-b914-4278-b2d0-e1912a7316c3",
   "metadata": {},
   "outputs": [],
   "source": [
    "# 5. 모델 학습\n",
    "model = XGBClassifier(\n",
    "    objective=\"multi:softmax\",\n",
    "    num_class=5,\n",
    "    eval_metric=\"mlogloss\",\n",
    "    n_estimators=300,\n",
    "    tree_method='hist',\n",
    "    device='cuda',\n",
    "    use_label_encoder=False,\n",
    "    random_state=42,\n",
    ")\n",
    "model.fit(X_train, y_train)"
   ]
  },
  {
   "cell_type": "code",
   "execution_count": null,
   "id": "60a86712-9f1c-417f-b052-13aecbf099ed",
   "metadata": {},
   "outputs": [],
   "source": [
    "# 6. 중요도 추출\n",
    "importances = pd.Series(model.feature_importances_, index=X.columns).sort_values(ascending=False)\n",
    "print(\"🎯 XGBoost Feature Importance - TOP 8\")\n",
    "print(importances.head(8))"
   ]
  },
  {
   "cell_type": "code",
   "execution_count": null,
   "id": "b31f1957-5b22-4c21-95c7-a17b7dbe74c1",
   "metadata": {},
   "outputs": [],
   "source": [
    "# 1. 상위 8개 feature만 추출\n",
    "top_8_features = importances.head(8).index.tolist()"
   ]
  },
  {
   "cell_type": "code",
   "execution_count": null,
   "id": "356ee7bd-a706-4c63-9c95-6c3f5fe2d7f9",
   "metadata": {},
   "outputs": [],
   "source": [
    "# 2. X 기준과 행 일치 보장 + ID, 기준년월 포함해서 최종 컬럼 구성\n",
    "df_selected = df.loc[X.index, ['ID', '기준년월'] + top_8_features]"
   ]
  },
  {
   "cell_type": "code",
   "execution_count": null,
   "id": "3b530a5e-f21a-4a8b-be39-f099424b5463",
   "metadata": {},
   "outputs": [],
   "source": [
    "# 4. 저장\n",
    "df_selected.to_parquet(f'{drive_folder}xgb_top8_청구정보.parquet', index=False)"
   ]
  },
  {
   "cell_type": "code",
   "execution_count": null,
   "id": "5435e1ab-ce67-4c43-886e-a7eb69fca309",
   "metadata": {},
   "outputs": [],
   "source": [
    "# 데이터 불러오기\n",
    "df100 = pd.read_parquet(f'{drive_folder}xgb_top8_청구정보.parquet')\n",
    "df100"
   ]
  },
  {
   "cell_type": "code",
   "execution_count": null,
   "id": "abcf6a7f-923b-40d1-91a0-af2c2f07cea0",
   "metadata": {},
   "outputs": [],
   "source": [
    "# 데이터 불러오기\n",
    "df200 = pd.read_parquet('../data/open/train/xgb_top8_All.parquet')\n",
    "df200"
   ]
  },
  {
   "cell_type": "code",
   "execution_count": null,
   "id": "18eecc42-6050-444c-89dc-63877016b4b3",
   "metadata": {},
   "outputs": [],
   "source": [
    "df200.info()"
   ]
  },
  {
   "cell_type": "code",
   "execution_count": null,
   "id": "cc7db4ec-24d4-46a5-91ae-6c2ef538bfe5",
   "metadata": {},
   "outputs": [],
   "source": []
  }
 ],
 "metadata": {
  "kernelspec": {
   "display_name": "Python [conda env:base] *",
   "language": "python",
   "name": "conda-base-py"
  },
  "language_info": {
   "codemirror_mode": {
    "name": "ipython",
    "version": 3
   },
   "file_extension": ".py",
   "mimetype": "text/x-python",
   "name": "python",
   "nbconvert_exporter": "python",
   "pygments_lexer": "ipython3",
   "version": "3.12.7"
  }
 },
 "nbformat": 4,
 "nbformat_minor": 5
}

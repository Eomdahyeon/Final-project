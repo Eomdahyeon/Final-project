{
 "cells": [
  {
   "cell_type": "code",
   "execution_count": null,
   "id": "c41d826a-1b16-46a4-a864-e42cb01d08d2",
   "metadata": {},
   "outputs": [],
   "source": [
    "import pandas as pd\n",
    "import os"
   ]
  },
  {
   "cell_type": "code",
   "execution_count": null,
   "id": "41457fd4-30f1-4f66-bbbf-0bff2d961816",
   "metadata": {},
   "outputs": [],
   "source": [
    "data_type = \"test\"\n",
    "month = \"12\"\n",
    "# category = \"잔액정보\"\n",
    "\n",
    "# local\n",
    "root_path = '../data/open/'\n",
    "\n",
    "# colab\n",
    "# root_path = '/content/drive/MyDrive/12조 파이널프로젝트/data'\n",
    "\n",
    "drive_folder = f'{root_path}/{data_type}'\n",
    "merge_keys = ['ID', '기준년월']"
   ]
  },
  {
   "cell_type": "code",
   "execution_count": null,
   "id": "7cf32677-b309-404f-9a40-030bfa968470",
   "metadata": {},
   "outputs": [],
   "source": [
    "# 2. 데이터 카테고리 정보\n",
    "data_categories = {\n",
    "    \"회원정보\": {\"folder\": \"1.회원정보\", \"suffix\": \"회원정보\"},\n",
    "    \"신용정보\": {\"folder\": \"2.신용정보\", \"suffix\": \"신용정보\"},\n",
    "    \"승인매출정보\": {\"folder\": \"3.승인매출정보\", \"suffix\": \"승인매출정보\"},\n",
    "    \"청구정보\": {\"folder\": \"4.청구입금정보\", \"suffix\": \"청구정보\"},\n",
    "    \"잔액정보\": {\"folder\": \"5.잔액정보\", \"suffix\": \"잔액정보\"},\n",
    "    \"채널정보\": {\"folder\": \"6.채널정보\", \"suffix\": \"채널정보\"},\n",
    "    \"마케팅정보\": {\"folder\": \"7.마케팅정보\", \"suffix\": \"마케팅정보\"},\n",
    "    \"성과정보\": {\"folder\": \"8.성과정보\", \"suffix\": \"성과정보\"}\n",
    "}"
   ]
  },
  {
   "cell_type": "code",
   "execution_count": null,
   "id": "b4f21209-167f-4905-8333-158f20bcf346",
   "metadata": {},
   "outputs": [],
   "source": [
    "# 3. 병합\n",
    "merged_df = None\n",
    "\n",
    "for name, info in data_categories.items():\n",
    "    file_path = f\"{drive_folder}/{info['folder']}/2018{month}_processed_{info['suffix']}.parquet\"\n",
    "\n",
    "    if not os.path.exists(file_path):\n",
    "        print(f\"⚠️ 파일 없음: {file_path}\")\n",
    "        continue\n",
    "\n",
    "    df = pd.read_parquet(file_path)\n",
    "\n",
    "    if merged_df is None:\n",
    "        merged_df = df.copy()\n",
    "        print(f\"🧩 시작: {name} → shape: {df.shape}\")\n",
    "    else:\n",
    "        merged_df = pd.merge(merged_df, df, on=merge_keys, how='inner')\n",
    "        print(f\"🧩 병합: {name} → merged shape: {merged_df.shape}\")"
   ]
  },
  {
   "cell_type": "code",
   "execution_count": null,
   "id": "1bc44219-083f-4f57-9dd8-832c5c5be6e8",
   "metadata": {},
   "outputs": [],
   "source": [
    "# 4. 저장\n",
    "output_path = '../data/open/머신러닝/test_12월_통합.parquet'\n",
    "merged_df.to_parquet(output_path, index=False)\n",
    "print(f\"\\n✅ 저장 완료: {output_path}\")"
   ]
  },
  {
   "cell_type": "code",
   "execution_count": null,
   "id": "b69b9a97-52a4-43f2-b9a1-bd8d4a10ce6a",
   "metadata": {},
   "outputs": [],
   "source": [
    "df= pd.read_parquet('../data/open/머신러닝/test_12월_통합.parquet')\n",
    "df"
   ]
  },
  {
   "cell_type": "code",
   "execution_count": null,
   "id": "5094ae46-f816-4dfb-86b2-86d3ebb2337a",
   "metadata": {},
   "outputs": [],
   "source": [
    "df.info()"
   ]
  },
  {
   "cell_type": "code",
   "execution_count": null,
   "id": "5fcafafb-0157-4e27-abef-9c7a530b482f",
   "metadata": {},
   "outputs": [],
   "source": [
    "# 예: df1 또는 df2에서 object 타입 컬럼 확인\n",
    "object_cols = df.select_dtypes(include='object').columns.tolist()\n",
    "\n",
    "# 출력\n",
    "print(\"📦 object 타입 컬럼 목록:\")\n",
    "for col in object_cols:\n",
    "    print(f\"- {col}\")\n",
    "\n",
    "print(f\"\\n✅ 총 {len(object_cols)}개\")"
   ]
  },
  {
   "cell_type": "code",
   "execution_count": null,
   "id": "7b558635-7d46-484d-bc1c-66641f1b959a",
   "metadata": {},
   "outputs": [],
   "source": []
  }
 ],
 "metadata": {
  "kernelspec": {
   "display_name": "Python [conda env:base] *",
   "language": "python",
   "name": "conda-base-py"
  },
  "language_info": {
   "codemirror_mode": {
    "name": "ipython",
    "version": 3
   },
   "file_extension": ".py",
   "mimetype": "text/x-python",
   "name": "python",
   "nbconvert_exporter": "python",
   "pygments_lexer": "ipython3",
   "version": "3.12.7"
  }
 },
 "nbformat": 4,
 "nbformat_minor": 5
}

{
 "cells": [
  {
   "cell_type": "code",
   "execution_count": 1,
   "id": "dfe3d8e1-0b81-42c7-ac78-aab31fe21340",
   "metadata": {},
   "outputs": [],
   "source": [
    "from catboost import CatBoostClassifier\n",
    "from sklearn.metrics import f1_score\n",
    "from sklearn.model_selection import train_test_split\n",
    "import pandas as pd\n",
    "import numpy as np\n",
    "import optuna"
   ]
  },
  {
   "cell_type": "code",
   "execution_count": 2,
   "id": "0b3cfde4-ed33-4b71-b2aa-7732f8ac2788",
   "metadata": {},
   "outputs": [],
   "source": [
    "# local\n",
    "root_path = '../data/open/머신러닝'\n",
    "\n",
    "# colab\n",
    "# root_path = '/content/drive/MyDrive/12조 파이널프로젝트/data'"
   ]
  },
  {
   "cell_type": "code",
   "execution_count": 3,
   "id": "e6f52aed-f66c-4542-9777-25c405295201",
   "metadata": {},
   "outputs": [
    {
     "data": {
      "text/html": [
       "<div>\n",
       "<style scoped>\n",
       "    .dataframe tbody tr th:only-of-type {\n",
       "        vertical-align: middle;\n",
       "    }\n",
       "\n",
       "    .dataframe tbody tr th {\n",
       "        vertical-align: top;\n",
       "    }\n",
       "\n",
       "    .dataframe thead th {\n",
       "        text-align: right;\n",
       "    }\n",
       "</style>\n",
       "<table border=\"1\" class=\"dataframe\">\n",
       "  <thead>\n",
       "    <tr style=\"text-align: right;\">\n",
       "      <th></th>\n",
       "      <th>ID</th>\n",
       "      <th>기준년월</th>\n",
       "      <th>소지카드수_유효_신용</th>\n",
       "      <th>소지카드수_이용가능_신용</th>\n",
       "      <th>입회경과개월수_신용</th>\n",
       "      <th>이용금액_R3M_신용_가족</th>\n",
       "      <th>이용여부_3M_해외겸용_본인</th>\n",
       "      <th>이용여부_3M_해외겸용_신용_본인</th>\n",
       "      <th>2순위신용체크구분_인코딩</th>\n",
       "      <th>CA한도금액</th>\n",
       "      <th>...</th>\n",
       "      <th>_3순위교통업종_이용금액</th>\n",
       "      <th>_1순위여유업종_이용금액</th>\n",
       "      <th>_1순위납부업종_이용금액</th>\n",
       "      <th>RP건수_B0M</th>\n",
       "      <th>RP유형건수_B0M</th>\n",
       "      <th>이용개월수_온라인_R6M</th>\n",
       "      <th>연속유실적개월수_기본_24M_카드</th>\n",
       "      <th>청구서발송여부_B0</th>\n",
       "      <th>잔액_일시불_B2M</th>\n",
       "      <th>Segment</th>\n",
       "    </tr>\n",
       "  </thead>\n",
       "  <tbody>\n",
       "    <tr>\n",
       "      <th>0</th>\n",
       "      <td>TRAIN_000000</td>\n",
       "      <td>201807</td>\n",
       "      <td>1</td>\n",
       "      <td>1</td>\n",
       "      <td>67</td>\n",
       "      <td>0</td>\n",
       "      <td>0</td>\n",
       "      <td>0</td>\n",
       "      <td>0</td>\n",
       "      <td>7270</td>\n",
       "      <td>...</td>\n",
       "      <td>0</td>\n",
       "      <td>0</td>\n",
       "      <td>1883</td>\n",
       "      <td>2</td>\n",
       "      <td>2</td>\n",
       "      <td>1</td>\n",
       "      <td>13</td>\n",
       "      <td>1</td>\n",
       "      <td>1083</td>\n",
       "      <td>D</td>\n",
       "    </tr>\n",
       "    <tr>\n",
       "      <th>1</th>\n",
       "      <td>TRAIN_000000</td>\n",
       "      <td>201808</td>\n",
       "      <td>1</td>\n",
       "      <td>1</td>\n",
       "      <td>68</td>\n",
       "      <td>0</td>\n",
       "      <td>0</td>\n",
       "      <td>0</td>\n",
       "      <td>0</td>\n",
       "      <td>6293</td>\n",
       "      <td>...</td>\n",
       "      <td>0</td>\n",
       "      <td>0</td>\n",
       "      <td>1959</td>\n",
       "      <td>2</td>\n",
       "      <td>2</td>\n",
       "      <td>1</td>\n",
       "      <td>13</td>\n",
       "      <td>1</td>\n",
       "      <td>736</td>\n",
       "      <td>D</td>\n",
       "    </tr>\n",
       "    <tr>\n",
       "      <th>2</th>\n",
       "      <td>TRAIN_000000</td>\n",
       "      <td>201809</td>\n",
       "      <td>1</td>\n",
       "      <td>1</td>\n",
       "      <td>69</td>\n",
       "      <td>0</td>\n",
       "      <td>0</td>\n",
       "      <td>0</td>\n",
       "      <td>0</td>\n",
       "      <td>6449</td>\n",
       "      <td>...</td>\n",
       "      <td>0</td>\n",
       "      <td>0</td>\n",
       "      <td>2008</td>\n",
       "      <td>2</td>\n",
       "      <td>2</td>\n",
       "      <td>1</td>\n",
       "      <td>17</td>\n",
       "      <td>1</td>\n",
       "      <td>997</td>\n",
       "      <td>D</td>\n",
       "    </tr>\n",
       "    <tr>\n",
       "      <th>3</th>\n",
       "      <td>TRAIN_000000</td>\n",
       "      <td>201810</td>\n",
       "      <td>1</td>\n",
       "      <td>1</td>\n",
       "      <td>70</td>\n",
       "      <td>0</td>\n",
       "      <td>0</td>\n",
       "      <td>0</td>\n",
       "      <td>0</td>\n",
       "      <td>5990</td>\n",
       "      <td>...</td>\n",
       "      <td>0</td>\n",
       "      <td>0</td>\n",
       "      <td>1972</td>\n",
       "      <td>2</td>\n",
       "      <td>2</td>\n",
       "      <td>1</td>\n",
       "      <td>17</td>\n",
       "      <td>1</td>\n",
       "      <td>697</td>\n",
       "      <td>D</td>\n",
       "    </tr>\n",
       "    <tr>\n",
       "      <th>4</th>\n",
       "      <td>TRAIN_000000</td>\n",
       "      <td>201811</td>\n",
       "      <td>1</td>\n",
       "      <td>1</td>\n",
       "      <td>71</td>\n",
       "      <td>0</td>\n",
       "      <td>0</td>\n",
       "      <td>0</td>\n",
       "      <td>0</td>\n",
       "      <td>5816</td>\n",
       "      <td>...</td>\n",
       "      <td>0</td>\n",
       "      <td>0</td>\n",
       "      <td>1982</td>\n",
       "      <td>2</td>\n",
       "      <td>2</td>\n",
       "      <td>0</td>\n",
       "      <td>17</td>\n",
       "      <td>1</td>\n",
       "      <td>607</td>\n",
       "      <td>D</td>\n",
       "    </tr>\n",
       "    <tr>\n",
       "      <th>...</th>\n",
       "      <td>...</td>\n",
       "      <td>...</td>\n",
       "      <td>...</td>\n",
       "      <td>...</td>\n",
       "      <td>...</td>\n",
       "      <td>...</td>\n",
       "      <td>...</td>\n",
       "      <td>...</td>\n",
       "      <td>...</td>\n",
       "      <td>...</td>\n",
       "      <td>...</td>\n",
       "      <td>...</td>\n",
       "      <td>...</td>\n",
       "      <td>...</td>\n",
       "      <td>...</td>\n",
       "      <td>...</td>\n",
       "      <td>...</td>\n",
       "      <td>...</td>\n",
       "      <td>...</td>\n",
       "      <td>...</td>\n",
       "      <td>...</td>\n",
       "    </tr>\n",
       "    <tr>\n",
       "      <th>2399995</th>\n",
       "      <td>TRAIN_399999</td>\n",
       "      <td>201808</td>\n",
       "      <td>1</td>\n",
       "      <td>1</td>\n",
       "      <td>4</td>\n",
       "      <td>0</td>\n",
       "      <td>0</td>\n",
       "      <td>0</td>\n",
       "      <td>1</td>\n",
       "      <td>25757</td>\n",
       "      <td>...</td>\n",
       "      <td>0</td>\n",
       "      <td>0</td>\n",
       "      <td>0</td>\n",
       "      <td>0</td>\n",
       "      <td>0</td>\n",
       "      <td>0</td>\n",
       "      <td>2</td>\n",
       "      <td>1</td>\n",
       "      <td>0</td>\n",
       "      <td>E</td>\n",
       "    </tr>\n",
       "    <tr>\n",
       "      <th>2399996</th>\n",
       "      <td>TRAIN_399999</td>\n",
       "      <td>201809</td>\n",
       "      <td>1</td>\n",
       "      <td>1</td>\n",
       "      <td>5</td>\n",
       "      <td>0</td>\n",
       "      <td>0</td>\n",
       "      <td>0</td>\n",
       "      <td>1</td>\n",
       "      <td>26818</td>\n",
       "      <td>...</td>\n",
       "      <td>0</td>\n",
       "      <td>0</td>\n",
       "      <td>0</td>\n",
       "      <td>0</td>\n",
       "      <td>0</td>\n",
       "      <td>0</td>\n",
       "      <td>5</td>\n",
       "      <td>1</td>\n",
       "      <td>998</td>\n",
       "      <td>E</td>\n",
       "    </tr>\n",
       "    <tr>\n",
       "      <th>2399997</th>\n",
       "      <td>TRAIN_399999</td>\n",
       "      <td>201810</td>\n",
       "      <td>1</td>\n",
       "      <td>1</td>\n",
       "      <td>6</td>\n",
       "      <td>0</td>\n",
       "      <td>0</td>\n",
       "      <td>0</td>\n",
       "      <td>1</td>\n",
       "      <td>27543</td>\n",
       "      <td>...</td>\n",
       "      <td>0</td>\n",
       "      <td>0</td>\n",
       "      <td>0</td>\n",
       "      <td>0</td>\n",
       "      <td>0</td>\n",
       "      <td>0</td>\n",
       "      <td>5</td>\n",
       "      <td>1</td>\n",
       "      <td>814</td>\n",
       "      <td>E</td>\n",
       "    </tr>\n",
       "    <tr>\n",
       "      <th>2399998</th>\n",
       "      <td>TRAIN_399999</td>\n",
       "      <td>201811</td>\n",
       "      <td>1</td>\n",
       "      <td>1</td>\n",
       "      <td>7</td>\n",
       "      <td>0</td>\n",
       "      <td>0</td>\n",
       "      <td>0</td>\n",
       "      <td>1</td>\n",
       "      <td>27113</td>\n",
       "      <td>...</td>\n",
       "      <td>0</td>\n",
       "      <td>0</td>\n",
       "      <td>0</td>\n",
       "      <td>0</td>\n",
       "      <td>0</td>\n",
       "      <td>0</td>\n",
       "      <td>5</td>\n",
       "      <td>1</td>\n",
       "      <td>1485</td>\n",
       "      <td>E</td>\n",
       "    </tr>\n",
       "    <tr>\n",
       "      <th>2399999</th>\n",
       "      <td>TRAIN_399999</td>\n",
       "      <td>201812</td>\n",
       "      <td>1</td>\n",
       "      <td>1</td>\n",
       "      <td>7</td>\n",
       "      <td>0</td>\n",
       "      <td>0</td>\n",
       "      <td>0</td>\n",
       "      <td>1</td>\n",
       "      <td>25133</td>\n",
       "      <td>...</td>\n",
       "      <td>0</td>\n",
       "      <td>0</td>\n",
       "      <td>0</td>\n",
       "      <td>0</td>\n",
       "      <td>0</td>\n",
       "      <td>0</td>\n",
       "      <td>5</td>\n",
       "      <td>1</td>\n",
       "      <td>972</td>\n",
       "      <td>E</td>\n",
       "    </tr>\n",
       "  </tbody>\n",
       "</table>\n",
       "<p>2400000 rows × 38 columns</p>\n",
       "</div>"
      ],
      "text/plain": [
       "                   ID    기준년월  소지카드수_유효_신용  소지카드수_이용가능_신용  입회경과개월수_신용  \\\n",
       "0        TRAIN_000000  201807            1              1          67   \n",
       "1        TRAIN_000000  201808            1              1          68   \n",
       "2        TRAIN_000000  201809            1              1          69   \n",
       "3        TRAIN_000000  201810            1              1          70   \n",
       "4        TRAIN_000000  201811            1              1          71   \n",
       "...               ...     ...          ...            ...         ...   \n",
       "2399995  TRAIN_399999  201808            1              1           4   \n",
       "2399996  TRAIN_399999  201809            1              1           5   \n",
       "2399997  TRAIN_399999  201810            1              1           6   \n",
       "2399998  TRAIN_399999  201811            1              1           7   \n",
       "2399999  TRAIN_399999  201812            1              1           7   \n",
       "\n",
       "         이용금액_R3M_신용_가족  이용여부_3M_해외겸용_본인  이용여부_3M_해외겸용_신용_본인  2순위신용체크구분_인코딩  \\\n",
       "0                     0                0                   0              0   \n",
       "1                     0                0                   0              0   \n",
       "2                     0                0                   0              0   \n",
       "3                     0                0                   0              0   \n",
       "4                     0                0                   0              0   \n",
       "...                 ...              ...                 ...            ...   \n",
       "2399995               0                0                   0              1   \n",
       "2399996               0                0                   0              1   \n",
       "2399997               0                0                   0              1   \n",
       "2399998               0                0                   0              1   \n",
       "2399999               0                0                   0              1   \n",
       "\n",
       "         CA한도금액  ...  _3순위교통업종_이용금액  _1순위여유업종_이용금액  _1순위납부업종_이용금액  RP건수_B0M  \\\n",
       "0          7270  ...              0              0           1883         2   \n",
       "1          6293  ...              0              0           1959         2   \n",
       "2          6449  ...              0              0           2008         2   \n",
       "3          5990  ...              0              0           1972         2   \n",
       "4          5816  ...              0              0           1982         2   \n",
       "...         ...  ...            ...            ...            ...       ...   \n",
       "2399995   25757  ...              0              0              0         0   \n",
       "2399996   26818  ...              0              0              0         0   \n",
       "2399997   27543  ...              0              0              0         0   \n",
       "2399998   27113  ...              0              0              0         0   \n",
       "2399999   25133  ...              0              0              0         0   \n",
       "\n",
       "         RP유형건수_B0M  이용개월수_온라인_R6M  연속유실적개월수_기본_24M_카드  청구서발송여부_B0  \\\n",
       "0                 2              1                  13           1   \n",
       "1                 2              1                  13           1   \n",
       "2                 2              1                  17           1   \n",
       "3                 2              1                  17           1   \n",
       "4                 2              0                  17           1   \n",
       "...             ...            ...                 ...         ...   \n",
       "2399995           0              0                   2           1   \n",
       "2399996           0              0                   5           1   \n",
       "2399997           0              0                   5           1   \n",
       "2399998           0              0                   5           1   \n",
       "2399999           0              0                   5           1   \n",
       "\n",
       "         잔액_일시불_B2M  Segment  \n",
       "0              1083        D  \n",
       "1               736        D  \n",
       "2               997        D  \n",
       "3               697        D  \n",
       "4               607        D  \n",
       "...             ...      ...  \n",
       "2399995           0        E  \n",
       "2399996         998        E  \n",
       "2399997         814        E  \n",
       "2399998        1485        E  \n",
       "2399999         972        E  \n",
       "\n",
       "[2400000 rows x 38 columns]"
      ]
     },
     "execution_count": 3,
     "metadata": {},
     "output_type": "execute_result"
    }
   ],
   "source": [
    "# 데이터 불러오기\n",
    "#train_file = '201812_vif_drop_All'\n",
    "#train_file = '201812_corr_drop_All'\n",
    "train_file = 'vif_one_segment'\n",
    "train_df = pd.read_parquet(f'{root_path}/{train_file}.parquet')\n",
    "\n",
    "test_file = f'{root_path}/test_12월_통합.parquet'\n",
    "test_df = pd.read_parquet(test_file)\n",
    "\n",
    "train_df"
   ]
  },
  {
   "cell_type": "markdown",
   "id": "30bbdc2a-f0cb-4953-8eb6-92bb54cce973",
   "metadata": {},
   "source": [
    "### 1단계 -> Segment == E vs Other"
   ]
  },
  {
   "cell_type": "code",
   "execution_count": 5,
   "id": "35c3b084-e2f2-4b2a-844f-2e6768f912d1",
   "metadata": {},
   "outputs": [],
   "source": [
    "train_df[\"Segment1\"] = train_df[\"Segment\"].apply(lambda x: \"E\" if x == \"E\" else \"other\")"
   ]
  },
  {
   "cell_type": "code",
   "execution_count": 6,
   "id": "a0e143d1-b04c-4368-b3dc-f800ed12b67b",
   "metadata": {},
   "outputs": [],
   "source": [
    "exclude_cols = ['ID', '기준년월', 'Segment', 'Segment1']\n",
    "feature_cols = [\n",
    "    col for col in train_df.columns\n",
    "    if col not in exclude_cols\n",
    "]"
   ]
  },
  {
   "cell_type": "code",
   "execution_count": 7,
   "id": "8d0989f6-66bb-47f0-9cc6-57bb7eed2447",
   "metadata": {},
   "outputs": [],
   "source": [
    "# 학습용 피처/타겟 정의\n",
    "X = train_df[feature_cols]\n",
    "y = train_df['Segment1']"
   ]
  },
  {
   "cell_type": "code",
   "execution_count": 8,
   "id": "6155f757-b2cd-4b78-a15b-4be97541b12b",
   "metadata": {},
   "outputs": [],
   "source": [
    "# X와 test_df 양쪽에 모두 존재하는 컬럼만 선택\n",
    "common_cols = [col for col in X.columns if col in test_df.columns]\n",
    "X = X[common_cols]\n",
    "X_test = test_df[common_cols]"
   ]
  },
  {
   "cell_type": "code",
   "execution_count": 9,
   "id": "280f6782-ea8a-45e8-ba1c-29da7eced23c",
   "metadata": {},
   "outputs": [],
   "source": [
    "# 학습/검증 분리\n",
    "X_train, X_val, y_train, y_val = train_test_split(X, y, test_size=0.2, random_state=42, stratify=y)"
   ]
  },
  {
   "cell_type": "code",
   "execution_count": 10,
   "id": "c3f18208-16e8-4fe1-a5b9-819ea82a6d0e",
   "metadata": {},
   "outputs": [],
   "source": [
    "def objective(trial):\n",
    "    params = {\n",
    "        # boosting 반복 횟수\n",
    "        \"iterations\": trial.suggest_int(\"iterations\", 300, 1500),\n",
    "        # 한번에 얼마나 빠르게 학습하지지\n",
    "        \"learning_rate\": trial.suggest_float(\"learning_rate\", 0.01, 0.1),\n",
    "        # 트리의 깊이, 깊을수록 복잡한 모델이지만 과적합 가능성 O\n",
    "        \"depth\": trial.suggest_int(\"depth\", 4, 10), # --> 튜닝\n",
    "        # L2 정규화 , 높을수록 규제 강화 - 과적합 억제\n",
    "        \"l2_leaf_reg\": trial.suggest_float(\"l2_leaf_reg\", 1, 10),\n",
    "        # 수치형 피쳐를 이산화 할 때 사용하는 경계 개수 -> 수치형 많으면 영향력 있음\n",
    "        \"border_count\": trial.suggest_int(\"border_count\", 32, 255),\n",
    "        # 트리 분기시 f.i 계산에 노이즈를 얼마나 줄 것인가\n",
    "        \"random_strength\": trial.suggest_float(\"random_strength\", 0.1, 1),\n",
    "        # 샘플링의 다양성 조절 -> 과소적합일 땐 높이고, 과적합일 땐 낮게\n",
    "        \"bagging_temperature\": trial.suggest_float(\"bagging_temperature\", 0, 1),\n",
    "        # 손실 함수 : 다중분류\n",
    "        \"loss_function\": \"Logloss\",\n",
    "        # 평가 지표\n",
    "        \"eval_metric\": \"F1\",\n",
    "        # 학습 로그를 몇 step마다 보여줄지\n",
    "        \"verbose\": 100,\n",
    "        # 트리 분기 시 feature 중요도 계산에 주는 노이즈 크기\n",
    "        \"random_state\": 42\n",
    "    }\n",
    "    # early_stopping_rounds - 지정된 라운드 동안 성능 개선이 되지 않으면 학습 중지\n",
    "    model = CatBoostClassifier(**params)\n",
    "    model.fit(X_train, y_train, eval_set=(X_val, y_val), early_stopping_rounds=50, verbose=100)\n",
    "\n",
    "    preds = model.predict(X_val)\n",
    "    f1 = f1_score(y_val, preds, average='micro')\n",
    "    return f1"
   ]
  },
  {
   "cell_type": "code",
   "execution_count": null,
   "id": "14917a01-4ed0-4a5b-a72f-43217465177f",
   "metadata": {},
   "outputs": [
    {
     "name": "stderr",
     "output_type": "stream",
     "text": [
      "[I 2025-07-14 15:28:44,519] A new study created in memory with name: no-name-bc5fb7db-3054-49bd-b893-6131e3d25f5f\n"
     ]
    },
    {
     "name": "stdout",
     "output_type": "stream",
     "text": [
      "0:\tlearn: 0.6618653\ttest: 0.6596647\tbest: 0.6596647 (0)\ttotal: 623ms\tremaining: 6m 47s\n",
      "100:\tlearn: 0.7028027\ttest: 0.6996149\tbest: 0.6996149 (100)\ttotal: 40.4s\tremaining: 3m 41s\n",
      "200:\tlearn: 0.7110169\ttest: 0.7072485\tbest: 0.7072485 (200)\ttotal: 1m 20s\tremaining: 3m 1s\n",
      "300:\tlearn: 0.7157627\ttest: 0.7112245\tbest: 0.7112245 (300)\ttotal: 1m 59s\tremaining: 2m 20s\n",
      "400:\tlearn: 0.7200644\ttest: 0.7140997\tbest: 0.7141622 (398)\ttotal: 2m 40s\tremaining: 1m 41s\n",
      "500:\tlearn: 0.7237175\ttest: 0.7168858\tbest: 0.7168916 (499)\ttotal: 3m 20s\tremaining: 1m 1s\n",
      "600:\tlearn: 0.7270859\ttest: 0.7192302\tbest: 0.7192302 (600)\ttotal: 4m 1s\tremaining: 21.7s\n",
      "654:\tlearn: 0.7288778\ttest: 0.7203919\tbest: 0.7203919 (654)\ttotal: 4m 22s\tremaining: 0us\n",
      "\n",
      "bestTest = 0.7203918998\n",
      "bestIteration = 654\n",
      "\n"
     ]
    },
    {
     "name": "stderr",
     "output_type": "stream",
     "text": [
      "[I 2025-07-14 15:33:25,644] Trial 0 finished with value: 0.8986875 and parameters: {'iterations': 655, 'learning_rate': 0.05989790431031373, 'depth': 8, 'l2_leaf_reg': 8.447911809305529, 'border_count': 197, 'random_strength': 0.8981347546296288, 'bagging_temperature': 0.170963903717959}. Best is trial 0 with value: 0.8986875.\n"
     ]
    },
    {
     "name": "stdout",
     "output_type": "stream",
     "text": [
      "0:\tlearn: 0.6469787\ttest: 0.6451828\tbest: 0.6451828 (0)\ttotal: 350ms\tremaining: 6m 30s\n",
      "100:\tlearn: 0.7027971\ttest: 0.7000728\tbest: 0.7000728 (100)\ttotal: 33.6s\tremaining: 5m 37s\n",
      "200:\tlearn: 0.7094913\ttest: 0.7063537\tbest: 0.7063537 (200)\ttotal: 1m 6s\tremaining: 5m\n",
      "300:\tlearn: 0.7131177\ttest: 0.7098196\tbest: 0.7098196 (300)\ttotal: 1m 38s\tremaining: 4m 26s\n",
      "400:\tlearn: 0.7156864\ttest: 0.7116901\tbest: 0.7117315 (396)\ttotal: 2m 11s\tremaining: 3m 54s\n",
      "500:\tlearn: 0.7182854\ttest: 0.7135494\tbest: 0.7136177 (499)\ttotal: 2m 44s\tremaining: 3m 21s\n",
      "600:\tlearn: 0.7204277\ttest: 0.7148753\tbest: 0.7148762 (597)\ttotal: 3m 17s\tremaining: 2m 48s\n",
      "700:\tlearn: 0.7220802\ttest: 0.7160989\tbest: 0.7161783 (691)\ttotal: 3m 50s\tremaining: 2m 15s\n",
      "800:\tlearn: 0.7238668\ttest: 0.7178642\tbest: 0.7178666 (799)\ttotal: 4m 22s\tremaining: 1m 43s\n",
      "900:\tlearn: 0.7254176\ttest: 0.7191820\tbest: 0.7191820 (900)\ttotal: 4m 55s\tremaining: 1m 10s\n",
      "1000:\tlearn: 0.7271912\ttest: 0.7199206\tbest: 0.7200184 (993)\ttotal: 5m 28s\tremaining: 37.4s\n",
      "1100:\tlearn: 0.7287222\ttest: 0.7208575\tbest: 0.7208575 (1100)\ttotal: 6m 1s\tremaining: 4.59s\n",
      "1114:\tlearn: 0.7288916\ttest: 0.7210181\tbest: 0.7210883 (1113)\ttotal: 6m 5s\tremaining: 0us\n",
      "\n",
      "bestTest = 0.7210882793\n",
      "bestIteration = 1113\n",
      "\n",
      "Shrink model to first 1114 iterations.\n"
     ]
    },
    {
     "name": "stderr",
     "output_type": "stream",
     "text": [
      "[I 2025-07-14 15:39:49,793] Trial 1 finished with value: 0.89868125 and parameters: {'iterations': 1115, 'learning_rate': 0.08657051577426762, 'depth': 6, 'l2_leaf_reg': 7.050956470299588, 'border_count': 213, 'random_strength': 0.22983573426023, 'bagging_temperature': 0.6837681451042293}. Best is trial 0 with value: 0.8986875.\n"
     ]
    },
    {
     "name": "stdout",
     "output_type": "stream",
     "text": [
      "0:\tlearn: 0.6496793\ttest: 0.6483510\tbest: 0.6483510 (0)\ttotal: 321ms\tremaining: 6m 57s\n",
      "100:\tlearn: 0.6736502\ttest: 0.6708958\tbest: 0.6708958 (100)\ttotal: 32.2s\tremaining: 6m 23s\n",
      "200:\tlearn: 0.6842503\ttest: 0.6822480\tbest: 0.6822480 (200)\ttotal: 1m 5s\tremaining: 5m 58s\n",
      "300:\tlearn: 0.6926200\ttest: 0.6901076\tbest: 0.6901076 (300)\ttotal: 1m 39s\tremaining: 5m 29s\n",
      "400:\tlearn: 0.6974526\ttest: 0.6947449\tbest: 0.6947449 (400)\ttotal: 2m 11s\tremaining: 4m 56s\n",
      "500:\tlearn: 0.7007564\ttest: 0.6973775\tbest: 0.6973775 (500)\ttotal: 2m 44s\tremaining: 4m 22s\n",
      "600:\tlearn: 0.7030169\ttest: 0.7000553\tbest: 0.7000553 (600)\ttotal: 3m 16s\tremaining: 3m 49s\n",
      "700:\tlearn: 0.7049020\ttest: 0.7017721\tbest: 0.7018249 (699)\ttotal: 3m 49s\tremaining: 3m 16s\n",
      "800:\tlearn: 0.7062852\ttest: 0.7029974\tbest: 0.7030125 (789)\ttotal: 4m 22s\tremaining: 2m 44s\n",
      "900:\tlearn: 0.7072877\ttest: 0.7041327\tbest: 0.7041327 (900)\ttotal: 4m 55s\tremaining: 2m 11s\n",
      "1000:\tlearn: 0.7082449\ttest: 0.7051705\tbest: 0.7051705 (1000)\ttotal: 5m 27s\tremaining: 1m 38s\n",
      "1100:\tlearn: 0.7090477\ttest: 0.7059483\tbest: 0.7059837 (1094)\ttotal: 6m\tremaining: 1m 5s\n",
      "1200:\tlearn: 0.7098725\ttest: 0.7065288\tbest: 0.7065648 (1195)\ttotal: 6m 32s\tremaining: 33s\n",
      "1300:\tlearn: 0.7105460\ttest: 0.7071251\tbest: 0.7071332 (1294)\ttotal: 7m 5s\tremaining: 327ms\n",
      "1301:\tlearn: 0.7105283\ttest: 0.7071244\tbest: 0.7071332 (1294)\ttotal: 7m 5s\tremaining: 0us\n",
      "\n",
      "bestTest = 0.7071332452\n",
      "bestIteration = 1294\n",
      "\n",
      "Shrink model to first 1295 iterations.\n"
     ]
    },
    {
     "name": "stderr",
     "output_type": "stream",
     "text": [
      "[I 2025-07-14 15:47:13,922] Trial 2 finished with value: 0.89435625 and parameters: {'iterations': 1302, 'learning_rate': 0.01516121561237823, 'depth': 6, 'l2_leaf_reg': 8.631680950506354, 'border_count': 50, 'random_strength': 0.16332812272715974, 'bagging_temperature': 0.567155328185512}. Best is trial 0 with value: 0.8986875.\n"
     ]
    },
    {
     "name": "stdout",
     "output_type": "stream",
     "text": [
      "0:\tlearn: 0.6673415\ttest: 0.6664174\tbest: 0.6664174 (0)\ttotal: 415ms\tremaining: 5m 30s\n",
      "100:\tlearn: 0.7031177\ttest: 0.6997066\tbest: 0.6997317 (99)\ttotal: 43.7s\tremaining: 5m\n",
      "200:\tlearn: 0.7127155\ttest: 0.7082109\tbest: 0.7082109 (200)\ttotal: 1m 26s\tremaining: 4m 16s\n",
      "300:\tlearn: 0.7188693\ttest: 0.7128381\tbest: 0.7128381 (300)\ttotal: 2m 9s\tremaining: 3m 33s\n",
      "400:\tlearn: 0.7241839\ttest: 0.7166328\tbest: 0.7166328 (400)\ttotal: 2m 52s\tremaining: 2m 50s\n",
      "500:\tlearn: 0.7288743\ttest: 0.7197196\tbest: 0.7197380 (499)\ttotal: 3m 35s\tremaining: 2m 7s\n",
      "600:\tlearn: 0.7334347\ttest: 0.7230989\tbest: 0.7231073 (599)\ttotal: 4m 17s\tremaining: 1m 24s\n",
      "700:\tlearn: 0.7377615\ttest: 0.7258133\tbest: 0.7258133 (700)\ttotal: 5m\tremaining: 41.1s\n",
      "796:\tlearn: 0.7418043\ttest: 0.7282667\tbest: 0.7282886 (793)\ttotal: 5m 40s\tremaining: 0us\n",
      "\n",
      "bestTest = 0.7282885821\n",
      "bestIteration = 793\n",
      "\n",
      "Shrink model to first 794 iterations.\n"
     ]
    },
    {
     "name": "stderr",
     "output_type": "stream",
     "text": [
      "[I 2025-07-14 15:53:14,015] Trial 3 finished with value: 0.9014208333333333 and parameters: {'iterations': 797, 'learning_rate': 0.04975559371975358, 'depth': 9, 'l2_leaf_reg': 6.8487298295293, 'border_count': 62, 'random_strength': 0.2371385035335718, 'bagging_temperature': 0.3335986369552645}. Best is trial 3 with value: 0.9014208333333333.\n"
     ]
    },
    {
     "name": "stdout",
     "output_type": "stream",
     "text": [
      "0:\tlearn: 0.6479260\ttest: 0.6462606\tbest: 0.6462606 (0)\ttotal: 393ms\tremaining: 9m 41s\n",
      "100:\tlearn: 0.7037552\ttest: 0.7008983\tbest: 0.7009053 (98)\ttotal: 33.6s\tremaining: 7m 38s\n",
      "200:\tlearn: 0.7107229\ttest: 0.7073431\tbest: 0.7073431 (200)\ttotal: 1m 6s\tremaining: 7m 2s\n",
      "300:\tlearn: 0.7140275\ttest: 0.7103370\tbest: 0.7103370 (300)\ttotal: 1m 39s\tremaining: 6m 29s\n",
      "400:\tlearn: 0.7169210\ttest: 0.7124392\tbest: 0.7124392 (400)\ttotal: 2m 12s\tremaining: 5m 57s\n",
      "500:\tlearn: 0.7192344\ttest: 0.7142455\tbest: 0.7142455 (500)\ttotal: 2m 45s\tremaining: 5m 23s\n",
      "600:\tlearn: 0.7214660\ttest: 0.7158435\tbest: 0.7158461 (598)\ttotal: 3m 18s\tremaining: 4m 49s\n",
      "700:\tlearn: 0.7236957\ttest: 0.7172472\tbest: 0.7172540 (694)\ttotal: 3m 51s\tremaining: 4m 16s\n",
      "800:\tlearn: 0.7256246\ttest: 0.7186998\tbest: 0.7187398 (798)\ttotal: 4m 24s\tremaining: 3m 43s\n",
      "900:\tlearn: 0.7273300\ttest: 0.7198921\tbest: 0.7201358 (889)\ttotal: 4m 57s\tremaining: 3m 10s\n",
      "1000:\tlearn: 0.7290294\ttest: 0.7213278\tbest: 0.7213278 (1000)\ttotal: 5m 30s\tremaining: 2m 37s\n",
      "1100:\tlearn: 0.7306657\ttest: 0.7222620\tbest: 0.7223088 (1073)\ttotal: 6m 3s\tremaining: 2m 4s\n",
      "1200:\tlearn: 0.7324329\ttest: 0.7234852\tbest: 0.7236115 (1186)\ttotal: 6m 36s\tremaining: 1m 31s\n",
      "1300:\tlearn: 0.7340284\ttest: 0.7245691\tbest: 0.7246438 (1286)\ttotal: 7m 9s\tremaining: 58.8s\n",
      "1400:\tlearn: 0.7355361\ttest: 0.7253178\tbest: 0.7253178 (1400)\ttotal: 7m 42s\tremaining: 25.8s\n",
      "1478:\tlearn: 0.7367255\ttest: 0.7259615\tbest: 0.7261051 (1477)\ttotal: 8m 8s\tremaining: 0us\n",
      "\n",
      "bestTest = 0.7261050981\n",
      "bestIteration = 1477\n",
      "\n",
      "Shrink model to first 1478 iterations.\n"
     ]
    },
    {
     "name": "stderr",
     "output_type": "stream",
     "text": [
      "[I 2025-07-14 16:01:42,433] Trial 4 finished with value: 0.90030625 and parameters: {'iterations': 1479, 'learning_rate': 0.09515030303124601, 'depth': 6, 'l2_leaf_reg': 4.9309524389823345, 'border_count': 171, 'random_strength': 0.23196728139437084, 'bagging_temperature': 0.038162944098501184}. Best is trial 3 with value: 0.9014208333333333.\n"
     ]
    },
    {
     "name": "stdout",
     "output_type": "stream",
     "text": [
      "0:\tlearn: 0.6615734\ttest: 0.6601037\tbest: 0.6601037 (0)\ttotal: 453ms\tremaining: 8m 25s\n",
      "100:\tlearn: 0.6915684\ttest: 0.6883547\tbest: 0.6883547 (100)\ttotal: 45.6s\tremaining: 7m 39s\n",
      "200:\tlearn: 0.7036452\ttest: 0.6996811\tbest: 0.6996811 (200)\ttotal: 1m 30s\tremaining: 6m 54s\n",
      "300:\tlearn: 0.7092545\ttest: 0.7050310\tbest: 0.7050310 (300)\ttotal: 2m 15s\tremaining: 6m 8s\n",
      "400:\tlearn: 0.7130484\ttest: 0.7080932\tbest: 0.7080932 (400)\ttotal: 2m 59s\tremaining: 5m 21s\n",
      "500:\tlearn: 0.7160195\ttest: 0.7108328\tbest: 0.7108328 (500)\ttotal: 3m 44s\tremaining: 4m 36s\n",
      "600:\tlearn: 0.7186328\ttest: 0.7129207\tbest: 0.7129379 (599)\ttotal: 4m 28s\tremaining: 3m 51s\n",
      "700:\tlearn: 0.7212121\ttest: 0.7146499\tbest: 0.7146499 (699)\ttotal: 5m 13s\tremaining: 3m 6s\n",
      "800:\tlearn: 0.7237336\ttest: 0.7164798\tbest: 0.7164798 (800)\ttotal: 5m 57s\tremaining: 2m 21s\n",
      "900:\tlearn: 0.7263056\ttest: 0.7183356\tbest: 0.7183356 (900)\ttotal: 6m 41s\tremaining: 1m 36s\n",
      "1000:\tlearn: 0.7287007\ttest: 0.7198163\tbest: 0.7198937 (999)\ttotal: 7m 24s\tremaining: 52s\n",
      "1100:\tlearn: 0.7310363\ttest: 0.7212362\tbest: 0.7212362 (1100)\ttotal: 8m 8s\tremaining: 7.54s\n",
      "1117:\tlearn: 0.7314242\ttest: 0.7215187\tbest: 0.7215187 (1117)\ttotal: 8m 15s\tremaining: 0us\n",
      "\n",
      "bestTest = 0.7215186962\n",
      "bestIteration = 1117\n",
      "\n"
     ]
    },
    {
     "name": "stderr",
     "output_type": "stream",
     "text": [
      "[I 2025-07-14 16:10:20,185] Trial 5 finished with value: 0.8991166666666667 and parameters: {'iterations': 1118, 'learning_rate': 0.025536221404216224, 'depth': 9, 'l2_leaf_reg': 8.043288908041365, 'border_count': 196, 'random_strength': 0.3571735637904898, 'bagging_temperature': 0.25958073760798905}. Best is trial 3 with value: 0.9014208333333333.\n"
     ]
    },
    {
     "name": "stdout",
     "output_type": "stream",
     "text": [
      "0:\tlearn: 0.6560157\ttest: 0.6541533\tbest: 0.6541533 (0)\ttotal: 488ms\tremaining: 6m 5s\n",
      "100:\tlearn: 0.7072088\ttest: 0.7027849\tbest: 0.7027849 (100)\ttotal: 45.2s\tremaining: 4m 50s\n",
      "200:\tlearn: 0.7164246\ttest: 0.7110538\tbest: 0.7110538 (200)\ttotal: 1m 29s\tremaining: 4m 3s\n",
      "300:\tlearn: 0.7233563\ttest: 0.7155541\tbest: 0.7156693 (298)\ttotal: 2m 12s\tremaining: 3m 18s\n",
      "400:\tlearn: 0.7299117\ttest: 0.7198499\tbest: 0.7199323 (399)\ttotal: 2m 56s\tremaining: 2m 33s\n",
      "500:\tlearn: 0.7355790\ttest: 0.7236963\tbest: 0.7236963 (500)\ttotal: 3m 40s\tremaining: 1m 49s\n",
      "600:\tlearn: 0.7408926\ttest: 0.7271830\tbest: 0.7271840 (598)\ttotal: 4m 24s\tremaining: 1m 5s\n",
      "700:\tlearn: 0.7461368\ttest: 0.7306040\tbest: 0.7306040 (700)\ttotal: 5m 8s\tremaining: 22s\n",
      "750:\tlearn: 0.7485280\ttest: 0.7320703\tbest: 0.7320703 (750)\ttotal: 5m 30s\tremaining: 0us\n",
      "\n",
      "bestTest = 0.73207028\n",
      "bestIteration = 750\n",
      "\n"
     ]
    },
    {
     "name": "stderr",
     "output_type": "stream",
     "text": [
      "[I 2025-07-14 16:16:11,825] Trial 6 finished with value: 0.9026270833333333 and parameters: {'iterations': 751, 'learning_rate': 0.06480350736944289, 'depth': 9, 'l2_leaf_reg': 1.9802737081442907, 'border_count': 184, 'random_strength': 0.7896528030303464, 'bagging_temperature': 0.03367284433922724}. Best is trial 6 with value: 0.9026270833333333.\n"
     ]
    },
    {
     "name": "stdout",
     "output_type": "stream",
     "text": [
      "0:\tlearn: 0.5991701\ttest: 0.5971300\tbest: 0.5971300 (0)\ttotal: 332ms\tremaining: 2m 58s\n",
      "100:\tlearn: 0.6977640\ttest: 0.6951247\tbest: 0.6951247 (100)\ttotal: 32.7s\tremaining: 2m 22s\n",
      "200:\tlearn: 0.7062014\ttest: 0.7027999\tbest: 0.7027999 (200)\ttotal: 1m 5s\tremaining: 1m 51s\n",
      "300:\tlearn: 0.7097491\ttest: 0.7064228\tbest: 0.7064445 (299)\ttotal: 1m 37s\tremaining: 1m 17s\n",
      "400:\tlearn: 0.7122624\ttest: 0.7086890\tbest: 0.7086890 (400)\ttotal: 2m 10s\tremaining: 45.2s\n",
      "500:\tlearn: 0.7143568\ttest: 0.7104936\tbest: 0.7104936 (500)\ttotal: 2m 42s\tremaining: 12.7s\n",
      "539:\tlearn: 0.7151116\ttest: 0.7107297\tbest: 0.7107297 (539)\ttotal: 2m 55s\tremaining: 0us\n",
      "\n",
      "bestTest = 0.7107297126\n",
      "bestIteration = 539\n",
      "\n"
     ]
    },
    {
     "name": "stderr",
     "output_type": "stream",
     "text": [
      "[I 2025-07-14 16:19:27,302] Trial 7 finished with value: 0.8953625 and parameters: {'iterations': 540, 'learning_rate': 0.059897643923737406, 'depth': 6, 'l2_leaf_reg': 3.6234763000584485, 'border_count': 55, 'random_strength': 0.24913331780909215, 'bagging_temperature': 0.8081008018197535}. Best is trial 6 with value: 0.9026270833333333.\n"
     ]
    },
    {
     "name": "stdout",
     "output_type": "stream",
     "text": [
      "0:\tlearn: 0.6590962\ttest: 0.6590933\tbest: 0.6590933 (0)\ttotal: 426ms\tremaining: 6m 58s\n",
      "100:\tlearn: 0.7086569\ttest: 0.7046196\tbest: 0.7046597 (99)\ttotal: 40.2s\tremaining: 5m 51s\n",
      "200:\tlearn: 0.7171714\ttest: 0.7112104\tbest: 0.7112347 (198)\ttotal: 1m 19s\tremaining: 5m 9s\n",
      "300:\tlearn: 0.7232236\ttest: 0.7162676\tbest: 0.7162676 (300)\ttotal: 1m 58s\tremaining: 4m 28s\n",
      "400:\tlearn: 0.7284544\ttest: 0.7194548\tbest: 0.7194548 (400)\ttotal: 2m 38s\tremaining: 3m 50s\n",
      "500:\tlearn: 0.7331409\ttest: 0.7227375\tbest: 0.7227375 (500)\ttotal: 3m 18s\tremaining: 3m 11s\n",
      "600:\tlearn: 0.7375835\ttest: 0.7260366\tbest: 0.7260366 (600)\ttotal: 3m 58s\tremaining: 2m 31s\n",
      "700:\tlearn: 0.7418525\ttest: 0.7288661\tbest: 0.7289420 (697)\ttotal: 4m 36s\tremaining: 1m 51s\n",
      "800:\tlearn: 0.7457176\ttest: 0.7313523\tbest: 0.7313523 (800)\ttotal: 5m 15s\tremaining: 1m 12s\n",
      "900:\tlearn: 0.7497058\ttest: 0.7335314\tbest: 0.7335314 (900)\ttotal: 5m 54s\tremaining: 32.7s\n",
      "983:\tlearn: 0.7525563\ttest: 0.7350791\tbest: 0.7350791 (983)\ttotal: 6m 27s\tremaining: 0us\n",
      "\n",
      "bestTest = 0.735079109\n",
      "bestIteration = 983\n",
      "\n"
     ]
    },
    {
     "name": "stderr",
     "output_type": "stream",
     "text": [
      "[I 2025-07-14 16:26:15,577] Trial 8 finished with value: 0.9035125 and parameters: {'iterations': 984, 'learning_rate': 0.09180467564708239, 'depth': 8, 'l2_leaf_reg': 7.96098294417899, 'border_count': 78, 'random_strength': 0.32652565130969546, 'bagging_temperature': 0.3416458552088947}. Best is trial 8 with value: 0.9035125.\n"
     ]
    },
    {
     "name": "stdout",
     "output_type": "stream",
     "text": [
      "0:\tlearn: 0.6590962\ttest: 0.6590933\tbest: 0.6590933 (0)\ttotal: 385ms\tremaining: 6m 23s\n",
      "100:\tlearn: 0.7013223\ttest: 0.6980895\tbest: 0.6980895 (100)\ttotal: 40.3s\tremaining: 5m 57s\n",
      "200:\tlearn: 0.7103444\ttest: 0.7068575\tbest: 0.7068575 (200)\ttotal: 1m 19s\tremaining: 5m 15s\n",
      "300:\tlearn: 0.7152736\ttest: 0.7104442\tbest: 0.7104874 (293)\ttotal: 1m 58s\tremaining: 4m 34s\n",
      "400:\tlearn: 0.7192947\ttest: 0.7132563\tbest: 0.7133238 (397)\ttotal: 2m 37s\tremaining: 3m 53s\n",
      "500:\tlearn: 0.7230424\ttest: 0.7155619\tbest: 0.7155676 (499)\ttotal: 3m 16s\tremaining: 3m 14s\n",
      "600:\tlearn: 0.7261048\ttest: 0.7178479\tbest: 0.7178479 (600)\ttotal: 3m 55s\tremaining: 2m 34s\n",
      "700:\tlearn: 0.7292692\ttest: 0.7200998\tbest: 0.7201251 (696)\ttotal: 4m 34s\tremaining: 1m 55s\n",
      "800:\tlearn: 0.7321702\ttest: 0.7223422\tbest: 0.7223422 (800)\ttotal: 5m 13s\tremaining: 1m 16s\n",
      "900:\tlearn: 0.7349919\ttest: 0.7242123\tbest: 0.7242123 (900)\ttotal: 5m 52s\tremaining: 37.2s\n",
      "995:\tlearn: 0.7375229\ttest: 0.7258490\tbest: 0.7258833 (993)\ttotal: 6m 30s\tremaining: 0us\n",
      "\n",
      "bestTest = 0.7258833451\n",
      "bestIteration = 993\n",
      "\n",
      "Shrink model to first 994 iterations.\n"
     ]
    },
    {
     "name": "stderr",
     "output_type": "stream",
     "text": [
      "[I 2025-07-14 16:33:05,349] Trial 9 finished with value: 0.90045625 and parameters: {'iterations': 996, 'learning_rate': 0.05303016646912162, 'depth': 8, 'l2_leaf_reg': 1.2970595495804869, 'border_count': 78, 'random_strength': 0.29497073250239125, 'bagging_temperature': 0.23138926837891893}. Best is trial 8 with value: 0.9035125.\n"
     ]
    },
    {
     "name": "stdout",
     "output_type": "stream",
     "text": [
      "0:\tlearn: 0.6297591\ttest: 0.6276310\tbest: 0.6276310 (0)\ttotal: 321ms\tremaining: 1m 36s\n",
      "100:\tlearn: 0.6946572\ttest: 0.6925055\tbest: 0.6925055 (100)\ttotal: 27.5s\tremaining: 55.1s\n",
      "200:\tlearn: 0.7031898\ttest: 0.7005754\tbest: 0.7005754 (200)\ttotal: 54s\tremaining: 27.4s\n",
      "300:\tlearn: 0.7063434\ttest: 0.7037648\tbest: 0.7037648 (300)\ttotal: 1m 21s\tremaining: 541ms\n",
      "302:\tlearn: 0.7064449\ttest: 0.7038255\tbest: 0.7038255 (302)\ttotal: 1m 22s\tremaining: 0us\n",
      "\n",
      "bestTest = 0.703825529\n",
      "bestIteration = 302\n",
      "\n"
     ]
    },
    {
     "name": "stderr",
     "output_type": "stream",
     "text": [
      "[I 2025-07-14 16:34:46,186] Trial 10 finished with value: 0.89345 and parameters: {'iterations': 303, 'learning_rate': 0.08023826762058159, 'depth': 4, 'l2_leaf_reg': 5.486619161987429, 'border_count': 116, 'random_strength': 0.5445249800243411, 'bagging_temperature': 0.9549985309656361}. Best is trial 8 with value: 0.9035125.\n"
     ]
    },
    {
     "name": "stdout",
     "output_type": "stream",
     "text": [
      "0:\tlearn: 0.6606092\ttest: 0.6577862\tbest: 0.6577862 (0)\ttotal: 914ms\tremaining: 12m 24s\n",
      "100:\tlearn: 0.7139305\ttest: 0.7083989\tbest: 0.7083989 (100)\ttotal: 1m 29s\tremaining: 10m 32s\n",
      "200:\tlearn: 0.7266176\ttest: 0.7175872\tbest: 0.7175872 (200)\ttotal: 2m 56s\tremaining: 9m\n",
      "300:\tlearn: 0.7380427\ttest: 0.7255559\tbest: 0.7255559 (300)\ttotal: 4m 24s\tremaining: 7m 31s\n",
      "400:\tlearn: 0.7485922\ttest: 0.7321205\tbest: 0.7321205 (400)\ttotal: 5m 51s\tremaining: 6m 3s\n",
      "500:\tlearn: 0.7584208\ttest: 0.7378672\tbest: 0.7378672 (500)\ttotal: 7m 19s\tremaining: 4m 36s\n",
      "600:\tlearn: 0.7674767\ttest: 0.7434749\tbest: 0.7434749 (600)\ttotal: 8m 48s\tremaining: 3m 8s\n",
      "700:\tlearn: 0.7761788\ttest: 0.7487416\tbest: 0.7487774 (698)\ttotal: 10m 16s\tremaining: 1m 41s\n",
      "800:\tlearn: 0.7840046\ttest: 0.7532957\tbest: 0.7532957 (800)\ttotal: 11m 44s\tremaining: 13.2s\n",
      "815:\tlearn: 0.7851483\ttest: 0.7539210\tbest: 0.7539409 (814)\ttotal: 11m 57s\tremaining: 0us\n",
      "\n",
      "bestTest = 0.7539409064\n",
      "bestIteration = 814\n",
      "\n",
      "Shrink model to first 815 iterations.\n"
     ]
    },
    {
     "name": "stderr",
     "output_type": "stream",
     "text": [
      "[I 2025-07-14 16:47:03,987] Trial 11 finished with value: 0.9104416666666667 and parameters: {'iterations': 816, 'learning_rate': 0.07577895433758029, 'depth': 10, 'l2_leaf_reg': 1.1815910731938999, 'border_count': 254, 'random_strength': 0.8798537958033361, 'bagging_temperature': 0.4226927136882493}. Best is trial 11 with value: 0.9104416666666667.\n"
     ]
    },
    {
     "name": "stdout",
     "output_type": "stream",
     "text": [
      "0:\tlearn: 0.6625715\ttest: 0.6601631\tbest: 0.6601631 (0)\ttotal: 924ms\tremaining: 14m 31s\n",
      "100:\tlearn: 0.7123427\ttest: 0.7068795\tbest: 0.7068795 (100)\ttotal: 1m 33s\tremaining: 12m 59s\n",
      "200:\tlearn: 0.7241754\ttest: 0.7161416\tbest: 0.7161416 (200)\ttotal: 3m 4s\tremaining: 11m 22s\n",
      "300:\tlearn: 0.7345169\ttest: 0.7233582\tbest: 0.7233582 (300)\ttotal: 4m 36s\tremaining: 9m 49s\n",
      "400:\tlearn: 0.7442273\ttest: 0.7293951\tbest: 0.7294360 (397)\ttotal: 6m 8s\tremaining: 8m 18s\n",
      "500:\tlearn: 0.7529296\ttest: 0.7352869\tbest: 0.7352869 (500)\ttotal: 7m 38s\tremaining: 6m 45s\n",
      "600:\tlearn: 0.7611834\ttest: 0.7403413\tbest: 0.7403413 (600)\ttotal: 9m 10s\tremaining: 5m 13s\n",
      "700:\tlearn: 0.7688424\ttest: 0.7449163\tbest: 0.7449163 (700)\ttotal: 10m 42s\tremaining: 3m 42s\n",
      "800:\tlearn: 0.7760078\ttest: 0.7491573\tbest: 0.7492130 (799)\ttotal: 12m 14s\tremaining: 2m 11s\n",
      "900:\tlearn: 0.7831757\ttest: 0.7530876\tbest: 0.7532059 (898)\ttotal: 13m 46s\tremaining: 39.4s\n",
      "943:\tlearn: 0.7859978\ttest: 0.7550076\tbest: 0.7550361 (942)\ttotal: 14m 25s\tremaining: 0us\n",
      "\n",
      "bestTest = 0.755036109\n",
      "bestIteration = 942\n",
      "\n",
      "Shrink model to first 943 iterations.\n"
     ]
    },
    {
     "name": "stderr",
     "output_type": "stream",
     "text": [
      "[I 2025-07-14 17:01:50,955] Trial 12 finished with value: 0.9107479166666667 and parameters: {'iterations': 944, 'learning_rate': 0.07460152628950004, 'depth': 10, 'l2_leaf_reg': 9.887991072476051, 'border_count': 255, 'random_strength': 0.553095546824256, 'bagging_temperature': 0.4381998247104726}. Best is trial 12 with value: 0.9107479166666667.\n"
     ]
    },
    {
     "name": "stdout",
     "output_type": "stream",
     "text": [
      "0:\tlearn: 0.6632325\ttest: 0.6611631\tbest: 0.6611631 (0)\ttotal: 891ms\tremaining: 8m 3s\n",
      "100:\tlearn: 0.7119501\ttest: 0.7067218\tbest: 0.7067218 (100)\ttotal: 1m 28s\tremaining: 6m 28s\n",
      "200:\tlearn: 0.7238493\ttest: 0.7163006\tbest: 0.7163006 (200)\ttotal: 2m 55s\tremaining: 4m 59s\n",
      "300:\tlearn: 0.7336287\ttest: 0.7229050\tbest: 0.7229208 (299)\ttotal: 4m 21s\tremaining: 3m 31s\n",
      "400:\tlearn: 0.7433796\ttest: 0.7289102\tbest: 0.7289102 (400)\ttotal: 5m 50s\tremaining: 2m 4s\n",
      "500:\tlearn: 0.7524641\ttest: 0.7342519\tbest: 0.7342519 (500)\ttotal: 7m 18s\tremaining: 37.7s\n",
      "543:\tlearn: 0.7559632\ttest: 0.7367165\tbest: 0.7367165 (543)\ttotal: 7m 57s\tremaining: 0us\n",
      "\n",
      "bestTest = 0.7367164864\n",
      "bestIteration = 543\n",
      "\n"
     ]
    },
    {
     "name": "stderr",
     "output_type": "stream",
     "text": [
      "[I 2025-07-14 17:10:07,156] Trial 13 finished with value: 0.9043979166666667 and parameters: {'iterations': 544, 'learning_rate': 0.07293046754244933, 'depth': 10, 'l2_leaf_reg': 9.609959642113433, 'border_count': 253, 'random_strength': 0.7173934537812818, 'bagging_temperature': 0.4678084740609268}. Best is trial 12 with value: 0.9107479166666667.\n"
     ]
    },
    {
     "name": "stdout",
     "output_type": "stream",
     "text": [
      "0:\tlearn: 0.6631853\ttest: 0.6620144\tbest: 0.6620144 (0)\ttotal: 887ms\tremaining: 13m 15s\n",
      "100:\tlearn: 0.7027707\ttest: 0.6988399\tbest: 0.6988399 (100)\ttotal: 1m 29s\tremaining: 11m 49s\n",
      "200:\tlearn: 0.7141197\ttest: 0.7083607\tbest: 0.7083607 (200)\ttotal: 2m 55s\tremaining: 10m 10s\n",
      "300:\tlearn: 0.7208799\ttest: 0.7140629\tbest: 0.7140629 (300)\ttotal: 4m 21s\tremaining: 8m 38s\n",
      "400:\tlearn: 0.7267138\ttest: 0.7181069\tbest: 0.7181323 (399)\ttotal: 5m 50s\tremaining: 7m 14s\n",
      "500:\tlearn: 0.7326769\ttest: 0.7216451\tbest: 0.7216451 (500)\ttotal: 7m 16s\tremaining: 5m 45s\n",
      "600:\tlearn: 0.7382494\ttest: 0.7255608\tbest: 0.7255608 (600)\ttotal: 8m 43s\tremaining: 4m 18s\n",
      "700:\tlearn: 0.7436296\ttest: 0.7287731\tbest: 0.7287731 (700)\ttotal: 10m 9s\tremaining: 2m 51s\n",
      "800:\tlearn: 0.7486776\ttest: 0.7319208\tbest: 0.7320009 (798)\ttotal: 11m 36s\tremaining: 1m 24s\n",
      "897:\tlearn: 0.7536420\ttest: 0.7355886\tbest: 0.7356521 (894)\ttotal: 13m 1s\tremaining: 0us\n",
      "\n",
      "bestTest = 0.7356521041\n",
      "bestIteration = 894\n",
      "\n",
      "Shrink model to first 895 iterations.\n"
     ]
    },
    {
     "name": "stderr",
     "output_type": "stream",
     "text": [
      "[I 2025-07-14 17:23:27,580] Trial 14 finished with value: 0.90403125 and parameters: {'iterations': 898, 'learning_rate': 0.03952389587309868, 'depth': 10, 'l2_leaf_reg': 3.188652353245689, 'border_count': 244, 'random_strength': 0.5502698980015268, 'bagging_temperature': 0.5063266063933292}. Best is trial 12 with value: 0.9107479166666667.\n"
     ]
    },
    {
     "name": "stdout",
     "output_type": "stream",
     "text": [
      "0:\tlearn: 0.6613395\ttest: 0.6596480\tbest: 0.6596480 (0)\ttotal: 928ms\tremaining: 17m 59s\n",
      "100:\tlearn: 0.7127977\ttest: 0.7076007\tbest: 0.7076007 (100)\ttotal: 1m 26s\tremaining: 15m 10s\n",
      "200:\tlearn: 0.7249776\ttest: 0.7168420\tbest: 0.7168420 (200)\ttotal: 2m 51s\tremaining: 13m 43s\n",
      "300:\tlearn: 0.7361241\ttest: 0.7234043\tbest: 0.7234043 (300)\ttotal: 4m 17s\tremaining: 12m 18s\n",
      "400:\tlearn: 0.7464443\ttest: 0.7304606\tbest: 0.7305370 (398)\ttotal: 5m 44s\tremaining: 10m 55s\n",
      "500:\tlearn: 0.7553442\ttest: 0.7357434\tbest: 0.7357434 (500)\ttotal: 7m 9s\tremaining: 9m 29s\n",
      "600:\tlearn: 0.7641902\ttest: 0.7409710\tbest: 0.7409710 (600)\ttotal: 8m 34s\tremaining: 8m 3s\n",
      "700:\tlearn: 0.7719327\ttest: 0.7458394\tbest: 0.7459165 (699)\ttotal: 10m 1s\tremaining: 6m 38s\n",
      "800:\tlearn: 0.7796775\ttest: 0.7503805\tbest: 0.7503805 (800)\ttotal: 11m 26s\tremaining: 5m 12s\n",
      "900:\tlearn: 0.7870346\ttest: 0.7548655\tbest: 0.7548655 (900)\ttotal: 12m 52s\tremaining: 3m 46s\n",
      "1000:\tlearn: 0.7937903\ttest: 0.7588111\tbest: 0.7588111 (1000)\ttotal: 14m 17s\tremaining: 2m 20s\n",
      "1100:\tlearn: 0.7999275\ttest: 0.7628323\tbest: 0.7628323 (1100)\ttotal: 15m 44s\tremaining: 54.9s\n",
      "1164:\tlearn: 0.8033250\ttest: 0.7647784\tbest: 0.7647784 (1164)\ttotal: 16m 40s\tremaining: 0us\n",
      "\n",
      "bestTest = 0.7647784236\n",
      "bestIteration = 1164\n",
      "\n"
     ]
    },
    {
     "name": "stderr",
     "output_type": "stream",
     "text": [
      "[I 2025-07-14 17:40:29,824] Trial 15 finished with value: 0.9141666666666667 and parameters: {'iterations': 1165, 'learning_rate': 0.07478361216767605, 'depth': 10, 'l2_leaf_reg': 4.086922676710861, 'border_count': 226, 'random_strength': 0.9749389319660008, 'bagging_temperature': 0.6217145182218249}. Best is trial 15 with value: 0.9141666666666667.\n"
     ]
    },
    {
     "name": "stdout",
     "output_type": "stream",
     "text": [
      "0:\tlearn: 0.6580936\ttest: 0.6562820\tbest: 0.6562820 (0)\ttotal: 868ms\tremaining: 18m 19s\n"
     ]
    }
   ],
   "source": [
    "# Optuna 튜닝 시작\n",
    "study = optuna.create_study(direction=\"maximize\")\n",
    "# XGB 때 n_trials=30 으로 했었는데 너무 오래걸려서 일단 20으로 설정\n",
    "# n_trials는 optuna가 시도할 하이퍼파라미터 조합의 개수 (몇번 학습할건지)\n",
    "study.optimize(objective, n_trials=30)"
   ]
  },
  {
   "cell_type": "code",
   "execution_count": null,
   "id": "9aac50da-17e7-4944-8384-f395a6c9c617",
   "metadata": {},
   "outputs": [],
   "source": [
    "# 이렇게 하면 총 10번 추가로 돌아감\n",
    "# study.optimize(objective, n_trials=10)"
   ]
  },
  {
   "cell_type": "code",
   "execution_count": null,
   "id": "85613098-260f-454f-8265-175842b50959",
   "metadata": {},
   "outputs": [],
   "source": [
    "# 결과 출력 (궁금하니까 --> 여기선 F1이 micro가 아니라 낮을 수 밖에 없다.)\n",
    "print(\"Best F1 score:\", study.best_value)\n",
    "print(\"Best parameters:\", study.best_params)"
   ]
  },
  {
   "cell_type": "code",
   "execution_count": null,
   "id": "629019cf-15d8-482b-8e0f-5fbd65dcb022",
   "metadata": {},
   "outputs": [],
   "source": [
    "# 최적 파라미터로 모델 학습\n",
    "# Optuna가 튜닝한 것이 아닌 것들은 다시 넣어줘야함.\n",
    "# Optuna에 넣은 이유는 기본적으로 들어있어야 하기 때문에\n",
    "best_params = study.best_params\n",
    "best_params.update({\n",
    "    \"loss_function\": \"Logloss\",\n",
    "    \"eval_metric\": \"F1\",\n",
    "    \"random_state\": 42,\n",
    "    \"verbose\": 100\n",
    "})"
   ]
  },
  {
   "cell_type": "code",
   "execution_count": null,
   "id": "cfbc08e2-bc65-4855-a19f-4a22bafa4927",
   "metadata": {},
   "outputs": [],
   "source": [
    "# 실제 모델\n",
    "model = CatBoostClassifier(**best_params)\n",
    "model.fit(X_train, y_train,\n",
    "          eval_set=(X_val, y_val),\n",
    "          early_stopping_rounds=50)"
   ]
  },
  {
   "cell_type": "code",
   "execution_count": null,
   "id": "316f6abf-5ad1-4344-9970-7fd64097eee6",
   "metadata": {},
   "outputs": [],
   "source": [
    "# 예측\n",
    "test_df['Segment_pred'] = model.predict(X_test)"
   ]
  },
  {
   "cell_type": "code",
   "execution_count": null,
   "id": "06503699-83d6-4872-95d1-2d3f35c00be5",
   "metadata": {},
   "outputs": [],
   "source": [
    "test_df['Segment_pred'].value_counts()"
   ]
  },
  {
   "cell_type": "markdown",
   "id": "5852d7bf-725b-490f-9003-4d249eeb3306",
   "metadata": {},
   "source": [
    "### 2단계 -> Segment == C or D vs Other (E 제거)"
   ]
  },
  {
   "cell_type": "code",
   "execution_count": null,
   "id": "5253612a-1830-4604-ae47-beca12b2b6be",
   "metadata": {},
   "outputs": [],
   "source": [
    "train_df2= train_df[train_df['Segment'] != 'E'].copy()\n",
    "train_df2['Segment1'] = train_df2['Segment'].apply(lambda x: x if x in ['C', 'D'] else 'other')"
   ]
  },
  {
   "cell_type": "code",
   "execution_count": null,
   "id": "54bbe331-3364-4dbc-8eb5-a26aea9357e8",
   "metadata": {},
   "outputs": [],
   "source": [
    "exclude_cols = ['ID', '기준년월', 'Segment', 'Segment1']\n",
    "feature_cols = [\n",
    "    col for col in train_df.columns\n",
    "    if col not in exclude_cols\n",
    "]"
   ]
  },
  {
   "cell_type": "code",
   "execution_count": null,
   "id": "854f20da-9150-491d-bcf9-15080a3a17c9",
   "metadata": {},
   "outputs": [],
   "source": [
    "# 학습용 피처/타겟 정의\n",
    "X2 = train_df2[feature_cols]\n",
    "y2 = train_df2['Segment1']"
   ]
  },
  {
   "cell_type": "code",
   "execution_count": null,
   "id": "c27e98af-922b-484a-b09b-39a483b1975e",
   "metadata": {},
   "outputs": [],
   "source": [
    "# 예측할 test subset (1단계 결과가 Other인 경우)\n",
    "test_df2 = test_df[test_df['Segment_pred'] == 'other'].copy()"
   ]
  },
  {
   "cell_type": "code",
   "execution_count": null,
   "id": "ee02b2a7-852c-4e53-a978-7b6cb9fc94fe",
   "metadata": {},
   "outputs": [],
   "source": [
    "# X와 test_df 양쪽에 모두 존재하는 컬럼만 선택\n",
    "common_cols = [col for col in X2.columns if col in test_df2.columns]\n",
    "X2 = X2[common_cols]\n",
    "X_test2 = test_df2[common_cols]"
   ]
  },
  {
   "cell_type": "code",
   "execution_count": null,
   "id": "3a3f94a3-5271-49f1-a122-281065472270",
   "metadata": {},
   "outputs": [],
   "source": [
    "# 학습/검증 분리\n",
    "X_train, X_val, y_train, y_val = train_test_split(X2, y2, test_size=0.2, random_state=42, stratify=y2)"
   ]
  },
  {
   "cell_type": "code",
   "execution_count": null,
   "id": "14ccffcd-7766-4a69-90cf-bc1561b6b648",
   "metadata": {},
   "outputs": [],
   "source": [
    "def objective2(trial):\n",
    "    params = {\n",
    "        # boosting 반복 횟수\n",
    "        \"iterations\": trial.suggest_int(\"iterations\", 300, 1000),\n",
    "        # 한번에 얼마나 빠르게 학습하지지\n",
    "        \"learning_rate\": trial.suggest_float(\"learning_rate\", 0.01, 0.1),\n",
    "        # 트리의 깊이, 깊을수록 복잡한 모델이지만 과적합 가능성 O\n",
    "        \"depth\": trial.suggest_int(\"depth\", 4, 8), # --> 튜닝\n",
    "        # L2 정규화 , 높을수록 규제 강화 - 과적합 억제\n",
    "        \"l2_leaf_reg\": trial.suggest_float(\"l2_leaf_reg\", 3, 10),\n",
    "        # 수치형 피쳐를 이산화 할 때 사용하는 경계 개수 -> 수치형 많으면 영향력 있음\n",
    "        \"border_count\": trial.suggest_int(\"border_count\", 32, 128),\n",
    "        # 트리 분기시 f.i 계산에 노이즈를 얼마나 줄 것인가\n",
    "        \"random_strength\": trial.suggest_float(\"random_strength\", 0.5, 1.0),\n",
    "        # 샘플링의 다양성 조절 -> 과소적합일 땐 높이고, 과적합일 땐 낮게\n",
    "        \"bagging_temperature\": trial.suggest_float(\"bagging_temperature\", 0.2, 1.0),\n",
    "        # 손실 함수 : 다중분류\n",
    "        \"loss_function\": \"MultiClass\",\n",
    "        # 평가 지표\n",
    "        \"eval_metric\": \"TotalF1:average=Micro\",\n",
    "        # 학습 로그를 몇 step마다 보여줄지\n",
    "        \"verbose\": 100,\n",
    "        # 트리 분기 시 feature 중요도 계산에 주는 노이즈 크기\n",
    "        \"random_state\": 42\n",
    "    }\n",
    "    # early_stopping_rounds - 지정된 라운드 동안 성능 개선이 되지 않으면 학습 중지\n",
    "    model2 = CatBoostClassifier(**params)\n",
    "    model2.fit(X_train, y_train, eval_set=(X_val, y_val), early_stopping_rounds=30, verbose=100)\n",
    "\n",
    "    preds = model2.predict(X_val)\n",
    "    f1 = f1_score(y_val, preds, average='micro')\n",
    "    return f1"
   ]
  },
  {
   "cell_type": "code",
   "execution_count": null,
   "id": "b618c47d-bbfe-4458-8cb2-bb2ef8343483",
   "metadata": {},
   "outputs": [],
   "source": [
    "# Optuna 튜닝 시작\n",
    "study2 = optuna.create_study(direction=\"maximize\")\n",
    "# XGB 때 n_trials=30 으로 했었는데 너무 오래걸려서 일단 20으로 설정\n",
    "# n_trials는 optuna가 시도할 하이퍼파라미터 조합의 개수 (몇번 학습할건지)\n",
    "study2.optimize(objective2, n_trials=20)"
   ]
  },
  {
   "cell_type": "code",
   "execution_count": null,
   "id": "4e39c53a-f252-436f-91d2-52973fec0cf0",
   "metadata": {},
   "outputs": [],
   "source": [
    "# 결과 출력 (궁금하니까 --> 여기선 F1이 micro가 아니라 낮을 수 밖에 없다.)\n",
    "print(\"Best F1 score:\", study2.best_value)\n",
    "print(\"Best parameters:\", study2.best_params)"
   ]
  },
  {
   "cell_type": "code",
   "execution_count": null,
   "id": "823e159a-2260-460e-9140-ff5576413bff",
   "metadata": {},
   "outputs": [],
   "source": [
    "# 최적 파라미터로 모델 학습\n",
    "# Optuna가 튜닝한 것이 아닌 것들은 다시 넣어줘야함.\n",
    "# Optuna에 넣은 이유는 기본적으로 들어있어야 하기 때문에\n",
    "best_params2 = study2.best_params\n",
    "best_params2.update({\n",
    "    \"loss_function\": \"MultiClass\",\n",
    "    \"eval_metric\": \"TotalF1:average=Micro\",\n",
    "    \"random_state\": 42,\n",
    "    \"verbose\": 100\n",
    "})"
   ]
  },
  {
   "cell_type": "code",
   "execution_count": null,
   "id": "fa230dce-37e6-46d4-99dd-55ee81c4fef5",
   "metadata": {},
   "outputs": [],
   "source": [
    "# 실제 모델\n",
    "model2 = CatBoostClassifier(**best_params2)\n",
    "model2.fit(X_train, y_train,\n",
    "          eval_set=(X_val, y_val),\n",
    "          early_stopping_rounds=30)"
   ]
  },
  {
   "cell_type": "code",
   "execution_count": null,
   "id": "8518643d-364f-40cd-b874-332032fb012f",
   "metadata": {},
   "outputs": [],
   "source": [
    "# 예측\n",
    "test_df2['Segment_pred'] = model2.predict(X_test2).flatten()"
   ]
  },
  {
   "cell_type": "code",
   "execution_count": null,
   "id": "93a5d988-c212-4125-8e77-69b0a2611622",
   "metadata": {},
   "outputs": [],
   "source": [
    "test_df2['Segment_pred'].value_counts()"
   ]
  },
  {
   "cell_type": "code",
   "execution_count": null,
   "id": "1ff47dc5-3102-40ce-ae2b-3f3f08731c02",
   "metadata": {},
   "outputs": [],
   "source": [
    "# 예측 결과 병합\n",
    "# 중복된 ID 제거: 마지막 값을 기준으로 유지\n",
    "test_df2_dedup = test_df2.drop_duplicates(subset='ID', keep='last')\n",
    "test_df2_indexed = test_df2_dedup.set_index('ID')\n",
    "\n",
    "# test_df의 Segment_pred를 ID 기준으로 업데이트\n",
    "test_df.loc[test_df['ID'].isin(test_df2_indexed.index), 'Segment_pred'] = \\\n",
    "    test_df.loc[test_df['ID'].isin(test_df2_indexed.index), 'ID'].map(test_df2_indexed['Segment_pred'])"
   ]
  },
  {
   "cell_type": "markdown",
   "id": "f3bb80c5-7a77-4be6-9272-d6a890b666d0",
   "metadata": {},
   "source": [
    "### 3단계 -> Segment == a or B vs Other (C, D, E 제거)"
   ]
  },
  {
   "cell_type": "code",
   "execution_count": null,
   "id": "4099cc11-b43a-443e-b03a-a237ffffd795",
   "metadata": {},
   "outputs": [],
   "source": [
    "# 학습용 피처/타겟 정의\n",
    "train_df3 = train_df[train_df['Segment'].isin(['A', 'B'])].copy()\n",
    "train_df3['Segment1'] = train_df3['Segment']"
   ]
  },
  {
   "cell_type": "code",
   "execution_count": null,
   "id": "a880731b-cfc0-4e39-ab40-14f2a26a40c1",
   "metadata": {},
   "outputs": [],
   "source": [
    "exclude_cols = ['ID', '기준년월', 'Segment', 'Segment1']\n",
    "feature_cols = [\n",
    "    col for col in train_df.columns\n",
    "    if col not in exclude_cols\n",
    "]"
   ]
  },
  {
   "cell_type": "code",
   "execution_count": null,
   "id": "bf127ddd-38af-4ecb-b7e1-a43f8acde823",
   "metadata": {},
   "outputs": [],
   "source": [
    "# 학습용 피처/타겟 정의\n",
    "X3 = train_df3[feature_cols]\n",
    "y3 = train_df3['Segment1']"
   ]
  },
  {
   "cell_type": "code",
   "execution_count": null,
   "id": "c94b533e-14a8-47e8-a6ed-ce9b96adb4a2",
   "metadata": {},
   "outputs": [],
   "source": [
    "# 예측할 test subset (1단계 결과가 Other인 경우)\n",
    "test_df3 = test_df[test_df['Segment_pred'] == 'other'].copy()"
   ]
  },
  {
   "cell_type": "code",
   "execution_count": null,
   "id": "507eab9d-f7fb-4943-ba82-99dbf92b8560",
   "metadata": {},
   "outputs": [],
   "source": [
    "# X와 test_df 양쪽에 모두 존재하는 컬럼만 선택\n",
    "common_cols = [col for col in X3.columns if col in test_df3.columns]\n",
    "X3 = X3[common_cols]\n",
    "X_test3 = test_df3[common_cols]"
   ]
  },
  {
   "cell_type": "code",
   "execution_count": null,
   "id": "5bdab920-542d-4f0d-a96d-f8c3a34da3c4",
   "metadata": {},
   "outputs": [],
   "source": [
    "# 학습/검증 분리\n",
    "X_train, X_val, y_train, y_val = train_test_split(X3, y3, test_size=0.2, random_state=42, stratify=y3)"
   ]
  },
  {
   "cell_type": "code",
   "execution_count": null,
   "id": "dd13fcd8-1ece-4c71-9117-49b48a1711a5",
   "metadata": {},
   "outputs": [],
   "source": [
    "def objective3(trial):\n",
    "    params = {\n",
    "        # boosting 반복 횟수\n",
    "        \"iterations\": trial.suggest_int(\"iterations\", 100, 500),\n",
    "        # 한번에 얼마나 빠르게 학습하지지\n",
    "        \"learning_rate\": trial.suggest_float(\"learning_rate\", 0.02, 0.2),\n",
    "        # 트리의 깊이, 깊을수록 복잡한 모델이지만 과적합 가능성 O\n",
    "        \"depth\": trial.suggest_int(\"depth\", 3, 6), # --> 튜닝\n",
    "        # L2 정규화 , 높을수록 규제 강화 - 과적합 억제\n",
    "        \"l2_leaf_reg\": trial.suggest_float(\"l2_leaf_reg\", 5, 20),\n",
    "        # 수치형 피쳐를 이산화 할 때 사용하는 경계 개수 -> 수치형 많으면 영향력 있음\n",
    "        \"border_count\": trial.suggest_int(\"border_count\", 32, 64),\n",
    "        # 트리 분기시 f.i 계산에 노이즈를 얼마나 줄 것인가\n",
    "        \"random_strength\": trial.suggest_float(\"random_strength\", 0.8, 2.0),\n",
    "        # 샘플링의 다양성 조절 -> 과소적합일 땐 높이고, 과적합일 땐 낮게\n",
    "        \"bagging_temperature\": trial.suggest_float(\"bagging_temperature\", 0.5, 1.0),\n",
    "        # 손실 함수 : 다중분류\n",
    "        \"loss_function\": \"MultiClass\",\n",
    "        # 평가 지표\n",
    "        \"eval_metric\": \"TotalF1:average=Micro\",\n",
    "        # 학습 로그를 몇 step마다 보여줄지\n",
    "        \"verbose\": 100,\n",
    "        # 트리 분기 시 feature 중요도 계산에 주는 노이즈 크기\n",
    "        \"random_state\": 42\n",
    "    }\n",
    "    # early_stopping_rounds - 지정된 라운드 동안 성능 개선이 되지 않으면 학습 중지\n",
    "    model3 = CatBoostClassifier(**params)\n",
    "    model3.fit(X_train, y_train, eval_set=(X_val, y_val), early_stopping_rounds=20, verbose=100)\n",
    "\n",
    "    preds = model3.predict(X_val)\n",
    "    f1 = f1_score(y_val, preds, average='micro')\n",
    "    return f1"
   ]
  },
  {
   "cell_type": "code",
   "execution_count": null,
   "id": "a86c0853-1873-48cf-896c-e1412f3f0bd6",
   "metadata": {},
   "outputs": [],
   "source": [
    "# Optuna 튜닝 시작\n",
    "study3 = optuna.create_study(direction=\"maximize\")\n",
    "# XGB 때 n_trials=30 으로 했었는데 너무 오래걸려서 일단 20으로 설정\n",
    "# n_trials는 optuna가 시도할 하이퍼파라미터 조합의 개수 (몇번 학습할건지)\n",
    "study3.optimize(objective3, n_trials=15)"
   ]
  },
  {
   "cell_type": "code",
   "execution_count": null,
   "id": "12371abd-c3f4-4eb3-aaa6-5af6b6744a59",
   "metadata": {},
   "outputs": [],
   "source": [
    "# 결과 출력 (궁금하니까 --> 여기선 F1이 micro가 아니라 낮을 수 밖에 없다.)\n",
    "print(\"Best F1 score:\", study3.best_value)\n",
    "print(\"Best parameters:\", study3.best_params)"
   ]
  },
  {
   "cell_type": "code",
   "execution_count": null,
   "id": "84b25dad-bda0-4c51-9866-b42d66a9e5ab",
   "metadata": {},
   "outputs": [],
   "source": [
    "# 최적 파라미터로 모델 학습\n",
    "# Optuna가 튜닝한 것이 아닌 것들은 다시 넣어줘야함.\n",
    "# Optuna에 넣은 이유는 기본적으로 들어있어야 하기 때문에\n",
    "best_params3 = study3.best_params\n",
    "best_params3.update({\n",
    "    \"loss_function\": \"MultiClass\",\n",
    "    \"eval_metric\": \"TotalF1:average=Micro\",\n",
    "    \"random_state\": 42,\n",
    "    \"verbose\": 100\n",
    "})"
   ]
  },
  {
   "cell_type": "code",
   "execution_count": null,
   "id": "f04b30bf-4c74-4575-adc9-95983710ff0f",
   "metadata": {},
   "outputs": [],
   "source": [
    "# 실제 모델\n",
    "model3 = CatBoostClassifier(**best_params3)\n",
    "model3.fit(X_train, y_train,\n",
    "          eval_set=(X_val, y_val),\n",
    "          early_stopping_rounds=20)"
   ]
  },
  {
   "cell_type": "code",
   "execution_count": null,
   "id": "01f0f598-5c5f-44c9-9fa4-9ca2b91c344c",
   "metadata": {},
   "outputs": [],
   "source": [
    "# 예측\n",
    "test_df3['Segment_pred'] = model3.predict(X_test3).flatten()"
   ]
  },
  {
   "cell_type": "code",
   "execution_count": null,
   "id": "4ef51be8-ef30-468d-bc22-d69ef49f87a5",
   "metadata": {},
   "outputs": [],
   "source": [
    "test_df3['Segment_pred'].value_counts()"
   ]
  },
  {
   "cell_type": "code",
   "execution_count": null,
   "id": "739fba6f-8bdc-4dea-88f3-e5e5ead8617a",
   "metadata": {},
   "outputs": [],
   "source": [
    "# 예측 결과 병합\n",
    "# 중복된 ID 제거: 마지막 값을 기준으로 유지\n",
    "test_df3_dedup = test_df3.drop_duplicates(subset='ID', keep='last')\n",
    "test_df3_indexed = test_df3_dedup.set_index('ID')\n",
    "\n",
    "# test_df의 Segment_pred를 ID 기준으로 업데이트\n",
    "test_df.loc[test_df['ID'].isin(test_df3_indexed.index), 'Segment_pred'] = \\\n",
    "    test_df.loc[test_df['ID'].isin(test_df3_indexed.index), 'ID'].map(test_df3_indexed['Segment_pred'])\n",
    "\n",
    "# 최종 예측 결과 저장\n",
    "submission = test_df[['ID', 'Segment_pred']].copy()\n",
    "submission.rename(columns={'Segment_pred': 'Segment'}, inplace=True)\n",
    "submission.to_parquet(f'../results/{train_file}_catboost_model3_submission5.parquet', index=False)\n",
    "print(f\"{train_file}_catboost_model3_submission 저장 완료!\")"
   ]
  },
  {
   "cell_type": "code",
   "execution_count": null,
   "id": "3e7ef822-ef0e-4987-90b0-9fc9f5e8f7d2",
   "metadata": {},
   "outputs": [],
   "source": []
  }
 ],
 "metadata": {
  "kernelspec": {
   "display_name": "Python [conda env:base] *",
   "language": "python",
   "name": "conda-base-py"
  },
  "language_info": {
   "codemirror_mode": {
    "name": "ipython",
    "version": 3
   },
   "file_extension": ".py",
   "mimetype": "text/x-python",
   "name": "python",
   "nbconvert_exporter": "python",
   "pygments_lexer": "ipython3",
   "version": "3.12.7"
  }
 },
 "nbformat": 4,
 "nbformat_minor": 5
}

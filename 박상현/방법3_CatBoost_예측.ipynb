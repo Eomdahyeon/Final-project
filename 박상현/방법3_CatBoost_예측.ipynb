{
 "cells": [
  {
   "cell_type": "code",
   "execution_count": 1,
   "id": "dfe3d8e1-0b81-42c7-ac78-aab31fe21340",
   "metadata": {},
   "outputs": [],
   "source": [
    "from catboost import CatBoostClassifier\n",
    "from sklearn.metrics import f1_score\n",
    "from sklearn.model_selection import train_test_split\n",
    "import pandas as pd\n",
    "import numpy as np\n",
    "import optuna"
   ]
  },
  {
   "cell_type": "code",
   "execution_count": 2,
   "id": "0b3cfde4-ed33-4b71-b2aa-7732f8ac2788",
   "metadata": {},
   "outputs": [],
   "source": [
    "# local\n",
    "root_path = '../data/open/머신러닝'\n",
    "\n",
    "# colab\n",
    "# root_path = '/content/drive/MyDrive/12조 파이널프로젝트/data'"
   ]
  },
  {
   "cell_type": "code",
   "execution_count": 3,
   "id": "e6f52aed-f66c-4542-9777-25c405295201",
   "metadata": {},
   "outputs": [],
   "source": [
    "# 데이터 불러오기\n",
    "#train_file = '201812_vif_drop_All'\n",
    "#train_file = '201812_corr_drop_All'\n",
    "train_file = '201812_processed_All'\n",
    "train_df = pd.read_parquet(f'{root_path}/{train_file}.parquet')\n",
    "\n",
    "test_file = f'{root_path}/test_12월_통합.parquet'\n",
    "test_df = pd.read_parquet(test_file)"
   ]
  },
  {
   "cell_type": "markdown",
   "id": "30bbdc2a-f0cb-4953-8eb6-92bb54cce973",
   "metadata": {},
   "source": [
    "### 1단계 -> Segment == E vs Other"
   ]
  },
  {
   "cell_type": "code",
   "execution_count": 5,
   "id": "35c3b084-e2f2-4b2a-844f-2e6768f912d1",
   "metadata": {},
   "outputs": [],
   "source": [
    "train_df[\"Segment1\"] = train_df[\"Segment\"].apply(lambda x: \"E\" if x == \"E\" else \"other\")"
   ]
  },
  {
   "cell_type": "code",
   "execution_count": 6,
   "id": "a0e143d1-b04c-4368-b3dc-f800ed12b67b",
   "metadata": {},
   "outputs": [],
   "source": [
    "exclude_cols = ['ID', '기준년월', 'Segment', 'Segment1']\n",
    "feature_cols = [\n",
    "    col for col in train_df.columns\n",
    "    if col not in exclude_cols\n",
    "]"
   ]
  },
  {
   "cell_type": "code",
   "execution_count": 7,
   "id": "8d0989f6-66bb-47f0-9cc6-57bb7eed2447",
   "metadata": {},
   "outputs": [],
   "source": [
    "# 학습용 피처/타겟 정의\n",
    "X = train_df[feature_cols]\n",
    "y = train_df['Segment1']"
   ]
  },
  {
   "cell_type": "code",
   "execution_count": 8,
   "id": "6155f757-b2cd-4b78-a15b-4be97541b12b",
   "metadata": {},
   "outputs": [],
   "source": [
    "# X와 test_df 양쪽에 모두 존재하는 컬럼만 선택\n",
    "common_cols = [col for col in X.columns if col in test_df.columns]\n",
    "X = X[common_cols]\n",
    "X_test = test_df[common_cols]"
   ]
  },
  {
   "cell_type": "code",
   "execution_count": 9,
   "id": "280f6782-ea8a-45e8-ba1c-29da7eced23c",
   "metadata": {},
   "outputs": [],
   "source": [
    "# 학습/검증 분리\n",
    "X_train, X_val, y_train, y_val = train_test_split(X, y, test_size=0.2, random_state=42, stratify=y)"
   ]
  },
  {
   "cell_type": "code",
   "execution_count": 10,
   "id": "c3f18208-16e8-4fe1-a5b9-819ea82a6d0e",
   "metadata": {},
   "outputs": [],
   "source": [
    "def objective(trial):\n",
    "    params = {\n",
    "        # boosting 반복 횟수\n",
    "        \"iterations\": trial.suggest_int(\"iterations\", 300, 1500),\n",
    "        # 한번에 얼마나 빠르게 학습하지지\n",
    "        \"learning_rate\": trial.suggest_float(\"learning_rate\", 0.01, 0.1),\n",
    "        # 트리의 깊이, 깊을수록 복잡한 모델이지만 과적합 가능성 O\n",
    "        \"depth\": trial.suggest_int(\"depth\", 4, 10), # --> 튜닝\n",
    "        # L2 정규화 , 높을수록 규제 강화 - 과적합 억제\n",
    "        \"l2_leaf_reg\": trial.suggest_float(\"l2_leaf_reg\", 1, 10),\n",
    "        # 수치형 피쳐를 이산화 할 때 사용하는 경계 개수 -> 수치형 많으면 영향력 있음\n",
    "        \"border_count\": trial.suggest_int(\"border_count\", 32, 255),\n",
    "        # 트리 분기시 f.i 계산에 노이즈를 얼마나 줄 것인가\n",
    "        \"random_strength\": trial.suggest_float(\"random_strength\", 0.1, 1),\n",
    "        # 샘플링의 다양성 조절 -> 과소적합일 땐 높이고, 과적합일 땐 낮게\n",
    "        \"bagging_temperature\": trial.suggest_float(\"bagging_temperature\", 0, 1),\n",
    "        # 손실 함수 : 다중분류\n",
    "        \"loss_function\": \"Logloss\",\n",
    "        # 평가 지표\n",
    "        \"eval_metric\": \"F1\",\n",
    "        # 학습 로그를 몇 step마다 보여줄지\n",
    "        \"verbose\": 100,\n",
    "        # 트리 분기 시 feature 중요도 계산에 주는 노이즈 크기\n",
    "        \"random_state\": 42\n",
    "    }\n",
    "    # early_stopping_rounds - 지정된 라운드 동안 성능 개선이 되지 않으면 학습 중지\n",
    "    model = CatBoostClassifier(**params)\n",
    "    model.fit(X_train, y_train, eval_set=(X_val, y_val), early_stopping_rounds=50, verbose=100)\n",
    "\n",
    "    preds = model.predict(X_val)\n",
    "    f1 = f1_score(y_val, preds, average='micro')\n",
    "    return f1"
   ]
  },
  {
   "cell_type": "code",
   "execution_count": 11,
   "id": "14917a01-4ed0-4a5b-a72f-43217465177f",
   "metadata": {},
   "outputs": [
    {
     "name": "stderr",
     "output_type": "stream",
     "text": [
      "[I 2025-07-11 00:22:32,116] A new study created in memory with name: no-name-b35023e5-8da3-4f1f-af84-669bcbd4ded9\n"
     ]
    },
    {
     "name": "stdout",
     "output_type": "stream",
     "text": [
      "0:\tlearn: 0.7338074\ttest: 0.7322357\tbest: 0.7322357 (0)\ttotal: 665ms\tremaining: 6m 22s\n",
      "100:\tlearn: 0.8022430\ttest: 0.7969516\tbest: 0.7970707 (99)\ttotal: 48.3s\tremaining: 3m 47s\n",
      "200:\tlearn: 0.8283855\ttest: 0.8177830\tbest: 0.8177830 (200)\ttotal: 1m 35s\tremaining: 2m 57s\n",
      "300:\tlearn: 0.8445309\ttest: 0.8274312\tbest: 0.8278536 (297)\ttotal: 2m 19s\tremaining: 2m 7s\n",
      "400:\tlearn: 0.8568263\ttest: 0.8338149\tbest: 0.8340475 (399)\ttotal: 3m 4s\tremaining: 1m 20s\n",
      "500:\tlearn: 0.8663556\ttest: 0.8384693\tbest: 0.8386637 (498)\ttotal: 3m 47s\tremaining: 34.1s\n",
      "575:\tlearn: 0.8727166\ttest: 0.8395038\tbest: 0.8402436 (549)\ttotal: 4m 20s\tremaining: 0us\n",
      "\n",
      "bestTest = 0.8402435864\n",
      "bestIteration = 549\n",
      "\n",
      "Shrink model to first 550 iterations.\n"
     ]
    },
    {
     "name": "stderr",
     "output_type": "stream",
     "text": [
      "[I 2025-07-11 00:26:59,143] Trial 0 finished with value: 0.93835 and parameters: {'iterations': 576, 'learning_rate': 0.07343449822671735, 'depth': 8, 'l2_leaf_reg': 5.248081733627526, 'border_count': 43, 'random_strength': 0.6668615616405228, 'bagging_temperature': 0.06183497026941365}. Best is trial 0 with value: 0.93835.\n"
     ]
    },
    {
     "name": "stdout",
     "output_type": "stream",
     "text": [
      "0:\tlearn: 0.7338907\ttest: 0.7316637\tbest: 0.7316637 (0)\ttotal: 490ms\tremaining: 2m 57s\n",
      "100:\tlearn: 0.8092938\ttest: 0.8039358\tbest: 0.8040005 (99)\ttotal: 48.6s\tremaining: 2m 6s\n",
      "200:\tlearn: 0.8355399\ttest: 0.8233833\tbest: 0.8233833 (200)\ttotal: 1m 33s\tremaining: 1m 15s\n",
      "300:\tlearn: 0.8509688\ttest: 0.8311215\tbest: 0.8311215 (300)\ttotal: 2m 18s\tremaining: 28.5s\n",
      "362:\tlearn: 0.8593343\ttest: 0.8362539\tbest: 0.8364321 (360)\ttotal: 2m 46s\tremaining: 0us\n",
      "\n",
      "bestTest = 0.8364320711\n",
      "bestIteration = 360\n",
      "\n",
      "Shrink model to first 361 iterations.\n"
     ]
    },
    {
     "name": "stderr",
     "output_type": "stream",
     "text": [
      "[I 2025-07-11 00:29:52,077] Trial 1 finished with value: 0.9369875 and parameters: {'iterations': 363, 'learning_rate': 0.08797671703200764, 'depth': 8, 'l2_leaf_reg': 9.666895970015988, 'border_count': 45, 'random_strength': 0.6372513111077474, 'bagging_temperature': 0.13013473944435616}. Best is trial 0 with value: 0.93835.\n"
     ]
    },
    {
     "name": "stdout",
     "output_type": "stream",
     "text": [
      "0:\tlearn: 0.7397396\ttest: 0.7367508\tbest: 0.7367508 (0)\ttotal: 1.9s\tremaining: 12m 5s\n",
      "100:\tlearn: 0.7662784\ttest: 0.7644782\tbest: 0.7644782 (100)\ttotal: 3m 17s\tremaining: 9m 12s\n",
      "200:\tlearn: 0.7828911\ttest: 0.7773129\tbest: 0.7773129 (200)\ttotal: 6m 32s\tremaining: 5m 55s\n",
      "300:\tlearn: 0.7964934\ttest: 0.7879314\tbest: 0.7879861 (299)\ttotal: 9m 48s\tremaining: 2m 40s\n",
      "382:\tlearn: 0.8061495\ttest: 0.7946271\tbest: 0.7946271 (382)\ttotal: 12m 29s\tremaining: 0us\n",
      "\n",
      "bestTest = 0.7946271237\n",
      "bestIteration = 382\n",
      "\n"
     ]
    },
    {
     "name": "stderr",
     "output_type": "stream",
     "text": [
      "[I 2025-07-11 00:42:29,506] Trial 2 finished with value: 0.9227875 and parameters: {'iterations': 383, 'learning_rate': 0.013322924933783875, 'depth': 10, 'l2_leaf_reg': 2.9720587578881834, 'border_count': 119, 'random_strength': 0.5279055037107989, 'bagging_temperature': 0.5775867720151235}. Best is trial 0 with value: 0.93835.\n"
     ]
    },
    {
     "name": "stdout",
     "output_type": "stream",
     "text": [
      "0:\tlearn: 0.7405662\ttest: 0.7375114\tbest: 0.7375114 (0)\ttotal: 2s\tremaining: 34m 29s\n",
      "100:\tlearn: 0.7939038\ttest: 0.7865296\tbest: 0.7865296 (100)\ttotal: 3m 29s\tremaining: 32m 13s\n",
      "200:\tlearn: 0.8215787\ttest: 0.8056581\tbest: 0.8056581 (200)\ttotal: 6m 55s\tremaining: 28m 45s\n",
      "300:\tlearn: 0.8377287\ttest: 0.8158516\tbest: 0.8159827 (298)\ttotal: 10m 22s\tremaining: 25m 17s\n",
      "400:\tlearn: 0.8529597\ttest: 0.8266597\tbest: 0.8267093 (399)\ttotal: 13m 49s\tremaining: 21m 51s\n",
      "500:\tlearn: 0.8646986\ttest: 0.8316536\tbest: 0.8316536 (500)\ttotal: 17m 15s\tremaining: 18m 23s\n",
      "600:\tlearn: 0.8744690\ttest: 0.8350201\tbest: 0.8351228 (599)\ttotal: 20m 40s\tremaining: 14m 55s\n",
      "700:\tlearn: 0.8830677\ttest: 0.8378773\tbest: 0.8379044 (696)\ttotal: 24m 5s\tremaining: 11m 28s\n",
      "800:\tlearn: 0.8911252\ttest: 0.8412200\tbest: 0.8412200 (800)\ttotal: 27m 30s\tremaining: 8m 2s\n",
      "900:\tlearn: 0.8978508\ttest: 0.8436157\tbest: 0.8436157 (900)\ttotal: 30m 54s\tremaining: 4m 35s\n",
      "Stopped by overfitting detector  (50 iterations wait)\n",
      "\n",
      "bestTest = 0.8438469493\n",
      "bestIteration = 903\n",
      "\n",
      "Shrink model to first 904 iterations.\n"
     ]
    },
    {
     "name": "stderr",
     "output_type": "stream",
     "text": [
      "[I 2025-07-11 01:15:25,605] Trial 3 finished with value: 0.9396 and parameters: {'iterations': 1035, 'learning_rate': 0.03903090565578566, 'depth': 10, 'l2_leaf_reg': 6.938644397802166, 'border_count': 138, 'random_strength': 0.891304031400485, 'bagging_temperature': 0.24875579420678684}. Best is trial 3 with value: 0.9396.\n"
     ]
    },
    {
     "name": "stdout",
     "output_type": "stream",
     "text": [
      "0:\tlearn: 0.7101408\ttest: 0.7089444\tbest: 0.7089444 (0)\ttotal: 317ms\tremaining: 5m 10s\n",
      "100:\tlearn: 0.7817774\ttest: 0.7817337\tbest: 0.7817337 (100)\ttotal: 30.6s\tremaining: 4m 26s\n",
      "200:\tlearn: 0.8024821\ttest: 0.7999604\tbest: 0.8000793 (197)\ttotal: 59.2s\tremaining: 3m 49s\n",
      "300:\tlearn: 0.8159530\ttest: 0.8125574\tbest: 0.8128567 (298)\ttotal: 1m 27s\tremaining: 3m 17s\n",
      "400:\tlearn: 0.8247563\ttest: 0.8197654\tbest: 0.8199229 (399)\ttotal: 1m 55s\tremaining: 2m 47s\n",
      "500:\tlearn: 0.8312208\ttest: 0.8253254\tbest: 0.8253637 (499)\ttotal: 2m 23s\tremaining: 2m 17s\n",
      "600:\tlearn: 0.8365842\ttest: 0.8289538\tbest: 0.8292079 (596)\ttotal: 2m 51s\tremaining: 1m 48s\n",
      "700:\tlearn: 0.8413356\ttest: 0.8327807\tbest: 0.8329380 (689)\ttotal: 3m 18s\tremaining: 1m 19s\n",
      "800:\tlearn: 0.8451820\ttest: 0.8354751\tbest: 0.8355835 (795)\ttotal: 3m 46s\tremaining: 51.2s\n",
      "900:\tlearn: 0.8488686\ttest: 0.8375741\tbest: 0.8379736 (895)\ttotal: 4m 14s\tremaining: 22.8s\n",
      "981:\tlearn: 0.8517205\ttest: 0.8394542\tbest: 0.8394542 (981)\ttotal: 4m 36s\tremaining: 0us\n",
      "\n",
      "bestTest = 0.8394541506\n",
      "bestIteration = 981\n",
      "\n"
     ]
    },
    {
     "name": "stderr",
     "output_type": "stream",
     "text": [
      "[I 2025-07-11 01:20:10,300] Trial 4 finished with value: 0.9380875 and parameters: {'iterations': 982, 'learning_rate': 0.09403381498436561, 'depth': 4, 'l2_leaf_reg': 3.0057551203414716, 'border_count': 242, 'random_strength': 0.8083351901190811, 'bagging_temperature': 0.10576768279304849}. Best is trial 3 with value: 0.9396.\n"
     ]
    },
    {
     "name": "stdout",
     "output_type": "stream",
     "text": [
      "0:\tlearn: 0.7264276\ttest: 0.7262344\tbest: 0.7262344 (0)\ttotal: 475ms\tremaining: 7m 24s\n",
      "100:\tlearn: 0.7926011\ttest: 0.7920759\tbest: 0.7921174 (99)\ttotal: 41.6s\tremaining: 5m 44s\n",
      "200:\tlearn: 0.8146766\ttest: 0.8102264\tbest: 0.8102797 (199)\ttotal: 1m 21s\tremaining: 4m 59s\n",
      "300:\tlearn: 0.8280391\ttest: 0.8203352\tbest: 0.8203587 (298)\ttotal: 2m\tremaining: 4m 14s\n",
      "400:\tlearn: 0.8378580\ttest: 0.8271211\tbest: 0.8272784 (399)\ttotal: 2m 38s\tremaining: 3m 31s\n",
      "500:\tlearn: 0.8448987\ttest: 0.8321092\tbest: 0.8321092 (500)\ttotal: 3m 16s\tremaining: 2m 50s\n",
      "600:\tlearn: 0.8505858\ttest: 0.8355342\tbest: 0.8355671 (598)\ttotal: 3m 53s\tremaining: 2m 10s\n",
      "700:\tlearn: 0.8564130\ttest: 0.8390380\tbest: 0.8390380 (700)\ttotal: 4m 31s\tremaining: 1m 31s\n",
      "800:\tlearn: 0.8614090\ttest: 0.8419791\tbest: 0.8419791 (800)\ttotal: 5m 7s\tremaining: 52.3s\n",
      "900:\tlearn: 0.8662471\ttest: 0.8438663\tbest: 0.8438663 (900)\ttotal: 5m 44s\tremaining: 13.8s\n",
      "936:\tlearn: 0.8679248\ttest: 0.8444013\tbest: 0.8444013 (936)\ttotal: 5m 57s\tremaining: 0us\n",
      "\n",
      "bestTest = 0.8444012945\n",
      "bestIteration = 936\n",
      "\n"
     ]
    },
    {
     "name": "stderr",
     "output_type": "stream",
     "text": [
      "[I 2025-07-11 01:26:16,779] Trial 5 finished with value: 0.9399 and parameters: {'iterations': 937, 'learning_rate': 0.07357424475949502, 'depth': 6, 'l2_leaf_reg': 3.653497682677247, 'border_count': 221, 'random_strength': 0.19744858287955003, 'bagging_temperature': 0.3334493208575181}. Best is trial 5 with value: 0.9399.\n"
     ]
    },
    {
     "name": "stdout",
     "output_type": "stream",
     "text": [
      "0:\tlearn: 0.7327468\ttest: 0.7322785\tbest: 0.7322785 (0)\ttotal: 329ms\tremaining: 5m 20s\n",
      "100:\tlearn: 0.7781962\ttest: 0.7769427\tbest: 0.7769427 (100)\ttotal: 34.5s\tremaining: 4m 58s\n",
      "200:\tlearn: 0.7999468\ttest: 0.7969526\tbest: 0.7969526 (200)\ttotal: 1m 8s\tremaining: 4m 24s\n",
      "300:\tlearn: 0.8131086\ttest: 0.8091934\tbest: 0.8091934 (300)\ttotal: 1m 41s\tremaining: 3m 47s\n",
      "400:\tlearn: 0.8223743\ttest: 0.8161647\tbest: 0.8162717 (397)\ttotal: 2m 14s\tremaining: 3m 11s\n",
      "500:\tlearn: 0.8295283\ttest: 0.8227765\tbest: 0.8227765 (500)\ttotal: 2m 46s\tremaining: 2m 37s\n",
      "600:\tlearn: 0.8350585\ttest: 0.8262316\tbest: 0.8265067 (596)\ttotal: 3m 18s\tremaining: 2m 3s\n",
      "700:\tlearn: 0.8397849\ttest: 0.8303176\tbest: 0.8303176 (700)\ttotal: 3m 50s\tremaining: 1m 30s\n",
      "800:\tlearn: 0.8437676\ttest: 0.8327377\tbest: 0.8330626 (797)\ttotal: 4m 22s\tremaining: 57s\n",
      "900:\tlearn: 0.8474402\ttest: 0.8349306\tbest: 0.8350335 (896)\ttotal: 4m 53s\tremaining: 24.1s\n",
      "974:\tlearn: 0.8498643\ttest: 0.8360768\tbest: 0.8362774 (959)\ttotal: 5m 16s\tremaining: 0us\n",
      "\n",
      "bestTest = 0.8362774386\n",
      "bestIteration = 959\n",
      "\n",
      "Shrink model to first 960 iterations.\n"
     ]
    },
    {
     "name": "stderr",
     "output_type": "stream",
     "text": [
      "[I 2025-07-11 01:31:42,358] Trial 6 finished with value: 0.936975 and parameters: {'iterations': 975, 'learning_rate': 0.06138128641320309, 'depth': 5, 'l2_leaf_reg': 1.2395949510110391, 'border_count': 179, 'random_strength': 0.42962452579291743, 'bagging_temperature': 0.3066136190771278}. Best is trial 5 with value: 0.9399.\n"
     ]
    },
    {
     "name": "stdout",
     "output_type": "stream",
     "text": [
      "0:\tlearn: 0.7386661\ttest: 0.7346196\tbest: 0.7346196 (0)\ttotal: 752ms\tremaining: 14m 45s\n",
      "100:\tlearn: 0.8050108\ttest: 0.7974935\tbest: 0.7974935 (100)\ttotal: 1m 12s\tremaining: 12m 50s\n",
      "200:\tlearn: 0.8316913\ttest: 0.8178066\tbest: 0.8178066 (200)\ttotal: 2m 20s\tremaining: 11m 25s\n",
      "300:\tlearn: 0.8494220\ttest: 0.8291541\tbest: 0.8291541 (300)\ttotal: 3m 28s\tremaining: 10m 7s\n",
      "400:\tlearn: 0.8631082\ttest: 0.8359709\tbest: 0.8360087 (392)\ttotal: 4m 34s\tremaining: 8m 52s\n",
      "500:\tlearn: 0.8732099\ttest: 0.8394366\tbest: 0.8395182 (494)\ttotal: 5m 39s\tremaining: 7m 38s\n",
      "600:\tlearn: 0.8820338\ttest: 0.8430377\tbest: 0.8432216 (597)\ttotal: 6m 43s\tremaining: 6m 27s\n",
      "700:\tlearn: 0.8906828\ttest: 0.8450923\tbest: 0.8450923 (700)\ttotal: 7m 48s\tremaining: 5m 18s\n",
      "800:\tlearn: 0.8982061\ttest: 0.8470261\tbest: 0.8472200 (797)\ttotal: 8m 53s\tremaining: 4m 11s\n",
      "900:\tlearn: 0.9053099\ttest: 0.8478296\tbest: 0.8478766 (891)\ttotal: 9m 58s\tremaining: 3m 3s\n",
      "1000:\tlearn: 0.9110224\ttest: 0.8495775\tbest: 0.8496032 (996)\ttotal: 11m 2s\tremaining: 1m 57s\n",
      "1100:\tlearn: 0.9168783\ttest: 0.8506496\tbest: 0.8508704 (1096)\ttotal: 12m 7s\tremaining: 50.9s\n",
      "1177:\tlearn: 0.9211908\ttest: 0.8522014\tbest: 0.8522014 (1177)\ttotal: 12m 57s\tremaining: 0us\n",
      "\n",
      "bestTest = 0.8522013591\n",
      "bestIteration = 1177\n",
      "\n"
     ]
    },
    {
     "name": "stderr",
     "output_type": "stream",
     "text": [
      "[I 2025-07-11 01:44:49,179] Trial 7 finished with value: 0.9426375 and parameters: {'iterations': 1178, 'learning_rate': 0.061620947869404585, 'depth': 9, 'l2_leaf_reg': 8.365067312952112, 'border_count': 127, 'random_strength': 0.5579753040410959, 'bagging_temperature': 0.21042905189093564}. Best is trial 7 with value: 0.9426375.\n"
     ]
    },
    {
     "name": "stdout",
     "output_type": "stream",
     "text": [
      "0:\tlearn: 0.7397425\ttest: 0.7400478\tbest: 0.7400478 (0)\ttotal: 614ms\tremaining: 13m 6s\n",
      "100:\tlearn: 0.8185055\ttest: 0.8086408\tbest: 0.8086408 (100)\ttotal: 59.1s\tremaining: 11m 31s\n",
      "200:\tlearn: 0.8481059\ttest: 0.8263504\tbest: 0.8263504 (200)\ttotal: 1m 55s\tremaining: 10m 19s\n",
      "300:\tlearn: 0.8679752\ttest: 0.8355800\tbest: 0.8355800 (300)\ttotal: 2m 50s\tremaining: 9m 15s\n",
      "400:\tlearn: 0.8825045\ttest: 0.8402872\tbest: 0.8404785 (397)\ttotal: 3m 44s\tremaining: 8m 14s\n",
      "500:\tlearn: 0.8956334\ttest: 0.8426452\tbest: 0.8428461 (484)\ttotal: 4m 38s\tremaining: 7m 14s\n",
      "600:\tlearn: 0.9071745\ttest: 0.8460497\tbest: 0.8460497 (600)\ttotal: 5m 31s\tremaining: 6m 16s\n",
      "Stopped by overfitting detector  (50 iterations wait)\n",
      "\n",
      "bestTest = 0.8470406389\n",
      "bestIteration = 626\n",
      "\n",
      "Shrink model to first 627 iterations.\n"
     ]
    },
    {
     "name": "stderr",
     "output_type": "stream",
     "text": [
      "[I 2025-07-11 01:51:08,472] Trial 8 finished with value: 0.940625 and parameters: {'iterations': 1283, 'learning_rate': 0.0876579969915283, 'depth': 9, 'l2_leaf_reg': 4.048116347295059, 'border_count': 54, 'random_strength': 0.5492630796808068, 'bagging_temperature': 0.0937751401043605}. Best is trial 7 with value: 0.9426375.\n"
     ]
    },
    {
     "name": "stdout",
     "output_type": "stream",
     "text": [
      "0:\tlearn: 0.7099664\ttest: 0.7085047\tbest: 0.7085047 (0)\ttotal: 304ms\tremaining: 6m 6s\n",
      "100:\tlearn: 0.7380717\ttest: 0.7402450\tbest: 0.7402450 (100)\ttotal: 29.9s\tremaining: 5m 27s\n",
      "200:\tlearn: 0.7510180\ttest: 0.7526433\tbest: 0.7527632 (199)\ttotal: 59.8s\tremaining: 4m 59s\n",
      "300:\tlearn: 0.7604869\ttest: 0.7618853\tbest: 0.7621798 (298)\ttotal: 1m 28s\tremaining: 4m 25s\n",
      "400:\tlearn: 0.7689452\ttest: 0.7690438\tbest: 0.7691217 (399)\ttotal: 1m 57s\tremaining: 3m 55s\n",
      "500:\tlearn: 0.7756882\ttest: 0.7754608\tbest: 0.7755281 (499)\ttotal: 2m 26s\tremaining: 3m 27s\n",
      "600:\tlearn: 0.7813149\ttest: 0.7813452\tbest: 0.7815084 (597)\ttotal: 2m 56s\tremaining: 2m 57s\n",
      "700:\tlearn: 0.7858909\ttest: 0.7852277\tbest: 0.7852277 (699)\ttotal: 3m 25s\tremaining: 2m 28s\n",
      "800:\tlearn: 0.7901670\ttest: 0.7887849\tbest: 0.7888253 (799)\ttotal: 3m 54s\tremaining: 1m 58s\n",
      "900:\tlearn: 0.7939714\ttest: 0.7925180\tbest: 0.7925180 (900)\ttotal: 4m 23s\tremaining: 1m 29s\n",
      "1000:\tlearn: 0.7975712\ttest: 0.7949866\tbest: 0.7950657 (980)\ttotal: 4m 51s\tremaining: 1m\n",
      "1100:\tlearn: 0.8004957\ttest: 0.7978554\tbest: 0.7981329 (1088)\ttotal: 5m 19s\tremaining: 30.8s\n",
      "1200:\tlearn: 0.8030425\ttest: 0.8000132\tbest: 0.8000397 (1193)\ttotal: 5m 47s\tremaining: 1.74s\n",
      "1206:\tlearn: 0.8032415\ttest: 0.8001983\tbest: 0.8002115 (1204)\ttotal: 5m 49s\tremaining: 0us\n",
      "\n",
      "bestTest = 0.8002115213\n",
      "bestIteration = 1204\n",
      "\n",
      "Shrink model to first 1205 iterations.\n"
     ]
    },
    {
     "name": "stderr",
     "output_type": "stream",
     "text": [
      "[I 2025-07-11 01:57:06,466] Trial 9 finished with value: 0.9244375 and parameters: {'iterations': 1207, 'learning_rate': 0.015963938490879227, 'depth': 4, 'l2_leaf_reg': 7.804905503241679, 'border_count': 138, 'random_strength': 0.8721313382587665, 'bagging_temperature': 0.4605056660916722}. Best is trial 7 with value: 0.9426375.\n"
     ]
    },
    {
     "name": "stdout",
     "output_type": "stream",
     "text": [
      "0:\tlearn: 0.7258787\ttest: 0.7244192\tbest: 0.7244192 (0)\ttotal: 493ms\tremaining: 12m 12s\n",
      "100:\tlearn: 0.7777609\ttest: 0.7768200\tbest: 0.7768200 (100)\ttotal: 44.5s\tremaining: 10m 11s\n",
      "200:\tlearn: 0.8009423\ttest: 0.7967232\tbest: 0.7967232 (200)\ttotal: 1m 29s\tremaining: 9m 31s\n",
      "300:\tlearn: 0.8137770\ttest: 0.8089814\tbest: 0.8090095 (299)\ttotal: 2m 12s\tremaining: 8m 41s\n",
      "400:\tlearn: 0.8253229\ttest: 0.8179525\tbest: 0.8179912 (397)\ttotal: 2m 55s\tremaining: 7m 55s\n",
      "500:\tlearn: 0.8332814\ttest: 0.8237831\tbest: 0.8238792 (499)\ttotal: 3m 37s\tremaining: 7m 8s\n",
      "600:\tlearn: 0.8393490\ttest: 0.8285482\tbest: 0.8286292 (599)\ttotal: 4m 18s\tremaining: 6m 22s\n",
      "700:\tlearn: 0.8446785\ttest: 0.8315316\tbest: 0.8317270 (698)\ttotal: 4m 59s\tremaining: 5m 36s\n",
      "800:\tlearn: 0.8491227\ttest: 0.8340915\tbest: 0.8342055 (789)\ttotal: 5m 40s\tremaining: 4m 52s\n",
      "900:\tlearn: 0.8526968\ttest: 0.8369195\tbest: 0.8369195 (900)\ttotal: 6m 19s\tremaining: 4m 6s\n",
      "1000:\tlearn: 0.8570010\ttest: 0.8385548\tbest: 0.8385548 (1000)\ttotal: 6m 58s\tremaining: 3m 23s\n",
      "1100:\tlearn: 0.8603214\ttest: 0.8398821\tbest: 0.8398821 (1100)\ttotal: 7m 37s\tremaining: 2m 40s\n",
      "1200:\tlearn: 0.8640456\ttest: 0.8417373\tbest: 0.8418191 (1198)\ttotal: 8m 17s\tremaining: 1m 58s\n",
      "1300:\tlearn: 0.8670170\ttest: 0.8433034\tbest: 0.8433034 (1300)\ttotal: 8m 56s\tremaining: 1m 17s\n",
      "1400:\tlearn: 0.8699732\ttest: 0.8446643\tbest: 0.8447618 (1388)\ttotal: 9m 35s\tremaining: 35.8s\n",
      "1487:\tlearn: 0.8724445\ttest: 0.8454528\tbest: 0.8455721 (1480)\ttotal: 10m 10s\tremaining: 0us\n",
      "\n",
      "bestTest = 0.845572075\n",
      "bestIteration = 1480\n",
      "\n",
      "Shrink model to first 1481 iterations.\n"
     ]
    },
    {
     "name": "stderr",
     "output_type": "stream",
     "text": [
      "[I 2025-07-11 02:07:25,991] Trial 10 finished with value: 0.940275 and parameters: {'iterations': 1488, 'learning_rate': 0.03997314022422382, 'depth': 7, 'l2_leaf_reg': 9.995773751723858, 'border_count': 97, 'random_strength': 0.26411316323308437, 'bagging_temperature': 0.9749931959559611}. Best is trial 7 with value: 0.9426375.\n"
     ]
    },
    {
     "name": "stdout",
     "output_type": "stream",
     "text": [
      "0:\tlearn: 0.7400102\ttest: 0.7357069\tbest: 0.7357069 (0)\ttotal: 619ms\tremaining: 13m 47s\n",
      "100:\tlearn: 0.8146016\ttest: 0.8052505\tbest: 0.8053164 (99)\ttotal: 1m 1s\tremaining: 12m 31s\n",
      "200:\tlearn: 0.8427539\ttest: 0.8229734\tbest: 0.8229734 (200)\ttotal: 1m 59s\tremaining: 11m 13s\n",
      "300:\tlearn: 0.8618191\ttest: 0.8327485\tbest: 0.8327485 (300)\ttotal: 2m 56s\tremaining: 10m 7s\n",
      "400:\tlearn: 0.8757611\ttest: 0.8380743\tbest: 0.8382162 (390)\ttotal: 3m 52s\tremaining: 9m 3s\n",
      "500:\tlearn: 0.8879837\ttest: 0.8420781\tbest: 0.8421257 (499)\ttotal: 4m 46s\tremaining: 7m 59s\n",
      "600:\tlearn: 0.8984601\ttest: 0.8446699\tbest: 0.8449111 (597)\ttotal: 5m 43s\tremaining: 7m 1s\n",
      "700:\tlearn: 0.9078406\ttest: 0.8474106\tbest: 0.8479489 (687)\ttotal: 6m 37s\tremaining: 6m 1s\n",
      "800:\tlearn: 0.9160170\ttest: 0.8489654\tbest: 0.8493875 (787)\ttotal: 7m 33s\tremaining: 5m 4s\n",
      "900:\tlearn: 0.9231327\ttest: 0.8502496\tbest: 0.8504622 (873)\ttotal: 8m 27s\tremaining: 4m 6s\n",
      "Stopped by overfitting detector  (50 iterations wait)\n",
      "\n",
      "bestTest = 0.8504621727\n",
      "bestIteration = 873\n",
      "\n",
      "Shrink model to first 874 iterations.\n"
     ]
    },
    {
     "name": "stderr",
     "output_type": "stream",
     "text": [
      "[I 2025-07-11 02:16:15,347] Trial 11 finished with value: 0.9419625 and parameters: {'iterations': 1339, 'learning_rate': 0.07812623983073023, 'depth': 9, 'l2_leaf_reg': 5.743955790401335, 'border_count': 65, 'random_strength': 0.3986035418562742, 'bagging_temperature': 0.014371814988408949}. Best is trial 7 with value: 0.9426375.\n"
     ]
    },
    {
     "name": "stdout",
     "output_type": "stream",
     "text": [
      "0:\tlearn: 0.7295705\ttest: 0.7265157\tbest: 0.7265157 (0)\ttotal: 703ms\tremaining: 17m 21s\n",
      "100:\tlearn: 0.8036930\ttest: 0.7975859\tbest: 0.7975859 (100)\ttotal: 1m 5s\tremaining: 14m 48s\n",
      "200:\tlearn: 0.8306312\ttest: 0.8170648\tbest: 0.8170648 (200)\ttotal: 2m 6s\tremaining: 13m 28s\n",
      "300:\tlearn: 0.8480776\ttest: 0.8273367\tbest: 0.8275592 (296)\ttotal: 3m 8s\tremaining: 12m 18s\n",
      "400:\tlearn: 0.8605715\ttest: 0.8327705\tbest: 0.8329490 (397)\ttotal: 4m 7s\tremaining: 11m 7s\n",
      "500:\tlearn: 0.8714963\ttest: 0.8376179\tbest: 0.8376345 (496)\ttotal: 5m 7s\tremaining: 10m 1s\n",
      "600:\tlearn: 0.8809659\ttest: 0.8410356\tbest: 0.8410356 (600)\ttotal: 6m 5s\tremaining: 8m 55s\n",
      "700:\tlearn: 0.8890329\ttest: 0.8436197\tbest: 0.8440521 (691)\ttotal: 7m 3s\tremaining: 7m 51s\n",
      "800:\tlearn: 0.8965947\ttest: 0.8462706\tbest: 0.8462706 (800)\ttotal: 8m 2s\tremaining: 6m 49s\n",
      "900:\tlearn: 0.9036288\ttest: 0.8472487\tbest: 0.8474620 (886)\ttotal: 9m\tremaining: 5m 48s\n",
      "1000:\tlearn: 0.9104196\ttest: 0.8486295\tbest: 0.8486295 (1000)\ttotal: 10m\tremaining: 4m 47s\n",
      "1100:\tlearn: 0.9160786\ttest: 0.8503978\tbest: 0.8505170 (1097)\ttotal: 10m 58s\tremaining: 3m 47s\n",
      "1200:\tlearn: 0.9211462\ttest: 0.8514584\tbest: 0.8516050 (1194)\ttotal: 11m 56s\tremaining: 2m 46s\n",
      "1300:\tlearn: 0.9262814\ttest: 0.8515074\tbest: 0.8520855 (1274)\ttotal: 12m 54s\tremaining: 1m 47s\n",
      "Stopped by overfitting detector  (50 iterations wait)\n",
      "\n",
      "bestTest = 0.8520854789\n",
      "bestIteration = 1274\n",
      "\n",
      "Shrink model to first 1275 iterations.\n"
     ]
    },
    {
     "name": "stderr",
     "output_type": "stream",
     "text": [
      "[I 2025-07-11 02:29:35,109] Trial 12 finished with value: 0.94255 and parameters: {'iterations': 1481, 'learning_rate': 0.059296815147691376, 'depth': 9, 'l2_leaf_reg': 7.6788531994720515, 'border_count': 87, 'random_strength': 0.3374325651771046, 'bagging_temperature': 0.6415576020622833}. Best is trial 7 with value: 0.9426375.\n"
     ]
    },
    {
     "name": "stdout",
     "output_type": "stream",
     "text": [
      "0:\tlearn: 0.7307624\ttest: 0.7283206\tbest: 0.7283206 (0)\ttotal: 606ms\tremaining: 14m 58s\n",
      "100:\tlearn: 0.7936667\ttest: 0.7897053\tbest: 0.7897053 (100)\ttotal: 1m\tremaining: 13m 50s\n",
      "200:\tlearn: 0.8182456\ttest: 0.8106489\tbest: 0.8106489 (200)\ttotal: 1m 58s\tremaining: 12m 38s\n",
      "300:\tlearn: 0.8334373\ttest: 0.8213142\tbest: 0.8213142 (300)\ttotal: 2m 55s\tremaining: 11m 31s\n",
      "400:\tlearn: 0.8447451\ttest: 0.8284309\tbest: 0.8284309 (400)\ttotal: 3m 51s\tremaining: 10m 26s\n",
      "500:\tlearn: 0.8530130\ttest: 0.8334092\tbest: 0.8334580 (496)\ttotal: 4m 45s\tremaining: 9m 20s\n",
      "600:\tlearn: 0.8601275\ttest: 0.8373557\tbest: 0.8373557 (600)\ttotal: 5m 39s\tremaining: 8m 19s\n",
      "700:\tlearn: 0.8664227\ttest: 0.8411578\tbest: 0.8413043 (697)\ttotal: 6m 32s\tremaining: 7m 18s\n",
      "800:\tlearn: 0.8725037\ttest: 0.8425851\tbest: 0.8427417 (798)\ttotal: 7m 25s\tremaining: 6m 20s\n",
      "900:\tlearn: 0.8776717\ttest: 0.8444775\tbest: 0.8444775 (900)\ttotal: 8m 18s\tremaining: 5m 23s\n",
      "1000:\tlearn: 0.8830683\ttest: 0.8461116\tbest: 0.8462433 (994)\ttotal: 9m 12s\tremaining: 4m 27s\n",
      "1100:\tlearn: 0.8879557\ttest: 0.8471652\tbest: 0.8473963 (1077)\ttotal: 10m 5s\tremaining: 3m 31s\n",
      "1200:\tlearn: 0.8923796\ttest: 0.8488837\tbest: 0.8490049 (1197)\ttotal: 10m 57s\tremaining: 2m 35s\n",
      "1300:\tlearn: 0.8965545\ttest: 0.8501886\tbest: 0.8502708 (1299)\ttotal: 11m 50s\tremaining: 1m 40s\n",
      "1400:\tlearn: 0.9009053\ttest: 0.8508910\tbest: 0.8511310 (1390)\ttotal: 12m 44s\tremaining: 45.8s\n",
      "1484:\tlearn: 0.9040598\ttest: 0.8517874\tbest: 0.8520546 (1472)\ttotal: 13m 28s\tremaining: 0us\n",
      "\n",
      "bestTest = 0.8520546181\n",
      "bestIteration = 1472\n",
      "\n",
      "Shrink model to first 1473 iterations.\n"
     ]
    },
    {
     "name": "stderr",
     "output_type": "stream",
     "text": [
      "[I 2025-07-11 02:43:13,439] Trial 13 finished with value: 0.942575 and parameters: {'iterations': 1485, 'learning_rate': 0.05281492448746543, 'depth': 8, 'l2_leaf_reg': 8.197187035754524, 'border_count': 174, 'random_strength': 0.3306335468309966, 'bagging_temperature': 0.7364549774859492}. Best is trial 7 with value: 0.9426375.\n"
     ]
    },
    {
     "name": "stdout",
     "output_type": "stream",
     "text": [
      "0:\tlearn: 0.7319587\ttest: 0.7322246\tbest: 0.7322246 (0)\ttotal: 478ms\tremaining: 9m 17s\n",
      "100:\tlearn: 0.7864267\ttest: 0.7832847\tbest: 0.7832847 (100)\ttotal: 49.7s\tremaining: 8m 44s\n",
      "200:\tlearn: 0.8093154\ttest: 0.8035897\tbest: 0.8035897 (200)\ttotal: 1m 38s\tremaining: 7m 52s\n",
      "300:\tlearn: 0.8231964\ttest: 0.8158861\tbest: 0.8158861 (300)\ttotal: 2m 26s\tremaining: 7m\n",
      "400:\tlearn: 0.8334413\ttest: 0.8230031\tbest: 0.8230031 (400)\ttotal: 3m 12s\tremaining: 6m 7s\n",
      "500:\tlearn: 0.8407720\ttest: 0.8277707\tbest: 0.8277707 (500)\ttotal: 3m 58s\tremaining: 5m 16s\n",
      "600:\tlearn: 0.8468102\ttest: 0.8317766\tbest: 0.8318313 (598)\ttotal: 4m 42s\tremaining: 4m 25s\n",
      "700:\tlearn: 0.8520367\ttest: 0.8352012\tbest: 0.8352012 (699)\ttotal: 5m 26s\tremaining: 3m 36s\n",
      "800:\tlearn: 0.8570195\ttest: 0.8367506\tbest: 0.8367943 (796)\ttotal: 6m 10s\tremaining: 2m 49s\n",
      "900:\tlearn: 0.8611708\ttest: 0.8393621\tbest: 0.8397912 (893)\ttotal: 6m 54s\tremaining: 2m 1s\n",
      "1000:\tlearn: 0.8656534\ttest: 0.8414168\tbest: 0.8414168 (1000)\ttotal: 7m 38s\tremaining: 1m 15s\n",
      "1100:\tlearn: 0.8695659\ttest: 0.8438278\tbest: 0.8438278 (1100)\ttotal: 8m 21s\tremaining: 29.6s\n",
      "1165:\tlearn: 0.8719750\ttest: 0.8449803\tbest: 0.8451396 (1155)\ttotal: 8m 49s\tremaining: 0us\n",
      "\n",
      "bestTest = 0.845139607\n",
      "bestIteration = 1155\n",
      "\n",
      "Shrink model to first 1156 iterations.\n"
     ]
    },
    {
     "name": "stderr",
     "output_type": "stream",
     "text": [
      "[I 2025-07-11 02:52:11,856] Trial 14 finished with value: 0.9401 and parameters: {'iterations': 1166, 'learning_rate': 0.048887322531306815, 'depth': 7, 'l2_leaf_reg': 8.759464184683013, 'border_count': 182, 'random_strength': 0.17166887315589954, 'bagging_temperature': 0.8089679356959429}. Best is trial 7 with value: 0.9426375.\n"
     ]
    },
    {
     "name": "stdout",
     "output_type": "stream",
     "text": [
      "0:\tlearn: 0.7342298\ttest: 0.7320094\tbest: 0.7320094 (0)\ttotal: 682ms\tremaining: 8m 33s\n",
      "100:\tlearn: 0.7726136\ttest: 0.7709921\tbest: 0.7709921 (100)\ttotal: 59.3s\tremaining: 6m 23s\n",
      "200:\tlearn: 0.7956205\ttest: 0.7921584\tbest: 0.7921584 (200)\ttotal: 1m 59s\tremaining: 5m 29s\n",
      "300:\tlearn: 0.8094511\ttest: 0.8032809\tbest: 0.8032809 (300)\ttotal: 2m 58s\tremaining: 4m 28s\n",
      "400:\tlearn: 0.8201970\ttest: 0.8114331\tbest: 0.8114741 (399)\ttotal: 3m 55s\tremaining: 3m 27s\n",
      "500:\tlearn: 0.8284720\ttest: 0.8178361\tbest: 0.8178361 (500)\ttotal: 4m 52s\tremaining: 2m 27s\n",
      "600:\tlearn: 0.8352680\ttest: 0.8226255\tbest: 0.8226255 (600)\ttotal: 5m 49s\tremaining: 1m 28s\n",
      "700:\tlearn: 0.8412952\ttest: 0.8259080\tbest: 0.8262346 (691)\ttotal: 6m 44s\tremaining: 30.6s\n",
      "753:\tlearn: 0.8438630\ttest: 0.8278539\tbest: 0.8278539 (753)\ttotal: 7m 14s\tremaining: 0us\n",
      "\n",
      "bestTest = 0.8278538813\n",
      "bestIteration = 753\n",
      "\n"
     ]
    },
    {
     "name": "stderr",
     "output_type": "stream",
     "text": [
      "[I 2025-07-11 02:59:35,661] Trial 15 finished with value: 0.934025 and parameters: {'iterations': 754, 'learning_rate': 0.026483770118385618, 'depth': 8, 'l2_leaf_reg': 6.642341879084945, 'border_count': 177, 'random_strength': 0.10206632358387271, 'bagging_temperature': 0.7930662053646804}. Best is trial 7 with value: 0.9426375.\n"
     ]
    },
    {
     "name": "stdout",
     "output_type": "stream",
     "text": [
      "0:\tlearn: 0.7228055\ttest: 0.7208052\tbest: 0.7208052 (0)\ttotal: 380ms\tremaining: 8m 46s\n",
      "100:\tlearn: 0.7759559\ttest: 0.7753096\tbest: 0.7753096 (100)\ttotal: 40.1s\tremaining: 8m 30s\n",
      "200:\tlearn: 0.7979675\ttest: 0.7951927\tbest: 0.7951927 (200)\ttotal: 1m 19s\tremaining: 7m 50s\n",
      "300:\tlearn: 0.8117682\ttest: 0.8069540\tbest: 0.8071389 (299)\ttotal: 1m 58s\tremaining: 7m 6s\n",
      "400:\tlearn: 0.8219519\ttest: 0.8166010\tbest: 0.8166010 (400)\ttotal: 2m 36s\tremaining: 6m 24s\n",
      "500:\tlearn: 0.8293428\ttest: 0.8212311\tbest: 0.8212662 (497)\ttotal: 3m 13s\tremaining: 5m 41s\n",
      "600:\tlearn: 0.8355655\ttest: 0.8255366\tbest: 0.8255977 (599)\ttotal: 3m 50s\tremaining: 5m\n",
      "700:\tlearn: 0.8403003\ttest: 0.8293811\tbest: 0.8294574 (699)\ttotal: 4m 26s\tremaining: 4m 20s\n",
      "800:\tlearn: 0.8442198\ttest: 0.8330679\tbest: 0.8330679 (800)\ttotal: 5m 3s\tremaining: 3m 41s\n",
      "900:\tlearn: 0.8477123\ttest: 0.8353296\tbest: 0.8354759 (894)\ttotal: 5m 38s\tremaining: 3m 2s\n",
      "1000:\tlearn: 0.8514661\ttest: 0.8375625\tbest: 0.8376817 (998)\ttotal: 6m 14s\tremaining: 2m 24s\n",
      "1100:\tlearn: 0.8550196\ttest: 0.8395630\tbest: 0.8397511 (1098)\ttotal: 6m 50s\tremaining: 1m 46s\n",
      "1200:\tlearn: 0.8587046\ttest: 0.8410645\tbest: 0.8410748 (1198)\ttotal: 7m 26s\tremaining: 1m 9s\n",
      "1300:\tlearn: 0.8616745\ttest: 0.8421803\tbest: 0.8424225 (1297)\ttotal: 8m 2s\tremaining: 31.9s\n",
      "1386:\tlearn: 0.8641530\ttest: 0.8437247\tbest: 0.8439190 (1368)\ttotal: 8m 32s\tremaining: 0us\n",
      "\n",
      "bestTest = 0.8439190283\n",
      "bestIteration = 1368\n",
      "\n",
      "Shrink model to first 1369 iterations.\n"
     ]
    },
    {
     "name": "stderr",
     "output_type": "stream",
     "text": [
      "[I 2025-07-11 03:08:16,961] Trial 16 finished with value: 0.9397625 and parameters: {'iterations': 1387, 'learning_rate': 0.04704086809571013, 'depth': 6, 'l2_leaf_reg': 8.676816096325307, 'border_count': 162, 'random_strength': 0.727539047005179, 'bagging_temperature': 0.4637504044483368}. Best is trial 7 with value: 0.9426375.\n"
     ]
    },
    {
     "name": "stdout",
     "output_type": "stream",
     "text": [
      "0:\tlearn: 0.7346068\ttest: 0.7312112\tbest: 0.7312112 (0)\ttotal: 903ms\tremaining: 16m 59s\n",
      "100:\tlearn: 0.8050762\ttest: 0.7989154\tbest: 0.7989154 (100)\ttotal: 1m 23s\tremaining: 14m 7s\n",
      "200:\tlearn: 0.8316246\ttest: 0.8168469\tbest: 0.8168469 (200)\ttotal: 2m 42s\tremaining: 12m 32s\n",
      "300:\tlearn: 0.8503766\ttest: 0.8286067\tbest: 0.8286067 (300)\ttotal: 4m 2s\tremaining: 11m 8s\n",
      "400:\tlearn: 0.8638554\ttest: 0.8353487\tbest: 0.8353487 (400)\ttotal: 5m 20s\tremaining: 9m 42s\n",
      "500:\tlearn: 0.8740981\ttest: 0.8399366\tbest: 0.8399366 (500)\ttotal: 6m 36s\tremaining: 8m 17s\n",
      "600:\tlearn: 0.8838243\ttest: 0.8432747\tbest: 0.8432918 (599)\ttotal: 7m 52s\tremaining: 6m 56s\n",
      "700:\tlearn: 0.8920415\ttest: 0.8457390\tbest: 0.8459874 (690)\ttotal: 9m 8s\tremaining: 5m 35s\n",
      "800:\tlearn: 0.9001721\ttest: 0.8476064\tbest: 0.8478703 (784)\ttotal: 10m 24s\tremaining: 4m 16s\n",
      "900:\tlearn: 0.9073505\ttest: 0.8499339\tbest: 0.8502387 (890)\ttotal: 11m 40s\tremaining: 2m 58s\n",
      "Stopped by overfitting detector  (50 iterations wait)\n",
      "\n",
      "bestTest = 0.8509993553\n",
      "bestIteration = 944\n",
      "\n",
      "Shrink model to first 945 iterations.\n"
     ]
    },
    {
     "name": "stderr",
     "output_type": "stream",
     "text": [
      "[I 2025-07-11 03:21:17,736] Trial 17 finished with value: 0.942225 and parameters: {'iterations': 1130, 'learning_rate': 0.06629005714491658, 'depth': 9, 'l2_leaf_reg': 8.8287304053586, 'border_count': 206, 'random_strength': 0.9882563770192287, 'bagging_temperature': 0.7067728368919526}. Best is trial 7 with value: 0.9426375.\n"
     ]
    },
    {
     "name": "stdout",
     "output_type": "stream",
     "text": [
      "0:\tlearn: 0.7274303\ttest: 0.7265946\tbest: 0.7265946 (0)\ttotal: 521ms\tremaining: 6m 57s\n",
      "100:\tlearn: 0.7766775\ttest: 0.7746008\tbest: 0.7746008 (100)\ttotal: 54.4s\tremaining: 6m 17s\n",
      "200:\tlearn: 0.8000167\ttest: 0.7943503\tbest: 0.7943503 (200)\ttotal: 1m 48s\tremaining: 5m 23s\n",
      "300:\tlearn: 0.8139845\ttest: 0.8084489\tbest: 0.8084489 (300)\ttotal: 2m 41s\tremaining: 4m 27s\n",
      "400:\tlearn: 0.8250019\ttest: 0.8161994\tbest: 0.8162114 (398)\ttotal: 3m 33s\tremaining: 3m 32s\n",
      "500:\tlearn: 0.8343100\ttest: 0.8227294\tbest: 0.8227294 (500)\ttotal: 4m 24s\tremaining: 2m 38s\n",
      "600:\tlearn: 0.8412464\ttest: 0.8265822\tbest: 0.8265822 (600)\ttotal: 5m 16s\tremaining: 1m 45s\n",
      "700:\tlearn: 0.8473978\ttest: 0.8305427\tbest: 0.8305427 (700)\ttotal: 6m 6s\tremaining: 52.2s\n",
      "800:\tlearn: 0.8531164\ttest: 0.8328562\tbest: 0.8328833 (799)\ttotal: 6m 56s\tremaining: 0us\n",
      "\n",
      "bestTest = 0.8328833078\n",
      "bestIteration = 799\n",
      "\n",
      "Shrink model to first 800 iterations.\n"
     ]
    },
    {
     "name": "stderr",
     "output_type": "stream",
     "text": [
      "[I 2025-07-11 03:28:21,974] Trial 18 finished with value: 0.9357875 and parameters: {'iterations': 801, 'learning_rate': 0.03241859580390191, 'depth': 8, 'l2_leaf_reg': 5.899024968959189, 'border_count': 116, 'random_strength': 0.45759828135430697, 'bagging_temperature': 0.9131301520748526}. Best is trial 7 with value: 0.9426375.\n"
     ]
    },
    {
     "name": "stdout",
     "output_type": "stream",
     "text": [
      "0:\tlearn: 0.7384353\ttest: 0.7370710\tbest: 0.7370710 (0)\ttotal: 2.2s\tremaining: 49m 39s\n",
      "100:\tlearn: 0.8078567\ttest: 0.7991776\tbest: 0.7991776 (100)\ttotal: 3m 35s\tremaining: 44m 40s\n",
      "200:\tlearn: 0.8369349\ttest: 0.8172226\tbest: 0.8172226 (200)\ttotal: 7m 10s\tremaining: 41m 13s\n",
      "300:\tlearn: 0.8555839\ttest: 0.8274512\tbest: 0.8274512 (300)\ttotal: 10m 44s\tremaining: 37m 35s\n",
      "400:\tlearn: 0.8705038\ttest: 0.8339021\tbest: 0.8339021 (400)\ttotal: 14m 17s\tremaining: 34m\n",
      "500:\tlearn: 0.8817714\ttest: 0.8378904\tbest: 0.8379132 (490)\ttotal: 17m 51s\tremaining: 30m 27s\n",
      "600:\tlearn: 0.8916389\ttest: 0.8404407\tbest: 0.8405431 (589)\ttotal: 21m 24s\tremaining: 26m 51s\n",
      "700:\tlearn: 0.9007727\ttest: 0.8432324\tbest: 0.8433790 (698)\ttotal: 24m 58s\tremaining: 23m 17s\n",
      "800:\tlearn: 0.9087882\ttest: 0.8447791\tbest: 0.8449958 (791)\ttotal: 28m 31s\tremaining: 19m 43s\n",
      "900:\tlearn: 0.9170729\ttest: 0.8460420\tbest: 0.8463154 (868)\ttotal: 32m 4s\tremaining: 16m 9s\n",
      "1000:\tlearn: 0.9239230\ttest: 0.8481817\tbest: 0.8483206 (996)\ttotal: 35m 37s\tremaining: 12m 35s\n",
      "1100:\tlearn: 0.9300246\ttest: 0.8487390\tbest: 0.8489051 (1098)\ttotal: 39m 10s\tremaining: 9m 2s\n",
      "1200:\tlearn: 0.9358567\ttest: 0.8504465\tbest: 0.8506481 (1198)\ttotal: 42m 43s\tremaining: 5m 28s\n",
      "1300:\tlearn: 0.9410458\ttest: 0.8509199\tbest: 0.8515892 (1260)\ttotal: 46m 16s\tremaining: 1m 55s\n",
      "Stopped by overfitting detector  (50 iterations wait)\n",
      "\n",
      "bestTest = 0.8515891948\n",
      "bestIteration = 1260\n",
      "\n",
      "Shrink model to first 1261 iterations.\n"
     ]
    },
    {
     "name": "stderr",
     "output_type": "stream",
     "text": [
      "[I 2025-07-11 04:15:15,952] Trial 19 finished with value: 0.94245 and parameters: {'iterations': 1355, 'learning_rate': 0.05283996594048645, 'depth': 10, 'l2_leaf_reg': 7.652407968735866, 'border_count': 156, 'random_strength': 0.3311061156678725, 'bagging_temperature': 0.39446013771540894}. Best is trial 7 with value: 0.9426375.\n"
     ]
    },
    {
     "name": "stdout",
     "output_type": "stream",
     "text": [
      "0:\tlearn: 0.7288075\ttest: 0.7262016\tbest: 0.7262016 (0)\ttotal: 422ms\tremaining: 7m 47s\n",
      "100:\tlearn: 0.7869254\ttest: 0.7861650\tbest: 0.7861650 (100)\ttotal: 42.4s\tremaining: 7m 3s\n",
      "200:\tlearn: 0.8092608\ttest: 0.8053797\tbest: 0.8053797 (200)\ttotal: 1m 23s\tremaining: 6m 16s\n",
      "300:\tlearn: 0.8235894\ttest: 0.8163773\tbest: 0.8164843 (298)\ttotal: 2m 3s\tremaining: 5m 31s\n",
      "400:\tlearn: 0.8334631\ttest: 0.8247201\tbest: 0.8247201 (400)\ttotal: 2m 42s\tremaining: 4m 47s\n",
      "500:\tlearn: 0.8408171\ttest: 0.8303633\tbest: 0.8303633 (500)\ttotal: 3m 21s\tremaining: 4m 5s\n",
      "600:\tlearn: 0.8461350\ttest: 0.8337618\tbest: 0.8343415 (597)\ttotal: 3m 59s\tremaining: 3m 22s\n",
      "700:\tlearn: 0.8511952\ttest: 0.8368242\tbest: 0.8369481 (699)\ttotal: 4m 37s\tremaining: 2m 42s\n",
      "800:\tlearn: 0.8558454\ttest: 0.8395278\tbest: 0.8395758 (795)\ttotal: 5m 14s\tremaining: 2m 1s\n",
      "900:\tlearn: 0.8604311\ttest: 0.8414504\tbest: 0.8414504 (900)\ttotal: 5m 52s\tremaining: 1m 21s\n",
      "1000:\tlearn: 0.8647472\ttest: 0.8427461\tbest: 0.8427868 (974)\ttotal: 6m 31s\tremaining: 42.6s\n",
      "1100:\tlearn: 0.8684772\ttest: 0.8448326\tbest: 0.8449046 (1096)\ttotal: 7m 8s\tremaining: 3.5s\n",
      "1109:\tlearn: 0.8688849\ttest: 0.8449073\tbest: 0.8449174 (1104)\ttotal: 7m 11s\tremaining: 0us\n",
      "\n",
      "bestTest = 0.8449173647\n",
      "bestIteration = 1104\n",
      "\n",
      "Shrink model to first 1105 iterations.\n"
     ]
    },
    {
     "name": "stderr",
     "output_type": "stream",
     "text": [
      "[I 2025-07-11 04:22:36,826] Trial 20 finished with value: 0.9400625 and parameters: {'iterations': 1110, 'learning_rate': 0.06577435408109687, 'depth': 6, 'l2_leaf_reg': 6.697822969685037, 'border_count': 210, 'random_strength': 0.6119168755052286, 'bagging_temperature': 0.22233892944227857}. Best is trial 7 with value: 0.9426375.\n"
     ]
    },
    {
     "name": "stdout",
     "output_type": "stream",
     "text": [
      "0:\tlearn: 0.7347164\ttest: 0.7348702\tbest: 0.7348702 (0)\ttotal: 653ms\tremaining: 16m\n",
      "100:\tlearn: 0.8042600\ttest: 0.7991650\tbest: 0.7991650 (100)\ttotal: 1m 4s\tremaining: 14m 36s\n",
      "200:\tlearn: 0.8308870\ttest: 0.8184287\tbest: 0.8184287 (200)\ttotal: 2m 6s\tremaining: 13m 18s\n",
      "300:\tlearn: 0.8481823\ttest: 0.8261181\tbest: 0.8262639 (295)\ttotal: 3m 7s\tremaining: 12m 7s\n",
      "400:\tlearn: 0.8611500\ttest: 0.8332413\tbest: 0.8332792 (398)\ttotal: 4m 6s\tremaining: 10m 57s\n",
      "500:\tlearn: 0.8714257\ttest: 0.8380743\tbest: 0.8381347 (497)\ttotal: 5m 4s\tremaining: 9m 48s\n",
      "600:\tlearn: 0.8807639\ttest: 0.8408723\tbest: 0.8412062 (595)\ttotal: 6m 3s\tremaining: 8m 45s\n",
      "700:\tlearn: 0.8889357\ttest: 0.8445880\tbest: 0.8445880 (700)\ttotal: 7m 2s\tremaining: 7m 43s\n",
      "800:\tlearn: 0.8964290\ttest: 0.8460669\tbest: 0.8462010 (797)\ttotal: 7m 59s\tremaining: 6m 41s\n",
      "900:\tlearn: 0.9032805\ttest: 0.8474226\tbest: 0.8477103 (889)\ttotal: 8m 57s\tremaining: 5m 39s\n",
      "1000:\tlearn: 0.9094387\ttest: 0.8487232\tbest: 0.8487232 (1000)\ttotal: 9m 55s\tremaining: 4m 39s\n",
      "1100:\tlearn: 0.9156421\ttest: 0.8500886\tbest: 0.8502434 (1085)\ttotal: 10m 54s\tremaining: 3m 39s\n",
      "1200:\tlearn: 0.9212098\ttest: 0.8501563\tbest: 0.8509089 (1154)\ttotal: 11m 51s\tremaining: 2m 39s\n",
      "Stopped by overfitting detector  (50 iterations wait)\n",
      "\n",
      "bestTest = 0.8509088565\n",
      "bestIteration = 1154\n",
      "\n",
      "Shrink model to first 1155 iterations.\n"
     ]
    },
    {
     "name": "stderr",
     "output_type": "stream",
     "text": [
      "[I 2025-07-11 04:34:41,344] Trial 21 finished with value: 0.942175 and parameters: {'iterations': 1471, 'learning_rate': 0.058740732748465654, 'depth': 9, 'l2_leaf_reg': 7.905873083572028, 'border_count': 75, 'random_strength': 0.3276012355696351, 'bagging_temperature': 0.5870411286087803}. Best is trial 7 with value: 0.9426375.\n"
     ]
    },
    {
     "name": "stdout",
     "output_type": "stream",
     "text": [
      "0:\tlearn: 0.7319631\ttest: 0.7290001\tbest: 0.7290001 (0)\ttotal: 676ms\tremaining: 14m 21s\n",
      "100:\tlearn: 0.8011794\ttest: 0.7946716\tbest: 0.7946716 (100)\ttotal: 1m 10s\tremaining: 13m 38s\n",
      "200:\tlearn: 0.8276271\ttest: 0.8156729\tbest: 0.8157118 (198)\ttotal: 2m 17s\tremaining: 12m 15s\n",
      "300:\tlearn: 0.8450160\ttest: 0.8267110\tbest: 0.8267110 (300)\ttotal: 3m 24s\tremaining: 11m 1s\n",
      "400:\tlearn: 0.8581935\ttest: 0.8331544\tbest: 0.8331598 (399)\ttotal: 4m 29s\tremaining: 9m 48s\n",
      "500:\tlearn: 0.8691128\ttest: 0.8377045\tbest: 0.8377045 (500)\ttotal: 5m 33s\tremaining: 8m 36s\n",
      "600:\tlearn: 0.8771839\ttest: 0.8412256\tbest: 0.8412529 (599)\ttotal: 6m 37s\tremaining: 7m 26s\n",
      "700:\tlearn: 0.8851001\ttest: 0.8431068\tbest: 0.8431068 (700)\ttotal: 7m 39s\tremaining: 6m 17s\n",
      "800:\tlearn: 0.8920334\ttest: 0.8453602\tbest: 0.8453702 (769)\ttotal: 8m 41s\tremaining: 5m 9s\n",
      "900:\tlearn: 0.8985526\ttest: 0.8478387\tbest: 0.8479230 (892)\ttotal: 9m 44s\tremaining: 4m 3s\n",
      "1000:\tlearn: 0.9049542\ttest: 0.8485885\tbest: 0.8487156 (991)\ttotal: 10m 48s\tremaining: 2m 58s\n",
      "1100:\tlearn: 0.9107208\ttest: 0.8498147\tbest: 0.8498518 (1099)\ttotal: 11m 50s\tremaining: 1m 52s\n",
      "1200:\tlearn: 0.9157998\ttest: 0.8512378\tbest: 0.8513474 (1198)\ttotal: 12m 53s\tremaining: 48.3s\n",
      "1275:\tlearn: 0.9198568\ttest: 0.8516407\tbest: 0.8519449 (1245)\ttotal: 13m 40s\tremaining: 0us\n",
      "\n",
      "bestTest = 0.8519448738\n",
      "bestIteration = 1245\n",
      "\n",
      "Shrink model to first 1246 iterations.\n"
     ]
    },
    {
     "name": "stderr",
     "output_type": "stream",
     "text": [
      "[I 2025-07-11 04:48:34,191] Trial 22 finished with value: 0.942525 and parameters: {'iterations': 1276, 'learning_rate': 0.056971067817580746, 'depth': 9, 'l2_leaf_reg': 9.048358494462798, 'border_count': 102, 'random_strength': 0.4979199650018179, 'bagging_temperature': 0.6372369733297869}. Best is trial 7 with value: 0.9426375.\n"
     ]
    },
    {
     "name": "stdout",
     "output_type": "stream",
     "text": [
      "0:\tlearn: 0.7318641\ttest: 0.7290169\tbest: 0.7290169 (0)\ttotal: 537ms\tremaining: 13m 17s\n",
      "100:\tlearn: 0.7865665\ttest: 0.7836696\tbest: 0.7836696 (100)\ttotal: 53.3s\tremaining: 12m 10s\n",
      "200:\tlearn: 0.8108220\ttest: 0.8053346\tbest: 0.8053346 (200)\ttotal: 1m 45s\tremaining: 11m 13s\n",
      "300:\tlearn: 0.8260684\ttest: 0.8176995\tbest: 0.8176995 (300)\ttotal: 2m 35s\tremaining: 10m 13s\n",
      "400:\tlearn: 0.8369612\ttest: 0.8239903\tbest: 0.8240133 (396)\ttotal: 3m 25s\tremaining: 9m 15s\n",
      "500:\tlearn: 0.8452147\ttest: 0.8291461\tbest: 0.8291461 (500)\ttotal: 4m 14s\tremaining: 8m 19s\n",
      "600:\tlearn: 0.8524924\ttest: 0.8330301\tbest: 0.8332413 (589)\ttotal: 5m 2s\tremaining: 7m 25s\n",
      "700:\tlearn: 0.8590340\ttest: 0.8360464\tbest: 0.8360464 (700)\ttotal: 5m 50s\tremaining: 6m 32s\n",
      "800:\tlearn: 0.8644943\ttest: 0.8389770\tbest: 0.8389770 (800)\ttotal: 6m 38s\tremaining: 5m 40s\n",
      "900:\tlearn: 0.8694692\ttest: 0.8407767\tbest: 0.8411548 (894)\ttotal: 7m 25s\tremaining: 4m 48s\n",
      "1000:\tlearn: 0.8747769\ttest: 0.8435902\tbest: 0.8435902 (1000)\ttotal: 8m 13s\tremaining: 3m 58s\n",
      "1100:\tlearn: 0.8793770\ttest: 0.8449703\tbest: 0.8450249 (1099)\ttotal: 9m\tremaining: 3m 8s\n",
      "1200:\tlearn: 0.8836490\ttest: 0.8463800\tbest: 0.8463800 (1200)\ttotal: 9m 47s\tremaining: 2m 18s\n",
      "Stopped by overfitting detector  (50 iterations wait)\n",
      "\n",
      "bestTest = 0.8470778172\n",
      "bestIteration = 1245\n",
      "\n",
      "Shrink model to first 1246 iterations.\n"
     ]
    },
    {
     "name": "stderr",
     "output_type": "stream",
     "text": [
      "[I 2025-07-11 04:59:16,477] Trial 23 finished with value: 0.9408 and parameters: {'iterations': 1485, 'learning_rate': 0.043583052283859114, 'depth': 8, 'l2_leaf_reg': 7.6634124436239475, 'border_count': 84, 'random_strength': 0.3569126192720762, 'bagging_temperature': 0.7248213268652512}. Best is trial 7 with value: 0.9426375.\n"
     ]
    },
    {
     "name": "stdout",
     "output_type": "stream",
     "text": [
      "0:\tlearn: 0.7432046\ttest: 0.7400555\tbest: 0.7400555 (0)\ttotal: 1.96s\tremaining: 45m 39s\n",
      "100:\tlearn: 0.8168828\ttest: 0.8055519\tbest: 0.8055519 (100)\ttotal: 3m 17s\tremaining: 42m 19s\n",
      "200:\tlearn: 0.8481709\ttest: 0.8238673\tbest: 0.8238673 (200)\ttotal: 6m 33s\tremaining: 39m 1s\n",
      "300:\tlearn: 0.8687413\ttest: 0.8333171\tbest: 0.8333171 (300)\ttotal: 9m 49s\tremaining: 35m 46s\n",
      "400:\tlearn: 0.8831213\ttest: 0.8385864\tbest: 0.8387870 (398)\ttotal: 13m 5s\tremaining: 32m 31s\n",
      "500:\tlearn: 0.8950569\ttest: 0.8430366\tbest: 0.8430366 (500)\ttotal: 16m 21s\tremaining: 29m 15s\n",
      "600:\tlearn: 0.9067201\ttest: 0.8452750\tbest: 0.8452750 (600)\ttotal: 19m 37s\tremaining: 25m 59s\n",
      "700:\tlearn: 0.9171718\ttest: 0.8467167\tbest: 0.8471855 (689)\ttotal: 22m 53s\tremaining: 22m 43s\n",
      "800:\tlearn: 0.9252826\ttest: 0.8484126\tbest: 0.8491199 (767)\ttotal: 26m 8s\tremaining: 19m 27s\n",
      "Stopped by overfitting detector  (50 iterations wait)\n",
      "\n",
      "bestTest = 0.8491198659\n",
      "bestIteration = 767\n",
      "\n",
      "Shrink model to first 768 iterations.\n"
     ]
    },
    {
     "name": "stderr",
     "output_type": "stream",
     "text": [
      "[I 2025-07-11 05:26:11,282] Trial 24 finished with value: 0.9415 and parameters: {'iterations': 1397, 'learning_rate': 0.06762170926999468, 'depth': 10, 'l2_leaf_reg': 8.13690346402104, 'border_count': 120, 'random_strength': 0.26659924493951626, 'bagging_temperature': 0.5523500005409466}. Best is trial 7 with value: 0.9426375.\n"
     ]
    },
    {
     "name": "stdout",
     "output_type": "stream",
     "text": [
      "0:\tlearn: 0.7359418\ttest: 0.7340386\tbest: 0.7340386 (0)\ttotal: 545ms\tremaining: 11m 23s\n",
      "100:\tlearn: 0.7895306\ttest: 0.7877310\tbest: 0.7877310 (100)\ttotal: 49.7s\tremaining: 9m 27s\n",
      "200:\tlearn: 0.8124364\ttest: 0.8071598\tbest: 0.8071598 (200)\ttotal: 1m 37s\tremaining: 8m 34s\n",
      "300:\tlearn: 0.8263183\ttest: 0.8183931\tbest: 0.8183931 (300)\ttotal: 2m 24s\tremaining: 7m 37s\n",
      "400:\tlearn: 0.8369365\ttest: 0.8246999\tbest: 0.8246999 (400)\ttotal: 3m 10s\tremaining: 6m 46s\n",
      "500:\tlearn: 0.8447086\ttest: 0.8308974\tbest: 0.8308974 (500)\ttotal: 3m 56s\tremaining: 5m 55s\n",
      "600:\tlearn: 0.8509906\ttest: 0.8345567\tbest: 0.8346544 (598)\ttotal: 4m 40s\tremaining: 5m 5s\n",
      "700:\tlearn: 0.8563164\ttest: 0.8370147\tbest: 0.8370901 (699)\ttotal: 5m 23s\tremaining: 4m 15s\n",
      "800:\tlearn: 0.8611445\ttest: 0.8396734\tbest: 0.8396773 (795)\ttotal: 6m 6s\tremaining: 3m 28s\n",
      "900:\tlearn: 0.8663629\ttest: 0.8421462\tbest: 0.8422893 (887)\ttotal: 6m 49s\tremaining: 2m 41s\n",
      "1000:\tlearn: 0.8708188\ttest: 0.8441584\tbest: 0.8441756 (998)\ttotal: 7m 32s\tremaining: 1m 55s\n",
      "1100:\tlearn: 0.8746483\ttest: 0.8453955\tbest: 0.8454501 (1099)\ttotal: 8m 16s\tremaining: 1m 9s\n",
      "1200:\tlearn: 0.8782713\ttest: 0.8463800\tbest: 0.8466285 (1197)\ttotal: 8m 59s\tremaining: 24.7s\n",
      "1255:\tlearn: 0.8799534\ttest: 0.8476470\tbest: 0.8477390 (1254)\ttotal: 9m 22s\tremaining: 0us\n",
      "\n",
      "bestTest = 0.8477390181\n",
      "bestIteration = 1254\n",
      "\n",
      "Shrink model to first 1255 iterations.\n"
     ]
    },
    {
     "name": "stderr",
     "output_type": "stream",
     "text": [
      "[I 2025-07-11 05:35:43,402] Trial 25 finished with value: 0.941075 and parameters: {'iterations': 1256, 'learning_rate': 0.054785801867628846, 'depth': 7, 'l2_leaf_reg': 7.068997720236229, 'border_count': 142, 'random_strength': 0.26368518763666954, 'bagging_temperature': 0.8473875145545173}. Best is trial 7 with value: 0.9426375.\n"
     ]
    },
    {
     "name": "stdout",
     "output_type": "stream",
     "text": [
      "0:\tlearn: 0.7323857\ttest: 0.7323579\tbest: 0.7323579 (0)\ttotal: 675ms\tremaining: 11m 58s\n",
      "100:\tlearn: 0.8150630\ttest: 0.8078000\tbest: 0.8078000 (100)\ttotal: 1m 11s\tremaining: 11m 24s\n",
      "200:\tlearn: 0.8436096\ttest: 0.8262400\tbest: 0.8263547 (199)\ttotal: 2m 20s\tremaining: 10m 3s\n",
      "300:\tlearn: 0.8613618\ttest: 0.8347081\tbest: 0.8347081 (300)\ttotal: 3m 27s\tremaining: 8m 46s\n",
      "400:\tlearn: 0.8744379\ttest: 0.8397758\tbest: 0.8398134 (399)\ttotal: 4m 32s\tremaining: 7m 32s\n",
      "500:\tlearn: 0.8857964\ttest: 0.8427152\tbest: 0.8428516 (494)\ttotal: 5m 37s\tremaining: 6m 19s\n",
      "600:\tlearn: 0.8962511\ttest: 0.8460147\tbest: 0.8461836 (599)\ttotal: 6m 42s\tremaining: 5m 10s\n",
      "700:\tlearn: 0.9045742\ttest: 0.8478787\tbest: 0.8480625 (696)\ttotal: 7m 46s\tremaining: 4m 1s\n",
      "800:\tlearn: 0.9122042\ttest: 0.8497002\tbest: 0.8498372 (798)\ttotal: 8m 51s\tremaining: 2m 55s\n",
      "900:\tlearn: 0.9190658\ttest: 0.8515796\tbest: 0.8517098 (894)\ttotal: 9m 56s\tremaining: 1m 48s\n",
      "1000:\tlearn: 0.9258179\ttest: 0.8529573\tbest: 0.8536209 (981)\ttotal: 11m 1s\tremaining: 42.3s\n",
      "Stopped by overfitting detector  (50 iterations wait)\n",
      "\n",
      "bestTest = 0.8536208561\n",
      "bestIteration = 981\n",
      "\n",
      "Shrink model to first 982 iterations.\n"
     ]
    },
    {
     "name": "stderr",
     "output_type": "stream",
     "text": [
      "[I 2025-07-11 05:47:15,025] Trial 26 finished with value: 0.94315 and parameters: {'iterations': 1065, 'learning_rate': 0.08152479236862857, 'depth': 9, 'l2_leaf_reg': 9.354422958982173, 'border_count': 93, 'random_strength': 0.5824934187665093, 'bagging_temperature': 0.7079942639699877}. Best is trial 26 with value: 0.94315.\n"
     ]
    },
    {
     "name": "stdout",
     "output_type": "stream",
     "text": [
      "0:\tlearn: 0.7350939\ttest: 0.7323258\tbest: 0.7323258 (0)\ttotal: 627ms\tremaining: 8m 12s\n",
      "100:\tlearn: 0.8078457\ttest: 0.8025136\tbest: 0.8025136 (100)\ttotal: 58.9s\tremaining: 6m 39s\n",
      "200:\tlearn: 0.8325837\ttest: 0.8231488\tbest: 0.8231488 (200)\ttotal: 1m 54s\tremaining: 5m 33s\n",
      "300:\tlearn: 0.8493741\ttest: 0.8314694\tbest: 0.8314694 (300)\ttotal: 2m 49s\tremaining: 4m 33s\n",
      "400:\tlearn: 0.8602655\ttest: 0.8374158\tbest: 0.8374384 (399)\ttotal: 3m 42s\tremaining: 3m 33s\n",
      "500:\tlearn: 0.8697762\ttest: 0.8420406\tbest: 0.8420406 (500)\ttotal: 4m 34s\tremaining: 2m 36s\n",
      "600:\tlearn: 0.8777807\ttest: 0.8448939\tbest: 0.8450513 (593)\ttotal: 5m 26s\tremaining: 1m 41s\n",
      "700:\tlearn: 0.8860813\ttest: 0.8473428\tbest: 0.8473428 (700)\ttotal: 6m 19s\tremaining: 46.6s\n",
      "786:\tlearn: 0.8917580\ttest: 0.8485611\tbest: 0.8486354 (785)\ttotal: 7m 5s\tremaining: 0us\n",
      "\n",
      "bestTest = 0.8486353958\n",
      "bestIteration = 785\n",
      "\n",
      "Shrink model to first 786 iterations.\n"
     ]
    },
    {
     "name": "stderr",
     "output_type": "stream",
     "text": [
      "[I 2025-07-11 05:54:28,868] Trial 27 finished with value: 0.94135 and parameters: {'iterations': 787, 'learning_rate': 0.08217912899111399, 'depth': 8, 'l2_leaf_reg': 9.483184723148232, 'border_count': 159, 'random_strength': 0.742766608249526, 'bagging_temperature': 0.6965108826235061}. Best is trial 26 with value: 0.94315.\n"
     ]
    },
    {
     "name": "stdout",
     "output_type": "stream",
     "text": [
      "0:\tlearn: 0.7371006\ttest: 0.7333513\tbest: 0.7333513 (0)\ttotal: 671ms\tremaining: 12m 1s\n",
      "100:\tlearn: 0.8213600\ttest: 0.8102638\tbest: 0.8102638 (100)\ttotal: 1m 8s\tremaining: 11m 4s\n",
      "200:\tlearn: 0.8505055\ttest: 0.8279874\tbest: 0.8280905 (199)\ttotal: 2m 14s\tremaining: 9m 44s\n",
      "300:\tlearn: 0.8689499\ttest: 0.8367981\tbest: 0.8369819 (298)\ttotal: 3m 17s\tremaining: 8m 28s\n",
      "400:\tlearn: 0.8828897\ttest: 0.8411590\tbest: 0.8412678 (398)\ttotal: 4m 19s\tremaining: 7m 17s\n",
      "500:\tlearn: 0.8947381\ttest: 0.8448593\tbest: 0.8448593 (500)\ttotal: 5m 22s\tremaining: 6m 9s\n",
      "600:\tlearn: 0.9048330\ttest: 0.8470869\tbest: 0.8473603 (597)\ttotal: 6m 24s\tremaining: 5m 3s\n",
      "700:\tlearn: 0.9151616\ttest: 0.8495324\tbest: 0.8496808 (696)\ttotal: 7m 26s\tremaining: 3m 58s\n",
      "800:\tlearn: 0.9231649\ttest: 0.8510419\tbest: 0.8511887 (799)\ttotal: 8m 28s\tremaining: 2m 54s\n",
      "900:\tlearn: 0.9308868\ttest: 0.8524125\tbest: 0.8525139 (892)\ttotal: 9m 30s\tremaining: 1m 50s\n",
      "1000:\tlearn: 0.9375488\ttest: 0.8537929\tbest: 0.8539123 (982)\ttotal: 10m 32s\tremaining: 47.4s\n",
      "Stopped by overfitting detector  (50 iterations wait)\n",
      "\n",
      "bestTest = 0.8544114334\n",
      "bestIteration = 1021\n",
      "\n",
      "Shrink model to first 1022 iterations.\n"
     ]
    },
    {
     "name": "stderr",
     "output_type": "stream",
     "text": [
      "[I 2025-07-11 06:05:55,790] Trial 28 finished with value: 0.9434625 and parameters: {'iterations': 1076, 'learning_rate': 0.0984473970334064, 'depth': 9, 'l2_leaf_reg': 9.308556840752988, 'border_count': 113, 'random_strength': 0.5988105034815305, 'bagging_temperature': 0.8720065043629223}. Best is trial 28 with value: 0.9434625.\n"
     ]
    },
    {
     "name": "stdout",
     "output_type": "stream",
     "text": [
      "0:\tlearn: 0.7297047\ttest: 0.7286666\tbest: 0.7286666 (0)\ttotal: 1.67s\tremaining: 29m 6s\n",
      "100:\tlearn: 0.8298424\ttest: 0.8124035\tbest: 0.8124035 (100)\ttotal: 2m 39s\tremaining: 24m 56s\n",
      "200:\tlearn: 0.8634061\ttest: 0.8298966\tbest: 0.8298966 (200)\ttotal: 5m 18s\tremaining: 22m 22s\n",
      "300:\tlearn: 0.8854273\ttest: 0.8378107\tbest: 0.8378545 (299)\ttotal: 7m 57s\tremaining: 19m 45s\n",
      "400:\tlearn: 0.9038076\ttest: 0.8421665\tbest: 0.8422209 (391)\ttotal: 10m 37s\tremaining: 17m 7s\n",
      "500:\tlearn: 0.9180508\ttest: 0.8457666\tbest: 0.8457666 (500)\ttotal: 13m 15s\tremaining: 14m 28s\n",
      "600:\tlearn: 0.9306524\ttest: 0.8473309\tbest: 0.8478737 (592)\ttotal: 15m 54s\tremaining: 11m 49s\n",
      "700:\tlearn: 0.9401345\ttest: 0.8492048\tbest: 0.8492207 (694)\ttotal: 18m 33s\tremaining: 9m 11s\n",
      "800:\tlearn: 0.9490869\ttest: 0.8508572\tbest: 0.8510296 (792)\ttotal: 21m 12s\tremaining: 6m 32s\n",
      "Stopped by overfitting detector  (50 iterations wait)\n",
      "\n",
      "bestTest = 0.8512678594\n",
      "bestIteration = 820\n",
      "\n",
      "Shrink model to first 821 iterations.\n"
     ]
    },
    {
     "name": "stderr",
     "output_type": "stream",
     "text": [
      "[I 2025-07-11 06:29:12,654] Trial 29 finished with value: 0.942225 and parameters: {'iterations': 1048, 'learning_rate': 0.09844228913173886, 'depth': 10, 'l2_leaf_reg': 9.293029609793729, 'border_count': 32, 'random_strength': 0.5955894644404489, 'bagging_temperature': 0.9847601273731006}. Best is trial 28 with value: 0.9434625.\n"
     ]
    }
   ],
   "source": [
    "# Optuna 튜닝 시작\n",
    "study = optuna.create_study(direction=\"maximize\")\n",
    "# XGB 때 n_trials=30 으로 했었는데 너무 오래걸려서 일단 20으로 설정\n",
    "# n_trials는 optuna가 시도할 하이퍼파라미터 조합의 개수 (몇번 학습할건지)\n",
    "study.optimize(objective, n_trials=30)"
   ]
  },
  {
   "cell_type": "code",
   "execution_count": 12,
   "id": "9aac50da-17e7-4944-8384-f395a6c9c617",
   "metadata": {},
   "outputs": [],
   "source": [
    "# 이렇게 하면 총 10번 추가로 돌아감\n",
    "# study.optimize(objective, n_trials=10)"
   ]
  },
  {
   "cell_type": "code",
   "execution_count": 13,
   "id": "85613098-260f-454f-8265-175842b50959",
   "metadata": {},
   "outputs": [
    {
     "name": "stdout",
     "output_type": "stream",
     "text": [
      "Best F1 score: 0.9434625\n",
      "Best parameters: {'iterations': 1076, 'learning_rate': 0.0984473970334064, 'depth': 9, 'l2_leaf_reg': 9.308556840752988, 'border_count': 113, 'random_strength': 0.5988105034815305, 'bagging_temperature': 0.8720065043629223}\n"
     ]
    }
   ],
   "source": [
    "# 결과 출력 (궁금하니까 --> 여기선 F1이 micro가 아니라 낮을 수 밖에 없다.)\n",
    "print(\"Best F1 score:\", study.best_value)\n",
    "print(\"Best parameters:\", study.best_params)"
   ]
  },
  {
   "cell_type": "code",
   "execution_count": 14,
   "id": "629019cf-15d8-482b-8e0f-5fbd65dcb022",
   "metadata": {},
   "outputs": [],
   "source": [
    "# 최적 파라미터로 모델 학습\n",
    "# Optuna가 튜닝한 것이 아닌 것들은 다시 넣어줘야함.\n",
    "# Optuna에 넣은 이유는 기본적으로 들어있어야 하기 때문에\n",
    "best_params = study.best_params\n",
    "best_params.update({\n",
    "    \"loss_function\": \"Logloss\",\n",
    "    \"eval_metric\": \"F1\",\n",
    "    \"random_state\": 42,\n",
    "    \"verbose\": 100\n",
    "})"
   ]
  },
  {
   "cell_type": "code",
   "execution_count": 15,
   "id": "cfbc08e2-bc65-4855-a19f-4a22bafa4927",
   "metadata": {},
   "outputs": [
    {
     "name": "stdout",
     "output_type": "stream",
     "text": [
      "0:\tlearn: 0.7371006\ttest: 0.7333513\tbest: 0.7333513 (0)\ttotal: 727ms\tremaining: 13m 1s\n",
      "100:\tlearn: 0.8213600\ttest: 0.8102638\tbest: 0.8102638 (100)\ttotal: 1m 11s\tremaining: 11m 33s\n",
      "200:\tlearn: 0.8505055\ttest: 0.8279874\tbest: 0.8280905 (199)\ttotal: 2m 19s\tremaining: 10m 8s\n",
      "300:\tlearn: 0.8689499\ttest: 0.8367981\tbest: 0.8369819 (298)\ttotal: 3m 25s\tremaining: 8m 49s\n",
      "400:\tlearn: 0.8828897\ttest: 0.8411590\tbest: 0.8412678 (398)\ttotal: 4m 30s\tremaining: 7m 34s\n",
      "500:\tlearn: 0.8947381\ttest: 0.8448593\tbest: 0.8448593 (500)\ttotal: 5m 34s\tremaining: 6m 24s\n",
      "600:\tlearn: 0.9048330\ttest: 0.8470869\tbest: 0.8473603 (597)\ttotal: 6m 39s\tremaining: 5m 15s\n",
      "700:\tlearn: 0.9151616\ttest: 0.8495324\tbest: 0.8496808 (696)\ttotal: 7m 44s\tremaining: 4m 8s\n",
      "800:\tlearn: 0.9231649\ttest: 0.8510419\tbest: 0.8511887 (799)\ttotal: 8m 48s\tremaining: 3m 1s\n",
      "900:\tlearn: 0.9308868\ttest: 0.8524125\tbest: 0.8525139 (892)\ttotal: 9m 52s\tremaining: 1m 55s\n",
      "1000:\tlearn: 0.9375488\ttest: 0.8537929\tbest: 0.8539123 (982)\ttotal: 10m 56s\tremaining: 49.2s\n",
      "Stopped by overfitting detector  (50 iterations wait)\n",
      "\n",
      "bestTest = 0.8544114334\n",
      "bestIteration = 1021\n",
      "\n",
      "Shrink model to first 1022 iterations.\n"
     ]
    },
    {
     "data": {
      "text/plain": [
       "<catboost.core.CatBoostClassifier at 0x1a701471e80>"
      ]
     },
     "execution_count": 15,
     "metadata": {},
     "output_type": "execute_result"
    }
   ],
   "source": [
    "# 실제 모델\n",
    "model = CatBoostClassifier(**best_params)\n",
    "model.fit(X_train, y_train,\n",
    "          eval_set=(X_val, y_val),\n",
    "          early_stopping_rounds=50)"
   ]
  },
  {
   "cell_type": "code",
   "execution_count": 16,
   "id": "316f6abf-5ad1-4344-9970-7fd64097eee6",
   "metadata": {},
   "outputs": [],
   "source": [
    "# 예측\n",
    "test_df['Segment_pred'] = model.predict(X_test)"
   ]
  },
  {
   "cell_type": "code",
   "execution_count": 17,
   "id": "06503699-83d6-4872-95d1-2d3f35c00be5",
   "metadata": {},
   "outputs": [
    {
     "data": {
      "text/plain": [
       "Segment_pred\n",
       "E        81115\n",
       "other    18885\n",
       "Name: count, dtype: int64"
      ]
     },
     "execution_count": 17,
     "metadata": {},
     "output_type": "execute_result"
    }
   ],
   "source": [
    "test_df['Segment_pred'].value_counts()"
   ]
  },
  {
   "cell_type": "markdown",
   "id": "5852d7bf-725b-490f-9003-4d249eeb3306",
   "metadata": {},
   "source": [
    "### 2단계 -> Segment == C or D vs Other (E 제거)"
   ]
  },
  {
   "cell_type": "code",
   "execution_count": 19,
   "id": "5253612a-1830-4604-ae47-beca12b2b6be",
   "metadata": {},
   "outputs": [],
   "source": [
    "train_df2= train_df[train_df['Segment'] != 'E'].copy()\n",
    "train_df2['Segment1'] = train_df2['Segment'].apply(lambda x: x if x in ['C', 'D'] else 'other')"
   ]
  },
  {
   "cell_type": "code",
   "execution_count": 20,
   "id": "54bbe331-3364-4dbc-8eb5-a26aea9357e8",
   "metadata": {},
   "outputs": [],
   "source": [
    "exclude_cols = ['ID', '기준년월', 'Segment', 'Segment1']\n",
    "feature_cols = [\n",
    "    col for col in train_df.columns\n",
    "    if col not in exclude_cols\n",
    "]"
   ]
  },
  {
   "cell_type": "code",
   "execution_count": 21,
   "id": "854f20da-9150-491d-bcf9-15080a3a17c9",
   "metadata": {},
   "outputs": [],
   "source": [
    "# 학습용 피처/타겟 정의\n",
    "X2 = train_df2[feature_cols]\n",
    "y2 = train_df2['Segment1']"
   ]
  },
  {
   "cell_type": "code",
   "execution_count": 22,
   "id": "c27e98af-922b-484a-b09b-39a483b1975e",
   "metadata": {},
   "outputs": [],
   "source": [
    "# 예측할 test subset (1단계 결과가 Other인 경우)\n",
    "test_df2 = test_df[test_df['Segment_pred'] == 'other'].copy()"
   ]
  },
  {
   "cell_type": "code",
   "execution_count": 23,
   "id": "ee02b2a7-852c-4e53-a978-7b6cb9fc94fe",
   "metadata": {},
   "outputs": [],
   "source": [
    "# X와 test_df 양쪽에 모두 존재하는 컬럼만 선택\n",
    "common_cols = [col for col in X2.columns if col in test_df2.columns]\n",
    "X2 = X2[common_cols]\n",
    "X_test2 = test_df2[common_cols]"
   ]
  },
  {
   "cell_type": "code",
   "execution_count": 24,
   "id": "3a3f94a3-5271-49f1-a122-281065472270",
   "metadata": {},
   "outputs": [],
   "source": [
    "# 학습/검증 분리\n",
    "X_train, X_val, y_train, y_val = train_test_split(X2, y2, test_size=0.2, random_state=42, stratify=y2)"
   ]
  },
  {
   "cell_type": "code",
   "execution_count": 25,
   "id": "14ccffcd-7766-4a69-90cf-bc1561b6b648",
   "metadata": {},
   "outputs": [],
   "source": [
    "def objective2(trial):\n",
    "    params = {\n",
    "        # boosting 반복 횟수\n",
    "        \"iterations\": trial.suggest_int(\"iterations\", 300, 1000),\n",
    "        # 한번에 얼마나 빠르게 학습하지지\n",
    "        \"learning_rate\": trial.suggest_float(\"learning_rate\", 0.01, 0.1),\n",
    "        # 트리의 깊이, 깊을수록 복잡한 모델이지만 과적합 가능성 O\n",
    "        \"depth\": trial.suggest_int(\"depth\", 4, 8), # --> 튜닝\n",
    "        # L2 정규화 , 높을수록 규제 강화 - 과적합 억제\n",
    "        \"l2_leaf_reg\": trial.suggest_float(\"l2_leaf_reg\", 3, 10),\n",
    "        # 수치형 피쳐를 이산화 할 때 사용하는 경계 개수 -> 수치형 많으면 영향력 있음\n",
    "        \"border_count\": trial.suggest_int(\"border_count\", 32, 128),\n",
    "        # 트리 분기시 f.i 계산에 노이즈를 얼마나 줄 것인가\n",
    "        \"random_strength\": trial.suggest_float(\"random_strength\", 0.5, 1.0),\n",
    "        # 샘플링의 다양성 조절 -> 과소적합일 땐 높이고, 과적합일 땐 낮게\n",
    "        \"bagging_temperature\": trial.suggest_float(\"bagging_temperature\", 0.2, 1.0),\n",
    "        # 손실 함수 : 다중분류\n",
    "        \"loss_function\": \"MultiClass\",\n",
    "        # 평가 지표\n",
    "        \"eval_metric\": \"TotalF1:average=Micro\",\n",
    "        # 학습 로그를 몇 step마다 보여줄지\n",
    "        \"verbose\": 100,\n",
    "        # 트리 분기 시 feature 중요도 계산에 주는 노이즈 크기\n",
    "        \"random_state\": 42\n",
    "    }\n",
    "    # early_stopping_rounds - 지정된 라운드 동안 성능 개선이 되지 않으면 학습 중지\n",
    "    model2 = CatBoostClassifier(**params)\n",
    "    model2.fit(X_train, y_train, eval_set=(X_val, y_val), early_stopping_rounds=30, verbose=100)\n",
    "\n",
    "    preds = model2.predict(X_val)\n",
    "    f1 = f1_score(y_val, preds, average='micro')\n",
    "    return f1"
   ]
  },
  {
   "cell_type": "code",
   "execution_count": 26,
   "id": "b618c47d-bbfe-4458-8cb2-bb2ef8343483",
   "metadata": {},
   "outputs": [
    {
     "name": "stderr",
     "output_type": "stream",
     "text": [
      "[I 2025-07-11 06:41:15,805] A new study created in memory with name: no-name-b2a2d898-330d-4357-b688-1000bbae27c2\n"
     ]
    },
    {
     "name": "stdout",
     "output_type": "stream",
     "text": [
      "0:\tlearn: 0.7978376\ttest: 0.7929952\tbest: 0.7929952 (0)\ttotal: 239ms\tremaining: 2m 50s\n",
      "100:\tlearn: 0.8406773\ttest: 0.8294627\tbest: 0.8296510 (97)\ttotal: 24.3s\tremaining: 2m 27s\n",
      "200:\tlearn: 0.8514421\ttest: 0.8400075\tbest: 0.8400703 (199)\ttotal: 47.1s\tremaining: 2m\n",
      "300:\tlearn: 0.8587861\ttest: 0.8437108\tbest: 0.8440246 (280)\ttotal: 1m 8s\tremaining: 1m 34s\n",
      "400:\tlearn: 0.8637448\ttest: 0.8467863\tbest: 0.8469119 (383)\ttotal: 1m 30s\tremaining: 1m 10s\n",
      "Stopped by overfitting detector  (30 iterations wait)\n",
      "\n",
      "bestTest = 0.8481672106\n",
      "bestIteration = 430\n",
      "\n",
      "Shrink model to first 431 iterations.\n"
     ]
    },
    {
     "name": "stderr",
     "output_type": "stream",
     "text": [
      "[I 2025-07-11 06:43:01,768] Trial 0 finished with value: 0.8481672106452423 and parameters: {'iterations': 715, 'learning_rate': 0.08977742666096838, 'depth': 5, 'l2_leaf_reg': 8.189775090377125, 'border_count': 57, 'random_strength': 0.9259953841251828, 'bagging_temperature': 0.8084696479337616}. Best is trial 0 with value: 0.8481672106452423.\n"
     ]
    },
    {
     "name": "stdout",
     "output_type": "stream",
     "text": [
      "0:\tlearn: 0.8140790\ttest: 0.8111348\tbest: 0.8111348 (0)\ttotal: 409ms\tremaining: 4m 49s\n",
      "100:\tlearn: 0.8492923\ttest: 0.8374969\tbest: 0.8376224 (99)\ttotal: 38.9s\tremaining: 3m 54s\n",
      "200:\tlearn: 0.8643254\ttest: 0.8444012\tbest: 0.8447150 (198)\ttotal: 1m 15s\tremaining: 3m 12s\n",
      "300:\tlearn: 0.8755924\ttest: 0.8489204\tbest: 0.8495481 (286)\ttotal: 1m 52s\tremaining: 2m 32s\n",
      "400:\tlearn: 0.8841132\ttest: 0.8501130\tbest: 0.8509289 (385)\ttotal: 2m 27s\tremaining: 1m 53s\n",
      "Stopped by overfitting detector  (30 iterations wait)\n",
      "\n",
      "bestTest = 0.850928948\n",
      "bestIteration = 385\n",
      "\n",
      "Shrink model to first 386 iterations.\n"
     ]
    },
    {
     "name": "stderr",
     "output_type": "stream",
     "text": [
      "[I 2025-07-11 06:45:37,644] Trial 1 finished with value: 0.8509289480291238 and parameters: {'iterations': 710, 'learning_rate': 0.0877798065742581, 'depth': 7, 'l2_leaf_reg': 3.148923514640135, 'border_count': 107, 'random_strength': 0.5119786600262362, 'bagging_temperature': 0.5256113380838991}. Best is trial 1 with value: 0.8509289480291238.\n"
     ]
    },
    {
     "name": "stdout",
     "output_type": "stream",
     "text": [
      "0:\tlearn: 0.8043656\ttest: 0.8008411\tbest: 0.8008411 (0)\ttotal: 226ms\tremaining: 1m 22s\n",
      "100:\tlearn: 0.8305087\ttest: 0.8227467\tbest: 0.8227467 (99)\ttotal: 23.8s\tremaining: 1m 1s\n",
      "200:\tlearn: 0.8406616\ttest: 0.8307181\tbest: 0.8307181 (196)\ttotal: 46.2s\tremaining: 37.4s\n",
      "300:\tlearn: 0.8466089\ttest: 0.8363671\tbest: 0.8365554 (298)\ttotal: 1m 7s\tremaining: 14.2s\n",
      "363:\tlearn: 0.8502652\ttest: 0.8397565\tbest: 0.8397565 (363)\ttotal: 1m 21s\tremaining: 0us\n",
      "\n",
      "bestTest = 0.839756465\n",
      "bestIteration = 363\n",
      "\n"
     ]
    },
    {
     "name": "stderr",
     "output_type": "stream",
     "text": [
      "[I 2025-07-11 06:47:00,833] Trial 2 finished with value: 0.8397564649761486 and parameters: {'iterations': 364, 'learning_rate': 0.04240225756032388, 'depth': 5, 'l2_leaf_reg': 7.793091531003445, 'border_count': 62, 'random_strength': 0.7951073431306397, 'bagging_temperature': 0.42494770298944684}. Best is trial 1 with value: 0.8509289480291238.\n"
     ]
    },
    {
     "name": "stdout",
     "output_type": "stream",
     "text": [
      "0:\tlearn: 0.8086025\ttest: 0.8056741\tbest: 0.8056741 (0)\ttotal: 356ms\tremaining: 3m 15s\n",
      "100:\tlearn: 0.8446474\ttest: 0.8334170\tbest: 0.8334170 (100)\ttotal: 30.6s\tremaining: 2m 15s\n",
      "200:\tlearn: 0.8571698\ttest: 0.8429576\tbest: 0.8431459 (196)\ttotal: 59s\tremaining: 1m 42s\n",
      "300:\tlearn: 0.8658005\ttest: 0.8473512\tbest: 0.8473512 (300)\ttotal: 1m 27s\tremaining: 1m 11s\n",
      "400:\tlearn: 0.8731601\ttest: 0.8487949\tbest: 0.8493598 (387)\ttotal: 1m 55s\tremaining: 42.5s\n",
      "Stopped by overfitting detector  (30 iterations wait)\n",
      "\n",
      "bestTest = 0.8493597791\n",
      "bestIteration = 387\n",
      "\n",
      "Shrink model to first 388 iterations.\n"
     ]
    },
    {
     "name": "stderr",
     "output_type": "stream",
     "text": [
      "[I 2025-07-11 06:49:03,269] Trial 3 finished with value: 0.8493597790610092 and parameters: {'iterations': 549, 'learning_rate': 0.07855680603027734, 'depth': 7, 'l2_leaf_reg': 8.481488796414588, 'border_count': 34, 'random_strength': 0.8521145320751375, 'bagging_temperature': 0.8159821488573489}. Best is trial 1 with value: 0.8509289480291238.\n"
     ]
    },
    {
     "name": "stdout",
     "output_type": "stream",
     "text": [
      "0:\tlearn: 0.8081945\ttest: 0.7989581\tbest: 0.7989581 (0)\ttotal: 348ms\tremaining: 2m 28s\n",
      "100:\tlearn: 0.8359069\ttest: 0.8273914\tbest: 0.8274542 (99)\ttotal: 37.6s\tremaining: 2m 2s\n",
      "200:\tlearn: 0.8472209\ttest: 0.8347979\tbest: 0.8349862 (198)\ttotal: 1m 12s\tremaining: 1m 22s\n",
      "300:\tlearn: 0.8545335\ttest: 0.8402586\tbest: 0.8403841 (299)\ttotal: 1m 46s\tremaining: 45.3s\n",
      "400:\tlearn: 0.8609516\ttest: 0.8438363\tbest: 0.8438991 (382)\ttotal: 2m 20s\tremaining: 9.79s\n",
      "428:\tlearn: 0.8625051\ttest: 0.8445267\tbest: 0.8446523 (427)\ttotal: 2m 29s\tremaining: 0us\n",
      "\n",
      "bestTest = 0.8446522722\n",
      "bestIteration = 427\n",
      "\n",
      "Shrink model to first 428 iterations.\n"
     ]
    },
    {
     "name": "stderr",
     "output_type": "stream",
     "text": [
      "[I 2025-07-11 06:51:35,275] Trial 4 finished with value: 0.8446522721566658 and parameters: {'iterations': 429, 'learning_rate': 0.04125284643279819, 'depth': 7, 'l2_leaf_reg': 6.885137387453856, 'border_count': 84, 'random_strength': 0.6496790598155042, 'bagging_temperature': 0.3052321931642916}. Best is trial 1 with value: 0.8509289480291238.\n"
     ]
    },
    {
     "name": "stdout",
     "output_type": "stream",
     "text": [
      "0:\tlearn: 0.8029533\ttest: 0.7964474\tbest: 0.7964474 (0)\ttotal: 307ms\tremaining: 3m 28s\n",
      "100:\tlearn: 0.8176568\ttest: 0.8119508\tbest: 0.8119508 (88)\ttotal: 26.8s\tremaining: 2m 32s\n",
      "200:\tlearn: 0.8220507\ttest: 0.8165328\tbest: 0.8165328 (199)\ttotal: 52.6s\tremaining: 2m 4s\n",
      "300:\tlearn: 0.8268995\ttest: 0.8214286\tbest: 0.8214913 (295)\ttotal: 1m 17s\tremaining: 1m 37s\n",
      "400:\tlearn: 0.8308697\ttest: 0.8236254\tbest: 0.8236882 (397)\ttotal: 1m 42s\tremaining: 1m 10s\n",
      "500:\tlearn: 0.8335059\ttest: 0.8256339\tbest: 0.8257595 (497)\ttotal: 2m 7s\tremaining: 45.1s\n",
      "Stopped by overfitting detector  (30 iterations wait)\n",
      "\n",
      "bestTest = 0.8265754456\n",
      "bestIteration = 538\n",
      "\n",
      "Shrink model to first 539 iterations.\n"
     ]
    },
    {
     "name": "stderr",
     "output_type": "stream",
     "text": [
      "[I 2025-07-11 06:54:01,995] Trial 5 finished with value: 0.826575445643987 and parameters: {'iterations': 678, 'learning_rate': 0.01021845129512453, 'depth': 5, 'l2_leaf_reg': 9.584312385971664, 'border_count': 122, 'random_strength': 0.5070159120798663, 'bagging_temperature': 0.8344658167369301}. Best is trial 1 with value: 0.8509289480291238.\n"
     ]
    },
    {
     "name": "stdout",
     "output_type": "stream",
     "text": [
      "0:\tlearn: 0.8109720\ttest: 0.8051720\tbest: 0.8051720 (0)\ttotal: 1.06s\tremaining: 11m 23s\n",
      "100:\tlearn: 0.8268682\ttest: 0.8192317\tbest: 0.8194828 (97)\ttotal: 1m 51s\tremaining: 10m 3s\n",
      "200:\tlearn: 0.8365345\ttest: 0.8261361\tbest: 0.8263244 (196)\ttotal: 3m 41s\tremaining: 8m 12s\n",
      "300:\tlearn: 0.8428428\ttest: 0.8311574\tbest: 0.8312202 (295)\ttotal: 5m 32s\tremaining: 6m 23s\n",
      "400:\tlearn: 0.8473778\ttest: 0.8334170\tbest: 0.8334170 (391)\ttotal: 7m 23s\tremaining: 4m 33s\n",
      "500:\tlearn: 0.8519129\ttest: 0.8364926\tbest: 0.8365554 (494)\ttotal: 9m 13s\tremaining: 2m 42s\n",
      "600:\tlearn: 0.8556476\ttest: 0.8388777\tbest: 0.8391288 (593)\ttotal: 11m 4s\tremaining: 52s\n",
      "647:\tlearn: 0.8575621\ttest: 0.8398820\tbest: 0.8399448 (640)\ttotal: 11m 56s\tremaining: 0us\n",
      "\n",
      "bestTest = 0.8399447653\n",
      "bestIteration = 640\n",
      "\n",
      "Shrink model to first 641 iterations.\n"
     ]
    },
    {
     "name": "stderr",
     "output_type": "stream",
     "text": [
      "[I 2025-07-11 07:06:02,516] Trial 6 finished with value: 0.8399447652523224 and parameters: {'iterations': 648, 'learning_rate': 0.019629822860167748, 'depth': 8, 'l2_leaf_reg': 6.829971914618257, 'border_count': 96, 'random_strength': 0.9011102508337483, 'bagging_temperature': 0.6676134772358886}. Best is trial 1 with value: 0.8509289480291238.\n"
     ]
    },
    {
     "name": "stdout",
     "output_type": "stream",
     "text": [
      "0:\tlearn: 0.8032357\ttest: 0.7985815\tbest: 0.7985815 (0)\ttotal: 350ms\tremaining: 3m 2s\n",
      "100:\tlearn: 0.8485391\ttest: 0.8361160\tbest: 0.8361160 (100)\ttotal: 34.4s\tremaining: 2m 24s\n",
      "200:\tlearn: 0.8612340\ttest: 0.8435225\tbest: 0.8435225 (200)\ttotal: 1m 6s\tremaining: 1m 47s\n",
      "300:\tlearn: 0.8703983\ttest: 0.8462214\tbest: 0.8469119 (293)\ttotal: 1m 38s\tremaining: 1m 12s\n",
      "400:\tlearn: 0.8783856\ttest: 0.8488576\tbest: 0.8490459 (395)\ttotal: 2m 9s\tremaining: 39.8s\n",
      "500:\tlearn: 0.8855883\ttest: 0.8513055\tbest: 0.8514938 (497)\ttotal: 2m 40s\tremaining: 7.38s\n",
      "523:\tlearn: 0.8875184\ttest: 0.8523098\tbest: 0.8523098 (523)\ttotal: 2m 48s\tremaining: 0us\n",
      "\n",
      "bestTest = 0.8523098167\n",
      "bestIteration = 523\n",
      "\n"
     ]
    },
    {
     "name": "stderr",
     "output_type": "stream",
     "text": [
      "[I 2025-07-11 07:08:53,135] Trial 7 finished with value: 0.8523098167210645 and parameters: {'iterations': 524, 'learning_rate': 0.09749307207614628, 'depth': 7, 'l2_leaf_reg': 7.295264225989607, 'border_count': 69, 'random_strength': 0.931172618843578, 'bagging_temperature': 0.8560307374219647}. Best is trial 7 with value: 0.8523098167210645.\n"
     ]
    },
    {
     "name": "stdout",
     "output_type": "stream",
     "text": [
      "0:\tlearn: 0.8043656\ttest: 0.8008411\tbest: 0.8008411 (0)\ttotal: 229ms\tremaining: 1m 46s\n",
      "100:\tlearn: 0.8267426\ttest: 0.8214286\tbest: 0.8214286 (100)\ttotal: 23.8s\tremaining: 1m 25s\n",
      "200:\tlearn: 0.8365973\ttest: 0.8290861\tbest: 0.8290861 (200)\ttotal: 46.6s\tremaining: 1m 1s\n",
      "300:\tlearn: 0.8426859\ttest: 0.8334798\tbest: 0.8334798 (300)\ttotal: 1m 8s\tremaining: 37.3s\n",
      "400:\tlearn: 0.8470326\ttest: 0.8366809\tbest: 0.8368692 (396)\ttotal: 1m 30s\tremaining: 14.4s\n",
      "464:\tlearn: 0.8494335\ttest: 0.8390033\tbest: 0.8392543 (462)\ttotal: 1m 43s\tremaining: 0us\n",
      "\n",
      "bestTest = 0.8392543309\n",
      "bestIteration = 462\n",
      "\n",
      "Shrink model to first 463 iterations.\n"
     ]
    },
    {
     "name": "stderr",
     "output_type": "stream",
     "text": [
      "[I 2025-07-11 07:10:38,823] Trial 8 finished with value: 0.839254330906352 and parameters: {'iterations': 465, 'learning_rate': 0.032641673271681944, 'depth': 5, 'l2_leaf_reg': 8.994824757623215, 'border_count': 62, 'random_strength': 0.681732192337714, 'bagging_temperature': 0.6098412861708258}. Best is trial 7 with value: 0.8523098167210645.\n"
     ]
    },
    {
     "name": "stdout",
     "output_type": "stream",
     "text": [
      "0:\tlearn: 0.8086181\ttest: 0.8014687\tbest: 0.8014687 (0)\ttotal: 284ms\tremaining: 3m 37s\n",
      "100:\tlearn: 0.8405204\ttest: 0.8309691\tbest: 0.8312830 (94)\ttotal: 27.1s\tremaining: 2m 59s\n",
      "200:\tlearn: 0.8524935\ttest: 0.8398820\tbest: 0.8398820 (200)\ttotal: 52.3s\tremaining: 2m 27s\n",
      "300:\tlearn: 0.8602454\ttest: 0.8442129\tbest: 0.8448406 (295)\ttotal: 1m 16s\tremaining: 1m 59s\n",
      "Stopped by overfitting detector  (30 iterations wait)\n",
      "\n",
      "bestTest = 0.8474767763\n",
      "bestIteration = 357\n",
      "\n",
      "Shrink model to first 358 iterations.\n"
     ]
    },
    {
     "name": "stderr",
     "output_type": "stream",
     "text": [
      "[I 2025-07-11 07:12:18,930] Trial 9 finished with value: 0.8474767762992719 and parameters: {'iterations': 768, 'learning_rate': 0.069278222951888, 'depth': 6, 'l2_leaf_reg': 7.024475466822534, 'border_count': 54, 'random_strength': 0.7343580711717722, 'bagging_temperature': 0.369904485817018}. Best is trial 7 with value: 0.8523098167210645.\n"
     ]
    },
    {
     "name": "stdout",
     "output_type": "stream",
     "text": [
      "0:\tlearn: 0.7991715\ttest: 0.7936857\tbest: 0.7936857 (0)\ttotal: 1.02s\tremaining: 14m 27s\n",
      "100:\tlearn: 0.8523523\ttest: 0.8364926\tbest: 0.8365554 (99)\ttotal: 1m 45s\tremaining: 13m 2s\n",
      "200:\tlearn: 0.8686564\ttest: 0.8441501\tbest: 0.8442757 (198)\ttotal: 3m 29s\tremaining: 11m 19s\n",
      "300:\tlearn: 0.8801902\ttest: 0.8489204\tbest: 0.8489204 (300)\ttotal: 5m 14s\tremaining: 9m 36s\n",
      "Stopped by overfitting detector  (30 iterations wait)\n",
      "\n",
      "bestTest = 0.8523725835\n",
      "bestIteration = 366\n",
      "\n",
      "Shrink model to first 367 iterations.\n"
     ]
    },
    {
     "name": "stderr",
     "output_type": "stream",
     "text": [
      "[I 2025-07-11 07:19:16,870] Trial 10 finished with value: 0.8523725834797891 and parameters: {'iterations': 853, 'learning_rate': 0.0989412064563703, 'depth': 8, 'l2_leaf_reg': 4.7377949762190195, 'border_count': 79, 'random_strength': 0.9723122632847294, 'bagging_temperature': 0.9563408727257483}. Best is trial 10 with value: 0.8523725834797891.\n"
     ]
    },
    {
     "name": "stdout",
     "output_type": "stream",
     "text": [
      "0:\tlearn: 0.8054169\ttest: 0.7976400\tbest: 0.7976400 (0)\ttotal: 1.01s\tremaining: 16m 7s\n",
      "100:\tlearn: 0.8518030\ttest: 0.8357394\tbest: 0.8359905 (99)\ttotal: 1m 44s\tremaining: 14m 46s\n",
      "200:\tlearn: 0.8683426\ttest: 0.8437108\tbest: 0.8437108 (199)\ttotal: 3m 29s\tremaining: 13m 4s\n",
      "300:\tlearn: 0.8800647\ttest: 0.8482300\tbest: 0.8484183 (298)\ttotal: 5m 13s\tremaining: 11m 20s\n",
      "Stopped by overfitting detector  (30 iterations wait)\n",
      "\n",
      "bestTest = 0.8500502134\n",
      "bestIteration = 315\n",
      "\n",
      "Shrink model to first 316 iterations.\n"
     ]
    },
    {
     "name": "stderr",
     "output_type": "stream",
     "text": [
      "[I 2025-07-11 07:25:20,294] Trial 11 finished with value: 0.8500502134069796 and parameters: {'iterations': 955, 'learning_rate': 0.09743552640275127, 'depth': 8, 'l2_leaf_reg': 4.706901476872628, 'border_count': 80, 'random_strength': 0.9945396874766836, 'bagging_temperature': 0.9968121427120089}. Best is trial 10 with value: 0.8523725834797891.\n"
     ]
    },
    {
     "name": "stdout",
     "output_type": "stream",
     "text": [
      "0:\tlearn: 0.8023727\ttest: 0.7977655\tbest: 0.7977655 (0)\ttotal: 1.02s\tremaining: 15m 27s\n",
      "100:\tlearn: 0.8445689\ttest: 0.8319734\tbest: 0.8319734 (99)\ttotal: 1m 44s\tremaining: 13m 54s\n",
      "200:\tlearn: 0.8574365\ttest: 0.8401958\tbest: 0.8401958 (200)\ttotal: 3m 27s\tremaining: 12m 13s\n",
      "300:\tlearn: 0.8677149\ttest: 0.8445267\tbest: 0.8447150 (292)\ttotal: 5m 11s\tremaining: 10m 31s\n",
      "400:\tlearn: 0.8762044\ttest: 0.8471629\tbest: 0.8477906 (391)\ttotal: 6m 55s\tremaining: 8m 47s\n",
      "Stopped by overfitting detector  (30 iterations wait)\n",
      "\n",
      "bestTest = 0.8477906101\n",
      "bestIteration = 391\n",
      "\n",
      "Shrink model to first 392 iterations.\n"
     ]
    },
    {
     "name": "stderr",
     "output_type": "stream",
     "text": [
      "[I 2025-07-11 07:32:40,216] Trial 12 finished with value: 0.8477906100928948 and parameters: {'iterations': 911, 'learning_rate': 0.06486233476950065, 'depth': 8, 'l2_leaf_reg': 4.803483321189552, 'border_count': 78, 'random_strength': 0.9895968459854687, 'bagging_temperature': 0.9946133885570303}. Best is trial 10 with value: 0.8523725834797891.\n"
     ]
    },
    {
     "name": "stdout",
     "output_type": "stream",
     "text": [
      "0:\tlearn: 0.8028591\ttest: 0.7972006\tbest: 0.7972006 (0)\ttotal: 345ms\tremaining: 5m\n",
      "100:\tlearn: 0.8479898\ttest: 0.8361160\tbest: 0.8361160 (100)\ttotal: 31.3s\tremaining: 3m 59s\n",
      "200:\tlearn: 0.8622383\ttest: 0.8438363\tbest: 0.8438363 (197)\ttotal: 1m\tremaining: 3m 20s\n",
      "300:\tlearn: 0.8724696\ttest: 0.8474768\tbest: 0.8478534 (296)\ttotal: 1m 28s\tremaining: 2m 48s\n",
      "400:\tlearn: 0.8799548\ttest: 0.8508034\tbest: 0.8508034 (400)\ttotal: 1m 57s\tremaining: 2m 17s\n",
      "Stopped by overfitting detector  (30 iterations wait)\n",
      "\n",
      "bestTest = 0.8519959829\n",
      "bestIteration = 469\n",
      "\n",
      "Shrink model to first 470 iterations.\n"
     ]
    },
    {
     "name": "stderr",
     "output_type": "stream",
     "text": [
      "[I 2025-07-11 07:35:07,700] Trial 13 finished with value: 0.8519959829274416 and parameters: {'iterations': 873, 'learning_rate': 0.09898200953049066, 'depth': 7, 'l2_leaf_reg': 5.4248945016794, 'border_count': 41, 'random_strength': 0.9076786296408359, 'bagging_temperature': 0.9016706523725025}. Best is trial 10 with value: 0.8523725834797891.\n"
     ]
    },
    {
     "name": "stdout",
     "output_type": "stream",
     "text": [
      "0:\tlearn: 0.8039262\ttest: 0.8009038\tbest: 0.8009038 (0)\ttotal: 286ms\tremaining: 2m 43s\n",
      "100:\tlearn: 0.8426859\ttest: 0.8317223\tbest: 0.8317223 (100)\ttotal: 28.5s\tremaining: 2m 13s\n",
      "200:\tlearn: 0.8547532\ttest: 0.8411373\tbest: 0.8412001 (199)\ttotal: 54.8s\tremaining: 1m 41s\n",
      "300:\tlearn: 0.8633682\ttest: 0.8456565\tbest: 0.8459704 (294)\ttotal: 1m 20s\tremaining: 1m 13s\n",
      "400:\tlearn: 0.8692527\ttest: 0.8487321\tbest: 0.8491715 (391)\ttotal: 1m 45s\tremaining: 45.4s\n",
      "500:\tlearn: 0.8744155\ttest: 0.8510545\tbest: 0.8513683 (484)\ttotal: 2m 11s\tremaining: 18.9s\n",
      "Stopped by overfitting detector  (30 iterations wait)\n",
      "\n",
      "bestTest = 0.8513683153\n",
      "bestIteration = 484\n",
      "\n",
      "Shrink model to first 485 iterations.\n"
     ]
    },
    {
     "name": "stderr",
     "output_type": "stream",
     "text": [
      "[I 2025-07-11 07:37:24,970] Trial 14 finished with value: 0.8513683153401959 and parameters: {'iterations': 573, 'learning_rate': 0.07879765872821126, 'depth': 6, 'l2_leaf_reg': 5.568147488986415, 'border_count': 73, 'random_strength': 0.8448394088828923, 'bagging_temperature': 0.6931069989188052}. Best is trial 10 with value: 0.8523725834797891.\n"
     ]
    },
    {
     "name": "stdout",
     "output_type": "stream",
     "text": [
      "0:\tlearn: 0.8109720\ttest: 0.8049209\tbest: 0.8049209 (0)\ttotal: 1.08s\tremaining: 14m 33s\n",
      "100:\tlearn: 0.8427486\ttest: 0.8309691\tbest: 0.8309691 (100)\ttotal: 1m 51s\tremaining: 13m\n",
      "200:\tlearn: 0.8565578\ttest: 0.8398820\tbest: 0.8400075 (199)\ttotal: 3m 42s\tremaining: 11m 11s\n",
      "300:\tlearn: 0.8672598\ttest: 0.8446523\tbest: 0.8449033 (294)\ttotal: 5m 33s\tremaining: 9m 21s\n",
      "400:\tlearn: 0.8763142\ttest: 0.8487949\tbest: 0.8490459 (399)\ttotal: 7m 25s\tremaining: 7m 31s\n",
      "Stopped by overfitting detector  (30 iterations wait)\n",
      "\n",
      "bestTest = 0.8495480793\n",
      "bestIteration = 446\n",
      "\n",
      "Shrink model to first 447 iterations.\n"
     ]
    },
    {
     "name": "stderr",
     "output_type": "stream",
     "text": [
      "[I 2025-07-11 07:46:18,412] Trial 15 finished with value: 0.849548079337183 and parameters: {'iterations': 807, 'learning_rate': 0.054847355420141866, 'depth': 8, 'l2_leaf_reg': 3.083683063723961, 'border_count': 96, 'random_strength': 0.959998017352174, 'bagging_temperature': 0.736692799326278}. Best is trial 10 with value: 0.8523725834797891.\n"
     ]
    },
    {
     "name": "stdout",
     "output_type": "stream",
     "text": [
      "0:\tlearn: 0.7985438\ttest: 0.7932463\tbest: 0.7932463 (0)\ttotal: 196ms\tremaining: 1m\n",
      "100:\tlearn: 0.8365502\ttest: 0.8283329\tbest: 0.8283329 (100)\ttotal: 20.2s\tremaining: 42.2s\n",
      "200:\tlearn: 0.8471738\ttest: 0.8378107\tbest: 0.8380618 (194)\ttotal: 38.9s\tremaining: 21.5s\n",
      "300:\tlearn: 0.8539529\ttest: 0.8430831\tbest: 0.8430831 (300)\ttotal: 56.8s\tremaining: 2.08s\n",
      "311:\tlearn: 0.8547061\ttest: 0.8433969\tbest: 0.8433969 (309)\ttotal: 58.8s\tremaining: 0us\n",
      "\n",
      "bestTest = 0.843396937\n",
      "bestIteration = 309\n",
      "\n",
      "Shrink model to first 310 iterations.\n"
     ]
    },
    {
     "name": "stderr",
     "output_type": "stream",
     "text": [
      "[I 2025-07-11 07:47:19,216] Trial 16 finished with value: 0.8433969369821742 and parameters: {'iterations': 312, 'learning_rate': 0.08380506542589121, 'depth': 4, 'l2_leaf_reg': 5.852736126106981, 'border_count': 94, 'random_strength': 0.8023609182123865, 'bagging_temperature': 0.21279792581637458}. Best is trial 10 with value: 0.8523725834797891.\n"
     ]
    },
    {
     "name": "stdout",
     "output_type": "stream",
     "text": [
      "0:\tlearn: 0.8038948\ttest: 0.7975144\tbest: 0.7975144 (0)\ttotal: 331ms\tremaining: 5m 30s\n",
      "100:\tlearn: 0.8429683\ttest: 0.8336681\tbest: 0.8336681 (100)\ttotal: 32.5s\tremaining: 4m 48s\n",
      "200:\tlearn: 0.8556319\ttest: 0.8402586\tbest: 0.8404469 (198)\ttotal: 1m 2s\tremaining: 4m 9s\n",
      "300:\tlearn: 0.8647020\ttest: 0.8452172\tbest: 0.8455310 (295)\ttotal: 1m 32s\tremaining: 3m 33s\n",
      "400:\tlearn: 0.8720930\ttest: 0.8487321\tbest: 0.8487321 (400)\ttotal: 2m 1s\tremaining: 3m\n",
      "Stopped by overfitting detector  (30 iterations wait)\n",
      "\n",
      "bestTest = 0.8490459453\n",
      "bestIteration = 404\n",
      "\n",
      "Shrink model to first 405 iterations.\n"
     ]
    },
    {
     "name": "stderr",
     "output_type": "stream",
     "text": [
      "[I 2025-07-11 07:49:33,473] Trial 17 finished with value: 0.8490459452673864 and parameters: {'iterations': 997, 'learning_rate': 0.07073571423178805, 'depth': 7, 'l2_leaf_reg': 4.149174250176879, 'border_count': 48, 'random_strength': 0.8666505004882072, 'bagging_temperature': 0.9039596686099076}. Best is trial 10 with value: 0.8523725834797891.\n"
     ]
    },
    {
     "name": "stdout",
     "output_type": "stream",
     "text": [
      "0:\tlearn: 0.8027807\ttest: 0.7990836\tbest: 0.7990836 (0)\ttotal: 1.01s\tremaining: 9m 34s\n",
      "100:\tlearn: 0.8427957\ttest: 0.8304670\tbest: 0.8306553 (95)\ttotal: 1m 44s\tremaining: 8m 2s\n",
      "200:\tlearn: 0.8541098\ttest: 0.8385011\tbest: 0.8385011 (197)\ttotal: 3m 27s\tremaining: 6m 19s\n",
      "300:\tlearn: 0.8639802\ttest: 0.8442129\tbest: 0.8442129 (300)\ttotal: 5m 11s\tremaining: 4m 37s\n",
      "400:\tlearn: 0.8725324\ttest: 0.8467863\tbest: 0.8467863 (400)\ttotal: 6m 55s\tremaining: 2m 54s\n",
      "500:\tlearn: 0.8790447\ttest: 0.8487949\tbest: 0.8487949 (495)\ttotal: 8m 39s\tremaining: 1m 10s\n",
      "568:\tlearn: 0.8831560\ttest: 0.8504896\tbest: 0.8504896 (562)\ttotal: 9m 50s\tremaining: 0us\n",
      "\n",
      "bestTest = 0.8504895807\n",
      "bestIteration = 562\n",
      "\n",
      "Shrink model to first 563 iterations.\n"
     ]
    },
    {
     "name": "stderr",
     "output_type": "stream",
     "text": [
      "[I 2025-07-11 07:59:27,605] Trial 18 finished with value: 0.8504895807180517 and parameters: {'iterations': 569, 'learning_rate': 0.05699262388580066, 'depth': 8, 'l2_leaf_reg': 6.10363543039273, 'border_count': 70, 'random_strength': 0.9459055555294112, 'bagging_temperature': 0.9088135947447338}. Best is trial 10 with value: 0.8523725834797891.\n"
     ]
    },
    {
     "name": "stdout",
     "output_type": "stream",
     "text": [
      "0:\tlearn: 0.8075197\ttest: 0.8067411\tbest: 0.8067411 (0)\ttotal: 344ms\tremaining: 4m 48s\n",
      "100:\tlearn: 0.8465618\ttest: 0.8361160\tbest: 0.8361788 (99)\ttotal: 30.3s\tremaining: 3m 41s\n",
      "200:\tlearn: 0.8592254\ttest: 0.8437108\tbest: 0.8441501 (199)\ttotal: 58s\tremaining: 3m 4s\n",
      "Stopped by overfitting detector  (30 iterations wait)\n",
      "\n",
      "bestTest = 0.8462842079\n",
      "bestIteration = 233\n",
      "\n",
      "Shrink model to first 234 iterations.\n"
     ]
    },
    {
     "name": "stderr",
     "output_type": "stream",
     "text": [
      "[I 2025-07-11 08:00:44,578] Trial 19 finished with value: 0.8462842078835049 and parameters: {'iterations': 840, 'learning_rate': 0.09356236785176296, 'depth': 6, 'l2_leaf_reg': 3.9175662254796304, 'border_count': 109, 'random_strength': 0.5757656522364232, 'bagging_temperature': 0.5150104761060543}. Best is trial 10 with value: 0.8523725834797891.\n"
     ]
    }
   ],
   "source": [
    "# Optuna 튜닝 시작\n",
    "study2 = optuna.create_study(direction=\"maximize\")\n",
    "# XGB 때 n_trials=30 으로 했었는데 너무 오래걸려서 일단 20으로 설정\n",
    "# n_trials는 optuna가 시도할 하이퍼파라미터 조합의 개수 (몇번 학습할건지)\n",
    "study2.optimize(objective2, n_trials=20)"
   ]
  },
  {
   "cell_type": "code",
   "execution_count": 27,
   "id": "4e39c53a-f252-436f-91d2-52973fec0cf0",
   "metadata": {},
   "outputs": [
    {
     "name": "stdout",
     "output_type": "stream",
     "text": [
      "Best F1 score: 0.8523725834797891\n",
      "Best parameters: {'iterations': 853, 'learning_rate': 0.0989412064563703, 'depth': 8, 'l2_leaf_reg': 4.7377949762190195, 'border_count': 79, 'random_strength': 0.9723122632847294, 'bagging_temperature': 0.9563408727257483}\n"
     ]
    }
   ],
   "source": [
    "# 결과 출력 (궁금하니까 --> 여기선 F1이 micro가 아니라 낮을 수 밖에 없다.)\n",
    "print(\"Best F1 score:\", study2.best_value)\n",
    "print(\"Best parameters:\", study2.best_params)"
   ]
  },
  {
   "cell_type": "code",
   "execution_count": 28,
   "id": "823e159a-2260-460e-9140-ff5576413bff",
   "metadata": {},
   "outputs": [],
   "source": [
    "# 최적 파라미터로 모델 학습\n",
    "# Optuna가 튜닝한 것이 아닌 것들은 다시 넣어줘야함.\n",
    "# Optuna에 넣은 이유는 기본적으로 들어있어야 하기 때문에\n",
    "best_params2 = study2.best_params\n",
    "best_params2.update({\n",
    "    \"loss_function\": \"MultiClass\",\n",
    "    \"eval_metric\": \"TotalF1:average=Micro\",\n",
    "    \"random_state\": 42,\n",
    "    \"verbose\": 100\n",
    "})"
   ]
  },
  {
   "cell_type": "code",
   "execution_count": 29,
   "id": "fa230dce-37e6-46d4-99dd-55ee81c4fef5",
   "metadata": {},
   "outputs": [
    {
     "name": "stdout",
     "output_type": "stream",
     "text": [
      "0:\tlearn: 0.7991715\ttest: 0.7936857\tbest: 0.7936857 (0)\ttotal: 1.04s\tremaining: 14m 48s\n",
      "100:\tlearn: 0.8523523\ttest: 0.8364926\tbest: 0.8365554 (99)\ttotal: 1m 46s\tremaining: 13m 14s\n",
      "200:\tlearn: 0.8686564\ttest: 0.8441501\tbest: 0.8442757 (198)\ttotal: 3m 32s\tremaining: 11m 30s\n",
      "300:\tlearn: 0.8801902\ttest: 0.8489204\tbest: 0.8489204 (300)\ttotal: 5m 19s\tremaining: 9m 45s\n",
      "Stopped by overfitting detector  (30 iterations wait)\n",
      "\n",
      "bestTest = 0.8523725835\n",
      "bestIteration = 366\n",
      "\n",
      "Shrink model to first 367 iterations.\n"
     ]
    },
    {
     "data": {
      "text/plain": [
       "<catboost.core.CatBoostClassifier at 0x1a701471340>"
      ]
     },
     "execution_count": 29,
     "metadata": {},
     "output_type": "execute_result"
    }
   ],
   "source": [
    "# 실제 모델\n",
    "model2 = CatBoostClassifier(**best_params2)\n",
    "model2.fit(X_train, y_train,\n",
    "          eval_set=(X_val, y_val),\n",
    "          early_stopping_rounds=30)"
   ]
  },
  {
   "cell_type": "code",
   "execution_count": 30,
   "id": "8518643d-364f-40cd-b874-332032fb012f",
   "metadata": {},
   "outputs": [],
   "source": [
    "# 예측\n",
    "test_df2['Segment_pred'] = model2.predict(X_test2).flatten()"
   ]
  },
  {
   "cell_type": "code",
   "execution_count": 31,
   "id": "93a5d988-c212-4125-8e77-69b0a2611622",
   "metadata": {},
   "outputs": [
    {
     "data": {
      "text/plain": [
       "Segment_pred\n",
       "D        14500\n",
       "C         4377\n",
       "other        8\n",
       "Name: count, dtype: int64"
      ]
     },
     "execution_count": 31,
     "metadata": {},
     "output_type": "execute_result"
    }
   ],
   "source": [
    "test_df2['Segment_pred'].value_counts()"
   ]
  },
  {
   "cell_type": "code",
   "execution_count": 32,
   "id": "1ff47dc5-3102-40ce-ae2b-3f3f08731c02",
   "metadata": {},
   "outputs": [],
   "source": [
    "# 예측 결과 병합\n",
    "# 중복된 ID 제거: 마지막 값을 기준으로 유지\n",
    "test_df2_dedup = test_df2.drop_duplicates(subset='ID', keep='last')\n",
    "test_df2_indexed = test_df2_dedup.set_index('ID')\n",
    "\n",
    "# test_df의 Segment_pred를 ID 기준으로 업데이트\n",
    "test_df.loc[test_df['ID'].isin(test_df2_indexed.index), 'Segment_pred'] = \\\n",
    "    test_df.loc[test_df['ID'].isin(test_df2_indexed.index), 'ID'].map(test_df2_indexed['Segment_pred'])"
   ]
  },
  {
   "cell_type": "markdown",
   "id": "f3bb80c5-7a77-4be6-9272-d6a890b666d0",
   "metadata": {},
   "source": [
    "### 3단계 -> Segment == a or B vs Other (C, D, E 제거)"
   ]
  },
  {
   "cell_type": "code",
   "execution_count": 34,
   "id": "4099cc11-b43a-443e-b03a-a237ffffd795",
   "metadata": {},
   "outputs": [],
   "source": [
    "# 학습용 피처/타겟 정의\n",
    "train_df3 = train_df[train_df['Segment'].isin(['A', 'B'])].copy()\n",
    "train_df3['Segment1'] = train_df3['Segment']"
   ]
  },
  {
   "cell_type": "code",
   "execution_count": 35,
   "id": "a880731b-cfc0-4e39-ab40-14f2a26a40c1",
   "metadata": {},
   "outputs": [],
   "source": [
    "exclude_cols = ['ID', '기준년월', 'Segment', 'Segment1']\n",
    "feature_cols = [\n",
    "    col for col in train_df.columns\n",
    "    if col not in exclude_cols\n",
    "]"
   ]
  },
  {
   "cell_type": "code",
   "execution_count": 36,
   "id": "bf127ddd-38af-4ecb-b7e1-a43f8acde823",
   "metadata": {},
   "outputs": [],
   "source": [
    "# 학습용 피처/타겟 정의\n",
    "X3 = train_df3[feature_cols]\n",
    "y3 = train_df3['Segment1']"
   ]
  },
  {
   "cell_type": "code",
   "execution_count": 37,
   "id": "c94b533e-14a8-47e8-a6ed-ce9b96adb4a2",
   "metadata": {},
   "outputs": [],
   "source": [
    "# 예측할 test subset (1단계 결과가 Other인 경우)\n",
    "test_df3 = test_df[test_df['Segment_pred'] == 'other'].copy()"
   ]
  },
  {
   "cell_type": "code",
   "execution_count": 38,
   "id": "507eab9d-f7fb-4943-ba82-99dbf92b8560",
   "metadata": {},
   "outputs": [],
   "source": [
    "# X와 test_df 양쪽에 모두 존재하는 컬럼만 선택\n",
    "common_cols = [col for col in X3.columns if col in test_df3.columns]\n",
    "X3 = X3[common_cols]\n",
    "X_test3 = test_df3[common_cols]"
   ]
  },
  {
   "cell_type": "code",
   "execution_count": 39,
   "id": "5bdab920-542d-4f0d-a96d-f8c3a34da3c4",
   "metadata": {},
   "outputs": [],
   "source": [
    "# 학습/검증 분리\n",
    "X_train, X_val, y_train, y_val = train_test_split(X3, y3, test_size=0.2, random_state=42, stratify=y3)"
   ]
  },
  {
   "cell_type": "code",
   "execution_count": 40,
   "id": "dd13fcd8-1ece-4c71-9117-49b48a1711a5",
   "metadata": {},
   "outputs": [],
   "source": [
    "def objective3(trial):\n",
    "    params = {\n",
    "        # boosting 반복 횟수\n",
    "        \"iterations\": trial.suggest_int(\"iterations\", 100, 500),\n",
    "        # 한번에 얼마나 빠르게 학습하지지\n",
    "        \"learning_rate\": trial.suggest_float(\"learning_rate\", 0.02, 0.2),\n",
    "        # 트리의 깊이, 깊을수록 복잡한 모델이지만 과적합 가능성 O\n",
    "        \"depth\": trial.suggest_int(\"depth\", 3, 6), # --> 튜닝\n",
    "        # L2 정규화 , 높을수록 규제 강화 - 과적합 억제\n",
    "        \"l2_leaf_reg\": trial.suggest_float(\"l2_leaf_reg\", 5, 20),\n",
    "        # 수치형 피쳐를 이산화 할 때 사용하는 경계 개수 -> 수치형 많으면 영향력 있음\n",
    "        \"border_count\": trial.suggest_int(\"border_count\", 32, 64),\n",
    "        # 트리 분기시 f.i 계산에 노이즈를 얼마나 줄 것인가\n",
    "        \"random_strength\": trial.suggest_float(\"random_strength\", 0.8, 2.0),\n",
    "        # 샘플링의 다양성 조절 -> 과소적합일 땐 높이고, 과적합일 땐 낮게\n",
    "        \"bagging_temperature\": trial.suggest_float(\"bagging_temperature\", 0.5, 1.0),\n",
    "        # 손실 함수 : 다중분류\n",
    "        \"loss_function\": \"MultiClass\",\n",
    "        # 평가 지표\n",
    "        \"eval_metric\": \"TotalF1:average=Micro\",\n",
    "        # 학습 로그를 몇 step마다 보여줄지\n",
    "        \"verbose\": 100,\n",
    "        # 트리 분기 시 feature 중요도 계산에 주는 노이즈 크기\n",
    "        \"random_state\": 42\n",
    "    }\n",
    "    # early_stopping_rounds - 지정된 라운드 동안 성능 개선이 되지 않으면 학습 중지\n",
    "    model3 = CatBoostClassifier(**params)\n",
    "    model3.fit(X_train, y_train, eval_set=(X_val, y_val), early_stopping_rounds=20, verbose=100)\n",
    "\n",
    "    preds = model3.predict(X_val)\n",
    "    f1 = f1_score(y_val, preds, average='micro')\n",
    "    return f1"
   ]
  },
  {
   "cell_type": "code",
   "execution_count": 93,
   "id": "a86c0853-1873-48cf-896c-e1412f3f0bd6",
   "metadata": {},
   "outputs": [
    {
     "name": "stderr",
     "output_type": "stream",
     "text": [
      "[I 2025-07-11 09:08:20,375] A new study created in memory with name: no-name-c46557a9-8d40-4724-ba7e-f3978ee92c82\n"
     ]
    },
    {
     "name": "stdout",
     "output_type": "stream",
     "text": [
      "0:\tlearn: 0.9256757\ttest: 0.8421053\tbest: 0.8421053 (0)\ttotal: 20.1ms\tremaining: 6.32s\n"
     ]
    },
    {
     "name": "stderr",
     "output_type": "stream",
     "text": [
      "[I 2025-07-11 09:08:21,035] Trial 0 finished with value: 0.9210526315789473 and parameters: {'iterations': 315, 'learning_rate': 0.16773821836168157, 'depth': 4, 'l2_leaf_reg': 11.91497712793132, 'border_count': 53, 'random_strength': 0.9685255061348419, 'bagging_temperature': 0.7931004119765275}. Best is trial 0 with value: 0.9210526315789473.\n"
     ]
    },
    {
     "name": "stdout",
     "output_type": "stream",
     "text": [
      "Stopped by overfitting detector  (20 iterations wait)\n",
      "\n",
      "bestTest = 0.9210526316\n",
      "bestIteration = 14\n",
      "\n",
      "Shrink model to first 15 iterations.\n",
      "0:\tlearn: 0.8918919\ttest: 0.8684211\tbest: 0.8684211 (0)\ttotal: 52ms\tremaining: 10.3s\n"
     ]
    },
    {
     "name": "stderr",
     "output_type": "stream",
     "text": [
      "[I 2025-07-11 09:08:22,627] Trial 1 finished with value: 0.9210526315789473 and parameters: {'iterations': 199, 'learning_rate': 0.11977775316246801, 'depth': 6, 'l2_leaf_reg': 13.108798003183214, 'border_count': 61, 'random_strength': 1.2301980602593225, 'bagging_temperature': 0.7861013058478769}. Best is trial 0 with value: 0.9210526315789473.\n"
     ]
    },
    {
     "name": "stdout",
     "output_type": "stream",
     "text": [
      "Stopped by overfitting detector  (20 iterations wait)\n",
      "\n",
      "bestTest = 0.9210526316\n",
      "bestIteration = 22\n",
      "\n",
      "Shrink model to first 23 iterations.\n",
      "0:\tlearn: 0.8851351\ttest: 0.8684211\tbest: 0.8684211 (0)\ttotal: 33ms\tremaining: 4.85s\n"
     ]
    },
    {
     "name": "stderr",
     "output_type": "stream",
     "text": [
      "[I 2025-07-11 09:08:23,475] Trial 2 finished with value: 0.9210526315789473 and parameters: {'iterations': 148, 'learning_rate': 0.19769616426299147, 'depth': 4, 'l2_leaf_reg': 5.093704217632934, 'border_count': 54, 'random_strength': 1.4518448491255502, 'bagging_temperature': 0.8634460065558739}. Best is trial 0 with value: 0.9210526315789473.\n"
     ]
    },
    {
     "name": "stdout",
     "output_type": "stream",
     "text": [
      "Stopped by overfitting detector  (20 iterations wait)\n",
      "\n",
      "bestTest = 0.9210526316\n",
      "bestIteration = 15\n",
      "\n",
      "Shrink model to first 16 iterations.\n",
      "0:\tlearn: 0.8851351\ttest: 0.8684211\tbest: 0.8684211 (0)\ttotal: 47.3ms\tremaining: 8.13s\n"
     ]
    },
    {
     "name": "stderr",
     "output_type": "stream",
     "text": [
      "[I 2025-07-11 09:08:24,276] Trial 3 finished with value: 0.868421052631579 and parameters: {'iterations': 173, 'learning_rate': 0.06304860347199812, 'depth': 6, 'l2_leaf_reg': 7.804485954608886, 'border_count': 51, 'random_strength': 0.9635274876237754, 'bagging_temperature': 0.6011441002307109}. Best is trial 0 with value: 0.9210526315789473.\n"
     ]
    },
    {
     "name": "stdout",
     "output_type": "stream",
     "text": [
      "Stopped by overfitting detector  (20 iterations wait)\n",
      "\n",
      "bestTest = 0.8684210526\n",
      "bestIteration = 0\n",
      "\n",
      "Shrink model to first 1 iterations.\n",
      "0:\tlearn: 0.8986486\ttest: 0.8684211\tbest: 0.8684211 (0)\ttotal: 31.5ms\tremaining: 10.8s\n"
     ]
    },
    {
     "name": "stderr",
     "output_type": "stream",
     "text": [
      "[I 2025-07-11 09:08:24,820] Trial 4 finished with value: 0.9210526315789473 and parameters: {'iterations': 343, 'learning_rate': 0.053451374858681275, 'depth': 4, 'l2_leaf_reg': 15.040807972492424, 'border_count': 61, 'random_strength': 1.0992747630171285, 'bagging_temperature': 0.537048640464296}. Best is trial 0 with value: 0.9210526315789473.\n"
     ]
    },
    {
     "name": "stdout",
     "output_type": "stream",
     "text": [
      "Stopped by overfitting detector  (20 iterations wait)\n",
      "\n",
      "bestTest = 0.9210526316\n",
      "bestIteration = 1\n",
      "\n",
      "Shrink model to first 2 iterations.\n",
      "0:\tlearn: 0.8716216\ttest: 0.8684211\tbest: 0.8684211 (0)\ttotal: 40.6ms\tremaining: 16.7s\n"
     ]
    },
    {
     "name": "stderr",
     "output_type": "stream",
     "text": [
      "[I 2025-07-11 09:08:26,214] Trial 5 finished with value: 0.9210526315789473 and parameters: {'iterations': 412, 'learning_rate': 0.1678084301643216, 'depth': 5, 'l2_leaf_reg': 15.345275187999492, 'border_count': 63, 'random_strength': 1.0839731686150575, 'bagging_temperature': 0.8458590897300131}. Best is trial 0 with value: 0.9210526315789473.\n"
     ]
    },
    {
     "name": "stdout",
     "output_type": "stream",
     "text": [
      "Stopped by overfitting detector  (20 iterations wait)\n",
      "\n",
      "bestTest = 0.9210526316\n",
      "bestIteration = 17\n",
      "\n",
      "Shrink model to first 18 iterations.\n",
      "0:\tlearn: 0.8851351\ttest: 0.8157895\tbest: 0.8157895 (0)\ttotal: 30ms\tremaining: 13.5s\n"
     ]
    },
    {
     "name": "stderr",
     "output_type": "stream",
     "text": [
      "[I 2025-07-11 09:08:26,834] Trial 6 finished with value: 0.868421052631579 and parameters: {'iterations': 452, 'learning_rate': 0.1013952295756163, 'depth': 4, 'l2_leaf_reg': 6.453187771809723, 'border_count': 55, 'random_strength': 1.9488241166207496, 'bagging_temperature': 0.8500038360014808}. Best is trial 0 with value: 0.9210526315789473.\n"
     ]
    },
    {
     "name": "stdout",
     "output_type": "stream",
     "text": [
      "Stopped by overfitting detector  (20 iterations wait)\n",
      "\n",
      "bestTest = 0.8684210526\n",
      "bestIteration = 1\n",
      "\n",
      "Shrink model to first 2 iterations.\n",
      "0:\tlearn: 0.8716216\ttest: 0.8684211\tbest: 0.8684211 (0)\ttotal: 13.6ms\tremaining: 2.16s\n",
      "Stopped by overfitting detector  (20 iterations wait)\n",
      "\n",
      "bestTest = 0.8684210526\n",
      "bestIteration = 0\n",
      "\n",
      "Shrink model to first 1 iterations.\n"
     ]
    },
    {
     "name": "stderr",
     "output_type": "stream",
     "text": [
      "[I 2025-07-11 09:08:27,277] Trial 7 finished with value: 0.868421052631579 and parameters: {'iterations': 160, 'learning_rate': 0.06306300858805282, 'depth': 3, 'l2_leaf_reg': 19.233121692982554, 'border_count': 47, 'random_strength': 1.5136682502817196, 'bagging_temperature': 0.7871165761736483}. Best is trial 0 with value: 0.9210526315789473.\n"
     ]
    },
    {
     "name": "stdout",
     "output_type": "stream",
     "text": [
      "0:\tlearn: 0.8918919\ttest: 0.8421053\tbest: 0.8421053 (0)\ttotal: 58.2ms\tremaining: 18.5s\n"
     ]
    },
    {
     "name": "stderr",
     "output_type": "stream",
     "text": [
      "[I 2025-07-11 09:08:28,205] Trial 8 finished with value: 0.8947368421052632 and parameters: {'iterations': 319, 'learning_rate': 0.15115660635958256, 'depth': 6, 'l2_leaf_reg': 14.086796757751914, 'border_count': 46, 'random_strength': 1.773584757685888, 'bagging_temperature': 0.7394192014633729}. Best is trial 0 with value: 0.9210526315789473.\n"
     ]
    },
    {
     "name": "stdout",
     "output_type": "stream",
     "text": [
      "Stopped by overfitting detector  (20 iterations wait)\n",
      "\n",
      "bestTest = 0.8947368421\n",
      "bestIteration = 2\n",
      "\n",
      "Shrink model to first 3 iterations.\n",
      "0:\tlearn: 0.9054054\ttest: 0.8157895\tbest: 0.8157895 (0)\ttotal: 29.1ms\tremaining: 8.76s\n"
     ]
    },
    {
     "name": "stderr",
     "output_type": "stream",
     "text": [
      "[I 2025-07-11 09:08:29,082] Trial 9 finished with value: 0.9210526315789473 and parameters: {'iterations': 302, 'learning_rate': 0.17461368871884572, 'depth': 6, 'l2_leaf_reg': 11.95526324108954, 'border_count': 35, 'random_strength': 1.1965167520645354, 'bagging_temperature': 0.8322134889933231}. Best is trial 0 with value: 0.9210526315789473.\n"
     ]
    },
    {
     "name": "stdout",
     "output_type": "stream",
     "text": [
      "Stopped by overfitting detector  (20 iterations wait)\n",
      "\n",
      "bestTest = 0.9210526316\n",
      "bestIteration = 3\n",
      "\n",
      "Shrink model to first 4 iterations.\n",
      "0:\tlearn: 0.8716216\ttest: 0.8684211\tbest: 0.8684211 (0)\ttotal: 21.1ms\tremaining: 4.92s\n"
     ]
    },
    {
     "name": "stderr",
     "output_type": "stream",
     "text": [
      "[I 2025-07-11 09:08:29,812] Trial 10 finished with value: 0.9210526315789473 and parameters: {'iterations': 234, 'learning_rate': 0.12823510981101227, 'depth': 3, 'l2_leaf_reg': 9.760594550863171, 'border_count': 39, 'random_strength': 0.8096289759340631, 'bagging_temperature': 0.9831701469582019}. Best is trial 0 with value: 0.9210526315789473.\n"
     ]
    },
    {
     "name": "stdout",
     "output_type": "stream",
     "text": [
      "Stopped by overfitting detector  (20 iterations wait)\n",
      "\n",
      "bestTest = 0.9210526316\n",
      "bestIteration = 18\n",
      "\n",
      "Shrink model to first 19 iterations.\n",
      "0:\tlearn: 0.8783784\ttest: 0.8684211\tbest: 0.8684211 (0)\ttotal: 43.5ms\tremaining: 10.3s\n"
     ]
    },
    {
     "name": "stderr",
     "output_type": "stream",
     "text": [
      "[I 2025-07-11 09:08:30,591] Trial 11 finished with value: 0.868421052631579 and parameters: {'iterations': 237, 'learning_rate': 0.10790562942704761, 'depth': 5, 'l2_leaf_reg': 11.50628192021724, 'border_count': 58, 'random_strength': 1.2726193467230942, 'bagging_temperature': 0.6906738394884201}. Best is trial 0 with value: 0.9210526315789473.\n"
     ]
    },
    {
     "name": "stdout",
     "output_type": "stream",
     "text": [
      "Stopped by overfitting detector  (20 iterations wait)\n",
      "\n",
      "bestTest = 0.8684210526\n",
      "bestIteration = 0\n",
      "\n",
      "Shrink model to first 1 iterations.\n",
      "0:\tlearn: 0.9256757\ttest: 0.8947368\tbest: 0.8947368 (0)\ttotal: 37.5ms\tremaining: 8.58s\n"
     ]
    },
    {
     "name": "stderr",
     "output_type": "stream",
     "text": [
      "[I 2025-07-11 09:08:31,535] Trial 12 finished with value: 0.9473684210526315 and parameters: {'iterations': 230, 'learning_rate': 0.1315727592190663, 'depth': 5, 'l2_leaf_reg': 17.83470393444972, 'border_count': 63, 'random_strength': 0.8035538516258349, 'bagging_temperature': 0.9534560110981747}. Best is trial 12 with value: 0.9473684210526315.\n"
     ]
    },
    {
     "name": "stdout",
     "output_type": "stream",
     "text": [
      "Stopped by overfitting detector  (20 iterations wait)\n",
      "\n",
      "bestTest = 0.9473684211\n",
      "bestIteration = 2\n",
      "\n",
      "Shrink model to first 3 iterations.\n",
      "0:\tlearn: 0.8986486\ttest: 0.7894737\tbest: 0.7894737 (0)\ttotal: 40.4ms\tremaining: 4.12s\n"
     ]
    },
    {
     "name": "stderr",
     "output_type": "stream",
     "text": [
      "[I 2025-07-11 09:08:32,455] Trial 13 finished with value: 0.9210526315789473 and parameters: {'iterations': 103, 'learning_rate': 0.1507835209736169, 'depth': 5, 'l2_leaf_reg': 18.36661949396114, 'border_count': 42, 'random_strength': 0.8026972351573419, 'bagging_temperature': 0.969876843625368}. Best is trial 12 with value: 0.9473684210526315.\n"
     ]
    },
    {
     "name": "stdout",
     "output_type": "stream",
     "text": [
      "Stopped by overfitting detector  (20 iterations wait)\n",
      "\n",
      "bestTest = 0.9210526316\n",
      "bestIteration = 13\n",
      "\n",
      "Shrink model to first 14 iterations.\n",
      "0:\tlearn: 0.8918919\ttest: 0.8421053\tbest: 0.8421053 (0)\ttotal: 39.5ms\tremaining: 14.8s\n"
     ]
    },
    {
     "name": "stderr",
     "output_type": "stream",
     "text": [
      "[I 2025-07-11 09:08:33,356] Trial 14 finished with value: 0.9210526315789473 and parameters: {'iterations': 376, 'learning_rate': 0.1995193853579867, 'depth': 4, 'l2_leaf_reg': 16.61208082802828, 'border_count': 56, 'random_strength': 0.9588124692778636, 'bagging_temperature': 0.9235807267281838}. Best is trial 12 with value: 0.9473684210526315.\n"
     ]
    },
    {
     "name": "stdout",
     "output_type": "stream",
     "text": [
      "Stopped by overfitting detector  (20 iterations wait)\n",
      "\n",
      "bestTest = 0.9210526316\n",
      "bestIteration = 13\n",
      "\n",
      "Shrink model to first 14 iterations.\n"
     ]
    }
   ],
   "source": [
    "# Optuna 튜닝 시작\n",
    "study3 = optuna.create_study(direction=\"maximize\")\n",
    "# XGB 때 n_trials=30 으로 했었는데 너무 오래걸려서 일단 20으로 설정\n",
    "# n_trials는 optuna가 시도할 하이퍼파라미터 조합의 개수 (몇번 학습할건지)\n",
    "study3.optimize(objective3, n_trials=15)"
   ]
  },
  {
   "cell_type": "code",
   "execution_count": 95,
   "id": "12371abd-c3f4-4eb3-aaa6-5af6b6744a59",
   "metadata": {},
   "outputs": [
    {
     "name": "stdout",
     "output_type": "stream",
     "text": [
      "Best F1 score: 0.9473684210526315\n",
      "Best parameters: {'iterations': 230, 'learning_rate': 0.1315727592190663, 'depth': 5, 'l2_leaf_reg': 17.83470393444972, 'border_count': 63, 'random_strength': 0.8035538516258349, 'bagging_temperature': 0.9534560110981747}\n"
     ]
    }
   ],
   "source": [
    "# 결과 출력 (궁금하니까 --> 여기선 F1이 micro가 아니라 낮을 수 밖에 없다.)\n",
    "print(\"Best F1 score:\", study3.best_value)\n",
    "print(\"Best parameters:\", study3.best_params)"
   ]
  },
  {
   "cell_type": "code",
   "execution_count": 99,
   "id": "84b25dad-bda0-4c51-9866-b42d66a9e5ab",
   "metadata": {},
   "outputs": [],
   "source": [
    "# 최적 파라미터로 모델 학습\n",
    "# Optuna가 튜닝한 것이 아닌 것들은 다시 넣어줘야함.\n",
    "# Optuna에 넣은 이유는 기본적으로 들어있어야 하기 때문에\n",
    "best_params3 = study3.best_params\n",
    "best_params3.update({\n",
    "    \"loss_function\": \"MultiClass\",\n",
    "    \"eval_metric\": \"TotalF1:average=Micro\",\n",
    "    \"random_state\": 42,\n",
    "    \"verbose\": 100\n",
    "})"
   ]
  },
  {
   "cell_type": "code",
   "execution_count": 101,
   "id": "f04b30bf-4c74-4575-adc9-95983710ff0f",
   "metadata": {},
   "outputs": [
    {
     "name": "stdout",
     "output_type": "stream",
     "text": [
      "0:\tlearn: 0.9256757\ttest: 0.8947368\tbest: 0.8947368 (0)\ttotal: 50.4ms\tremaining: 11.5s\n",
      "Stopped by overfitting detector  (20 iterations wait)\n",
      "\n",
      "bestTest = 0.9473684211\n",
      "bestIteration = 2\n",
      "\n",
      "Shrink model to first 3 iterations.\n"
     ]
    },
    {
     "data": {
      "text/plain": [
       "<catboost.core.CatBoostClassifier at 0x1a705bb76b0>"
      ]
     },
     "execution_count": 101,
     "metadata": {},
     "output_type": "execute_result"
    }
   ],
   "source": [
    "# 실제 모델\n",
    "model3 = CatBoostClassifier(**best_params3)\n",
    "model3.fit(X_train, y_train,\n",
    "          eval_set=(X_val, y_val),\n",
    "          early_stopping_rounds=20)"
   ]
  },
  {
   "cell_type": "code",
   "execution_count": 103,
   "id": "01f0f598-5c5f-44c9-9fa4-9ca2b91c344c",
   "metadata": {},
   "outputs": [],
   "source": [
    "# 예측\n",
    "test_df3['Segment_pred'] = model3.predict(X_test3).flatten()"
   ]
  },
  {
   "cell_type": "code",
   "execution_count": 105,
   "id": "4ef51be8-ef30-468d-bc22-d69ef49f87a5",
   "metadata": {},
   "outputs": [
    {
     "data": {
      "text/plain": [
       "Segment_pred\n",
       "A    8\n",
       "Name: count, dtype: int64"
      ]
     },
     "execution_count": 105,
     "metadata": {},
     "output_type": "execute_result"
    }
   ],
   "source": [
    "test_df3['Segment_pred'].value_counts()"
   ]
  },
  {
   "cell_type": "code",
   "execution_count": 107,
   "id": "739fba6f-8bdc-4dea-88f3-e5e5ead8617a",
   "metadata": {},
   "outputs": [
    {
     "name": "stdout",
     "output_type": "stream",
     "text": [
      "201812_processed_All_catboost_model3_submission 저장 완료!\n"
     ]
    }
   ],
   "source": [
    "# 예측 결과 병합\n",
    "# 중복된 ID 제거: 마지막 값을 기준으로 유지\n",
    "test_df3_dedup = test_df3.drop_duplicates(subset='ID', keep='last')\n",
    "test_df3_indexed = test_df3_dedup.set_index('ID')\n",
    "\n",
    "# test_df의 Segment_pred를 ID 기준으로 업데이트\n",
    "test_df.loc[test_df['ID'].isin(test_df3_indexed.index), 'Segment_pred'] = \\\n",
    "    test_df.loc[test_df['ID'].isin(test_df3_indexed.index), 'ID'].map(test_df3_indexed['Segment_pred'])\n",
    "\n",
    "# 최종 예측 결과 저장\n",
    "submission = test_df[['ID', 'Segment_pred']].copy()\n",
    "submission.rename(columns={'Segment_pred': 'Segment'}, inplace=True)\n",
    "submission.to_parquet(f'../results/{train_file}_catboost_model3_submission4.parquet', index=False)\n",
    "print(f\"{train_file}_catboost_model3_submission 저장 완료!\")"
   ]
  },
  {
   "cell_type": "code",
   "execution_count": null,
   "id": "3e7ef822-ef0e-4987-90b0-9fc9f5e8f7d2",
   "metadata": {},
   "outputs": [],
   "source": []
  }
 ],
 "metadata": {
  "kernelspec": {
   "display_name": "Python [conda env:base] *",
   "language": "python",
   "name": "conda-base-py"
  },
  "language_info": {
   "codemirror_mode": {
    "name": "ipython",
    "version": 3
   },
   "file_extension": ".py",
   "mimetype": "text/x-python",
   "name": "python",
   "nbconvert_exporter": "python",
   "pygments_lexer": "ipython3",
   "version": "3.12.7"
  }
 },
 "nbformat": 4,
 "nbformat_minor": 5
}

{
 "cells": [
  {
   "cell_type": "code",
   "execution_count": null,
   "id": "9f0a2909-1ec1-4e35-b5eb-e4f733fb9673",
   "metadata": {},
   "outputs": [],
   "source": [
    "# 기본\n",
    "import pandas as pd\n",
    "import numpy as np\n",
    "import matplotlib.pyplot as plt\n",
    "import seaborn as sns\n",
    "import time\n",
    "\n",
    "# 경고 뜨지 않게 설정\n",
    "import warnings\n",
    "warnings.filterwarnings('ignore')\n",
    "\n",
    "# 그래프 설정\n",
    "sns.set()\n",
    "\n",
    "# 그래프 기본 설정\n",
    "plt.rcParams['font.family'] = 'Malgun Gothic'\n",
    "# plt.rcParams['font.family'] = 'AppleGothic'\n",
    "plt.rcParams['figure.figsize'] = 12, 6\n",
    "plt.rcParams['font.size'] = 14\n",
    "plt.rcParams['axes.unicode_minus'] = False\n",
    "\n",
    "# 데이터 전처리 알고리즘\n",
    "from sklearn.preprocessing import LabelEncoder\n",
    "from sklearn.preprocessing import StandardScaler\n",
    "\n",
    "# 학습용과 검증용으로 나누는 함수\n",
    "from sklearn.model_selection import train_test_split\n",
    "\n",
    "# 교차 검증\n",
    "from sklearn.model_selection import cross_val_score\n",
    "from sklearn.model_selection import cross_validate\n",
    "from sklearn.model_selection import KFold\n",
    "from sklearn.model_selection import StratifiedKFold\n",
    "\n",
    "# 평가함수\n",
    "# 분류용\n",
    "from sklearn.metrics import accuracy_score\n",
    "from sklearn.metrics import precision_score\n",
    "from sklearn.metrics import recall_score\n",
    "from sklearn.metrics import f1_score\n",
    "from sklearn.metrics import roc_auc_score\n",
    "\n",
    "# 회귀용\n",
    "from sklearn.metrics import r2_score\n",
    "from sklearn.metrics import mean_squared_error\n",
    "\n",
    "# 모델의 최적의 하이퍼 파라미터를 찾기 위한 도구\n",
    "from sklearn.model_selection import GridSearchCV\n",
    "\n",
    "# 머신러닝 알고리즘 - 분류\n",
    "from sklearn.neighbors import KNeighborsClassifier\n",
    "from sklearn.linear_model import LogisticRegression\n",
    "from sklearn.svm import SVC\n",
    "from sklearn.tree import DecisionTreeClassifier\n",
    "from sklearn.ensemble import RandomForestClassifier\n",
    "from sklearn.ensemble import AdaBoostClassifier\n",
    "from sklearn.ensemble import GradientBoostingClassifier\n",
    "from lightgbm import LGBMClassifier\n",
    "from xgboost import XGBClassifier\n",
    "from sklearn.ensemble import VotingClassifier\n",
    "\n",
    "# 머신러닝 알고리즘 - 회귀\n",
    "from sklearn.neighbors import KNeighborsRegressor\n",
    "from sklearn.linear_model import LinearRegression\n",
    "from sklearn.linear_model import Ridge\n",
    "from sklearn.linear_model import Lasso\n",
    "from sklearn.linear_model import ElasticNet\n",
    "from sklearn.svm import SVR\n",
    "from sklearn.tree import DecisionTreeRegressor\n",
    "from sklearn.ensemble import RandomForestRegressor\n",
    "from sklearn.ensemble import AdaBoostRegressor\n",
    "from sklearn.ensemble import GradientBoostingRegressor\n",
    "from lightgbm import LGBMRegressor\n",
    "from xgboost import XGBRegressor\n",
    "from sklearn.ensemble import VotingRegressor\n",
    "\n",
    "# 학습 모델 저장을 위한 라이브러리\n",
    "import pickle\n",
    "\n",
    "from sklearn.metrics import confusion_matrix, classification_report"
   ]
  },
  {
   "cell_type": "code",
   "execution_count": null,
   "id": "43352d75-7277-48c2-9c0c-c28e47a6603b",
   "metadata": {},
   "outputs": [],
   "source": [
    "#data_type = \"train\"\n",
    "# month = \"07\"\n",
    "# category = \"잔액정보\"\n",
    "\n",
    "# local\n",
    "root_path = '../data/open/머신러닝'\n",
    "\n",
    "# colab\n",
    "# root_path = '/content/drive/MyDrive/12조 파이널프로젝트/data'\n",
    "\n",
    "drive_folder = f'{root_path}'"
   ]
  },
  {
   "cell_type": "code",
   "execution_count": null,
   "id": "f19c2624-e0de-44e2-b9a8-3103d0105111",
   "metadata": {},
   "outputs": [],
   "source": [
    "# 통합 parquet\n",
    "df1 = pd.read_parquet(f'{drive_folder}/xgb_top8_All.parquet')"
   ]
  },
  {
   "cell_type": "markdown",
   "id": "6582aee8-9ae4-4800-8e53-409f7b2cb51d",
   "metadata": {},
   "source": [
    "## 학습 (LGBM + Optuna)"
   ]
  },
  {
   "cell_type": "code",
   "execution_count": null,
   "id": "9812c02c-cadd-43a4-b1ec-2a0055c15772",
   "metadata": {},
   "outputs": [],
   "source": [
    "# 1. Segment 라벨 만들기\n",
    "segment_cols = ['Segment_A', 'Segment_B', 'Segment_C', 'Segment_D', 'Segment_E']\n",
    "y = df1[segment_cols].idxmax(axis=1).map({\n",
    "    'Segment_A': 0,\n",
    "    'Segment_B': 1,\n",
    "    'Segment_C': 2,\n",
    "    'Segment_D': 3,\n",
    "    'Segment_E': 4\n",
    "})"
   ]
  },
  {
   "cell_type": "code",
   "execution_count": null,
   "id": "f0d4cc86-e0c9-4692-a667-1e2a797c15be",
   "metadata": {},
   "outputs": [],
   "source": [
    "# 2. X 구성\n",
    "X = df1.drop(columns=segment_cols + ['ID', '기준년월'])"
   ]
  },
  {
   "cell_type": "code",
   "execution_count": null,
   "id": "6df34088-2994-4a84-9d0d-e4b72392ea71",
   "metadata": {},
   "outputs": [],
   "source": [
    "# 3. 데이터 분리\n",
    "X_train, X_val, y_train, y_val = train_test_split(X, y, test_size=0.2, stratify=y, random_state=42)"
   ]
  },
  {
   "cell_type": "code",
   "execution_count": null,
   "id": "9a8d7fbf-d73e-4bd1-8c1c-70c4ee77bf1a",
   "metadata": {},
   "outputs": [],
   "source": [
    "import optuna\n",
    "from lightgbm import early_stopping\n",
    "\n",
    "def objective(trial):\n",
    "    # 5. 실험할 파라미터 후보들을 정의\n",
    "    params = {\n",
    "        # 다중분류\n",
    "        'objective': 'multiclass',  \n",
    "        # 클래스 수 -> segment 5개\n",
    "        'num_class': 5,\n",
    "        # 평가 기준을 지정\n",
    "        'metric': 'multi_logloss',\n",
    "        # 학습 속도 --> 작을수록 안정적, 클수록 빠르지만 위험\n",
    "        'learning_rate': trial.suggest_float('learning_rate', 0.01, 0.2), \n",
    "        # early stopping이 있으므로 길게 설정\n",
    "        'n_estimators': 500,\n",
    "        # 트리 깊이 제한 -> 과적합/과소적합 조절 -> 정확도 영향 높음 (보통 5~8)\n",
    "        'max_depth': trial.suggest_int('max_depth', 3, 10), \n",
    "        # 트리에서 사용가능한 노드 -> 클수록 복잡한 규칙 학습 가능 -> 과적합 위험도 증가\n",
    "        'num_leaves': trial.suggest_int('num_leaves', 20, 256), \n",
    "        # 최소 샘플 -> 작을수록 복잡한 패턴 학습 가능 -> 과적합 증가 / 정확도 영향 있음\n",
    "        'min_data_in_leaf': trial.suggest_int('min_data_in_leaf', 100, 1000), \n",
    "        # 학습 데이터 중 몇 %만 랜덤하게 샘플링할지 -> 과적합 방지 -> 0.7~0.9 추천\n",
    "        'subsample': trial.suggest_float('subsample', 0.6, 1.0),\n",
    "        # 피처를 랜덤 샘플링해서 트리마다 다르게 사용 -> 일반화 도움 -> 보통 0.7~0.9\n",
    "        'colsample_bytree': trial.suggest_float('colsample_bytree', 0.6, 1.0),\n",
    "        # 사실 위와 거의 동일 (LightGBM만 씀)\n",
    "        'feature_fraction': trial.suggest_float('feature_fraction', 0.6, 1.0),\n",
    "        # L1 정규화 -> 가중치를 작게 만듬\n",
    "        'lambda_l1': trial.suggest_float('lambda_l1', 0.0, 5.0),\n",
    "        # L2 정규화 (릿지) -> 가중치 크기를 억제 -> 과적합 방지 -> 튜닝 2순위 정도\n",
    "        'lambda_l2': trial.suggest_float('lambda_l2', 0.0, 5.0),\n",
    "        # 고정값, 로그 줄이기 -> 튜닝과는 무관\n",
    "        'random_state': 42,\n",
    "        'verbosity': -1\n",
    "    }\n",
    "\n",
    "    # 6. LGBM 모델 학습\n",
    "    model = LGBMClassifier(**params)\n",
    "    model.fit(\n",
    "        X_train, y_train,\n",
    "        eval_set=[(X_val, y_val)],\n",
    "        eval_metric='multi_logloss',\n",
    "        callbacks=[early_stopping(50)],\n",
    "    )\n",
    "\n",
    "    # 7. validation 정확도 계산\n",
    "    preds = model.predict(X_val)\n",
    "    acc = accuracy_score(y_val, preds)\n",
    "    return acc  # Optuna가 이 값을 maximize할 것"
   ]
  },
  {
   "cell_type": "code",
   "execution_count": null,
   "id": "08c04885-f2da-43d3-964d-16719a47259d",
   "metadata": {},
   "outputs": [],
   "source": [
    "# 8. 탐색 설정 + 실행\n",
    "study = optuna.create_study(direction='maximize') # 정확도 -> 높을수록 좋다 !\n",
    "study.optimize(objective, n_trials=30)  # 실험 횟수는 상황에 따라 조절 !"
   ]
  },
  {
   "cell_type": "code",
   "execution_count": null,
   "id": "3f2102d2-2fe5-49a8-9939-2a2819ea3854",
   "metadata": {},
   "outputs": [],
   "source": [
    "# 9. 결과 출력\n",
    "print(\"🎯 Best Accuracy:\", study.best_value)\n",
    "print(\"✅ Best Parameters:\")\n",
    "print(study.best_params)"
   ]
  },
  {
   "cell_type": "code",
   "execution_count": null,
   "id": "358c13df-3248-4860-ac84-cad296dd2621",
   "metadata": {},
   "outputs": [],
   "source": [
    "# 10. 전체 데이터로 재학습 (test 예측용)\n",
    "best_model = LGBMClassifier(\n",
    "    **study.best_params,\n",
    "    objective='multiclass',\n",
    "    num_class=5,\n",
    "    metric='multi_logloss',\n",
    "    n_estimators=500,\n",
    "    random_state=42\n",
    ")\n",
    "best_model.fit(X, y)"
   ]
  },
  {
   "cell_type": "code",
   "execution_count": null,
   "id": "13914b64-0158-4926-beea-9e59a2db2a2e",
   "metadata": {},
   "outputs": [],
   "source": [
    "df2 = pd.read_parquet(f'{drive_folder}/test_12월_통합.parquet')"
   ]
  },
  {
   "cell_type": "code",
   "execution_count": null,
   "id": "6e51d5e3-060b-42a5-9313-94b6c4144782",
   "metadata": {},
   "outputs": [],
   "source": [
    "# 1. 학습에 사용된 피처\n",
    "train_features = best_model.feature_name_"
   ]
  },
  {
   "cell_type": "code",
   "execution_count": null,
   "id": "c8a56703-ee53-4293-841e-e3d846cb57f2",
   "metadata": {},
   "outputs": [],
   "source": [
    "# 2. test 데이터에서 ID/기준년월 제거\n",
    "X_test = df2.drop(columns=['ID', '기준년월'], errors='ignore')"
   ]
  },
  {
   "cell_type": "code",
   "execution_count": null,
   "id": "2c60b065-f0e7-448d-b883-1545285d3d0f",
   "metadata": {},
   "outputs": [],
   "source": [
    "# 3. 누락된 컬럼 0으로 추가\n",
    "missing_cols = [col for col in train_features if col not in X_test.columns]\n",
    "for col in missing_cols:\n",
    "    X_test[col] = 0"
   ]
  },
  {
   "cell_type": "code",
   "execution_count": null,
   "id": "8350dc66-0697-455b-b044-3940d33e2fd7",
   "metadata": {},
   "outputs": [],
   "source": [
    "# 4. 순서 맞추기\n",
    "X_test = X_test[train_features]"
   ]
  },
  {
   "cell_type": "code",
   "execution_count": null,
   "id": "b722409f-8f6b-4bb0-9c42-ff15fe7044e2",
   "metadata": {},
   "outputs": [],
   "source": [
    "# 예측\n",
    "test_preds = best_model.predict(X_test)"
   ]
  },
  {
   "cell_type": "code",
   "execution_count": null,
   "id": "c6773c18-6e75-4462-9b05-780be954085a",
   "metadata": {},
   "outputs": [],
   "source": [
    "# 숫자 → 문자 라벨 매핑\n",
    "label_map = {0: 'A', 1: 'B', 2: 'C', 3: 'D', 4: 'E'}\n",
    "df2['Segment'] = pd.Series(test_preds).map(label_map)"
   ]
  },
  {
   "cell_type": "code",
   "execution_count": null,
   "id": "c7f4a599-886f-474f-89aa-a692b787f228",
   "metadata": {},
   "outputs": [],
   "source": [
    "# 9. 최종 결과만 저장\n",
    "df2[['ID', 'Segment']].to_parquet(f'{drive_folder}/LGBM_Optuna_segment_pred.parquet', index=False)\n",
    "print(\"✅ 저장 완료: LGBM_Optuna_segment_pred.parquet (ID, Segment)\")"
   ]
  },
  {
   "cell_type": "code",
   "execution_count": null,
   "id": "9bc9dd3d-e3d4-4169-a87b-c1f4754127d3",
   "metadata": {},
   "outputs": [],
   "source": [
    "df2 = pd.read_parquet(f'{drive_folder}/LGBM_Optuna_segment_pred.parquet')\n",
    "df2"
   ]
  },
  {
   "cell_type": "code",
   "execution_count": null,
   "id": "2f4b1878-e3a7-48ab-826a-8c6b48fe549d",
   "metadata": {},
   "outputs": [],
   "source": []
  }
 ],
 "metadata": {
  "kernelspec": {
   "display_name": "Python [conda env:base] *",
   "language": "python",
   "name": "conda-base-py"
  },
  "language_info": {
   "codemirror_mode": {
    "name": "ipython",
    "version": 3
   },
   "file_extension": ".py",
   "mimetype": "text/x-python",
   "name": "python",
   "nbconvert_exporter": "python",
   "pygments_lexer": "ipython3",
   "version": "3.12.7"
  }
 },
 "nbformat": 4,
 "nbformat_minor": 5
}

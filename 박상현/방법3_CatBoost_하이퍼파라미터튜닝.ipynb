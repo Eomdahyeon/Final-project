{
 "cells": [
  {
   "cell_type": "code",
   "execution_count": 30,
   "id": "a934e0c6-dfbd-4276-985f-448482400a85",
   "metadata": {},
   "outputs": [],
   "source": [
    "from catboost import CatBoostClassifier\n",
    "from sklearn.metrics import f1_score\n",
    "from sklearn.model_selection import train_test_split\n",
    "import pandas as pd\n",
    "import numpy as np\n",
    "import optuna\n",
    "from sklearn.metrics import confusion_matrix, ConfusionMatrixDisplay, classification_report"
   ]
  },
  {
   "cell_type": "code",
   "execution_count": 2,
   "id": "bbf853f3-e2cf-4bb7-a5ca-493a90642c8c",
   "metadata": {},
   "outputs": [],
   "source": [
    "# local\n",
    "root_path = '../data/open/머신러닝'\n",
    "\n",
    "# colab\n",
    "# root_path = '/content/drive/MyDrive/12조 파이널프로젝트/data'"
   ]
  },
  {
   "cell_type": "code",
   "execution_count": 3,
   "id": "aeef4a12-41f9-4fdc-944b-21a259a91c23",
   "metadata": {},
   "outputs": [],
   "source": [
    "# 데이터 불러오기\n",
    "file_name = 'cleaned_vif_filtered' # 이 부분만 수정하여 모델1,2,3 똑같이 검정\n",
    "train_df = pd.read_parquet(f'{root_path}/{file_name}.parquet')"
   ]
  },
  {
   "cell_type": "code",
   "execution_count": 4,
   "id": "d98f15a5-cc24-491c-b120-559be532e8e0",
   "metadata": {},
   "outputs": [],
   "source": [
    "# # 학습용 피처/타겟 정의\n",
    "# X = train_df.drop(columns=['ID', '기준년월', 'Segment', 'Segment1'])\n",
    "# y = train_df['Segment1']"
   ]
  },
  {
   "cell_type": "code",
   "execution_count": 5,
   "id": "5113954f-3ee6-42ad-81e1-9bd3498484a4",
   "metadata": {},
   "outputs": [],
   "source": [
    "# 타겟 레이블 재구성\n",
    "def get_target_label(df):\n",
    "    segment_columns = ['Segment_A', 'Segment_B', 'Segment_C', 'Segment_D', 'Segment_E']\n",
    "    return df[segment_columns].idxmax(axis=1).str[-1]"
   ]
  },
  {
   "cell_type": "code",
   "execution_count": 6,
   "id": "e251b419-b765-4a6e-88c2-c7fc077721e4",
   "metadata": {},
   "outputs": [],
   "source": [
    "# 타겟 생성\n",
    "train_df['Segment'] = get_target_label(train_df)"
   ]
  },
  {
   "cell_type": "code",
   "execution_count": 7,
   "id": "00d7503d-4ccc-4e05-bf28-a3303a66872e",
   "metadata": {},
   "outputs": [],
   "source": [
    "# 학습용 피처/타겟 정의\n",
    "X = train_df.drop(columns=['Segment_A', 'Segment_B', 'Segment_C', 'Segment_D', 'Segment_E', 'Segment', 'ID', '기준년월'])\n",
    "y = train_df['Segment']"
   ]
  },
  {
   "cell_type": "code",
   "execution_count": 8,
   "id": "565d1a39-ce58-4bdc-9756-9acb689ac91e",
   "metadata": {},
   "outputs": [],
   "source": [
    "# 학습/검증 분리\n",
    "X_train, X_val, y_train, y_val = train_test_split(X, y, test_size=0.2, random_state=42, stratify=y)"
   ]
  },
  {
   "cell_type": "markdown",
   "id": "2ee51b0a-9a0a-43d9-ac0e-631af1898520",
   "metadata": {},
   "source": [
    "### 하이퍼파라미터 튜닝 (Optuna)"
   ]
  },
  {
   "cell_type": "code",
   "execution_count": 16,
   "id": "76ba5591-4539-4767-b6a9-3d3bcf8a91ff",
   "metadata": {},
   "outputs": [],
   "source": [
    "def objective(trial):\n",
    "    params = {\n",
    "        # boosting 반복 횟수\n",
    "        \"iterations\": trial.suggest_int(\"iterations\", 300, 1000),\n",
    "        # 한번에 얼마나 빠르게 학습하지지\n",
    "        \"learning_rate\": trial.suggest_float(\"learning_rate\", 0.01, 0.1),\n",
    "        # 트리의 깊이, 깊을수록 복잡한 모델이지만 과적합 가능성 O\n",
    "        \"depth\": trial.suggest_int(\"depth\", 4, 10), # --> 튜닝\n",
    "        # L2 정규화 , 높을수록 규제 강화 - 과적합 억제\n",
    "        \"l2_leaf_reg\": trial.suggest_float(\"l2_leaf_reg\", 1, 10),\n",
    "        # 수치형 피쳐를 이산화 할 때 사용하는 경계 개수 -> 수치형 많으면 영향력 있음\n",
    "        \"border_count\": trial.suggest_int(\"border_count\", 32, 255),\n",
    "        # 트리 분기시 f.i 계산에 노이즈를 얼마나 줄 것인가\n",
    "        \"random_strength\": trial.suggest_float(\"random_strength\", 0.1, 1),\n",
    "        # 샘플링의 다양성 조절 -> 과소적합일 땐 높이고, 과적합일 땐 낮\n",
    "        \"bagging_temperature\": trial.suggest_float(\"bagging_temperature\", 0, 1),\n",
    "        # 손실 함수 : 다중분류\n",
    "        \"loss_function\": \"MultiClass\",\n",
    "        # 평가 지표\n",
    "        \"eval_metric\": \"TotalF1:average=Micro\",\n",
    "        # 학습 로그를 몇 step마다 보여줄지\n",
    "        \"verbose\": 100,\n",
    "        # 트리 분기 시 feature 중요도 계산에 주는 노이즈 크기\n",
    "        \"random_state\": 42\n",
    "    }\n",
    "    # early_stopping_rounds - 지정된 라운드 동안 성능 개선이 되지 않으면 학습 중지\n",
    "    model = CatBoostClassifier(**params)\n",
    "    model.fit(X_train, y_train, eval_set=(X_val, y_val), early_stopping_rounds=50, verbose=100)\n",
    "\n",
    "    preds = model.predict(X_val)\n",
    "    f1 = f1_score(y_val, preds, average='micro')\n",
    "    return f1"
   ]
  },
  {
   "cell_type": "code",
   "execution_count": 18,
   "id": "897f598a-9810-4cdf-9cce-0a5f8a5adf8e",
   "metadata": {},
   "outputs": [
    {
     "name": "stderr",
     "output_type": "stream",
     "text": [
      "[I 2025-07-14 09:46:46,505] A new study created in memory with name: no-name-a75b81b8-5e61-4730-a5ee-a4f6596dbce5\n"
     ]
    },
    {
     "name": "stdout",
     "output_type": "stream",
     "text": [
      "0:\tlearn: 0.8301745\ttest: 0.8301500\tbest: 0.8301500 (0)\ttotal: 943ms\tremaining: 11m 48s\n",
      "100:\tlearn: 0.8581635\ttest: 0.8577208\tbest: 0.8577396 (99)\ttotal: 1m 27s\tremaining: 9m 27s\n",
      "200:\tlearn: 0.8612724\ttest: 0.8607792\tbest: 0.8608000 (199)\ttotal: 2m 54s\tremaining: 7m 58s\n",
      "300:\tlearn: 0.8626995\ttest: 0.8619646\tbest: 0.8619646 (300)\ttotal: 4m 20s\tremaining: 6m 30s\n",
      "400:\tlearn: 0.8636396\ttest: 0.8627542\tbest: 0.8627542 (400)\ttotal: 5m 44s\tremaining: 5m 1s\n",
      "500:\tlearn: 0.8642240\ttest: 0.8632958\tbest: 0.8633375 (493)\ttotal: 7m 7s\tremaining: 3m 34s\n",
      "600:\tlearn: 0.8647844\ttest: 0.8638333\tbest: 0.8638604 (595)\ttotal: 8m 29s\tremaining: 2m 7s\n",
      "700:\tlearn: 0.8651833\ttest: 0.8642188\tbest: 0.8642417 (698)\ttotal: 9m 52s\tremaining: 43.1s\n",
      "751:\tlearn: 0.8654063\ttest: 0.8643917\tbest: 0.8644042 (750)\ttotal: 10m 34s\tremaining: 0us\n",
      "\n",
      "bestTest = 0.8644041667\n",
      "bestIteration = 750\n",
      "\n",
      "Shrink model to first 751 iterations.\n"
     ]
    },
    {
     "name": "stderr",
     "output_type": "stream",
     "text": [
      "[I 2025-07-14 09:57:35,218] Trial 0 finished with value: 0.8644041666666666 and parameters: {'iterations': 752, 'learning_rate': 0.056786138248062154, 'depth': 4, 'l2_leaf_reg': 5.922062488968508, 'border_count': 51, 'random_strength': 0.9215326271654452, 'bagging_temperature': 0.6873423807269551}. Best is trial 0 with value: 0.8644041666666666.\n"
     ]
    },
    {
     "name": "stdout",
     "output_type": "stream",
     "text": [
      "0:\tlearn: 0.8408026\ttest: 0.8402500\tbest: 0.8402500 (0)\ttotal: 1.08s\tremaining: 13m 48s\n",
      "100:\tlearn: 0.8592667\ttest: 0.8587771\tbest: 0.8587771 (100)\ttotal: 1m 51s\tremaining: 12m 18s\n",
      "200:\tlearn: 0.8621573\ttest: 0.8615063\tbest: 0.8615063 (200)\ttotal: 3m 37s\tremaining: 10m 17s\n",
      "300:\tlearn: 0.8636891\ttest: 0.8630000\tbest: 0.8630000 (300)\ttotal: 5m 22s\tremaining: 8m 22s\n",
      "400:\tlearn: 0.8647146\ttest: 0.8637917\tbest: 0.8638042 (392)\ttotal: 7m 5s\tremaining: 6m 32s\n",
      "500:\tlearn: 0.8654469\ttest: 0.8644792\tbest: 0.8644792 (500)\ttotal: 8m 46s\tremaining: 4m 43s\n",
      "600:\tlearn: 0.8662177\ttest: 0.8650625\tbest: 0.8650625 (600)\ttotal: 10m 29s\tremaining: 2m 58s\n",
      "700:\tlearn: 0.8668495\ttest: 0.8655875\tbest: 0.8656083 (699)\ttotal: 12m 12s\tremaining: 1m 13s\n",
      "770:\tlearn: 0.8672734\ttest: 0.8659854\tbest: 0.8659854 (770)\ttotal: 13m 25s\tremaining: 0us\n",
      "\n",
      "bestTest = 0.8659854167\n",
      "bestIteration = 770\n",
      "\n"
     ]
    },
    {
     "name": "stderr",
     "output_type": "stream",
     "text": [
      "[I 2025-07-14 10:11:16,301] Trial 1 finished with value: 0.8659854166666666 and parameters: {'iterations': 771, 'learning_rate': 0.038095700753423875, 'depth': 6, 'l2_leaf_reg': 4.524545678387907, 'border_count': 57, 'random_strength': 0.20511204277041797, 'bagging_temperature': 0.2662357902949276}. Best is trial 1 with value: 0.8659854166666666.\n"
     ]
    },
    {
     "name": "stdout",
     "output_type": "stream",
     "text": [
      "0:\tlearn: 0.8421380\ttest: 0.8421458\tbest: 0.8421458 (0)\ttotal: 2.57s\tremaining: 14m 55s\n",
      "100:\tlearn: 0.8585755\ttest: 0.8579187\tbest: 0.8579187 (100)\ttotal: 4m 15s\tremaining: 10m 27s\n",
      "200:\tlearn: 0.8615063\ttest: 0.8608083\tbest: 0.8608083 (200)\ttotal: 8m 26s\tremaining: 6m 12s\n",
      "300:\tlearn: 0.8632318\ttest: 0.8623771\tbest: 0.8623771 (300)\ttotal: 13m 11s\tremaining: 2m 6s\n",
      "348:\tlearn: 0.8638562\ttest: 0.8628833\tbest: 0.8628833 (348)\ttotal: 15m 26s\tremaining: 0us\n",
      "\n",
      "bestTest = 0.8628833333\n",
      "bestIteration = 348\n",
      "\n"
     ]
    },
    {
     "name": "stderr",
     "output_type": "stream",
     "text": [
      "[I 2025-07-14 10:26:56,952] Trial 2 finished with value: 0.8628833333333333 and parameters: {'iterations': 349, 'learning_rate': 0.0257227144878083, 'depth': 7, 'l2_leaf_reg': 1.7523413142844229, 'border_count': 91, 'random_strength': 0.988590812305191, 'bagging_temperature': 0.14566319491569157}. Best is trial 1 with value: 0.8659854166666666.\n"
     ]
    }
   ],
   "source": [
    "# Optuna 튜닝 시작\n",
    "study = optuna.create_study(direction=\"maximize\")\n",
    "# XGB 때 n_trials=30 으로 했었는데 너무 오래걸려서 일단 10으로 설정\n",
    "# n_trials는 optuna가 시도할 하이퍼파라미터 조합의 개수 (몇번 학습할건지)\n",
    "study.optimize(objective, n_trials=3)"
   ]
  },
  {
   "cell_type": "code",
   "execution_count": 20,
   "id": "dbd7b499-cb49-47ae-bf26-cdb4dd3bd7a8",
   "metadata": {},
   "outputs": [
    {
     "name": "stdout",
     "output_type": "stream",
     "text": [
      "Best F1 score: 0.8659854166666666\n",
      "Best parameters: {'iterations': 771, 'learning_rate': 0.038095700753423875, 'depth': 6, 'l2_leaf_reg': 4.524545678387907, 'border_count': 57, 'random_strength': 0.20511204277041797, 'bagging_temperature': 0.2662357902949276}\n"
     ]
    }
   ],
   "source": [
    "# 결과 출력\n",
    "print(\"Best F1 score:\", study.best_value)\n",
    "print(\"Best parameters:\", study.best_params)"
   ]
  },
  {
   "cell_type": "code",
   "execution_count": 22,
   "id": "c03f76ad-32cb-43e9-a956-903e0eeb6d26",
   "metadata": {},
   "outputs": [],
   "source": [
    "# 최적 파라미터로 모델 학습\n",
    "# Optuna가 튜닝한 것이 아닌 것들은 다시 넣어줘야함.\n",
    "# Optuna에 넣은 이유는 기본적으로 들어있어야 하기 때문에\n",
    "best_params = study.best_params\n",
    "best_params.update({\n",
    "    \"iterations\": 500,\n",
    "    \"loss_function\": \"MultiClass\",\n",
    "    \"eval_metric\": \"TotalF1:average=Micro\",\n",
    "    \"random_state\": 42,\n",
    "    \"verbose\": 100\n",
    "})"
   ]
  },
  {
   "cell_type": "code",
   "execution_count": 24,
   "id": "17bebde7-e8ec-412e-b476-4bde84813133",
   "metadata": {},
   "outputs": [
    {
     "name": "stdout",
     "output_type": "stream",
     "text": [
      "0:\tlearn: 0.8408026\ttest: 0.8402500\tbest: 0.8402500 (0)\ttotal: 1.42s\tremaining: 11m 48s\n",
      "100:\tlearn: 0.8592667\ttest: 0.8587771\tbest: 0.8587771 (100)\ttotal: 2m 16s\tremaining: 9m\n",
      "200:\tlearn: 0.8621573\ttest: 0.8615063\tbest: 0.8615063 (200)\ttotal: 4m 3s\tremaining: 6m 2s\n",
      "300:\tlearn: 0.8636891\ttest: 0.8630000\tbest: 0.8630000 (300)\ttotal: 5m 48s\tremaining: 3m 50s\n",
      "400:\tlearn: 0.8647146\ttest: 0.8637917\tbest: 0.8638042 (392)\ttotal: 7m 31s\tremaining: 1m 51s\n",
      "499:\tlearn: 0.8654417\ttest: 0.8644729\tbest: 0.8644729 (491)\ttotal: 9m 12s\tremaining: 0us\n",
      "\n",
      "bestTest = 0.8644729167\n",
      "bestIteration = 491\n",
      "\n",
      "Shrink model to first 492 iterations.\n"
     ]
    },
    {
     "data": {
      "text/plain": [
       "<catboost.core.CatBoostClassifier at 0x1324113b740>"
      ]
     },
     "execution_count": 24,
     "metadata": {},
     "output_type": "execute_result"
    }
   ],
   "source": [
    "# 실제 모델\n",
    "model = CatBoostClassifier(**best_params)\n",
    "model.fit(X_train, y_train,\n",
    "          eval_set=(X_val, y_val),\n",
    "          early_stopping_rounds=30)"
   ]
  },
  {
   "cell_type": "code",
   "execution_count": 26,
   "id": "df18e941-446e-4059-a46c-c3d7313c8711",
   "metadata": {},
   "outputs": [
    {
     "name": "stdout",
     "output_type": "stream",
     "text": [
      "\n",
      "실제 클래스별 총 개수 (support):\n",
      "A: 194개\n",
      "B: 29개\n",
      "C: 25,518개\n",
      "D: 69,848개\n",
      "E: 384,411개\n"
     ]
    }
   ],
   "source": [
    "# 실제 클래스별 개수\n",
    "\n",
    "# 클래스 라벨 (예: LabelEncoder 사용한 경우)\n",
    "labels = ['A', 'B', 'C', 'D', 'E']\n",
    "\n",
    "true_counts = pd.Series(y_val).value_counts().reindex(labels, fill_value=0)\n",
    "print(\"\\n실제 클래스별 총 개수 (support):\")\n",
    "for label in labels:\n",
    "    print(f\"{label}: {true_counts[label]:,}개\")"
   ]
  },
  {
   "cell_type": "code",
   "execution_count": 44,
   "id": "19157480-eed3-4e0e-8c48-c78c75055781",
   "metadata": {},
   "outputs": [
    {
     "name": "stdout",
     "output_type": "stream",
     "text": [
      "튜닝 후 Micro F1: 0.8644729166666667\n",
      "📊 Confusion Matrix\n"
     ]
    },
    {
     "data": {
      "text/html": [
       "<div>\n",
       "<style scoped>\n",
       "    .dataframe tbody tr th:only-of-type {\n",
       "        vertical-align: middle;\n",
       "    }\n",
       "\n",
       "    .dataframe tbody tr th {\n",
       "        vertical-align: top;\n",
       "    }\n",
       "\n",
       "    .dataframe thead th {\n",
       "        text-align: right;\n",
       "    }\n",
       "</style>\n",
       "<table border=\"1\" class=\"dataframe\">\n",
       "  <thead>\n",
       "    <tr style=\"text-align: right;\">\n",
       "      <th></th>\n",
       "      <th>예측_A</th>\n",
       "      <th>예측_B</th>\n",
       "      <th>예측_C</th>\n",
       "      <th>예측_D</th>\n",
       "      <th>예측_E</th>\n",
       "    </tr>\n",
       "  </thead>\n",
       "  <tbody>\n",
       "    <tr>\n",
       "      <th>실제_A</th>\n",
       "      <td>194</td>\n",
       "      <td>0</td>\n",
       "      <td>0</td>\n",
       "      <td>0</td>\n",
       "      <td>0</td>\n",
       "    </tr>\n",
       "    <tr>\n",
       "      <th>실제_B</th>\n",
       "      <td>0</td>\n",
       "      <td>29</td>\n",
       "      <td>0</td>\n",
       "      <td>0</td>\n",
       "      <td>0</td>\n",
       "    </tr>\n",
       "    <tr>\n",
       "      <th>실제_C</th>\n",
       "      <td>0</td>\n",
       "      <td>0</td>\n",
       "      <td>25518</td>\n",
       "      <td>0</td>\n",
       "      <td>0</td>\n",
       "    </tr>\n",
       "    <tr>\n",
       "      <th>실제_D</th>\n",
       "      <td>0</td>\n",
       "      <td>0</td>\n",
       "      <td>0</td>\n",
       "      <td>69848</td>\n",
       "      <td>0</td>\n",
       "    </tr>\n",
       "    <tr>\n",
       "      <th>실제_E</th>\n",
       "      <td>0</td>\n",
       "      <td>0</td>\n",
       "      <td>0</td>\n",
       "      <td>0</td>\n",
       "      <td>384411</td>\n",
       "    </tr>\n",
       "  </tbody>\n",
       "</table>\n",
       "</div>"
      ],
      "text/plain": [
       "      예측_A  예측_B   예측_C   예측_D    예측_E\n",
       "실제_A   194     0      0      0       0\n",
       "실제_B     0    29      0      0       0\n",
       "실제_C     0     0  25518      0       0\n",
       "실제_D     0     0      0  69848       0\n",
       "실제_E     0     0      0      0  384411"
      ]
     },
     "metadata": {},
     "output_type": "display_data"
    }
   ],
   "source": [
    "# 예측 및 성능 출력\n",
    "preds = model.predict(X_val)\n",
    "print(\"튜닝 후 Micro F1:\", f1_score(y_val, preds, average='micro'))\n",
    "\n",
    "# 혼동행렬\n",
    "# 혼동행렬을 DataFrame으로 보기 좋게 출력\n",
    "cm = confusion_matrix(y_val, y_val, labels=labels)\n",
    "cm_df = pd.DataFrame(cm, index=[f\"실제_{l}\" for l in labels], columns=[f\"예측_{l}\" for l in labels])\n",
    "\n",
    "print(\"📊 Confusion Matrix\")\n",
    "display(cm_df)"
   ]
  },
  {
   "cell_type": "code",
   "execution_count": 38,
   "id": "8caf8e1e-35b8-4eff-be45-50264f8e3e0e",
   "metadata": {},
   "outputs": [
    {
     "name": "stdout",
     "output_type": "stream",
     "text": [
      "              precision    recall  f1-score   support\n",
      "\n",
      "           A       1.00      1.00      1.00       194\n",
      "           B       1.00      1.00      1.00        29\n",
      "           C       1.00      1.00      1.00     25518\n",
      "           D       1.00      1.00      1.00     69848\n",
      "           E       1.00      1.00      1.00    384411\n",
      "\n",
      "    accuracy                           1.00    480000\n",
      "   macro avg       1.00      1.00      1.00    480000\n",
      "weighted avg       1.00      1.00      1.00    480000\n",
      "\n"
     ]
    }
   ],
   "source": [
    "print(classification_report(y_val, y_val, target_names=['A', 'B', 'C', 'D', 'E']))"
   ]
  },
  {
   "cell_type": "code",
   "execution_count": null,
   "id": "2d42c29c-aa32-4c25-bb05-63906d533cdc",
   "metadata": {},
   "outputs": [],
   "source": []
  }
 ],
 "metadata": {
  "kernelspec": {
   "display_name": "Python [conda env:base] *",
   "language": "python",
   "name": "conda-base-py"
  },
  "language_info": {
   "codemirror_mode": {
    "name": "ipython",
    "version": 3
   },
   "file_extension": ".py",
   "mimetype": "text/x-python",
   "name": "python",
   "nbconvert_exporter": "python",
   "pygments_lexer": "ipython3",
   "version": "3.12.7"
  }
 },
 "nbformat": 4,
 "nbformat_minor": 5
}

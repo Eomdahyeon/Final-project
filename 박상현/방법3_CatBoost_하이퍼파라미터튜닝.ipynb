{
 "cells": [
  {
   "cell_type": "code",
   "execution_count": 1,
   "id": "a934e0c6-dfbd-4276-985f-448482400a85",
   "metadata": {},
   "outputs": [],
   "source": [
    "from catboost import CatBoostClassifier\n",
    "from sklearn.metrics import f1_score\n",
    "from sklearn.model_selection import train_test_split\n",
    "import pandas as pd\n",
    "import numpy as np\n",
    "import optuna"
   ]
  },
  {
   "cell_type": "code",
   "execution_count": 2,
   "id": "bbf853f3-e2cf-4bb7-a5ca-493a90642c8c",
   "metadata": {},
   "outputs": [],
   "source": [
    "# local\n",
    "root_path = '../data/open/머신러닝'\n",
    "\n",
    "# colab\n",
    "# root_path = '/content/drive/MyDrive/12조 파이널프로젝트/data'"
   ]
  },
  {
   "cell_type": "code",
   "execution_count": 3,
   "id": "aeef4a12-41f9-4fdc-944b-21a259a91c23",
   "metadata": {},
   "outputs": [],
   "source": [
    "# 데이터 불러오기\n",
    "file_name = '201812_add_segment3' # 이 부분만 수정하여 모델1,2,3 똑같이 검정\n",
    "train_df = pd.read_parquet(f'{root_path}/{file_name}.parquet')"
   ]
  },
  {
   "cell_type": "code",
   "execution_count": 4,
   "id": "d98f15a5-cc24-491c-b120-559be532e8e0",
   "metadata": {},
   "outputs": [],
   "source": [
    "# 학습용 피처/타겟 정의\n",
    "X = train_df.drop(columns=['ID', '기준년월', 'Segment', 'Segment1'])\n",
    "y = train_df['Segment1']"
   ]
  },
  {
   "cell_type": "code",
   "execution_count": 5,
   "id": "565d1a39-ce58-4bdc-9756-9acb689ac91e",
   "metadata": {},
   "outputs": [],
   "source": [
    "# 학습/검증 분리\n",
    "X_train, X_val, y_train, y_val = train_test_split(X, y, test_size=0.2, random_state=42, stratify=y)"
   ]
  },
  {
   "cell_type": "markdown",
   "id": "2ee51b0a-9a0a-43d9-ac0e-631af1898520",
   "metadata": {},
   "source": [
    "### 하이퍼파라미터 튜닝 (Optuna)"
   ]
  },
  {
   "cell_type": "code",
   "execution_count": 57,
   "id": "76ba5591-4539-4767-b6a9-3d3bcf8a91ff",
   "metadata": {},
   "outputs": [],
   "source": [
    "def objective(trial):\n",
    "    params = {\n",
    "        # boosting 반복 횟수\n",
    "        \"iterations\": trial.suggest_int(\"iterations\", 300, 2000),\n",
    "        # 한번에 얼마나 빠르게 학습하지지\n",
    "        \"learning_rate\": trial.suggest_float(\"learning_rate\", 0.01, 0.1),\n",
    "        # 트리의 깊이, 깊을수록 복잡한 모델이지만 과적합 가능성 O\n",
    "        \"depth\": trial.suggest_int(\"depth\", 4, 10), # --> 튜닝\n",
    "        # L2 정규화 , 높을수록 규제 강화 - 과적합 억제\n",
    "        \"l2_leaf_reg\": trial.suggest_float(\"l2_leaf_reg\", 1, 10),\n",
    "        # 수치형 피쳐를 이산화 할 때 사용하는 경계 개수 -> 수치형 많으면 영향력 있음\n",
    "        \"border_count\": trial.suggest_int(\"border_count\", 32, 255),\n",
    "        # 트리 분기시 f.i 계산에 노이즈를 얼마나 줄 것인가\n",
    "        \"random_strength\": trial.suggest_float(\"random_strength\", 0.1, 1),\n",
    "        # 샘플링의 다양성 조절 -> 과소적합일 땐 높이고, 과적합일 땐 낮\n",
    "        \"bagging_temperature\": trial.suggest_float(\"bagging_temperature\", 0, 1),\n",
    "        # 손실 함수 : 다중분류\n",
    "        \"loss_function\": \"Logloss\",\n",
    "        # 평가 지표\n",
    "        \"eval_metric\": \"F1\",\n",
    "        # 학습 로그를 몇 step마다 보여줄지\n",
    "        \"verbose\": 100,\n",
    "        # 트리 분기 시 feature 중요도 계산에 주는 노이즈 크기\n",
    "        \"random_state\": 42\n",
    "    }\n",
    "    # early_stopping_rounds - 지정된 라운드 동안 성능 개선이 되지 않으면 학습 중지\n",
    "    model = CatBoostClassifier(**params)\n",
    "    model.fit(X_train, y_train, eval_set=(X_val, y_val), early_stopping_rounds=50, verbose=100)\n",
    "\n",
    "    preds = model.predict(X_val)\n",
    "    f1 = f1_score(y_val, preds, average='micro')\n",
    "    return f1"
   ]
  },
  {
   "cell_type": "code",
   "execution_count": 51,
   "id": "897f598a-9810-4cdf-9cce-0a5f8a5adf8e",
   "metadata": {},
   "outputs": [
    {
     "name": "stderr",
     "output_type": "stream",
     "text": [
      "[I 2025-07-10 13:51:26,214] A new study created in memory with name: no-name-c56de6fd-ed12-4200-a399-a8ad94ed4194\n",
      "[I 2025-07-10 13:51:26,421] Trial 0 finished with value: 0.8947368421052632 and parameters: {'learning_rate': 0.01612643468710046, 'depth': 3, 'l2_leaf_reg': 3.3428732594393424}. Best is trial 0 with value: 0.8947368421052632.\n"
     ]
    },
    {
     "name": "stdout",
     "output_type": "stream",
     "text": [
      "0:\tlearn: 0.8716216\ttest: 0.8684211\tbest: 0.8684211 (0)\ttotal: 896us\tremaining: 268ms\n",
      "Stopped by overfitting detector  (30 iterations wait)\n",
      "\n",
      "bestTest = 0.8947368421\n",
      "bestIteration = 1\n",
      "\n",
      "Shrink model to first 2 iterations.\n"
     ]
    },
    {
     "name": "stderr",
     "output_type": "stream",
     "text": [
      "[I 2025-07-10 13:51:26,723] Trial 1 finished with value: 0.8947368421052632 and parameters: {'learning_rate': 0.029433345943574094, 'depth': 5, 'l2_leaf_reg': 4.646977783805227}. Best is trial 0 with value: 0.8947368421052632.\n"
     ]
    },
    {
     "name": "stdout",
     "output_type": "stream",
     "text": [
      "0:\tlearn: 0.9121622\ttest: 0.8947368\tbest: 0.8947368 (0)\ttotal: 7.01ms\tremaining: 2.1s\n",
      "Stopped by overfitting detector  (30 iterations wait)\n",
      "\n",
      "bestTest = 0.8947368421\n",
      "bestIteration = 0\n",
      "\n",
      "Shrink model to first 1 iterations.\n"
     ]
    },
    {
     "name": "stderr",
     "output_type": "stream",
     "text": [
      "[I 2025-07-10 13:51:27,004] Trial 2 finished with value: 0.8947368421052632 and parameters: {'learning_rate': 0.027997124683200057, 'depth': 4, 'l2_leaf_reg': 2.684219327899981}. Best is trial 0 with value: 0.8947368421052632.\n"
     ]
    },
    {
     "name": "stdout",
     "output_type": "stream",
     "text": [
      "0:\tlearn: 0.9121622\ttest: 0.8947368\tbest: 0.8947368 (0)\ttotal: 6.11ms\tremaining: 1.83s\n",
      "Stopped by overfitting detector  (30 iterations wait)\n",
      "\n",
      "bestTest = 0.8947368421\n",
      "bestIteration = 0\n",
      "\n",
      "Shrink model to first 1 iterations.\n"
     ]
    },
    {
     "name": "stderr",
     "output_type": "stream",
     "text": [
      "[I 2025-07-10 13:51:27,279] Trial 3 finished with value: 0.9210526315789473 and parameters: {'learning_rate': 0.04265249441121411, 'depth': 5, 'l2_leaf_reg': 1.7716789152225405}. Best is trial 3 with value: 0.9210526315789473.\n"
     ]
    },
    {
     "name": "stdout",
     "output_type": "stream",
     "text": [
      "0:\tlearn: 0.9121622\ttest: 0.8947368\tbest: 0.8947368 (0)\ttotal: 5.7ms\tremaining: 1.7s\n",
      "Stopped by overfitting detector  (30 iterations wait)\n",
      "\n",
      "bestTest = 0.9210526316\n",
      "bestIteration = 1\n",
      "\n",
      "Shrink model to first 2 iterations.\n"
     ]
    },
    {
     "name": "stderr",
     "output_type": "stream",
     "text": [
      "[I 2025-07-10 13:51:27,503] Trial 4 finished with value: 0.9210526315789473 and parameters: {'learning_rate': 0.025812051030850193, 'depth': 5, 'l2_leaf_reg': 1.586604214288525}. Best is trial 3 with value: 0.9210526315789473.\n"
     ]
    },
    {
     "name": "stdout",
     "output_type": "stream",
     "text": [
      "0:\tlearn: 0.9121622\ttest: 0.8947368\tbest: 0.8947368 (0)\ttotal: 5.64ms\tremaining: 1.69s\n",
      "Stopped by overfitting detector  (30 iterations wait)\n",
      "\n",
      "bestTest = 0.9210526316\n",
      "bestIteration = 1\n",
      "\n",
      "Shrink model to first 2 iterations.\n"
     ]
    },
    {
     "name": "stderr",
     "output_type": "stream",
     "text": [
      "[I 2025-07-10 13:51:27,806] Trial 5 finished with value: 0.8947368421052632 and parameters: {'learning_rate': 0.012056091847977282, 'depth': 5, 'l2_leaf_reg': 3.9892915003159133}. Best is trial 3 with value: 0.9210526315789473.\n"
     ]
    },
    {
     "name": "stdout",
     "output_type": "stream",
     "text": [
      "0:\tlearn: 0.9121622\ttest: 0.8947368\tbest: 0.8947368 (0)\ttotal: 11.7ms\tremaining: 3.5s\n",
      "Stopped by overfitting detector  (30 iterations wait)\n",
      "\n",
      "bestTest = 0.8947368421\n",
      "bestIteration = 0\n",
      "\n",
      "Shrink model to first 1 iterations.\n"
     ]
    },
    {
     "name": "stderr",
     "output_type": "stream",
     "text": [
      "[I 2025-07-10 13:51:28,015] Trial 6 finished with value: 0.8947368421052632 and parameters: {'learning_rate': 0.044266562607082435, 'depth': 3, 'l2_leaf_reg': 3.930814533318762}. Best is trial 3 with value: 0.9210526315789473.\n"
     ]
    },
    {
     "name": "stdout",
     "output_type": "stream",
     "text": [
      "0:\tlearn: 0.8716216\ttest: 0.8684211\tbest: 0.8684211 (0)\ttotal: 2.09ms\tremaining: 626ms\n",
      "Stopped by overfitting detector  (30 iterations wait)\n",
      "\n",
      "bestTest = 0.8947368421\n",
      "bestIteration = 1\n",
      "\n",
      "Shrink model to first 2 iterations.\n",
      "0:\tlearn: 0.8716216\ttest: 0.8684211\tbest: 0.8684211 (0)\ttotal: 5.26ms\tremaining: 1.57s\n"
     ]
    },
    {
     "name": "stderr",
     "output_type": "stream",
     "text": [
      "[I 2025-07-10 13:51:28,201] Trial 7 finished with value: 0.8947368421052632 and parameters: {'learning_rate': 0.04295587651659916, 'depth': 3, 'l2_leaf_reg': 2.0781451764043446}. Best is trial 3 with value: 0.9210526315789473.\n"
     ]
    },
    {
     "name": "stdout",
     "output_type": "stream",
     "text": [
      "Stopped by overfitting detector  (30 iterations wait)\n",
      "\n",
      "bestTest = 0.8947368421\n",
      "bestIteration = 1\n",
      "\n",
      "Shrink model to first 2 iterations.\n",
      "0:\tlearn: 0.9121622\ttest: 0.8947368\tbest: 0.8947368 (0)\ttotal: 4.93ms\tremaining: 1.47s\n",
      "Stopped by overfitting detector  (30 iterations wait)\n",
      "\n",
      "bestTest = 0.8947368421\n",
      "bestIteration = 0\n",
      "\n",
      "Shrink model to first 1 iterations.\n"
     ]
    },
    {
     "name": "stderr",
     "output_type": "stream",
     "text": [
      "[I 2025-07-10 13:51:28,412] Trial 8 finished with value: 0.8947368421052632 and parameters: {'learning_rate': 0.037948850460134076, 'depth': 4, 'l2_leaf_reg': 1.2198805462854696}. Best is trial 3 with value: 0.9210526315789473.\n",
      "[I 2025-07-10 13:51:28,683] Trial 9 finished with value: 0.8947368421052632 and parameters: {'learning_rate': 0.045557370116368234, 'depth': 5, 'l2_leaf_reg': 4.12057015072966}. Best is trial 3 with value: 0.9210526315789473.\n"
     ]
    },
    {
     "name": "stdout",
     "output_type": "stream",
     "text": [
      "0:\tlearn: 0.9121622\ttest: 0.8947368\tbest: 0.8947368 (0)\ttotal: 7.72ms\tremaining: 2.31s\n",
      "Stopped by overfitting detector  (30 iterations wait)\n",
      "\n",
      "bestTest = 0.8947368421\n",
      "bestIteration = 0\n",
      "\n",
      "Shrink model to first 1 iterations.\n"
     ]
    }
   ],
   "source": [
    "# Optuna 튜닝 시작\n",
    "study = optuna.create_study(direction=\"maximize\")\n",
    "# XGB 때 n_trials=30 으로 했었는데 너무 오래걸려서 일단 10으로 설정\n",
    "# n_trials는 optuna가 시도할 하이퍼파라미터 조합의 개수 (몇번 학습할건지)\n",
    "study.optimize(objective, n_trials=30)"
   ]
  },
  {
   "cell_type": "code",
   "execution_count": 55,
   "id": "dbd7b499-cb49-47ae-bf26-cdb4dd3bd7a8",
   "metadata": {},
   "outputs": [
    {
     "name": "stdout",
     "output_type": "stream",
     "text": [
      "Best F1 score: 0.9210526315789473\n",
      "Best parameters: {'learning_rate': 0.04265249441121411, 'depth': 5, 'l2_leaf_reg': 1.7716789152225405}\n"
     ]
    }
   ],
   "source": [
    "# 결과 출력\n",
    "print(\"Best F1 score:\", study.best_value)\n",
    "print(\"Best parameters:\", study.best_params)"
   ]
  },
  {
   "cell_type": "code",
   "execution_count": 43,
   "id": "c03f76ad-32cb-43e9-a956-903e0eeb6d26",
   "metadata": {},
   "outputs": [],
   "source": [
    "# 최적 파라미터로 모델 학습\n",
    "# Optuna가 튜닝한 것이 아닌 것들은 다시 넣어줘야함.\n",
    "# Optuna에 넣은 이유는 기본적으로 들어있어야 하기 때문에\n",
    "best_params = study.best_params\n",
    "best_params.update({\n",
    "    \"iterations\": 500,\n",
    "    \"loss_function\": \"MultiClass\",\n",
    "    \"eval_metric\": \"TotalF1:average=Micro\",\n",
    "    \"random_state\": 42,\n",
    "    \"verbose\": 100\n",
    "})"
   ]
  },
  {
   "cell_type": "code",
   "execution_count": 45,
   "id": "17bebde7-e8ec-412e-b476-4bde84813133",
   "metadata": {},
   "outputs": [
    {
     "name": "stdout",
     "output_type": "stream",
     "text": [
      "0:\tlearn: 0.9121622\ttest: 0.8947368\tbest: 0.8947368 (0)\ttotal: 3ms\tremaining: 1.49s\n",
      "Stopped by overfitting detector  (30 iterations wait)\n",
      "\n",
      "bestTest = 0.9210526316\n",
      "bestIteration = 1\n",
      "\n",
      "Shrink model to first 2 iterations.\n"
     ]
    },
    {
     "data": {
      "text/plain": [
       "<catboost.core.CatBoostClassifier at 0x2195faae750>"
      ]
     },
     "execution_count": 45,
     "metadata": {},
     "output_type": "execute_result"
    }
   ],
   "source": [
    "# 실제 모델\n",
    "model = CatBoostClassifier(**best_params)\n",
    "model.fit(X_train, y_train,\n",
    "          eval_set=(X_val, y_val),\n",
    "          early_stopping_rounds=30)"
   ]
  },
  {
   "cell_type": "code",
   "execution_count": 47,
   "id": "c02ac1eb-1f47-4a1b-ae1d-6f4a13a4f0a3",
   "metadata": {},
   "outputs": [
    {
     "name": "stdout",
     "output_type": "stream",
     "text": [
      "튜닝 후 Micro F1: 0.9210526315789473\n"
     ]
    }
   ],
   "source": [
    "# 예측 및 성능 출력\n",
    "preds = model.predict(X_val)\n",
    "print(\"튜닝 후 Micro F1:\", f1_score(y_val, preds, average='micro'))"
   ]
  },
  {
   "cell_type": "code",
   "execution_count": null,
   "id": "df18e941-446e-4059-a46c-c3d7313c8711",
   "metadata": {},
   "outputs": [],
   "source": [
    "# 예측\n",
    "test_df['Segment_pred'] = model1.predict(X_test)"
   ]
  },
  {
   "cell_type": "code",
   "execution_count": null,
   "id": "19157480-eed3-4e0e-8c48-c78c75055781",
   "metadata": {},
   "outputs": [],
   "source": [
    "test_df['Segment_pred'].value_counts()"
   ]
  }
 ],
 "metadata": {
  "kernelspec": {
   "display_name": "Python [conda env:base] *",
   "language": "python",
   "name": "conda-base-py"
  },
  "language_info": {
   "codemirror_mode": {
    "name": "ipython",
    "version": 3
   },
   "file_extension": ".py",
   "mimetype": "text/x-python",
   "name": "python",
   "nbconvert_exporter": "python",
   "pygments_lexer": "ipython3",
   "version": "3.12.7"
  }
 },
 "nbformat": 4,
 "nbformat_minor": 5
}

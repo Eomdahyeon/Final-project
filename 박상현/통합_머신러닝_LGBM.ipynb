{
 "cells": [
  {
   "cell_type": "code",
   "execution_count": null,
   "id": "6e8ff793-ceb9-4cbf-9570-bea58d424c2d",
   "metadata": {},
   "outputs": [],
   "source": [
    "# 기본\n",
    "import pandas as pd\n",
    "import numpy as np\n",
    "import matplotlib.pyplot as plt\n",
    "import seaborn as sns\n",
    "import time\n",
    "\n",
    "# 경고 뜨지 않게 설정\n",
    "import warnings\n",
    "warnings.filterwarnings('ignore')\n",
    "\n",
    "# 그래프 설정\n",
    "sns.set()\n",
    "\n",
    "# 그래프 기본 설정\n",
    "plt.rcParams['font.family'] = 'Malgun Gothic'\n",
    "# plt.rcParams['font.family'] = 'AppleGothic'\n",
    "plt.rcParams['figure.figsize'] = 12, 6\n",
    "plt.rcParams['font.size'] = 14\n",
    "plt.rcParams['axes.unicode_minus'] = False\n",
    "\n",
    "# 데이터 전처리 알고리즘\n",
    "from sklearn.preprocessing import LabelEncoder\n",
    "from sklearn.preprocessing import StandardScaler\n",
    "\n",
    "# 학습용과 검증용으로 나누는 함수\n",
    "from sklearn.model_selection import train_test_split\n",
    "\n",
    "# 교차 검증\n",
    "from sklearn.model_selection import cross_val_score\n",
    "from sklearn.model_selection import cross_validate\n",
    "from sklearn.model_selection import KFold\n",
    "from sklearn.model_selection import StratifiedKFold\n",
    "\n",
    "# 평가함수\n",
    "# 분류용\n",
    "from sklearn.metrics import accuracy_score\n",
    "from sklearn.metrics import precision_score\n",
    "from sklearn.metrics import recall_score\n",
    "from sklearn.metrics import f1_score\n",
    "from sklearn.metrics import roc_auc_score\n",
    "\n",
    "# 회귀용\n",
    "from sklearn.metrics import r2_score\n",
    "from sklearn.metrics import mean_squared_error\n",
    "\n",
    "# 모델의 최적의 하이퍼 파라미터를 찾기 위한 도구\n",
    "from sklearn.model_selection import GridSearchCV\n",
    "\n",
    "# 머신러닝 알고리즘 - 분류\n",
    "from sklearn.neighbors import KNeighborsClassifier\n",
    "from sklearn.linear_model import LogisticRegression\n",
    "from sklearn.svm import SVC\n",
    "from sklearn.tree import DecisionTreeClassifier\n",
    "from sklearn.ensemble import RandomForestClassifier\n",
    "from sklearn.ensemble import AdaBoostClassifier\n",
    "from sklearn.ensemble import GradientBoostingClassifier\n",
    "from lightgbm import LGBMClassifier\n",
    "from xgboost import XGBClassifier\n",
    "from sklearn.ensemble import VotingClassifier\n",
    "\n",
    "# 머신러닝 알고리즘 - 회귀\n",
    "from sklearn.neighbors import KNeighborsRegressor\n",
    "from sklearn.linear_model import LinearRegression\n",
    "from sklearn.linear_model import Ridge\n",
    "from sklearn.linear_model import Lasso\n",
    "from sklearn.linear_model import ElasticNet\n",
    "from sklearn.svm import SVR\n",
    "from sklearn.tree import DecisionTreeRegressor\n",
    "from sklearn.ensemble import RandomForestRegressor\n",
    "from sklearn.ensemble import AdaBoostRegressor\n",
    "from sklearn.ensemble import GradientBoostingRegressor\n",
    "from lightgbm import LGBMRegressor\n",
    "from xgboost import XGBRegressor\n",
    "from sklearn.ensemble import VotingRegressor\n",
    "\n",
    "# 학습 모델 저장을 위한 라이브러리\n",
    "import pickle\n",
    "\n",
    "from sklearn.metrics import confusion_matrix, classification_report"
   ]
  },
  {
   "cell_type": "code",
   "execution_count": null,
   "id": "05007989-1de3-40b2-8ffc-3263807c76d5",
   "metadata": {},
   "outputs": [],
   "source": [
    "#data_type = \"train\"\n",
    "# month = \"07\"\n",
    "# category = \"잔액정보\"\n",
    "\n",
    "# local\n",
    "root_path = '../data/open/머신러닝'\n",
    "\n",
    "# colab\n",
    "# root_path = '/content/drive/MyDrive/12조 파이널프로젝트/data'\n",
    "\n",
    "drive_folder = f'{root_path}'"
   ]
  },
  {
   "cell_type": "code",
   "execution_count": null,
   "id": "46f22947-fea8-472b-a851-7bb0e3903a16",
   "metadata": {},
   "outputs": [],
   "source": [
    "# 통합 parquet\n",
    "df1 = pd.read_parquet(f'{drive_folder}/xgb_top8_All.parquet')"
   ]
  },
  {
   "cell_type": "markdown",
   "id": "a81bbecf-ed18-47bd-911e-b529043863e9",
   "metadata": {},
   "source": [
    "## 머신러닝 (LGBM)"
   ]
  },
  {
   "cell_type": "markdown",
   "id": "95f692d8-a6db-479f-9ed9-678456313be0",
   "metadata": {},
   "source": [
    "### 학습"
   ]
  },
  {
   "cell_type": "code",
   "execution_count": null,
   "id": "2ab3e092-cd4c-45e5-a2df-87e79deff918",
   "metadata": {},
   "outputs": [],
   "source": [
    "# 1. Segment 라벨 만들기\n",
    "segment_cols = ['Segment_A', 'Segment_B', 'Segment_C', 'Segment_D', 'Segment_E']\n",
    "y = df1[segment_cols].idxmax(axis=1).map({\n",
    "    'Segment_A': 0,\n",
    "    'Segment_B': 1,\n",
    "    'Segment_C': 2,\n",
    "    'Segment_D': 3,\n",
    "    'Segment_E': 4\n",
    "})"
   ]
  },
  {
   "cell_type": "code",
   "execution_count": null,
   "id": "1dfd5cf2-3021-4bc8-986c-9e8276596248",
   "metadata": {},
   "outputs": [],
   "source": [
    "# 2. X 구성\n",
    "X = df1.drop(columns=segment_cols + ['ID', '기준년월'])"
   ]
  },
  {
   "cell_type": "code",
   "execution_count": null,
   "id": "ea2abd0b-e1f1-4caa-a6a9-140242ec2150",
   "metadata": {},
   "outputs": [],
   "source": [
    "# 3. 데이터 분리\n",
    "X_train, X_val, y_train, y_val = train_test_split(X, y, test_size=0.2, stratify=y, random_state=42)"
   ]
  },
  {
   "cell_type": "code",
   "execution_count": null,
   "id": "c6c6ad29-a738-4d60-a149-27d87dc7f631",
   "metadata": {},
   "outputs": [],
   "source": [
    "# 4. LGBM 모델 정의 및 학습\n",
    "model = LGBMClassifier(\n",
    "    objective='multiclass',\n",
    "    num_class=5,\n",
    "    metric='multi_logloss',   # 그대로 둬도 되지만,\n",
    "    n_estimators=300,\n",
    "    learning_rate=0.05,       # 기본보다 조금 더 부드러운 학습\n",
    "    max_depth=7,              # 너무 깊지 않게 (복잡도 제한)\n",
    "    subsample=0.8,            # 과적합 방지\n",
    "    colsample_bytree=0.8,     # 피처 샘플링\n",
    "    random_state=42\n",
    ")\n",
    "model.fit(X_train, y_train)"
   ]
  },
  {
   "cell_type": "code",
   "execution_count": null,
   "id": "c0a0fa62-2a2b-491f-84c5-133f5bd09666",
   "metadata": {},
   "outputs": [],
   "source": [
    "# 5. 정확도 평가\n",
    "val_preds = model.predict(X_val)\n",
    "acc = accuracy_score(y_val, val_preds)\n",
    "print(f\"✅ Validation Accuracy: {acc:.4f}\")"
   ]
  },
  {
   "cell_type": "markdown",
   "id": "8e1bc023-5d1c-43e4-b484-2f9755833a5e",
   "metadata": {},
   "source": [
    "### 예측"
   ]
  },
  {
   "cell_type": "code",
   "execution_count": null,
   "id": "c940a17d-6924-4f20-a159-ac1b555ed123",
   "metadata": {},
   "outputs": [],
   "source": [
    "df2 = pd.read_parquet(f'{drive_folder}/test_12월_통합.parquet')"
   ]
  },
  {
   "cell_type": "code",
   "execution_count": null,
   "id": "a92ee276-a275-4f31-8bb8-2d88ea1aca6c",
   "metadata": {},
   "outputs": [],
   "source": [
    "# 1. 학습에 사용된 피처 리스트 가져오기\n",
    "#    - LGBM 모델이 학습에 사용한 컬럼 이름 (순서 포함)\n",
    "train_features = model.feature_name_"
   ]
  },
  {
   "cell_type": "code",
   "execution_count": null,
   "id": "031ced90-1c90-45b6-ac0a-7845940b869b",
   "metadata": {},
   "outputs": [],
   "source": [
    "# 2. X_test 구성: 'ID', '기준년월'은 제외\n",
    "X_test = df2.drop(columns=['ID', '기준년월'], errors='ignore')"
   ]
  },
  {
   "cell_type": "code",
   "execution_count": null,
   "id": "cc4319af-edc5-4e27-bc79-5dec468f89aa",
   "metadata": {},
   "outputs": [],
   "source": [
    "# 3. 누락된 컬럼 처리 (train에는 있었지만 test에는 없는 컬럼 → 0으로 추가) \n",
    "# !!(코드 수정해야 할 가능성 있음)\n",
    "missing_cols = [col for col in train_features if col not in X_test.columns]\n",
    "for col in missing_cols:\n",
    "    X_test[col] = 0  # 또는 np.nan (LGBM은 NaN 허용 가능)"
   ]
  },
  {
   "cell_type": "code",
   "execution_count": null,
   "id": "79032154-451b-456e-b609-5ee7f683f8d1",
   "metadata": {},
   "outputs": [],
   "source": [
    "# 4. 컬럼 순서 train과 동일하게 맞추기\n",
    "X_test = X_test[train_features]"
   ]
  },
  {
   "cell_type": "code",
   "execution_count": null,
   "id": "681a2133-96a6-4fd6-94e0-d20e7e685f25",
   "metadata": {},
   "outputs": [],
   "source": [
    "# 6. 예측 수행\n",
    "test_preds = model.predict(X_test)"
   ]
  },
  {
   "cell_type": "code",
   "execution_count": null,
   "id": "4972151f-3595-468a-a146-3bd515ffd2dd",
   "metadata": {},
   "outputs": [],
   "source": [
    "# 7. 숫자 라벨 → 문자 라벨 복원 (컬럼명도 'Segment'로 맞춤)\n",
    "label_map = {0: 'A', 1: 'B', 2: 'C', 3: 'D', 4: 'E'}\n",
    "df2['Segment'] = pd.Series(test_preds).map(label_map)"
   ]
  },
  {
   "cell_type": "code",
   "execution_count": null,
   "id": "0d9b3b44-139c-48f3-8497-202d470b9f43",
   "metadata": {},
   "outputs": [],
   "source": [
    "# 8. 결과 확인\n",
    "print(\"✅ 예측 완료! 상위 5개:\")\n",
    "print(df2[['ID', 'Segment']].head())"
   ]
  },
  {
   "cell_type": "code",
   "execution_count": null,
   "id": "f55f2ffe-0472-4c29-8626-3f34216347a0",
   "metadata": {},
   "outputs": [],
   "source": [
    "# 9. 최종 결과만 저장\n",
    "df2[['ID', 'Segment']].to_parquet(f'{drive_folder}/LGBM_segment_pred.parquet', index=False)\n",
    "print(\"✅ 저장 완료: test_12월_LGBM_segment_pred.parquet (ID, Segment)\")"
   ]
  },
  {
   "cell_type": "code",
   "execution_count": null,
   "id": "434dc78a-a074-4d41-b302-d1f9b7afcb80",
   "metadata": {},
   "outputs": [],
   "source": [
    "df2 = pd.read_parquet(f'{drive_folder}/LGBM_segment_pred.parquet')\n",
    "df2"
   ]
  }
 ],
 "metadata": {
  "kernelspec": {
   "display_name": "Python [conda env:base] *",
   "language": "python",
   "name": "conda-base-py"
  },
  "language_info": {
   "codemirror_mode": {
    "name": "ipython",
    "version": 3
   },
   "file_extension": ".py",
   "mimetype": "text/x-python",
   "name": "python",
   "nbconvert_exporter": "python",
   "pygments_lexer": "ipython3",
   "version": "3.12.7"
  }
 },
 "nbformat": 4,
 "nbformat_minor": 5
}

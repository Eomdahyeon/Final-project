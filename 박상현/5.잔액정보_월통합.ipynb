{
 "cells": [
  {
   "cell_type": "code",
   "execution_count": 1,
   "id": "c5ba9bbe-1e0a-4cbb-a5ad-61c688d21f59",
   "metadata": {},
   "outputs": [],
   "source": [
    "import pandas as pd\n",
    "import numpy as np\n",
    "import matplotlib.pyplot as plt\n",
    "import seaborn as sns\n",
    "\n",
    "import gc\n",
    "import glob\n",
    "\n",
    "# 그래프 기본 테마 설정\n",
    "# https://coldbrown.co.kr/2023/07/%ED%8C%8C%EC%9D%B4%EC%8D%AC-%EC%8B%A4%EC%A0%84%ED%8E%B8-08-seaborn-sns-set%EC%9D%84-%ED%86%B5%ED%95%B4-%EC%8A%A4%ED%83%80%EC%9D%BC-%EC%84%A4%EC%A0%95%ED%95%98%EA%B8%B0/\n",
    "sns.set()\n",
    "\n",
    "# 그래프 기본 설정\n",
    "plt.rcParams['font.family'] = 'Malgun Gothic'\n",
    "# plt.rcParams['font.family'] = 'AppleGothic'\n",
    "plt.rcParams['figure.figsize'] = 12, 6\n",
    "plt.rcParams['font.size'] = 14\n",
    "plt.rcParams['axes.unicode_minus'] = False\n",
    "\n",
    "\n",
    "# 복잡한 통계 처리를 위한 라이브러리\n",
    "from scipy import stats"
   ]
  },
  {
   "cell_type": "code",
   "execution_count": 2,
   "id": "dff13dbe-896e-4582-92e3-c19f7292e101",
   "metadata": {},
   "outputs": [],
   "source": [
    "data_type1 = \"train\"\n",
    "data_type2 = \"test\"\n",
    "# month = \"07\"\n",
    "# category = \"잔액정보\"\n",
    "\n",
    "# local\n",
    "root_path = '../data/open'\n",
    "\n",
    "# colab\n",
    "# root_path = '/content/drive/MyDrive/12조 파이널프로젝트/data'\n",
    "\n",
    "drive_folder1 = f'{root_path}/{data_type1}/5.잔액정보/'\n",
    "drive_folder2 = f'{root_path}/{data_type2}/5.잔액정보/'"
   ]
  },
  {
   "cell_type": "code",
   "execution_count": 3,
   "id": "a6afa63c-5313-4652-a525-14edf22d4ead",
   "metadata": {},
   "outputs": [],
   "source": [
    "# parquet 파일 데이터를 읽어온다.\n",
    "df1 = pd.read_parquet(f'{drive_folder1}201807_train_잔액정보.parquet')"
   ]
  },
  {
   "cell_type": "markdown",
   "id": "a91c60f0-2e62-4dca-b4c4-52c72f151ab9",
   "metadata": {},
   "source": [
    "- train_잔액정보 통합"
   ]
  },
  {
   "cell_type": "code",
   "execution_count": null,
   "id": "f6be5b61-bbdd-4044-8ae5-99d40ba1e228",
   "metadata": {},
   "outputs": [],
   "source": [
    "# 1. 파일 경로 패턴 설정\n",
    "file_list = glob.glob(f'{drive_folder1}2018*_train_잔액정보.parquet')\n",
    "\n",
    "# 2. 각 파일 읽어서 리스트에 담기\n",
    "df_list = [pd.read_parquet(file) for file in file_list]\n",
    "\n",
    "# 3. 데이터프레임 하나로 합치기 // ignore_index=True 를 이용해 인덱스 겹치지 않게\n",
    "df_merged = pd.concat(df_list, ignore_index=True)\n",
    "\n",
    "# 4. parquet로 저장\n",
    "df_merged.to_parquet(f'{drive_folder1}train_잔액정보_통합.parquet', index=False)\n",
    "\n",
    "print(\"✅ 총 파일 수:\", len(file_list))\n",
    "print(\"✅ 통합 완료! 저장 파일명: train_잔액정보_통합.parquet\")\n",
    "print(\"✅ 총 행 수:\", len(df_merged))"
   ]
  },
  {
   "cell_type": "code",
   "execution_count": null,
   "id": "7d58e68e-26c1-468c-9b63-2b63ac06df1a",
   "metadata": {},
   "outputs": [],
   "source": [
    "# sample_df = df_merged.head(10000)\n",
    "# sample_df.to_csv(\"잔액정보_sample.csv\", index=False)"
   ]
  },
  {
   "cell_type": "markdown",
   "id": "2b1af5fb-d14a-4ad7-b2a8-f09cbd4e1e65",
   "metadata": {},
   "source": [
    "- test_잔액정보 통합"
   ]
  },
  {
   "cell_type": "code",
   "execution_count": null,
   "id": "6b854009-67eb-4dbb-9ad9-407c70174216",
   "metadata": {},
   "outputs": [],
   "source": [
    "# 1. 파일 경로 패턴 설정\n",
    "file_list = glob.glob(f'{drive_folder2}2018*_test_잔액정보.parquet')\n",
    "\n",
    "# 2. 각 파일 읽어서 리스트에 담기\n",
    "df_list = [pd.read_parquet(file) for file in file_list]\n",
    "\n",
    "# 3. 데이터프레임 하나로 합치기 // ignore_index=True 를 이용해 인덱스 겹치지 않게\n",
    "df_merged = pd.concat(df_list, ignore_index=True)\n",
    "\n",
    "# 4. CSV로 저장\n",
    "df_merged.to_parquet(f'{drive_folder2}test_잔액정보_통합.parquet', index=False)\n",
    "\n",
    "print(\"✅ 총 파일 수:\", len(file_list))\n",
    "print(\"✅ 통합 완료! 저장 파일명: test_잔액정보_통합.parquet\")\n",
    "print(\"✅ 총 행 수:\", len(df_merged))"
   ]
  },
  {
   "cell_type": "code",
   "execution_count": null,
   "id": "958837ea-4e0c-4e87-b864-024c79d6f2d8",
   "metadata": {},
   "outputs": [],
   "source": []
  }
 ],
 "metadata": {
  "kernelspec": {
   "display_name": "Python [conda env:base] *",
   "language": "python",
   "name": "conda-base-py"
  },
  "language_info": {
   "codemirror_mode": {
    "name": "ipython",
    "version": 3
   },
   "file_extension": ".py",
   "mimetype": "text/x-python",
   "name": "python",
   "nbconvert_exporter": "python",
   "pygments_lexer": "ipython3",
   "version": "3.12.7"
  }
 },
 "nbformat": 4,
 "nbformat_minor": 5
}
